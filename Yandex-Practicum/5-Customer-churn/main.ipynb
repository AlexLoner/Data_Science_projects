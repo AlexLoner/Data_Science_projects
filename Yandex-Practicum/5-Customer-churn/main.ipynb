{
 "cells": [
  {
   "cell_type": "markdown",
   "metadata": {
    "toc": true
   },
   "source": [
    "<h1>Содержание<span class=\"tocSkip\"></span></h1>\n",
    "<div class=\"toc\"><ul class=\"toc-item\"><li><ul class=\"toc-item\"><li><span><a href=\"#Признаки\" data-toc-modified-id=\"Признаки-0.1\"><span class=\"toc-item-num\">0.1&nbsp;&nbsp;</span>Признаки</a></span></li><li><span><a href=\"#Целевой-признак\" data-toc-modified-id=\"Целевой-признак-0.2\"><span class=\"toc-item-num\">0.2&nbsp;&nbsp;</span>Целевой признак</a></span></li></ul></li><li><span><a href=\"#Подготовка-данных\" data-toc-modified-id=\"Подготовка-данных-1\"><span class=\"toc-item-num\">1&nbsp;&nbsp;</span>Подготовка данных</a></span><ul class=\"toc-item\"><li><ul class=\"toc-item\"><li><span><a href=\"#Удаление-бесполезных-данных\" data-toc-modified-id=\"Удаление-бесполезных-данных-1.0.1\"><span class=\"toc-item-num\">1.0.1&nbsp;&nbsp;</span>Удаление бесполезных данных</a></span></li><li><span><a href=\"#Преобразование-категориальных-признаков\" data-toc-modified-id=\"Преобразование-категориальных-признаков-1.0.2\"><span class=\"toc-item-num\">1.0.2&nbsp;&nbsp;</span>Преобразование категориальных признаков</a></span></li><li><span><a href=\"#Оценим-степень-коррелированности-признаков\" data-toc-modified-id=\"Оценим-степень-коррелированности-признаков-1.0.3\"><span class=\"toc-item-num\">1.0.3&nbsp;&nbsp;</span>Оценим степень коррелированности признаков</a></span></li><li><span><a href=\"#Заполнение-пропусков\" data-toc-modified-id=\"Заполнение-пропусков-1.0.4\"><span class=\"toc-item-num\">1.0.4&nbsp;&nbsp;</span>Заполнение пропусков</a></span></li><li><span><a href=\"#Предварительная-оценка-дисбаланса-классов\" data-toc-modified-id=\"Предварительная-оценка-дисбаланса-классов-1.0.5\"><span class=\"toc-item-num\">1.0.5&nbsp;&nbsp;</span>Предварительная оценка дисбаланса классов</a></span></li><li><span><a href=\"#Делим-данные-на-test-и-train\" data-toc-modified-id=\"Делим-данные-на-test-и-train-1.0.6\"><span class=\"toc-item-num\">1.0.6&nbsp;&nbsp;</span>Делим данные на test и train</a></span></li><li><span><a href=\"#Масштабирование-признаков\" data-toc-modified-id=\"Масштабирование-признаков-1.0.7\"><span class=\"toc-item-num\">1.0.7&nbsp;&nbsp;</span>Масштабирование признаков</a></span></li></ul></li></ul></li><li><span><a href=\"#Исследование-задачи\" data-toc-modified-id=\"Исследование-задачи-2\"><span class=\"toc-item-num\">2&nbsp;&nbsp;</span>Исследование задачи</a></span><ul class=\"toc-item\"><li><span><a href=\"#Игнорирование-дисбаланса\" data-toc-modified-id=\"Игнорирование-дисбаланса-2.1\"><span class=\"toc-item-num\">2.1&nbsp;&nbsp;</span>Игнорирование дисбаланса</a></span><ul class=\"toc-item\"><li><span><a href=\"#LogisticRegression\" data-toc-modified-id=\"LogisticRegression-2.1.1\"><span class=\"toc-item-num\">2.1.1&nbsp;&nbsp;</span>LogisticRegression</a></span></li><li><span><a href=\"#DecisionTreeClassifier\" data-toc-modified-id=\"DecisionTreeClassifier-2.1.2\"><span class=\"toc-item-num\">2.1.2&nbsp;&nbsp;</span>DecisionTreeClassifier</a></span></li><li><span><a href=\"#RandomForest\" data-toc-modified-id=\"RandomForest-2.1.3\"><span class=\"toc-item-num\">2.1.3&nbsp;&nbsp;</span>RandomForest</a></span></li><li><span><a href=\"#Предварительные-итоги\" data-toc-modified-id=\"Предварительные-итоги-2.1.4\"><span class=\"toc-item-num\">2.1.4&nbsp;&nbsp;</span>Предварительные итоги</a></span></li></ul></li></ul></li><li><span><a href=\"#Борьба-с-дисбалансом\" data-toc-modified-id=\"Борьба-с-дисбалансом-3\"><span class=\"toc-item-num\">3&nbsp;&nbsp;</span>Борьба с дисбалансом</a></span><ul class=\"toc-item\"><li><span><a href=\"#Upsampling\" data-toc-modified-id=\"Upsampling-3.1\"><span class=\"toc-item-num\">3.1&nbsp;&nbsp;</span>Upsampling</a></span><ul class=\"toc-item\"><li><span><a href=\"#LogisticRegression\" data-toc-modified-id=\"LogisticRegression-3.1.1\"><span class=\"toc-item-num\">3.1.1&nbsp;&nbsp;</span>LogisticRegression</a></span></li><li><span><a href=\"#DecisionTreeClassifier\" data-toc-modified-id=\"DecisionTreeClassifier-3.1.2\"><span class=\"toc-item-num\">3.1.2&nbsp;&nbsp;</span>DecisionTreeClassifier</a></span></li><li><span><a href=\"#RandomForest\" data-toc-modified-id=\"RandomForest-3.1.3\"><span class=\"toc-item-num\">3.1.3&nbsp;&nbsp;</span>RandomForest</a></span></li></ul></li><li><span><a href=\"#Downsampling\" data-toc-modified-id=\"Downsampling-3.2\"><span class=\"toc-item-num\">3.2&nbsp;&nbsp;</span>Downsampling</a></span><ul class=\"toc-item\"><li><span><a href=\"#LogisticRegression\" data-toc-modified-id=\"LogisticRegression-3.2.1\"><span class=\"toc-item-num\">3.2.1&nbsp;&nbsp;</span>LogisticRegression</a></span></li><li><span><a href=\"#DecisionTreeClassifier\" data-toc-modified-id=\"DecisionTreeClassifier-3.2.2\"><span class=\"toc-item-num\">3.2.2&nbsp;&nbsp;</span>DecisionTreeClassifier</a></span></li><li><span><a href=\"#RandomForest\" data-toc-modified-id=\"RandomForest-3.2.3\"><span class=\"toc-item-num\">3.2.3&nbsp;&nbsp;</span>RandomForest</a></span></li></ul></li><li><span><a href=\"#Только-балансировка-весов\" data-toc-modified-id=\"Только-балансировка-весов-3.3\"><span class=\"toc-item-num\">3.3&nbsp;&nbsp;</span>Только балансировка весов</a></span><ul class=\"toc-item\"><li><span><a href=\"#LogisticRegression\" data-toc-modified-id=\"LogisticRegression-3.3.1\"><span class=\"toc-item-num\">3.3.1&nbsp;&nbsp;</span>LogisticRegression</a></span></li><li><span><a href=\"#DecisionTreeClassifier\" data-toc-modified-id=\"DecisionTreeClassifier-3.3.2\"><span class=\"toc-item-num\">3.3.2&nbsp;&nbsp;</span>DecisionTreeClassifier</a></span></li><li><span><a href=\"#RandomForest\" data-toc-modified-id=\"RandomForest-3.3.3\"><span class=\"toc-item-num\">3.3.3&nbsp;&nbsp;</span>RandomForest</a></span></li></ul></li><li><span><a href=\"#Итоги-исследования-моделей\" data-toc-modified-id=\"Итоги-исследования-моделей-3.4\"><span class=\"toc-item-num\">3.4&nbsp;&nbsp;</span>Итоги исследования моделей</a></span></li></ul></li><li><span><a href=\"#Тестирование-модели\" data-toc-modified-id=\"Тестирование-модели-4\"><span class=\"toc-item-num\">4&nbsp;&nbsp;</span>Тестирование модели</a></span></li><li><span><a href=\"#Вывод\" data-toc-modified-id=\"Вывод-5\"><span class=\"toc-item-num\">5&nbsp;&nbsp;</span>Вывод</a></span></li><li><span><a href=\"#Чек-лист-готовности-проекта\" data-toc-modified-id=\"Чек-лист-готовности-проекта-6\"><span class=\"toc-item-num\">6&nbsp;&nbsp;</span>Чек-лист готовности проекта</a></span></li><li><span><a href=\"#Общий-вывод-по-проекту\" data-toc-modified-id=\"Общий-вывод-по-проекту-7\"><span class=\"toc-item-num\">7&nbsp;&nbsp;</span><b>Общий вывод по проекту</b></a></span></li><li><span><a href=\"#Общий-вывод-по-проекту-V2\" data-toc-modified-id=\"Общий-вывод-по-проекту-V2-8\"><span class=\"toc-item-num\">8&nbsp;&nbsp;</span><b>Общий вывод по проекту V2</b></a></span></li></ul></div>"
   ]
  },
  {
   "cell_type": "markdown",
   "metadata": {},
   "source": [
    "# Отток клиентов"
   ]
  },
  {
   "cell_type": "markdown",
   "metadata": {},
   "source": [
    "Из «Бета-Банка» стали уходить клиенты. Каждый месяц. Немного, но заметно. Банковские маркетологи посчитали: сохранять текущих клиентов дешевле, чем привлекать новых.\n",
    "\n",
    "Нужно спрогнозировать, уйдёт клиент из банка в ближайшее время или нет. Вам предоставлены исторические данные о поведении клиентов и расторжении договоров с банком. \n",
    "\n",
    "Постройте модель с предельно большим значением *F1*-меры. Чтобы сдать проект успешно, нужно довести метрику до 0.59. Проверьте *F1*-меру на тестовой выборке самостоятельно.\n",
    "\n",
    "Дополнительно измеряйте *AUC-ROC*, сравнивайте её значение с *F1*-мерой.\n",
    "\n",
    "Источник данных: [https://www.kaggle.com/barelydedicated/bank-customer-churn-modeling](https://www.kaggle.com/barelydedicated/bank-customer-churn-modeling)"
   ]
  },
  {
   "cell_type": "markdown",
   "metadata": {},
   "source": [
    "### Признаки\n",
    "\n",
    "* RowNumber — индекс строки в данных\n",
    "* CustomerId — уникальный идентификатор клиента\n",
    "* Surname — фамилия\n",
    "* CreditScore — кредитный рейтинг\n",
    "* Geography — страна проживания\n",
    "* Gender — пол\n",
    "* Age — возраст\n",
    "* Tenure — сколько лет человек является клиентом банка\n",
    "* Balance — баланс на счёте\n",
    "* NumOfProducts — количество продуктов банка, используемых клиентом\n",
    "* HasCrCard — наличие кредитной карты\n",
    "* IsActiveMember — активность клиента\n",
    "* EstimatedSalary — предполагаемая зарплата\n",
    "\n",
    "\n",
    "### Целевой признак\n",
    "\n",
    "* Exited — факт ухода клиента"
   ]
  },
  {
   "cell_type": "code",
   "execution_count": 1,
   "metadata": {},
   "outputs": [
    {
     "name": "stdout",
     "output_type": "stream",
     "text": [
      "Collecting phik==0.10.0\n",
      "  Using cached phik-0.10.0-py3-none-any.whl (599 kB)\n",
      "Requirement already satisfied: pandas>=0.23.4 in d:\\anaconda\\envs\\yp\\lib\\site-packages (from phik==0.10.0) (1.2.4)\n",
      "Requirement already satisfied: joblib>=0.14.1 in d:\\anaconda\\envs\\yp\\lib\\site-packages (from phik==0.10.0) (1.2.0)\n",
      "Requirement already satisfied: numba>=0.38.1 in d:\\anaconda\\envs\\yp\\lib\\site-packages (from phik==0.10.0) (0.56.4)\n",
      "Requirement already satisfied: matplotlib>=2.2.3 in d:\\anaconda\\envs\\yp\\lib\\site-packages (from phik==0.10.0) (3.3.4)\n",
      "Requirement already satisfied: scipy>=1.1.0 in d:\\anaconda\\envs\\yp\\lib\\site-packages (from phik==0.10.0) (1.8.0)\n",
      "Requirement already satisfied: numpy>=1.15.4 in d:\\anaconda\\envs\\yp\\lib\\site-packages (from phik==0.10.0) (1.24.2)\n",
      "Requirement already satisfied: pillow>=6.2.0 in d:\\anaconda\\envs\\yp\\lib\\site-packages (from matplotlib>=2.2.3->phik==0.10.0) (8.4.0)\n",
      "Requirement already satisfied: pyparsing!=2.0.4,!=2.1.2,!=2.1.6,>=2.0.3 in d:\\anaconda\\envs\\yp\\lib\\site-packages (from matplotlib>=2.2.3->phik==0.10.0) (3.0.9)\n",
      "Requirement already satisfied: python-dateutil>=2.1 in d:\\anaconda\\envs\\yp\\lib\\site-packages (from matplotlib>=2.2.3->phik==0.10.0) (2.8.2)\n",
      "Requirement already satisfied: cycler>=0.10 in d:\\anaconda\\envs\\yp\\lib\\site-packages (from matplotlib>=2.2.3->phik==0.10.0) (0.11.0)\n",
      "Requirement already satisfied: kiwisolver>=1.0.1 in d:\\anaconda\\envs\\yp\\lib\\site-packages (from matplotlib>=2.2.3->phik==0.10.0) (1.4.4)\n",
      "Requirement already satisfied: setuptools in d:\\anaconda\\envs\\yp\\lib\\site-packages (from numba>=0.38.1->phik==0.10.0) (65.4.1)\n",
      "Collecting numpy>=1.15.4\n",
      "  Downloading numpy-1.23.5-cp39-cp39-win_amd64.whl (14.7 MB)\n",
      "     ---------------------------------------- 14.7/14.7 MB 1.9 MB/s eta 0:00:00\n",
      "Requirement already satisfied: llvmlite<0.40,>=0.39.0dev0 in d:\\anaconda\\envs\\yp\\lib\\site-packages (from numba>=0.38.1->phik==0.10.0) (0.39.1)\n",
      "Requirement already satisfied: pytz>=2017.3 in d:\\anaconda\\envs\\yp\\lib\\site-packages (from pandas>=0.23.4->phik==0.10.0) (2022.4)\n",
      "Requirement already satisfied: six>=1.5 in d:\\anaconda\\envs\\yp\\lib\\site-packages (from python-dateutil>=2.1->matplotlib>=2.2.3->phik==0.10.0) (1.16.0)\n",
      "Installing collected packages: numpy, phik\n",
      "  Attempting uninstall: numpy\n",
      "    Found existing installation: numpy 1.24.2\n",
      "    Uninstalling numpy-1.24.2:\n",
      "      Successfully uninstalled numpy-1.24.2\n",
      "Successfully installed numpy-1.23.5 phik-0.10.0\n"
     ]
    }
   ],
   "source": [
    "!pip install phik==0.10.0"
   ]
  },
  {
   "cell_type": "code",
   "execution_count": 2,
   "metadata": {},
   "outputs": [],
   "source": [
    "import pandas as pd\n",
    "import numpy as np\n",
    "import seaborn as sns\n",
    "import matplotlib.pyplot as plt \n",
    "from matplotlib_inline.backend_inline import set_matplotlib_formats\n",
    "from sklearn.metrics import roc_auc_score, f1_score\n",
    "from sklearn.preprocessing import MinMaxScaler\n",
    "from sklearn.utils import shuffle\n",
    "from sklearn.model_selection import train_test_split\n",
    "from sklearn.tree import DecisionTreeClassifier\n",
    "from sklearn.ensemble import RandomForestClassifier\n",
    "from sklearn.linear_model import LogisticRegression\n",
    "from sklearn.model_selection import GridSearchCV, cross_validate\n",
    "from phik import phik_matrix\n",
    "\n",
    "set_matplotlib_formats('retina')"
   ]
  },
  {
   "cell_type": "markdown",
   "metadata": {},
   "source": [
    "## Подготовка данных"
   ]
  },
  {
   "cell_type": "code",
   "execution_count": 3,
   "metadata": {},
   "outputs": [],
   "source": [
    "try: \n",
    "    data = pd.read_csv('/datasets/Churn.csv')\n",
    "except FileNotFoundError:\n",
    "    data = pd.read_csv('Churn.csv')\n"
   ]
  },
  {
   "cell_type": "code",
   "execution_count": 4,
   "metadata": {},
   "outputs": [
    {
     "data": {
      "text/html": [
       "<div>\n",
       "<style scoped>\n",
       "    .dataframe tbody tr th:only-of-type {\n",
       "        vertical-align: middle;\n",
       "    }\n",
       "\n",
       "    .dataframe tbody tr th {\n",
       "        vertical-align: top;\n",
       "    }\n",
       "\n",
       "    .dataframe thead th {\n",
       "        text-align: right;\n",
       "    }\n",
       "</style>\n",
       "<table border=\"1\" class=\"dataframe\">\n",
       "  <thead>\n",
       "    <tr style=\"text-align: right;\">\n",
       "      <th></th>\n",
       "      <th>RowNumber</th>\n",
       "      <th>CustomerId</th>\n",
       "      <th>Surname</th>\n",
       "      <th>CreditScore</th>\n",
       "      <th>Geography</th>\n",
       "      <th>Gender</th>\n",
       "      <th>Age</th>\n",
       "      <th>Tenure</th>\n",
       "      <th>Balance</th>\n",
       "      <th>NumOfProducts</th>\n",
       "      <th>HasCrCard</th>\n",
       "      <th>IsActiveMember</th>\n",
       "      <th>EstimatedSalary</th>\n",
       "      <th>Exited</th>\n",
       "    </tr>\n",
       "  </thead>\n",
       "  <tbody>\n",
       "    <tr>\n",
       "      <th>0</th>\n",
       "      <td>1</td>\n",
       "      <td>15634602</td>\n",
       "      <td>Hargrave</td>\n",
       "      <td>619</td>\n",
       "      <td>France</td>\n",
       "      <td>Female</td>\n",
       "      <td>42</td>\n",
       "      <td>2.0</td>\n",
       "      <td>0.00</td>\n",
       "      <td>1</td>\n",
       "      <td>1</td>\n",
       "      <td>1</td>\n",
       "      <td>101348.88</td>\n",
       "      <td>1</td>\n",
       "    </tr>\n",
       "    <tr>\n",
       "      <th>1</th>\n",
       "      <td>2</td>\n",
       "      <td>15647311</td>\n",
       "      <td>Hill</td>\n",
       "      <td>608</td>\n",
       "      <td>Spain</td>\n",
       "      <td>Female</td>\n",
       "      <td>41</td>\n",
       "      <td>1.0</td>\n",
       "      <td>83807.86</td>\n",
       "      <td>1</td>\n",
       "      <td>0</td>\n",
       "      <td>1</td>\n",
       "      <td>112542.58</td>\n",
       "      <td>0</td>\n",
       "    </tr>\n",
       "    <tr>\n",
       "      <th>2</th>\n",
       "      <td>3</td>\n",
       "      <td>15619304</td>\n",
       "      <td>Onio</td>\n",
       "      <td>502</td>\n",
       "      <td>France</td>\n",
       "      <td>Female</td>\n",
       "      <td>42</td>\n",
       "      <td>8.0</td>\n",
       "      <td>159660.80</td>\n",
       "      <td>3</td>\n",
       "      <td>1</td>\n",
       "      <td>0</td>\n",
       "      <td>113931.57</td>\n",
       "      <td>1</td>\n",
       "    </tr>\n",
       "    <tr>\n",
       "      <th>3</th>\n",
       "      <td>4</td>\n",
       "      <td>15701354</td>\n",
       "      <td>Boni</td>\n",
       "      <td>699</td>\n",
       "      <td>France</td>\n",
       "      <td>Female</td>\n",
       "      <td>39</td>\n",
       "      <td>1.0</td>\n",
       "      <td>0.00</td>\n",
       "      <td>2</td>\n",
       "      <td>0</td>\n",
       "      <td>0</td>\n",
       "      <td>93826.63</td>\n",
       "      <td>0</td>\n",
       "    </tr>\n",
       "    <tr>\n",
       "      <th>4</th>\n",
       "      <td>5</td>\n",
       "      <td>15737888</td>\n",
       "      <td>Mitchell</td>\n",
       "      <td>850</td>\n",
       "      <td>Spain</td>\n",
       "      <td>Female</td>\n",
       "      <td>43</td>\n",
       "      <td>2.0</td>\n",
       "      <td>125510.82</td>\n",
       "      <td>1</td>\n",
       "      <td>1</td>\n",
       "      <td>1</td>\n",
       "      <td>79084.10</td>\n",
       "      <td>0</td>\n",
       "    </tr>\n",
       "  </tbody>\n",
       "</table>\n",
       "</div>"
      ],
      "text/plain": [
       "   RowNumber  CustomerId   Surname  CreditScore Geography  Gender  Age  \\\n",
       "0          1    15634602  Hargrave          619    France  Female   42   \n",
       "1          2    15647311      Hill          608     Spain  Female   41   \n",
       "2          3    15619304      Onio          502    France  Female   42   \n",
       "3          4    15701354      Boni          699    France  Female   39   \n",
       "4          5    15737888  Mitchell          850     Spain  Female   43   \n",
       "\n",
       "   Tenure    Balance  NumOfProducts  HasCrCard  IsActiveMember  \\\n",
       "0     2.0       0.00              1          1               1   \n",
       "1     1.0   83807.86              1          0               1   \n",
       "2     8.0  159660.80              3          1               0   \n",
       "3     1.0       0.00              2          0               0   \n",
       "4     2.0  125510.82              1          1               1   \n",
       "\n",
       "   EstimatedSalary  Exited  \n",
       "0        101348.88       1  \n",
       "1        112542.58       0  \n",
       "2        113931.57       1  \n",
       "3         93826.63       0  \n",
       "4         79084.10       0  "
      ]
     },
     "execution_count": 4,
     "metadata": {},
     "output_type": "execute_result"
    }
   ],
   "source": [
    "data.head()"
   ]
  },
  {
   "cell_type": "code",
   "execution_count": 5,
   "metadata": {},
   "outputs": [
    {
     "name": "stdout",
     "output_type": "stream",
     "text": [
      "<class 'pandas.core.frame.DataFrame'>\n",
      "RangeIndex: 10000 entries, 0 to 9999\n",
      "Data columns (total 14 columns):\n",
      " #   Column           Non-Null Count  Dtype  \n",
      "---  ------           --------------  -----  \n",
      " 0   RowNumber        10000 non-null  int64  \n",
      " 1   CustomerId       10000 non-null  int64  \n",
      " 2   Surname          10000 non-null  object \n",
      " 3   CreditScore      10000 non-null  int64  \n",
      " 4   Geography        10000 non-null  object \n",
      " 5   Gender           10000 non-null  object \n",
      " 6   Age              10000 non-null  int64  \n",
      " 7   Tenure           9091 non-null   float64\n",
      " 8   Balance          10000 non-null  float64\n",
      " 9   NumOfProducts    10000 non-null  int64  \n",
      " 10  HasCrCard        10000 non-null  int64  \n",
      " 11  IsActiveMember   10000 non-null  int64  \n",
      " 12  EstimatedSalary  10000 non-null  float64\n",
      " 13  Exited           10000 non-null  int64  \n",
      "dtypes: float64(3), int64(8), object(3)\n",
      "memory usage: 1.1+ MB\n"
     ]
    }
   ],
   "source": [
    "data.info()"
   ]
  },
  {
   "cell_type": "markdown",
   "metadata": {},
   "source": [
    "Есть пропуски в колонке `tenure` - заполним их чуть попозже. Также есть бесполезные данные, например, `customer_id`, `row_number`, `surname` их я удалю. Категориальные признаки `Geography` и `Gender` обработаем методом OHE."
   ]
  },
  {
   "cell_type": "markdown",
   "metadata": {},
   "source": [
    "Немного переделаю имена столбцов "
   ]
  },
  {
   "cell_type": "code",
   "execution_count": 6,
   "metadata": {},
   "outputs": [],
   "source": [
    "data.columns = data.columns.str.lower()\n",
    "data = data.rename(\n",
    "    columns={\n",
    "        'rownumber': 'row_number',\n",
    "        'customerid': 'customer_id',\n",
    "        'creditscore': 'credit_score',\n",
    "        'numofproducts': 'num_products',\n",
    "        'hascrcard': 'cr_card',\n",
    "        'isactivemember': 'active_member',\n",
    "        'estimatedsalary': 'estimated_salary'\n",
    "    }\n",
    ")"
   ]
  },
  {
   "cell_type": "markdown",
   "metadata": {},
   "source": [
    "#### Удаление бесполезных данных"
   ]
  },
  {
   "cell_type": "markdown",
   "metadata": {},
   "source": [
    "`customer_id`, `surname` выглядит бесполезным признаком, а `row_number` это дублирование существующего индекса - уберем эти признаки"
   ]
  },
  {
   "cell_type": "code",
   "execution_count": 7,
   "metadata": {},
   "outputs": [],
   "source": [
    "data = data.drop(['customer_id', 'row_number', 'surname'], axis=1)"
   ]
  },
  {
   "cell_type": "code",
   "execution_count": 8,
   "metadata": {},
   "outputs": [
    {
     "data": {
      "text/html": [
       "<div>\n",
       "<style scoped>\n",
       "    .dataframe tbody tr th:only-of-type {\n",
       "        vertical-align: middle;\n",
       "    }\n",
       "\n",
       "    .dataframe tbody tr th {\n",
       "        vertical-align: top;\n",
       "    }\n",
       "\n",
       "    .dataframe thead th {\n",
       "        text-align: right;\n",
       "    }\n",
       "</style>\n",
       "<table border=\"1\" class=\"dataframe\">\n",
       "  <thead>\n",
       "    <tr style=\"text-align: right;\">\n",
       "      <th></th>\n",
       "      <th>credit_score</th>\n",
       "      <th>geography</th>\n",
       "      <th>gender</th>\n",
       "      <th>age</th>\n",
       "      <th>tenure</th>\n",
       "      <th>balance</th>\n",
       "      <th>num_products</th>\n",
       "      <th>cr_card</th>\n",
       "      <th>active_member</th>\n",
       "      <th>estimated_salary</th>\n",
       "      <th>exited</th>\n",
       "    </tr>\n",
       "  </thead>\n",
       "  <tbody>\n",
       "    <tr>\n",
       "      <th>0</th>\n",
       "      <td>619</td>\n",
       "      <td>France</td>\n",
       "      <td>Female</td>\n",
       "      <td>42</td>\n",
       "      <td>2.0</td>\n",
       "      <td>0.00</td>\n",
       "      <td>1</td>\n",
       "      <td>1</td>\n",
       "      <td>1</td>\n",
       "      <td>101348.88</td>\n",
       "      <td>1</td>\n",
       "    </tr>\n",
       "    <tr>\n",
       "      <th>1</th>\n",
       "      <td>608</td>\n",
       "      <td>Spain</td>\n",
       "      <td>Female</td>\n",
       "      <td>41</td>\n",
       "      <td>1.0</td>\n",
       "      <td>83807.86</td>\n",
       "      <td>1</td>\n",
       "      <td>0</td>\n",
       "      <td>1</td>\n",
       "      <td>112542.58</td>\n",
       "      <td>0</td>\n",
       "    </tr>\n",
       "    <tr>\n",
       "      <th>2</th>\n",
       "      <td>502</td>\n",
       "      <td>France</td>\n",
       "      <td>Female</td>\n",
       "      <td>42</td>\n",
       "      <td>8.0</td>\n",
       "      <td>159660.80</td>\n",
       "      <td>3</td>\n",
       "      <td>1</td>\n",
       "      <td>0</td>\n",
       "      <td>113931.57</td>\n",
       "      <td>1</td>\n",
       "    </tr>\n",
       "    <tr>\n",
       "      <th>3</th>\n",
       "      <td>699</td>\n",
       "      <td>France</td>\n",
       "      <td>Female</td>\n",
       "      <td>39</td>\n",
       "      <td>1.0</td>\n",
       "      <td>0.00</td>\n",
       "      <td>2</td>\n",
       "      <td>0</td>\n",
       "      <td>0</td>\n",
       "      <td>93826.63</td>\n",
       "      <td>0</td>\n",
       "    </tr>\n",
       "    <tr>\n",
       "      <th>4</th>\n",
       "      <td>850</td>\n",
       "      <td>Spain</td>\n",
       "      <td>Female</td>\n",
       "      <td>43</td>\n",
       "      <td>2.0</td>\n",
       "      <td>125510.82</td>\n",
       "      <td>1</td>\n",
       "      <td>1</td>\n",
       "      <td>1</td>\n",
       "      <td>79084.10</td>\n",
       "      <td>0</td>\n",
       "    </tr>\n",
       "  </tbody>\n",
       "</table>\n",
       "</div>"
      ],
      "text/plain": [
       "   credit_score geography  gender  age  tenure    balance  num_products  \\\n",
       "0           619    France  Female   42     2.0       0.00             1   \n",
       "1           608     Spain  Female   41     1.0   83807.86             1   \n",
       "2           502    France  Female   42     8.0  159660.80             3   \n",
       "3           699    France  Female   39     1.0       0.00             2   \n",
       "4           850     Spain  Female   43     2.0  125510.82             1   \n",
       "\n",
       "   cr_card  active_member  estimated_salary  exited  \n",
       "0        1              1         101348.88       1  \n",
       "1        0              1         112542.58       0  \n",
       "2        1              0         113931.57       1  \n",
       "3        0              0          93826.63       0  \n",
       "4        1              1          79084.10       0  "
      ]
     },
     "execution_count": 8,
     "metadata": {},
     "output_type": "execute_result"
    }
   ],
   "source": [
    "data.head()"
   ]
  },
  {
   "cell_type": "markdown",
   "metadata": {},
   "source": [
    "#### Преобразование категориальных признаков"
   ]
  },
  {
   "cell_type": "code",
   "execution_count": 9,
   "metadata": {},
   "outputs": [],
   "source": [
    "geography = data['geography']"
   ]
  },
  {
   "cell_type": "code",
   "execution_count": 10,
   "metadata": {},
   "outputs": [
    {
     "data": {
      "text/html": [
       "<div>\n",
       "<style scoped>\n",
       "    .dataframe tbody tr th:only-of-type {\n",
       "        vertical-align: middle;\n",
       "    }\n",
       "\n",
       "    .dataframe tbody tr th {\n",
       "        vertical-align: top;\n",
       "    }\n",
       "\n",
       "    .dataframe thead th {\n",
       "        text-align: right;\n",
       "    }\n",
       "</style>\n",
       "<table border=\"1\" class=\"dataframe\">\n",
       "  <thead>\n",
       "    <tr style=\"text-align: right;\">\n",
       "      <th></th>\n",
       "      <th>credit_score</th>\n",
       "      <th>age</th>\n",
       "      <th>tenure</th>\n",
       "      <th>balance</th>\n",
       "      <th>num_products</th>\n",
       "      <th>cr_card</th>\n",
       "      <th>active_member</th>\n",
       "      <th>estimated_salary</th>\n",
       "      <th>exited</th>\n",
       "      <th>geography_germany</th>\n",
       "      <th>geography_spain</th>\n",
       "      <th>gender_male</th>\n",
       "    </tr>\n",
       "  </thead>\n",
       "  <tbody>\n",
       "    <tr>\n",
       "      <th>0</th>\n",
       "      <td>619</td>\n",
       "      <td>42</td>\n",
       "      <td>2.0</td>\n",
       "      <td>0.00</td>\n",
       "      <td>1</td>\n",
       "      <td>1</td>\n",
       "      <td>1</td>\n",
       "      <td>101348.88</td>\n",
       "      <td>1</td>\n",
       "      <td>0</td>\n",
       "      <td>0</td>\n",
       "      <td>0</td>\n",
       "    </tr>\n",
       "    <tr>\n",
       "      <th>1</th>\n",
       "      <td>608</td>\n",
       "      <td>41</td>\n",
       "      <td>1.0</td>\n",
       "      <td>83807.86</td>\n",
       "      <td>1</td>\n",
       "      <td>0</td>\n",
       "      <td>1</td>\n",
       "      <td>112542.58</td>\n",
       "      <td>0</td>\n",
       "      <td>0</td>\n",
       "      <td>1</td>\n",
       "      <td>0</td>\n",
       "    </tr>\n",
       "    <tr>\n",
       "      <th>2</th>\n",
       "      <td>502</td>\n",
       "      <td>42</td>\n",
       "      <td>8.0</td>\n",
       "      <td>159660.80</td>\n",
       "      <td>3</td>\n",
       "      <td>1</td>\n",
       "      <td>0</td>\n",
       "      <td>113931.57</td>\n",
       "      <td>1</td>\n",
       "      <td>0</td>\n",
       "      <td>0</td>\n",
       "      <td>0</td>\n",
       "    </tr>\n",
       "    <tr>\n",
       "      <th>3</th>\n",
       "      <td>699</td>\n",
       "      <td>39</td>\n",
       "      <td>1.0</td>\n",
       "      <td>0.00</td>\n",
       "      <td>2</td>\n",
       "      <td>0</td>\n",
       "      <td>0</td>\n",
       "      <td>93826.63</td>\n",
       "      <td>0</td>\n",
       "      <td>0</td>\n",
       "      <td>0</td>\n",
       "      <td>0</td>\n",
       "    </tr>\n",
       "    <tr>\n",
       "      <th>4</th>\n",
       "      <td>850</td>\n",
       "      <td>43</td>\n",
       "      <td>2.0</td>\n",
       "      <td>125510.82</td>\n",
       "      <td>1</td>\n",
       "      <td>1</td>\n",
       "      <td>1</td>\n",
       "      <td>79084.10</td>\n",
       "      <td>0</td>\n",
       "      <td>0</td>\n",
       "      <td>1</td>\n",
       "      <td>0</td>\n",
       "    </tr>\n",
       "  </tbody>\n",
       "</table>\n",
       "</div>"
      ],
      "text/plain": [
       "   credit_score  age  tenure    balance  num_products  cr_card  active_member  \\\n",
       "0           619   42     2.0       0.00             1        1              1   \n",
       "1           608   41     1.0   83807.86             1        0              1   \n",
       "2           502   42     8.0  159660.80             3        1              0   \n",
       "3           699   39     1.0       0.00             2        0              0   \n",
       "4           850   43     2.0  125510.82             1        1              1   \n",
       "\n",
       "   estimated_salary  exited  geography_germany  geography_spain  gender_male  \n",
       "0         101348.88       1                  0                0            0  \n",
       "1         112542.58       0                  0                1            0  \n",
       "2         113931.57       1                  0                0            0  \n",
       "3          93826.63       0                  0                0            0  \n",
       "4          79084.10       0                  0                1            0  "
      ]
     },
     "execution_count": 10,
     "metadata": {},
     "output_type": "execute_result"
    }
   ],
   "source": [
    "data = pd.get_dummies(data, columns=['geography', 'gender'], drop_first=True)\n",
    "data.columns = data.columns.str.lower()\n",
    "data.head()"
   ]
  },
  {
   "cell_type": "markdown",
   "metadata": {},
   "source": [
    "#### Оценим степень коррелированности признаков"
   ]
  },
  {
   "cell_type": "markdown",
   "metadata": {},
   "source": [
    "Будем использовать [phik_matrix](https://arxiv.org/pdf/1811.11440.pdf). Именно его, потому что у нас есть качетсвенные признаки, а для них корреляцию Пирсона не корректно описывать, так как она впринципе создана для проверки линейности между двумя количественными признаками. Чтобы посмотреть связь между всеми признаками можно испльзовать тест хи-квадрат из phik библиотеки"
   ]
  },
  {
   "cell_type": "code",
   "execution_count": 12,
   "metadata": {},
   "outputs": [],
   "source": [
    "interval_columns = {\n",
    "    \"credit_score\": 'interval',\n",
    "    \"geography_germany\": 'binary',\n",
    "    \"geography_spain\": 'binary',\n",
    "    \"gender_male\": 'binary',\n",
    "    \"age\": 'interval',\n",
    "    \"tenure\": 'interval', \n",
    "    \"balance\": 'interval',\n",
    "    \"num_products\": 'categorical', \n",
    "    \"cr_card\": 'binary',\n",
    "    \"active_member\": 'binary',\n",
    "    \"estimated_salary\": 'interval',\n",
    "    \"exited\": 'binary'\n",
    "}"
   ]
  },
  {
   "cell_type": "code",
   "execution_count": 13,
   "metadata": {},
   "outputs": [],
   "source": [
    "phik_mtx = phik_matrix(data, interval_cols=interval_columns)"
   ]
  },
  {
   "cell_type": "code",
   "execution_count": 14,
   "metadata": {},
   "outputs": [
    {
     "data": {
      "image/png": "[encoded data removed]",
      "text/plain": [
       "<Figure size 800x700 with 2 Axes>"
      ]
     },
     "metadata": {
      "image/png": {
       "height": 717,
       "width": 779
      }
     },
     "output_type": "display_data"
    }
   ],
   "source": [
    "fig, ax = plt.subplots(figsize=(8,7))\n",
    "sns.heatmap(phik_mtx, \n",
    "            annot=True, \n",
    "            fmt='.2f',\n",
    "            cmap=plt.cm.PuOr,\n",
    "            vmin=-1, vmax=1\n",
    ");"
   ]
  },
  {
   "cell_type": "markdown",
   "metadata": {},
   "source": [
    "\n",
    "Получается, что `tenure` по прежнему не связан с остальными пермеменными. А вот целевой признак `exited` оказывается связан (хоть и не сильно) с возрастом и числом продуктов"
   ]
  },
  {
   "cell_type": "markdown",
   "metadata": {},
   "source": [
    "#### Заполнение пропусков"
   ]
  },
  {
   "cell_type": "markdown",
   "metadata": {},
   "source": [
    "Пропуски в столбце `tenure` я решил заполнить, исходя из предположения, что он должен может зависеть от страны, возрастной группы и активности клиента. Соответственно, я разобью всех клиентов на несколько возрастных групп и буду заполнять пропуски в `tenure` по наиболее часто встречающемуся значению, то есть модой, после группировки по этим трем признакам"
   ]
  },
  {
   "cell_type": "markdown",
   "metadata": {},
   "source": [
    "Сначала выделим группы"
   ]
  },
  {
   "cell_type": "code",
   "execution_count": 15,
   "metadata": {},
   "outputs": [],
   "source": [
    "ages_group = np.where(data['age'] < 24, '<24', \n",
    "                     np.where((data['age'] <= 24) & (data['age'] < 28), '24-27', \n",
    "                     np.where((data['age'] <= 28) & (data['age'] < 40), '29-39',\n",
    "                     np.where((data['age'] <= 40) & (data['age'] < 60), '40-59', '60+'\n",
    "))))"
   ]
  },
  {
   "cell_type": "code",
   "execution_count": 16,
   "metadata": {},
   "outputs": [],
   "source": [
    "data['ages_group'] = ages_group"
   ]
  },
  {
   "cell_type": "markdown",
   "metadata": {},
   "source": [
    "Временно восстановим столбец `geography`"
   ]
  },
  {
   "cell_type": "code",
   "execution_count": 17,
   "metadata": {},
   "outputs": [],
   "source": [
    "data['geography'] = geography"
   ]
  },
  {
   "cell_type": "markdown",
   "metadata": {},
   "source": [
    "Группируем данные и выделяем моду"
   ]
  },
  {
   "cell_type": "code",
   "execution_count": 18,
   "metadata": {},
   "outputs": [],
   "source": [
    "tenures_table = data.groupby(by=['geography', 'ages_group', 'active_member'])['tenure']\\\n",
    "                    .agg(pd.Series.mode)"
   ]
  },
  {
   "cell_type": "code",
   "execution_count": 19,
   "metadata": {},
   "outputs": [
    {
     "data": {
      "text/plain": [
       "array([7.0, 3.0, 4.0, 1.0, 1.0, 7.0, 9.0, 7.0, 7.0, 4.0, array([6., 7.]),\n",
       "       array([2., 7.]), 3.0, 4.0, 9.0, array([1., 2.]), 9.0, 2.0, 6.0,\n",
       "       3.0, array([1., 7.]), 10.0, 8.0, array([4., 8.]), 8.0, 6.0, 5.0,\n",
       "       1.0, 8.0, 3.0], dtype=object)"
      ]
     },
     "execution_count": 19,
     "metadata": {},
     "output_type": "execute_result"
    }
   ],
   "source": [
    "tenures_table.values"
   ]
  },
  {
   "cell_type": "markdown",
   "metadata": {},
   "source": [
    "Иногда попадаются две моды, я буду оставлять максимальную"
   ]
  },
  {
   "cell_type": "code",
   "execution_count": 20,
   "metadata": {},
   "outputs": [],
   "source": [
    "tenures_table = tenures_table.apply(lambda x: x if isinstance(x, (int, float)) else np.max(x))"
   ]
  },
  {
   "cell_type": "code",
   "execution_count": 21,
   "metadata": {},
   "outputs": [],
   "source": [
    "na_rows = data['tenure'].isna()"
   ]
  },
  {
   "cell_type": "markdown",
   "metadata": {},
   "source": [
    "Тут предварительно сбрасываем индексы, чтобы удержать их для последующей перезаписи в основной датасет"
   ]
  },
  {
   "cell_type": "code",
   "execution_count": 22,
   "metadata": {},
   "outputs": [],
   "source": [
    "recovery_data = data.loc[na_rows].reset_index()\\\n",
    "                                 .merge(tenures_table, \n",
    "                                    left_on=tenures_table.index.names, \n",
    "                                    right_on=tenures_table.index.names, \n",
    "                                    suffixes=('_old', '')\n",
    "                                   )\\\n",
    "                                 .drop(columns='tenure_old')"
   ]
  },
  {
   "cell_type": "code",
   "execution_count": 23,
   "metadata": {},
   "outputs": [],
   "source": [
    "recovery_data = recovery_data.set_index('index', )"
   ]
  },
  {
   "cell_type": "code",
   "execution_count": 24,
   "metadata": {},
   "outputs": [
    {
     "data": {
      "text/html": [
       "<div>\n",
       "<style scoped>\n",
       "    .dataframe tbody tr th:only-of-type {\n",
       "        vertical-align: middle;\n",
       "    }\n",
       "\n",
       "    .dataframe tbody tr th {\n",
       "        vertical-align: top;\n",
       "    }\n",
       "\n",
       "    .dataframe thead th {\n",
       "        text-align: right;\n",
       "    }\n",
       "</style>\n",
       "<table border=\"1\" class=\"dataframe\">\n",
       "  <thead>\n",
       "    <tr style=\"text-align: right;\">\n",
       "      <th></th>\n",
       "      <th>credit_score</th>\n",
       "      <th>age</th>\n",
       "      <th>balance</th>\n",
       "      <th>num_products</th>\n",
       "      <th>cr_card</th>\n",
       "      <th>active_member</th>\n",
       "      <th>estimated_salary</th>\n",
       "      <th>exited</th>\n",
       "      <th>geography_germany</th>\n",
       "      <th>geography_spain</th>\n",
       "      <th>gender_male</th>\n",
       "      <th>ages_group</th>\n",
       "      <th>geography</th>\n",
       "      <th>tenure</th>\n",
       "    </tr>\n",
       "    <tr>\n",
       "      <th>index</th>\n",
       "      <th></th>\n",
       "      <th></th>\n",
       "      <th></th>\n",
       "      <th></th>\n",
       "      <th></th>\n",
       "      <th></th>\n",
       "      <th></th>\n",
       "      <th></th>\n",
       "      <th></th>\n",
       "      <th></th>\n",
       "      <th></th>\n",
       "      <th></th>\n",
       "      <th></th>\n",
       "      <th></th>\n",
       "    </tr>\n",
       "  </thead>\n",
       "  <tbody>\n",
       "    <tr>\n",
       "      <th>30</th>\n",
       "      <td>591</td>\n",
       "      <td>39</td>\n",
       "      <td>0.00</td>\n",
       "      <td>3</td>\n",
       "      <td>1</td>\n",
       "      <td>0</td>\n",
       "      <td>140469.38</td>\n",
       "      <td>1</td>\n",
       "      <td>0</td>\n",
       "      <td>1</td>\n",
       "      <td>0</td>\n",
       "      <td>40-59</td>\n",
       "      <td>Spain</td>\n",
       "      <td>8.0</td>\n",
       "    </tr>\n",
       "    <tr>\n",
       "      <th>146</th>\n",
       "      <td>635</td>\n",
       "      <td>29</td>\n",
       "      <td>138296.94</td>\n",
       "      <td>2</td>\n",
       "      <td>1</td>\n",
       "      <td>0</td>\n",
       "      <td>141075.51</td>\n",
       "      <td>0</td>\n",
       "      <td>0</td>\n",
       "      <td>1</td>\n",
       "      <td>0</td>\n",
       "      <td>40-59</td>\n",
       "      <td>Spain</td>\n",
       "      <td>8.0</td>\n",
       "    </tr>\n",
       "    <tr>\n",
       "      <th>217</th>\n",
       "      <td>730</td>\n",
       "      <td>33</td>\n",
       "      <td>0.00</td>\n",
       "      <td>2</td>\n",
       "      <td>0</td>\n",
       "      <td>0</td>\n",
       "      <td>176576.62</td>\n",
       "      <td>0</td>\n",
       "      <td>0</td>\n",
       "      <td>1</td>\n",
       "      <td>0</td>\n",
       "      <td>40-59</td>\n",
       "      <td>Spain</td>\n",
       "      <td>8.0</td>\n",
       "    </tr>\n",
       "    <tr>\n",
       "      <th>286</th>\n",
       "      <td>602</td>\n",
       "      <td>29</td>\n",
       "      <td>103907.28</td>\n",
       "      <td>1</td>\n",
       "      <td>1</td>\n",
       "      <td>0</td>\n",
       "      <td>161229.84</td>\n",
       "      <td>0</td>\n",
       "      <td>0</td>\n",
       "      <td>1</td>\n",
       "      <td>1</td>\n",
       "      <td>40-59</td>\n",
       "      <td>Spain</td>\n",
       "      <td>8.0</td>\n",
       "    </tr>\n",
       "    <tr>\n",
       "      <th>357</th>\n",
       "      <td>522</td>\n",
       "      <td>34</td>\n",
       "      <td>126436.29</td>\n",
       "      <td>1</td>\n",
       "      <td>1</td>\n",
       "      <td>0</td>\n",
       "      <td>174248.52</td>\n",
       "      <td>1</td>\n",
       "      <td>0</td>\n",
       "      <td>1</td>\n",
       "      <td>1</td>\n",
       "      <td>40-59</td>\n",
       "      <td>Spain</td>\n",
       "      <td>8.0</td>\n",
       "    </tr>\n",
       "    <tr>\n",
       "      <th>...</th>\n",
       "      <td>...</td>\n",
       "      <td>...</td>\n",
       "      <td>...</td>\n",
       "      <td>...</td>\n",
       "      <td>...</td>\n",
       "      <td>...</td>\n",
       "      <td>...</td>\n",
       "      <td>...</td>\n",
       "      <td>...</td>\n",
       "      <td>...</td>\n",
       "      <td>...</td>\n",
       "      <td>...</td>\n",
       "      <td>...</td>\n",
       "      <td>...</td>\n",
       "    </tr>\n",
       "    <tr>\n",
       "      <th>4617</th>\n",
       "      <td>812</td>\n",
       "      <td>24</td>\n",
       "      <td>0.00</td>\n",
       "      <td>2</td>\n",
       "      <td>1</td>\n",
       "      <td>1</td>\n",
       "      <td>156906.15</td>\n",
       "      <td>0</td>\n",
       "      <td>0</td>\n",
       "      <td>0</td>\n",
       "      <td>1</td>\n",
       "      <td>24-27</td>\n",
       "      <td>France</td>\n",
       "      <td>3.0</td>\n",
       "    </tr>\n",
       "    <tr>\n",
       "      <th>5240</th>\n",
       "      <td>597</td>\n",
       "      <td>24</td>\n",
       "      <td>103219.47</td>\n",
       "      <td>1</td>\n",
       "      <td>1</td>\n",
       "      <td>0</td>\n",
       "      <td>60420.07</td>\n",
       "      <td>0</td>\n",
       "      <td>0</td>\n",
       "      <td>0</td>\n",
       "      <td>0</td>\n",
       "      <td>24-27</td>\n",
       "      <td>France</td>\n",
       "      <td>7.0</td>\n",
       "    </tr>\n",
       "    <tr>\n",
       "      <th>5979</th>\n",
       "      <td>677</td>\n",
       "      <td>24</td>\n",
       "      <td>148298.59</td>\n",
       "      <td>2</td>\n",
       "      <td>0</td>\n",
       "      <td>0</td>\n",
       "      <td>182913.95</td>\n",
       "      <td>0</td>\n",
       "      <td>0</td>\n",
       "      <td>0</td>\n",
       "      <td>0</td>\n",
       "      <td>24-27</td>\n",
       "      <td>France</td>\n",
       "      <td>7.0</td>\n",
       "    </tr>\n",
       "    <tr>\n",
       "      <th>9209</th>\n",
       "      <td>560</td>\n",
       "      <td>24</td>\n",
       "      <td>116084.32</td>\n",
       "      <td>1</td>\n",
       "      <td>1</td>\n",
       "      <td>0</td>\n",
       "      <td>89734.70</td>\n",
       "      <td>0</td>\n",
       "      <td>0</td>\n",
       "      <td>0</td>\n",
       "      <td>1</td>\n",
       "      <td>24-27</td>\n",
       "      <td>France</td>\n",
       "      <td>7.0</td>\n",
       "    </tr>\n",
       "    <tr>\n",
       "      <th>9796</th>\n",
       "      <td>642</td>\n",
       "      <td>22</td>\n",
       "      <td>111812.52</td>\n",
       "      <td>2</td>\n",
       "      <td>1</td>\n",
       "      <td>1</td>\n",
       "      <td>183045.46</td>\n",
       "      <td>0</td>\n",
       "      <td>1</td>\n",
       "      <td>0</td>\n",
       "      <td>1</td>\n",
       "      <td>&lt;24</td>\n",
       "      <td>Germany</td>\n",
       "      <td>3.0</td>\n",
       "    </tr>\n",
       "  </tbody>\n",
       "</table>\n",
       "<p>909 rows × 14 columns</p>\n",
       "</div>"
      ],
      "text/plain": [
       "       credit_score  age    balance  num_products  cr_card  active_member  \\\n",
       "index                                                                       \n",
       "30              591   39       0.00             3        1              0   \n",
       "146             635   29  138296.94             2        1              0   \n",
       "217             730   33       0.00             2        0              0   \n",
       "286             602   29  103907.28             1        1              0   \n",
       "357             522   34  126436.29             1        1              0   \n",
       "...             ...  ...        ...           ...      ...            ...   \n",
       "4617            812   24       0.00             2        1              1   \n",
       "5240            597   24  103219.47             1        1              0   \n",
       "5979            677   24  148298.59             2        0              0   \n",
       "9209            560   24  116084.32             1        1              0   \n",
       "9796            642   22  111812.52             2        1              1   \n",
       "\n",
       "       estimated_salary  exited  geography_germany  geography_spain  \\\n",
       "index                                                                 \n",
       "30            140469.38       1                  0                1   \n",
       "146           141075.51       0                  0                1   \n",
       "217           176576.62       0                  0                1   \n",
       "286           161229.84       0                  0                1   \n",
       "357           174248.52       1                  0                1   \n",
       "...                 ...     ...                ...              ...   \n",
       "4617          156906.15       0                  0                0   \n",
       "5240           60420.07       0                  0                0   \n",
       "5979          182913.95       0                  0                0   \n",
       "9209           89734.70       0                  0                0   \n",
       "9796          183045.46       0                  1                0   \n",
       "\n",
       "       gender_male ages_group geography  tenure  \n",
       "index                                            \n",
       "30               0      40-59     Spain     8.0  \n",
       "146              0      40-59     Spain     8.0  \n",
       "217              0      40-59     Spain     8.0  \n",
       "286              1      40-59     Spain     8.0  \n",
       "357              1      40-59     Spain     8.0  \n",
       "...            ...        ...       ...     ...  \n",
       "4617             1      24-27    France     3.0  \n",
       "5240             0      24-27    France     7.0  \n",
       "5979             0      24-27    France     7.0  \n",
       "9209             1      24-27    France     7.0  \n",
       "9796             1        <24   Germany     3.0  \n",
       "\n",
       "[909 rows x 14 columns]"
      ]
     },
     "execution_count": 24,
     "metadata": {},
     "output_type": "execute_result"
    }
   ],
   "source": [
    "recovery_data"
   ]
  },
  {
   "cell_type": "markdown",
   "metadata": {},
   "source": [
    "Добавим наши восстановленные данные в основной датасет"
   ]
  },
  {
   "cell_type": "code",
   "execution_count": 25,
   "metadata": {},
   "outputs": [],
   "source": [
    "data.loc[na_rows] = recovery_data.loc[na_rows]"
   ]
  },
  {
   "cell_type": "code",
   "execution_count": 26,
   "metadata": {},
   "outputs": [
    {
     "name": "stdout",
     "output_type": "stream",
     "text": [
      "<class 'pandas.core.frame.DataFrame'>\n",
      "RangeIndex: 10000 entries, 0 to 9999\n",
      "Data columns (total 14 columns):\n",
      " #   Column             Non-Null Count  Dtype  \n",
      "---  ------             --------------  -----  \n",
      " 0   credit_score       10000 non-null  int64  \n",
      " 1   age                10000 non-null  int64  \n",
      " 2   tenure             10000 non-null  float64\n",
      " 3   balance            10000 non-null  float64\n",
      " 4   num_products       10000 non-null  int64  \n",
      " 5   cr_card            10000 non-null  int64  \n",
      " 6   active_member      10000 non-null  int64  \n",
      " 7   estimated_salary   10000 non-null  float64\n",
      " 8   exited             10000 non-null  int64  \n",
      " 9   geography_germany  10000 non-null  uint8  \n",
      " 10  geography_spain    10000 non-null  uint8  \n",
      " 11  gender_male        10000 non-null  uint8  \n",
      " 12  ages_group         10000 non-null  object \n",
      " 13  geography          10000 non-null  object \n",
      "dtypes: float64(3), int64(6), object(2), uint8(3)\n",
      "memory usage: 888.8+ KB\n"
     ]
    }
   ],
   "source": [
    "data.info()"
   ]
  },
  {
   "cell_type": "markdown",
   "metadata": {},
   "source": [
    "`ages_group` можно убрать, так как у нас уже есть признак `age` и про `geography` не забываем"
   ]
  },
  {
   "cell_type": "code",
   "execution_count": 27,
   "metadata": {},
   "outputs": [],
   "source": [
    "data = data.drop(['ages_group', 'geography'], axis=1)"
   ]
  },
  {
   "cell_type": "markdown",
   "metadata": {},
   "source": [
    "#### Предварительная оценка дисбаланса классов"
   ]
  },
  {
   "cell_type": "code",
   "execution_count": 28,
   "metadata": {},
   "outputs": [],
   "source": [
    "features = data.drop('exited', axis=1)\n",
    "target = data['exited']"
   ]
  },
  {
   "cell_type": "code",
   "execution_count": 29,
   "metadata": {},
   "outputs": [
    {
     "data": {
      "image/png": "[encoded data removed]",
      "text/plain": [
       "<Figure size 600x400 with 1 Axes>"
      ]
     },
     "metadata": {
      "image/png": {
       "height": 371,
       "width": 549
      }
     },
     "output_type": "display_data"
    }
   ],
   "source": [
    "plt.figure(figsize=(6,4))\n",
    "sns.histplot(data=target);"
   ]
  },
  {
   "cell_type": "markdown",
   "metadata": {},
   "source": [
    "Он есть) примерно 4 к 1"
   ]
  },
  {
   "cell_type": "markdown",
   "metadata": {},
   "source": [
    "#### Делим данные на test и train"
   ]
  },
  {
   "cell_type": "markdown",
   "metadata": {},
   "source": [
    "Я делю признаки сразу на `train` и `test`, потому что в этом проекте хотел бы использовать кросс валидацию при обучении и `GridSearchCV` для поиска гиперпараметров. По сути в кросс валидации валиадационная выборка все равно будет) "
   ]
  },
  {
   "cell_type": "code",
   "execution_count": 30,
   "metadata": {},
   "outputs": [],
   "source": [
    "seed = 4 "
   ]
  },
  {
   "cell_type": "code",
   "execution_count": 31,
   "metadata": {},
   "outputs": [],
   "source": [
    "features_train, features_test, target_train, target_test = train_test_split(features, target, \n",
    "                                                                                test_size=0.33, \n",
    "                                                                                shuffle=True,\n",
    "                                                                                stratify=target,\n",
    "                                                                                random_state=seed\n",
    "                                                                            )"
   ]
  },
  {
   "cell_type": "code",
   "execution_count": 32,
   "metadata": {},
   "outputs": [
    {
     "data": {
      "text/plain": [
       "((6700, 11), (3300, 11))"
      ]
     },
     "execution_count": 32,
     "metadata": {},
     "output_type": "execute_result"
    }
   ],
   "source": [
    "features_train.shape, features_test.shape"
   ]
  },
  {
   "cell_type": "markdown",
   "metadata": {},
   "source": [
    "#### Масштабирование признаков"
   ]
  },
  {
   "cell_type": "markdown",
   "metadata": {},
   "source": [
    "Отмасштабируем наши признаки, чтобы логистической регрессии было попроще сходиться"
   ]
  },
  {
   "cell_type": "code",
   "execution_count": 33,
   "metadata": {},
   "outputs": [
    {
     "data": {
      "text/plain": [
       "MinMaxScaler()"
      ]
     },
     "execution_count": 33,
     "metadata": {},
     "output_type": "execute_result"
    }
   ],
   "source": [
    "scaler = MinMaxScaler()\n",
    "scaler.fit(features_train)"
   ]
  },
  {
   "cell_type": "code",
   "execution_count": 34,
   "metadata": {},
   "outputs": [],
   "source": [
    "features_train = scaler.transform(features_train)\n",
    "features_test = scaler.transform(features_test)"
   ]
  },
  {
   "cell_type": "code",
   "execution_count": 35,
   "metadata": {},
   "outputs": [],
   "source": [
    "target_train = target_train.reset_index(drop=True)\n",
    "target_test = target_test.reset_index(drop=True)"
   ]
  },
  {
   "cell_type": "markdown",
   "metadata": {},
   "source": [
    "Верну тип данных обратно в `pandas` из `numpy`"
   ]
  },
  {
   "cell_type": "code",
   "execution_count": 36,
   "metadata": {},
   "outputs": [],
   "source": [
    "features_train = pd.DataFrame(features_train, columns=features.columns)\n",
    "features_test = pd.DataFrame(features_test, columns=features.columns)"
   ]
  },
  {
   "cell_type": "markdown",
   "metadata": {},
   "source": [
    "## Исследование задачи"
   ]
  },
  {
   "cell_type": "markdown",
   "metadata": {},
   "source": [
    "В этом разделе мы поочередно исследуем три модели:\n",
    "1. Логистическая регрессия\n",
    "2. Решающее дерево\n",
    "3. Случайный лес\n",
    "\n",
    "Для каждой модели мы поперебираем гиперпараметры и выбирем лучшую на основе показаний на кросс валидации. Я рассмотрю три ситуации:\n",
    "\n",
    "1. Обучение без балансировки весов и игнорирования дисбаланса классов\n",
    "2. Обучение  без балансировки весов и применением `upsampling` и `downsampling` для учета дисбаланса классов\n",
    "3. Обучение с балансировкой весов и игнорированием дисбаланса\n"
   ]
  },
  {
   "cell_type": "markdown",
   "metadata": {},
   "source": [
    "Для удобства напишем функцию, которая будет принимать модель для обучения, варьируемые гиперпараметры, данные для обучения, имя модели. Возвращать наша функция будет лучшую модель и (опционально) ее показатели на метриках `f1` и `roc_auc`.\n",
    "\n",
    "Перебор параметров будет осуществлен с помощью функции `GridSearchCV` "
   ]
  },
  {
   "cell_type": "code",
   "execution_count": 37,
   "metadata": {},
   "outputs": [],
   "source": [
    "def model_evaluation(estimator, grid_params, features, target, name, return_scores=False):\n",
    "    grid = GridSearchCV(estimator=estimator, **grid_params)\n",
    "    grid.fit(features, target)\n",
    "    \n",
    "    best_model = grid.best_estimator_\n",
    "    print(f\"Best {name} Model: \\t{best_model}\")\n",
    "    \n",
    "    model_results = cross_validate(best_model, features_train, \n",
    "                                   y=target_train, \n",
    "                                   cv=grid_params.get('cv', 5), \n",
    "                                   scoring=['f1', 'roc_auc']\n",
    "                                  )\n",
    "    print(f\"Best F1 score: {model_results['test_f1'].mean():.3f}\")\n",
    "    print(f\"Best ROC AUC score: {model_results['test_roc_auc'].mean():.3f}\")\n",
    "    output = best_model\n",
    "    if return_scores:\n",
    "        output = (best_model, model_results['test_f1'].mean(), model_results['test_roc_auc'].mean()) \n",
    "    return output"
   ]
  },
  {
   "cell_type": "markdown",
   "metadata": {},
   "source": [
    "### Игнорирование дисбаланса "
   ]
  },
  {
   "cell_type": "markdown",
   "metadata": {},
   "source": [
    "Первым посмотрим на результаты наших моделей на данных без всяких улучшений"
   ]
  },
  {
   "cell_type": "markdown",
   "metadata": {},
   "source": [
    "#### LogisticRegression\n",
    "\n",
    "Для модели логистической регрессии мы варьируем коэффициент регуляризации и сам тип регуляризации"
   ]
  },
  {
   "cell_type": "code",
   "execution_count": 38,
   "metadata": {},
   "outputs": [],
   "source": [
    "lr_model = LogisticRegression(solver='liblinear', random_state=seed)"
   ]
  },
  {
   "cell_type": "code",
   "execution_count": 39,
   "metadata": {},
   "outputs": [],
   "source": [
    "lr_grid = {\n",
    "    \"param_grid\": {\n",
    "        'C': [0.01, 0.1, 0.5, 1, 2, 5, 8, 10, 12, 15],\n",
    "        'penalty': ['l1', 'l2']\n",
    "    },\n",
    "    \"cv\": 5,\n",
    "    \"n_jobs\": 2,\n",
    "    \"verbose\": 0,\n",
    "    \"scoring\": 'f1'\n",
    "}"
   ]
  },
  {
   "cell_type": "code",
   "execution_count": 40,
   "metadata": {
    "scrolled": true
   },
   "outputs": [
    {
     "name": "stdout",
     "output_type": "stream",
     "text": [
      "Best Logistic Regression Model: \tLogisticRegression(C=10, random_state=4, solver='liblinear')\n",
      "Best F1 score: 0.308\n",
      "Best ROC AUC score: 0.760\n"
     ]
    }
   ],
   "source": [
    "best_lr, lr_f1, lr_roc_auc = model_evaluation(lr_model, lr_grid, features_train, target_train, 'Logistic Regression', True)"
   ]
  },
  {
   "cell_type": "markdown",
   "metadata": {},
   "source": [
    "#### DecisionTreeClassifier\n",
    "В модели единичного дерева мы будет изменять глубину разбиения `max_depth` для двух подходов (`gini`, `entropy`) к измерению качества при разбиении нашего дерева "
   ]
  },
  {
   "cell_type": "code",
   "execution_count": 41,
   "metadata": {},
   "outputs": [],
   "source": [
    "tree_model = DecisionTreeClassifier(random_state=seed, )\n",
    "tree_grid = {\n",
    "    \"param_grid\": {\n",
    "        'max_depth': [2, 4, 8, 16, 32, 64, 128],\n",
    "        'criterion': ['gini', 'entropy'],\n",
    "    },\n",
    "    \"cv\": 5,\n",
    "    \"n_jobs\": 2,\n",
    "    \"verbose\": 0,\n",
    "    \"scoring\": 'f1'\n",
    "}"
   ]
  },
  {
   "cell_type": "code",
   "execution_count": 42,
   "metadata": {
    "scrolled": true
   },
   "outputs": [
    {
     "name": "stdout",
     "output_type": "stream",
     "text": [
      "Best Single Tree Model: \tDecisionTreeClassifier(criterion='entropy', max_depth=8, random_state=4)\n",
      "Best F1 score: 0.570\n",
      "Best ROC AUC score: 0.811\n"
     ]
    }
   ],
   "source": [
    "best_tree, tree_f1, tree_roc_auc = model_evaluation(tree_model, tree_grid, features_train, target_train, 'Single Tree', True)"
   ]
  },
  {
   "cell_type": "code",
   "execution_count": 43,
   "metadata": {},
   "outputs": [
    {
     "data": {
      "text/plain": [
       "DecisionTreeClassifier(criterion='entropy', max_depth=8, random_state=4)"
      ]
     },
     "execution_count": 43,
     "metadata": {},
     "output_type": "execute_result"
    }
   ],
   "source": [
    "best_tree"
   ]
  },
  {
   "cell_type": "markdown",
   "metadata": {},
   "source": [
    "#### RandomForest\n",
    "В модели случайного леса варьируем те же параметры как и для модели единичного дерева и дополнительно возьмем число деревьев `n_estimators`. Только зафиксируем критерий для ветвления `entropy` (он всегда лучше получался)"
   ]
  },
  {
   "cell_type": "code",
   "execution_count": 44,
   "metadata": {},
   "outputs": [],
   "source": [
    "rf_model = RandomForestClassifier(\n",
    "    random_state=seed, \n",
    "    criterion='entropy'\n",
    ")\n",
    "rf_grid = {\n",
    "    \"param_grid\": {\n",
    "        'n_estimators': [8, 16, 32, 48, 64],\n",
    "        'max_depth': [2, 4, 8, 16, 32, 48, 64],\n",
    "    },\n",
    "    \"cv\": 5,\n",
    "    \"n_jobs\": 4,\n",
    "    \"verbose\": 0,\n",
    "    \"scoring\": 'f1'\n",
    "}"
   ]
  },
  {
   "cell_type": "code",
   "execution_count": 45,
   "metadata": {},
   "outputs": [
    {
     "name": "stdout",
     "output_type": "stream",
     "text": [
      "Best Random Forest Model: \tRandomForestClassifier(criterion='entropy', max_depth=16, n_estimators=48,\n",
      "                       random_state=4)\n",
      "Best F1 score: 0.583\n",
      "Best ROC AUC score: 0.846\n",
      "CPU times: total: 4.53 s\n",
      "Wall time: 25.2 s\n"
     ]
    }
   ],
   "source": [
    "%%time \n",
    "best_rf, rf_f1, rf_roc_auc = model_evaluation(rf_model, rf_grid, features_train, target_train, 'Random Forest', True)"
   ]
  },
  {
   "cell_type": "markdown",
   "metadata": {},
   "source": [
    "#### Предварительные итоги"
   ]
  },
  {
   "cell_type": "markdown",
   "metadata": {},
   "source": [
    "Для наглядности сделаем табличку"
   ]
  },
  {
   "cell_type": "code",
   "execution_count": 46,
   "metadata": {},
   "outputs": [],
   "source": [
    "model_scores = [lr_f1, tree_f1, rf_f1, lr_roc_auc, tree_roc_auc, rf_roc_auc]\n",
    "metric = 3 * ['f1'] + 3 * ['roc_auc']\n",
    "algorithm =  ['lr', 'tree', 'rf'] * 2"
   ]
  },
  {
   "cell_type": "code",
   "execution_count": 47,
   "metadata": {},
   "outputs": [],
   "source": [
    "results = pd.DataFrame()\n",
    "results['metric'] = metric\n",
    "results['algorithm'] = algorithm\n",
    "results['score'] = model_scores"
   ]
  },
  {
   "cell_type": "code",
   "execution_count": 48,
   "metadata": {},
   "outputs": [
    {
     "data": {
      "image/png": "[encoded data removed]",
      "text/plain": [
       "<Figure size 600x400 with 1 Axes>"
      ]
     },
     "metadata": {
      "image/png": {
       "height": 376,
       "width": 536
      }
     },
     "output_type": "display_data"
    }
   ],
   "source": [
    "plt.figure(figsize=(6, 4))\n",
    "sns.barplot(data=results, \n",
    "            x='metric', y='score', \n",
    "            hue='algorithm',\n",
    "            palette=\"YlGnBu\"\n",
    ")\n",
    "\n",
    "plt.ylim(0, 1);"
   ]
  },
  {
   "cell_type": "markdown",
   "metadata": {},
   "source": [
    "На данный момент лучшим является алгоритм случайного леса, немного хуже него показывает результат модель единичного дерева. Худшей на данный момент является модель логистической регрессии. \n",
    "\n",
    "Если обратить внимание на соотношения по `roc_auc` метрике, то можно увидеть, что логистическая реграссия проигрывает не так сильно, как по метрике `f1`. Возможно, это связано с дибалансом классов"
   ]
  },
  {
   "cell_type": "markdown",
   "metadata": {},
   "source": [
    "## Борьба с дисбалансом"
   ]
  },
  {
   "cell_type": "markdown",
   "metadata": {},
   "source": [
    "Как мы уже видели в разделе подготовки данных у нас присутствует дисбаланс классов."
   ]
  },
  {
   "cell_type": "code",
   "execution_count": 49,
   "metadata": {},
   "outputs": [
    {
     "data": {
      "image/png": "[encoded data removed]",
      "text/plain": [
       "<Figure size 400x300 with 1 Axes>"
      ]
     },
     "metadata": {
      "image/png": {
       "height": 294,
       "width": 394
      }
     },
     "output_type": "display_data"
    }
   ],
   "source": [
    "plt.figure(figsize=(4, 3))\n",
    "sns.histplot(data=target);"
   ]
  },
  {
   "cell_type": "code",
   "execution_count": 50,
   "metadata": {},
   "outputs": [
    {
     "data": {
      "text/plain": [
       "3.9091801669121256"
      ]
     },
     "execution_count": 50,
     "metadata": {},
     "output_type": "execute_result"
    }
   ],
   "source": [
    "ratio_01 = (target == 0).sum() / (target == 1).sum()\n",
    "ratio_01"
   ]
  },
  {
   "cell_type": "markdown",
   "metadata": {},
   "source": [
    "Нулей примерно в 3.9 раза больше. Округлим, чтобы дополнять датасет, умножая на целое число"
   ]
  },
  {
   "cell_type": "code",
   "execution_count": 51,
   "metadata": {},
   "outputs": [
    {
     "data": {
      "text/plain": [
       "4"
      ]
     },
     "execution_count": 51,
     "metadata": {},
     "output_type": "execute_result"
    }
   ],
   "source": [
    "ratio_01 = np.round(ratio_01, 0).astype(int)\n",
    "ratio_01"
   ]
  },
  {
   "cell_type": "markdown",
   "metadata": {},
   "source": [
    "Попробуем посмотреть как изменятся показатели наших моделей, при использовании двух техник избавления от дисбаланса классов. "
   ]
  },
  {
   "cell_type": "markdown",
   "metadata": {},
   "source": [
    "### Upsampling\n",
    "\n",
    "В этом подходе мы \"добираем\" данные для меньшего класса из существующих экземпляров "
   ]
  },
  {
   "cell_type": "code",
   "execution_count": 52,
   "metadata": {},
   "outputs": [],
   "source": [
    "def upsample(features, target, repeat, random_state):\n",
    "    features_zeros = features[target == 0]\n",
    "    features_ones = features[target == 1]\n",
    "    target_zeros = target[target == 0]\n",
    "    target_ones = target[target == 1]\n",
    "\n",
    "    features_upsampled = pd.concat([features_zeros] + [features_ones] * repeat)\n",
    "    target_upsampled = pd.concat([target_zeros] + [target_ones] * repeat)\n",
    "    \n",
    "    features_upsampled, target_upsampled = shuffle(\n",
    "        features_upsampled, target_upsampled, random_state=random_state\n",
    "    )\n",
    "    \n",
    "    return features_upsampled, target_upsampled"
   ]
  },
  {
   "cell_type": "code",
   "execution_count": 53,
   "metadata": {},
   "outputs": [],
   "source": [
    "features_upsample, target_upsample = upsample(features_train, target_train, \n",
    "                                              repeat=ratio_01, \n",
    "                                              random_state=seed\n",
    "                                             )"
   ]
  },
  {
   "cell_type": "code",
   "execution_count": 54,
   "metadata": {},
   "outputs": [
    {
     "data": {
      "text/plain": [
       "1    5460\n",
       "0    5335\n",
       "Name: exited, dtype: int64"
      ]
     },
     "execution_count": 54,
     "metadata": {},
     "output_type": "execute_result"
    }
   ],
   "source": [
    "target_upsample.value_counts()"
   ]
  },
  {
   "cell_type": "markdown",
   "metadata": {},
   "source": [
    "#### LogisticRegression"
   ]
  },
  {
   "cell_type": "code",
   "execution_count": 55,
   "metadata": {},
   "outputs": [],
   "source": [
    "lr_model = LogisticRegression(solver='liblinear', random_state=seed)"
   ]
  },
  {
   "cell_type": "code",
   "execution_count": 56,
   "metadata": {
    "scrolled": true
   },
   "outputs": [
    {
     "name": "stdout",
     "output_type": "stream",
     "text": [
      "Best Logistic Regression Model: \tLogisticRegression(C=0.1, penalty='l1', random_state=4, solver='liblinear')\n",
      "Best F1 score: 0.252\n",
      "Best ROC AUC score: 0.759\n"
     ]
    }
   ],
   "source": [
    "lr_up, lr_up_f1, lr_up_roc_auc = model_evaluation(estimator=lr_model, \n",
    "                                                  grid_params=lr_grid, \n",
    "                                                  features=features_upsample, \n",
    "                                                  target=target_upsample, \n",
    "                                                  name='Logistic Regression',\n",
    "                                                  return_scores=True\n",
    "                                                 )"
   ]
  },
  {
   "cell_type": "markdown",
   "metadata": {},
   "source": [
    "Результат примерно такой же"
   ]
  },
  {
   "cell_type": "markdown",
   "metadata": {},
   "source": [
    "#### DecisionTreeClassifier"
   ]
  },
  {
   "cell_type": "code",
   "execution_count": 57,
   "metadata": {},
   "outputs": [],
   "source": [
    "tree_model = DecisionTreeClassifier(random_state=seed)"
   ]
  },
  {
   "cell_type": "code",
   "execution_count": 58,
   "metadata": {},
   "outputs": [
    {
     "name": "stdout",
     "output_type": "stream",
     "text": [
      "Best Single Tree Model: \tDecisionTreeClassifier(criterion='entropy', max_depth=32, random_state=4)\n",
      "Best F1 score: 0.512\n",
      "Best ROC AUC score: 0.696\n"
     ]
    }
   ],
   "source": [
    "tree_up, tree_up_f1, tree_up_roc_auc = model_evaluation(estimator=tree_model, \n",
    "                                                        grid_params=tree_grid, \n",
    "                                                        features=features_upsample, \n",
    "                                                        target=target_upsample, \n",
    "                                                        name='Single Tree',\n",
    "                                                        return_scores=True\n",
    "                                                        )"
   ]
  },
  {
   "cell_type": "markdown",
   "metadata": {},
   "source": [
    "Здесь upsampling привел к просаживанию результата"
   ]
  },
  {
   "cell_type": "markdown",
   "metadata": {},
   "source": [
    "#### RandomForest\n"
   ]
  },
  {
   "cell_type": "code",
   "execution_count": 59,
   "metadata": {},
   "outputs": [],
   "source": [
    "rf_model = RandomForestClassifier(random_state=seed)"
   ]
  },
  {
   "cell_type": "code",
   "execution_count": 60,
   "metadata": {},
   "outputs": [
    {
     "name": "stdout",
     "output_type": "stream",
     "text": [
      "Best Random Forest Model: \tRandomForestClassifier(max_depth=32, n_estimators=48, random_state=4)\n",
      "Best F1 score: 0.577\n",
      "Best ROC AUC score: 0.843\n",
      "CPU times: total: 5.12 s\n",
      "Wall time: 26.9 s\n"
     ]
    }
   ],
   "source": [
    "%%time \n",
    "rf_up, rf_up_f1, rf_up_roc_auc = model_evaluation(estimator=rf_model, \n",
    "                                                  grid_params=rf_grid, \n",
    "                                                  features=features_upsample, \n",
    "                                                  target=target_upsample, \n",
    "                                                  name='Random Forest',\n",
    "                                                  return_scores=True\n",
    "                                                 )"
   ]
  },
  {
   "cell_type": "markdown",
   "metadata": {},
   "source": [
    "### Downsampling"
   ]
  },
  {
   "cell_type": "code",
   "execution_count": 61,
   "metadata": {},
   "outputs": [],
   "source": [
    "def downsample(features, target, fraction, random_state):\n",
    "    \n",
    "    features_zeros = features[target == 0]\n",
    "    features_ones = features[target == 1]\n",
    "    target_zeros = target[target == 0]\n",
    "    target_ones = target[target == 1]\n",
    "\n",
    "    features_downsampled = pd.concat(\n",
    "        [features_zeros.sample(frac=fraction, random_state=random_state)] + [features_ones]\n",
    "    )\n",
    "    target_downsampled = pd.concat(\n",
    "        [target_zeros.sample(frac=fraction, random_state=random_state)] + [target_ones]\n",
    "    )\n",
    "    \n",
    "    features_downsampled, target_downsampled = shuffle(\n",
    "        features_downsampled, target_downsampled, random_state=random_state\n",
    "    )\n",
    "    \n",
    "    return features_downsampled, target_downsampled"
   ]
  },
  {
   "cell_type": "code",
   "execution_count": 62,
   "metadata": {},
   "outputs": [],
   "source": [
    "features_downsample, target_downsample = downsample(features_train, target_train, \n",
    "                                                    fraction=1/3.9, \n",
    "                                                    random_state=seed\n",
    "                                                   )"
   ]
  },
  {
   "cell_type": "code",
   "execution_count": 63,
   "metadata": {},
   "outputs": [
    {
     "data": {
      "text/plain": [
       "0    1368\n",
       "1    1365\n",
       "Name: exited, dtype: int64"
      ]
     },
     "execution_count": 63,
     "metadata": {},
     "output_type": "execute_result"
    }
   ],
   "source": [
    "target_downsample.value_counts()"
   ]
  },
  {
   "cell_type": "markdown",
   "metadata": {},
   "source": [
    "#### LogisticRegression"
   ]
  },
  {
   "cell_type": "code",
   "execution_count": 64,
   "metadata": {},
   "outputs": [],
   "source": [
    "lr_model = LogisticRegression(\n",
    "    solver='liblinear',\n",
    "    random_state=seed,\n",
    ")"
   ]
  },
  {
   "cell_type": "code",
   "execution_count": 65,
   "metadata": {
    "scrolled": true
   },
   "outputs": [
    {
     "name": "stdout",
     "output_type": "stream",
     "text": [
      "Best Logistic Regression Model: \tLogisticRegression(C=1, penalty='l1', random_state=4, solver='liblinear')\n",
      "Best F1 score: 0.302\n",
      "Best ROC AUC score: 0.760\n"
     ]
    }
   ],
   "source": [
    "lr_dn, lr_dn_f1, lr_dn_roc_auc = model_evaluation(estimator=lr_model, \n",
    "                                                  grid_params=lr_grid, \n",
    "                                                  features=features_downsample, \n",
    "                                                  target=target_downsample, \n",
    "                                                  name='Logistic Regression',\n",
    "                                                  return_scores=True\n",
    "                                                 )"
   ]
  },
  {
   "cell_type": "markdown",
   "metadata": {},
   "source": [
    "#### DecisionTreeClassifier"
   ]
  },
  {
   "cell_type": "code",
   "execution_count": 66,
   "metadata": {},
   "outputs": [],
   "source": [
    "tree_model = DecisionTreeClassifier(random_state=seed)"
   ]
  },
  {
   "cell_type": "code",
   "execution_count": 67,
   "metadata": {},
   "outputs": [
    {
     "name": "stdout",
     "output_type": "stream",
     "text": [
      "Best Single Tree Model: \tDecisionTreeClassifier(criterion='entropy', max_depth=4, random_state=4)\n",
      "Best F1 score: 0.534\n",
      "Best ROC AUC score: 0.819\n"
     ]
    }
   ],
   "source": [
    "tree_dn, tree_dn_f1, tree_dn_roc_auc = model_evaluation(estimator=tree_model, \n",
    "                                                        grid_params=tree_grid, \n",
    "                                                        features=features_downsample, \n",
    "                                                        target=target_downsample, \n",
    "                                                        name='Single Tree',\n",
    "                                                        return_scores=True\n",
    "                                                        )"
   ]
  },
  {
   "cell_type": "markdown",
   "metadata": {},
   "source": [
    "#### RandomForest"
   ]
  },
  {
   "cell_type": "code",
   "execution_count": 68,
   "metadata": {},
   "outputs": [],
   "source": [
    "rf_model = RandomForestClassifier(random_state=seed)"
   ]
  },
  {
   "cell_type": "code",
   "execution_count": 69,
   "metadata": {},
   "outputs": [
    {
     "name": "stdout",
     "output_type": "stream",
     "text": [
      "Best Random Forest Model: \tRandomForestClassifier(max_depth=8, n_estimators=64, random_state=4)\n",
      "Best F1 score: 0.560\n",
      "Best ROC AUC score: 0.854\n",
      "CPU times: total: 3.03 s\n",
      "Wall time: 15.9 s\n"
     ]
    }
   ],
   "source": [
    "%%time \n",
    "rf_dn, rf_dn_f1, rf_dn_roc_auc = model_evaluation(estimator=rf_model, \n",
    "                                                  grid_params=rf_grid, \n",
    "                                                  features=features_downsample, \n",
    "                                                  target=target_downsample, \n",
    "                                                  name='Random Forest',\n",
    "                                                  return_scores=True\n",
    "                                                 )"
   ]
  },
  {
   "cell_type": "markdown",
   "metadata": {},
   "source": [
    "Все еще чуть-чуть не дотягиваем"
   ]
  },
  {
   "cell_type": "markdown",
   "metadata": {},
   "source": [
    "### Только балансировка весов"
   ]
  },
  {
   "cell_type": "markdown",
   "metadata": {},
   "source": [
    "Сделаем еще тесты, где будем использовать только внутенний балансировщик весов"
   ]
  },
  {
   "cell_type": "markdown",
   "metadata": {},
   "source": [
    "#### LogisticRegression"
   ]
  },
  {
   "cell_type": "code",
   "execution_count": 70,
   "metadata": {},
   "outputs": [],
   "source": [
    "lr_model = LogisticRegression(\n",
    "    solver='liblinear',\n",
    "    random_state=seed,\n",
    "    class_weight='balanced'\n",
    ")"
   ]
  },
  {
   "cell_type": "code",
   "execution_count": 71,
   "metadata": {
    "scrolled": true
   },
   "outputs": [
    {
     "name": "stdout",
     "output_type": "stream",
     "text": [
      "Best Logistic Regression Model: \tLogisticRegression(C=1, class_weight='balanced', penalty='l1', random_state=4,\n",
      "                   solver='liblinear')\n",
      "Best F1 score: 0.493\n",
      "Best ROC AUC score: 0.764\n"
     ]
    }
   ],
   "source": [
    "lr_bal, lr_bal_f1, lr_bal_roc_auc = model_evaluation(estimator=lr_model, \n",
    "                                                     grid_params=lr_grid, \n",
    "                                                     features=features_train, \n",
    "                                                     target=target_train, \n",
    "                                                     name='Logistic Regression',\n",
    "                                                     return_scores=True\n",
    "                                                    )"
   ]
  },
  {
   "cell_type": "markdown",
   "metadata": {},
   "source": [
    "#### DecisionTreeClassifier"
   ]
  },
  {
   "cell_type": "code",
   "execution_count": 72,
   "metadata": {},
   "outputs": [],
   "source": [
    "tree_model = DecisionTreeClassifier(random_state=seed, class_weight='balanced')"
   ]
  },
  {
   "cell_type": "code",
   "execution_count": 73,
   "metadata": {},
   "outputs": [
    {
     "name": "stdout",
     "output_type": "stream",
     "text": [
      "Best Single Tree Model: \tDecisionTreeClassifier(class_weight='balanced', criterion='entropy',\n",
      "                       max_depth=8, random_state=4)\n",
      "Best F1 score: 0.547\n",
      "Best ROC AUC score: 0.800\n"
     ]
    }
   ],
   "source": [
    "tree_bal, tree_bal_f1, tree_bal_roc_auc = model_evaluation(estimator=tree_model, \n",
    "                                                           grid_params=tree_grid, \n",
    "                                                           features=features_train, \n",
    "                                                           target=target_train, \n",
    "                                                           name='Single Tree',\n",
    "                                                           return_scores=True\n",
    "                                                          )"
   ]
  },
  {
   "cell_type": "markdown",
   "metadata": {},
   "source": [
    "#### RandomForest"
   ]
  },
  {
   "cell_type": "code",
   "execution_count": 74,
   "metadata": {},
   "outputs": [],
   "source": [
    "rf_model = RandomForestClassifier(random_state=seed, class_weight='balanced')"
   ]
  },
  {
   "cell_type": "code",
   "execution_count": 75,
   "metadata": {},
   "outputs": [
    {
     "name": "stdout",
     "output_type": "stream",
     "text": [
      "Best Random Forest Model: \tRandomForestClassifier(class_weight='balanced', max_depth=8, n_estimators=64,\n",
      "                       random_state=4)\n",
      "Best F1 score: 0.615\n",
      "Best ROC AUC score: 0.852\n",
      "CPU times: total: 3.75 s\n",
      "Wall time: 21.1 s\n"
     ]
    }
   ],
   "source": [
    "%%time \n",
    "rf_bal, rf_bal_f1, rf_bal_roc_auc = model_evaluation(estimator=rf_model, \n",
    "                                                     grid_params=rf_grid, \n",
    "                                                     features=features_train, \n",
    "                                                     target=target_train, \n",
    "                                                     name='Random Forest',\n",
    "                                                     return_scores=True\n",
    "                                                    )"
   ]
  },
  {
   "cell_type": "markdown",
   "metadata": {},
   "source": [
    "###  Итоги исследования моделей"
   ]
  },
  {
   "cell_type": "markdown",
   "metadata": {},
   "source": [
    "Сначала собирем всю информацию о наших моделях в одну табличку"
   ]
  },
  {
   "cell_type": "code",
   "execution_count": 76,
   "metadata": {},
   "outputs": [],
   "source": [
    "model_scores = [\n",
    "    lr_up_f1, tree_up_f1, rf_up_f1, \n",
    "    lr_up_roc_auc, tree_up_roc_auc, rf_up_roc_auc,\n",
    "    lr_dn_f1, tree_dn_f1, rf_dn_f1, \n",
    "    lr_dn_roc_auc, tree_dn_roc_auc, rf_dn_roc_auc,\n",
    "    lr_bal_f1, tree_bal_f1, rf_bal_f1, \n",
    "    lr_bal_roc_auc, tree_bal_roc_auc, rf_bal_roc_auc\n",
    "]\n",
    "metric = 3 * (3 * ['f1'] + 3 * ['roc_auc'])\n",
    "algorithm =  6 * ['lr', 'tree', 'rf']\n",
    "data_changes = 6 * ['upsample'] + 6 * ['downsampled'] + 6 * ['original + balance'] "
   ]
  },
  {
   "cell_type": "code",
   "execution_count": 77,
   "metadata": {},
   "outputs": [],
   "source": [
    "results_disbalanced = pd.DataFrame()\n",
    "results_disbalanced['metric'] = metric\n",
    "results_disbalanced['algorithm'] = algorithm\n",
    "results_disbalanced['changes'] = data_changes\n",
    "results_disbalanced['score'] = model_scores"
   ]
  },
  {
   "cell_type": "code",
   "execution_count": 78,
   "metadata": {},
   "outputs": [
    {
     "data": {
      "text/html": [
       "<div>\n",
       "<style scoped>\n",
       "    .dataframe tbody tr th:only-of-type {\n",
       "        vertical-align: middle;\n",
       "    }\n",
       "\n",
       "    .dataframe tbody tr th {\n",
       "        vertical-align: top;\n",
       "    }\n",
       "\n",
       "    .dataframe thead th {\n",
       "        text-align: right;\n",
       "    }\n",
       "</style>\n",
       "<table border=\"1\" class=\"dataframe\">\n",
       "  <thead>\n",
       "    <tr style=\"text-align: right;\">\n",
       "      <th></th>\n",
       "      <th>metric</th>\n",
       "      <th>algorithm</th>\n",
       "      <th>changes</th>\n",
       "      <th>score</th>\n",
       "    </tr>\n",
       "  </thead>\n",
       "  <tbody>\n",
       "    <tr>\n",
       "      <th>0</th>\n",
       "      <td>f1</td>\n",
       "      <td>lr</td>\n",
       "      <td>upsample</td>\n",
       "      <td>0.252000</td>\n",
       "    </tr>\n",
       "    <tr>\n",
       "      <th>1</th>\n",
       "      <td>f1</td>\n",
       "      <td>tree</td>\n",
       "      <td>upsample</td>\n",
       "      <td>0.512373</td>\n",
       "    </tr>\n",
       "    <tr>\n",
       "      <th>2</th>\n",
       "      <td>f1</td>\n",
       "      <td>rf</td>\n",
       "      <td>upsample</td>\n",
       "      <td>0.576752</td>\n",
       "    </tr>\n",
       "    <tr>\n",
       "      <th>3</th>\n",
       "      <td>roc_auc</td>\n",
       "      <td>lr</td>\n",
       "      <td>upsample</td>\n",
       "      <td>0.759138</td>\n",
       "    </tr>\n",
       "    <tr>\n",
       "      <th>4</th>\n",
       "      <td>roc_auc</td>\n",
       "      <td>tree</td>\n",
       "      <td>upsample</td>\n",
       "      <td>0.696317</td>\n",
       "    </tr>\n",
       "    <tr>\n",
       "      <th>5</th>\n",
       "      <td>roc_auc</td>\n",
       "      <td>rf</td>\n",
       "      <td>upsample</td>\n",
       "      <td>0.843228</td>\n",
       "    </tr>\n",
       "    <tr>\n",
       "      <th>6</th>\n",
       "      <td>f1</td>\n",
       "      <td>lr</td>\n",
       "      <td>downsampled</td>\n",
       "      <td>0.302015</td>\n",
       "    </tr>\n",
       "    <tr>\n",
       "      <th>7</th>\n",
       "      <td>f1</td>\n",
       "      <td>tree</td>\n",
       "      <td>downsampled</td>\n",
       "      <td>0.533552</td>\n",
       "    </tr>\n",
       "    <tr>\n",
       "      <th>8</th>\n",
       "      <td>f1</td>\n",
       "      <td>rf</td>\n",
       "      <td>downsampled</td>\n",
       "      <td>0.559623</td>\n",
       "    </tr>\n",
       "    <tr>\n",
       "      <th>9</th>\n",
       "      <td>roc_auc</td>\n",
       "      <td>lr</td>\n",
       "      <td>downsampled</td>\n",
       "      <td>0.760448</td>\n",
       "    </tr>\n",
       "    <tr>\n",
       "      <th>10</th>\n",
       "      <td>roc_auc</td>\n",
       "      <td>tree</td>\n",
       "      <td>downsampled</td>\n",
       "      <td>0.818955</td>\n",
       "    </tr>\n",
       "    <tr>\n",
       "      <th>11</th>\n",
       "      <td>roc_auc</td>\n",
       "      <td>rf</td>\n",
       "      <td>downsampled</td>\n",
       "      <td>0.853735</td>\n",
       "    </tr>\n",
       "    <tr>\n",
       "      <th>12</th>\n",
       "      <td>f1</td>\n",
       "      <td>lr</td>\n",
       "      <td>original + balance</td>\n",
       "      <td>0.492808</td>\n",
       "    </tr>\n",
       "    <tr>\n",
       "      <th>13</th>\n",
       "      <td>f1</td>\n",
       "      <td>tree</td>\n",
       "      <td>original + balance</td>\n",
       "      <td>0.546799</td>\n",
       "    </tr>\n",
       "    <tr>\n",
       "      <th>14</th>\n",
       "      <td>f1</td>\n",
       "      <td>rf</td>\n",
       "      <td>original + balance</td>\n",
       "      <td>0.615438</td>\n",
       "    </tr>\n",
       "    <tr>\n",
       "      <th>15</th>\n",
       "      <td>roc_auc</td>\n",
       "      <td>lr</td>\n",
       "      <td>original + balance</td>\n",
       "      <td>0.763780</td>\n",
       "    </tr>\n",
       "    <tr>\n",
       "      <th>16</th>\n",
       "      <td>roc_auc</td>\n",
       "      <td>tree</td>\n",
       "      <td>original + balance</td>\n",
       "      <td>0.800313</td>\n",
       "    </tr>\n",
       "    <tr>\n",
       "      <th>17</th>\n",
       "      <td>roc_auc</td>\n",
       "      <td>rf</td>\n",
       "      <td>original + balance</td>\n",
       "      <td>0.851729</td>\n",
       "    </tr>\n",
       "  </tbody>\n",
       "</table>\n",
       "</div>"
      ],
      "text/plain": [
       "     metric algorithm             changes     score\n",
       "0        f1        lr            upsample  0.252000\n",
       "1        f1      tree            upsample  0.512373\n",
       "2        f1        rf            upsample  0.576752\n",
       "3   roc_auc        lr            upsample  0.759138\n",
       "4   roc_auc      tree            upsample  0.696317\n",
       "5   roc_auc        rf            upsample  0.843228\n",
       "6        f1        lr         downsampled  0.302015\n",
       "7        f1      tree         downsampled  0.533552\n",
       "8        f1        rf         downsampled  0.559623\n",
       "9   roc_auc        lr         downsampled  0.760448\n",
       "10  roc_auc      tree         downsampled  0.818955\n",
       "11  roc_auc        rf         downsampled  0.853735\n",
       "12       f1        lr  original + balance  0.492808\n",
       "13       f1      tree  original + balance  0.546799\n",
       "14       f1        rf  original + balance  0.615438\n",
       "15  roc_auc        lr  original + balance  0.763780\n",
       "16  roc_auc      tree  original + balance  0.800313\n",
       "17  roc_auc        rf  original + balance  0.851729"
      ]
     },
     "execution_count": 78,
     "metadata": {},
     "output_type": "execute_result"
    }
   ],
   "source": [
    "results_disbalanced"
   ]
  },
  {
   "cell_type": "code",
   "execution_count": 79,
   "metadata": {},
   "outputs": [
    {
     "data": {
      "image/png": "[encoded data removed]",
      "text/plain": [
       "<Figure size 800x300 with 2 Axes>"
      ]
     },
     "metadata": {
      "image/png": {
       "height": 377,
       "width": 790
      }
     },
     "output_type": "display_data"
    }
   ],
   "source": [
    "fig, ax = plt.subplots(1, 2, figsize=(8, 3))\n",
    "for num, metric in enumerate(['f1', 'roc_auc']):\n",
    "    g = sns.barplot(\n",
    "        ax=ax[num],\n",
    "        data=results_disbalanced.query(\"metric == @metric\"), \n",
    "        hue='algorithm',\n",
    "        y='score',\n",
    "        x='changes',\n",
    "        palette=\"YlGnBu\"\n",
    "    )\n",
    "    ax[num].set_title(metric)\n",
    "    ax[num].set_ylim(0, 1)\n",
    "    ax[num].set_xticklabels(\n",
    "        labels=['upsample', 'downsample', 'original + balance'], \n",
    "        rotation=30\n",
    "    )\n",
    "    if num == 0:\n",
    "        g.legend([], [], frameon=False)\n",
    "    else:\n",
    "        ax[num].legend(title='Model', bbox_to_anchor=(1.05, 1))"
   ]
  },
  {
   "cell_type": "markdown",
   "metadata": {},
   "source": [
    "Получается, что в данной задаче внутренний балансировщик справляется лучше в модели случайного леса справился лучше всего"
   ]
  },
  {
   "cell_type": "code",
   "execution_count": 80,
   "metadata": {},
   "outputs": [],
   "source": [
    "from sklearn.metrics import roc_curve\n",
    "\n",
    "probabilities = rf_bal.predict_proba(features_train)\n",
    "fpr_bal, tpr_bal, thresholds_bal = roc_curve(target_train, probabilities[:, 1])\n"
   ]
  },
  {
   "cell_type": "code",
   "execution_count": 81,
   "metadata": {
    "scrolled": false
   },
   "outputs": [
    {
     "data": {
      "image/png": "[encoded data removed]",
      "text/plain": [
       "<Figure size 600x400 with 1 Axes>"
      ]
     },
     "metadata": {
      "image/png": {
       "height": 373,
       "width": 527
      }
     },
     "output_type": "display_data"
    }
   ],
   "source": [
    "fig, ax = plt.subplots(figsize=(6, 4))\n",
    "ax.plot(fpr_bal, tpr_bal, color='firebrick', label=\"Just Balanced\")\n",
    "ax.fill_between(fpr_bal, tpr_bal, 0, alpha=0.1, color='firebrick') \n",
    "\n",
    "ax.hlines(1, -0.01, 1.02, ls='--', lw=0.8, colors='k')\n",
    "\n",
    "ax.plot([0, 1], [0, 1], lw=0.8, color='k', label='Random Model')\n",
    "\n",
    "ax.legend(loc=4, frameon=False)\n",
    "ax.set(\n",
    "    ylim=(0, 1.02),\n",
    "    xlim=(-0.01, 1.0),\n",
    "    title='ROC AUC curve (best models)'\n",
    ");"
   ]
  },
  {
   "cell_type": "code",
   "execution_count": 82,
   "metadata": {},
   "outputs": [
    {
     "data": {
      "text/plain": [
       "0.7296299240241374"
      ]
     },
     "execution_count": 82,
     "metadata": {},
     "output_type": "execute_result"
    }
   ],
   "source": [
    "tpr_bal.sum() / tpr_bal.size"
   ]
  },
  {
   "cell_type": "markdown",
   "metadata": {},
   "source": [
    "## Тестирование модели"
   ]
  },
  {
   "cell_type": "code",
   "execution_count": 83,
   "metadata": {},
   "outputs": [
    {
     "name": "stdout",
     "output_type": "stream",
     "text": [
      "F1 test score: 0.62\n",
      "ROC AUC test score: 0.77\n"
     ]
    }
   ],
   "source": [
    "predictions = rf_bal.predict(features_test)\n",
    "print(f\"F1 test score: {f1_score(target_test, predictions):.2f}\")\n",
    "print(f\"ROC AUC test score: {roc_auc_score(target_test, predictions):.2f}\")"
   ]
  },
  {
   "cell_type": "markdown",
   "metadata": {},
   "source": [
    "## Вывод"
   ]
  },
  {
   "cell_type": "markdown",
   "metadata": {},
   "source": [
    "В данной работе мы исследовали задачу оттока клиентов по данным \"Бета Банка\". После предварительной обработки данных и откидывания не значащий признаков были исследованы три модели для предсказания ухода клиентов: Логистическая регрессия, модель Решающего дерева и модель случайного леса. \n",
    "\n",
    "Лучшей оказалась модель случайного леса с балансировкой весов без дополнительных сэмплирований датасета. Данная модель дает показатели 0.62 по `f1` и 0.77 по `roc auc` метрикам. То есть модель существенно лучше произвользвольной и способна хорошо обобщать данные."
   ]
  }
 ],
 "metadata": {
  "ExecuteTimeLog": [
   {
    "duration": 1488,
    "start_time": "2022-11-25T10:46:15.493Z"
   },
   {
    "duration": 158,
    "start_time": "2022-11-25T10:46:18.598Z"
   },
   {
    "duration": 20,
    "start_time": "2022-11-25T10:46:20.282Z"
   },
   {
    "duration": 13,
    "start_time": "2022-11-25T10:46:21.922Z"
   },
   {
    "duration": 4,
    "start_time": "2022-11-25T10:46:44.534Z"
   },
   {
    "duration": 6,
    "start_time": "2022-11-25T10:46:53.437Z"
   },
   {
    "duration": 12,
    "start_time": "2022-11-25T10:46:54.075Z"
   },
   {
    "duration": 918,
    "start_time": "2022-11-25T10:46:57.140Z"
   },
   {
    "duration": 8,
    "start_time": "2022-11-25T10:47:31.200Z"
   },
   {
    "duration": 5,
    "start_time": "2022-11-25T10:47:48.237Z"
   },
   {
    "duration": 11,
    "start_time": "2022-11-25T10:47:49.693Z"
   },
   {
    "duration": 5,
    "start_time": "2022-11-25T10:47:50.745Z"
   },
   {
    "duration": 3,
    "start_time": "2022-11-25T10:47:53.023Z"
   },
   {
    "duration": 3,
    "start_time": "2022-11-25T10:47:53.751Z"
   },
   {
    "duration": 11,
    "start_time": "2022-11-25T10:47:54.880Z"
   },
   {
    "duration": 4,
    "start_time": "2022-11-25T10:47:57.220Z"
   },
   {
    "duration": 21,
    "start_time": "2022-11-25T10:47:58.189Z"
   },
   {
    "duration": 14,
    "start_time": "2022-11-25T10:48:00.198Z"
   },
   {
    "duration": 13,
    "start_time": "2022-11-25T10:48:01.379Z"
   },
   {
    "duration": 5,
    "start_time": "2022-11-25T10:48:13.983Z"
   },
   {
    "duration": 12,
    "start_time": "2022-11-25T10:48:15.199Z"
   },
   {
    "duration": 5,
    "start_time": "2022-11-25T10:48:16.475Z"
   },
   {
    "duration": 190,
    "start_time": "2022-11-25T10:48:17.338Z"
   },
   {
    "duration": 3,
    "start_time": "2022-11-25T10:48:33.419Z"
   },
   {
    "duration": 10,
    "start_time": "2022-11-25T10:48:33.839Z"
   },
   {
    "duration": 3,
    "start_time": "2022-11-25T10:48:34.235Z"
   },
   {
    "duration": 10,
    "start_time": "2022-11-25T10:48:38.953Z"
   },
   {
    "duration": 7,
    "start_time": "2022-11-25T10:48:39.402Z"
   },
   {
    "duration": 4,
    "start_time": "2022-11-25T10:48:39.969Z"
   },
   {
    "duration": 3,
    "start_time": "2022-11-25T10:48:40.948Z"
   },
   {
    "duration": 4,
    "start_time": "2022-11-25T10:49:36.903Z"
   },
   {
    "duration": 3,
    "start_time": "2022-11-25T10:49:52.015Z"
   },
   {
    "duration": 3,
    "start_time": "2022-11-25T10:49:52.488Z"
   },
   {
    "duration": 5499,
    "start_time": "2022-11-25T10:49:54.652Z"
   },
   {
    "duration": 4,
    "start_time": "2022-11-25T10:50:13.703Z"
   },
   {
    "duration": 2130,
    "start_time": "2022-11-25T10:50:14.543Z"
   },
   {
    "duration": 4,
    "start_time": "2022-11-25T10:50:16.675Z"
   },
   {
    "duration": 3,
    "start_time": "2022-11-25T10:50:17.907Z"
   },
   {
    "duration": 48861,
    "start_time": "2022-11-25T10:51:00.309Z"
   },
   {
    "duration": 4,
    "start_time": "2022-11-25T10:51:53.683Z"
   },
   {
    "duration": 48187,
    "start_time": "2022-11-25T10:51:54.065Z"
   },
   {
    "duration": 4,
    "start_time": "2022-11-25T10:52:58.085Z"
   },
   {
    "duration": 6,
    "start_time": "2022-11-25T10:52:58.359Z"
   },
   {
    "duration": 208,
    "start_time": "2022-11-25T10:52:58.944Z"
   },
   {
    "duration": 223,
    "start_time": "2022-11-25T10:53:08.496Z"
   },
   {
    "duration": 5,
    "start_time": "2022-11-25T10:53:09.508Z"
   },
   {
    "duration": 143,
    "start_time": "2022-11-25T10:53:17.262Z"
   },
   {
    "duration": 5,
    "start_time": "2022-11-25T10:53:20.409Z"
   },
   {
    "duration": 5,
    "start_time": "2022-11-25T10:53:22.653Z"
   },
   {
    "duration": 4,
    "start_time": "2022-11-25T10:53:25.879Z"
   },
   {
    "duration": 8,
    "start_time": "2022-11-25T10:53:26.743Z"
   },
   {
    "duration": 5,
    "start_time": "2022-11-25T10:53:27.431Z"
   },
   {
    "duration": 3,
    "start_time": "2022-11-25T10:53:28.747Z"
   },
   {
    "duration": 5293,
    "start_time": "2022-11-25T10:53:30.464Z"
   },
   {
    "duration": 4,
    "start_time": "2022-11-25T10:53:52.215Z"
   },
   {
    "duration": 4,
    "start_time": "2022-11-25T10:53:55.308Z"
   },
   {
    "duration": 11,
    "start_time": "2022-11-25T10:54:04.646Z"
   },
   {
    "duration": 6,
    "start_time": "2022-11-25T10:54:05.186Z"
   },
   {
    "duration": 3,
    "start_time": "2022-11-25T10:54:06.246Z"
   },
   {
    "duration": 6929,
    "start_time": "2022-11-25T10:54:06.937Z"
   },
   {
    "duration": 3,
    "start_time": "2022-11-25T10:54:17.938Z"
   },
   {
    "duration": 5391,
    "start_time": "2022-11-25T10:54:18.548Z"
   },
   {
    "duration": 3,
    "start_time": "2022-11-25T10:54:27.072Z"
   },
   {
    "duration": 3081,
    "start_time": "2022-11-25T10:54:27.599Z"
   },
   {
    "duration": 3,
    "start_time": "2022-11-25T10:54:38.709Z"
   },
   {
    "duration": 62991,
    "start_time": "2022-11-25T10:54:41.027Z"
   },
   {
    "duration": 4,
    "start_time": "2022-11-25T10:55:47.281Z"
   },
   {
    "duration": 9,
    "start_time": "2022-11-25T10:55:49.516Z"
   },
   {
    "duration": 6,
    "start_time": "2022-11-25T10:55:49.947Z"
   },
   {
    "duration": 3,
    "start_time": "2022-11-25T10:55:51.933Z"
   },
   {
    "duration": 2880,
    "start_time": "2022-11-25T10:55:55.060Z"
   },
   {
    "duration": 3,
    "start_time": "2022-11-25T10:55:58.788Z"
   },
   {
    "duration": 1250,
    "start_time": "2022-11-25T10:56:00.206Z"
   },
   {
    "duration": 3,
    "start_time": "2022-11-25T10:56:04.672Z"
   },
   {
    "duration": 27043,
    "start_time": "2022-11-25T10:56:05.145Z"
   },
   {
    "duration": 3,
    "start_time": "2022-11-25T10:56:42.631Z"
   },
   {
    "duration": 4334,
    "start_time": "2022-11-25T10:56:43.105Z"
   },
   {
    "duration": 3,
    "start_time": "2022-11-25T10:56:49.765Z"
   },
   {
    "duration": 2111,
    "start_time": "2022-11-25T10:56:50.088Z"
   },
   {
    "duration": 3,
    "start_time": "2022-11-25T10:57:19.216Z"
   },
   {
    "duration": 43759,
    "start_time": "2022-11-25T10:57:20.355Z"
   },
   {
    "duration": 5,
    "start_time": "2022-11-25T10:58:04.116Z"
   },
   {
    "duration": 15,
    "start_time": "2022-11-25T10:58:04.122Z"
   },
   {
    "duration": 14,
    "start_time": "2022-11-25T10:58:04.139Z"
   },
   {
    "duration": 329,
    "start_time": "2022-11-25T10:58:04.155Z"
   },
   {
    "duration": 112,
    "start_time": "2022-11-25T10:58:28.362Z"
   },
   {
    "duration": 188,
    "start_time": "2022-11-25T10:58:29.550Z"
   },
   {
    "duration": 5,
    "start_time": "2022-11-25T10:58:39.041Z"
   },
   {
    "duration": 3,
    "start_time": "2022-11-25T10:58:40.219Z"
   },
   {
    "duration": 40,
    "start_time": "2022-11-25T10:58:50.966Z"
   },
   {
    "duration": 1418,
    "start_time": "2022-11-25T10:59:39.978Z"
   },
   {
    "duration": 39,
    "start_time": "2022-11-25T10:59:41.398Z"
   },
   {
    "duration": 16,
    "start_time": "2022-11-25T10:59:41.439Z"
   },
   {
    "duration": 30,
    "start_time": "2022-11-25T10:59:41.457Z"
   },
   {
    "duration": 15,
    "start_time": "2022-11-25T10:59:41.489Z"
   },
   {
    "duration": 19,
    "start_time": "2022-11-25T10:59:41.506Z"
   },
   {
    "duration": 28,
    "start_time": "2022-11-25T10:59:41.527Z"
   },
   {
    "duration": 841,
    "start_time": "2022-11-25T10:59:41.557Z"
   },
   {
    "duration": 7,
    "start_time": "2022-11-25T10:59:42.400Z"
   },
   {
    "duration": 9,
    "start_time": "2022-11-25T10:59:42.409Z"
   },
   {
    "duration": 18,
    "start_time": "2022-11-25T10:59:42.421Z"
   },
   {
    "duration": 7,
    "start_time": "2022-11-25T10:59:42.440Z"
   },
   {
    "duration": 15,
    "start_time": "2022-11-25T10:59:42.449Z"
   },
   {
    "duration": 18,
    "start_time": "2022-11-25T10:59:42.466Z"
   },
   {
    "duration": 14,
    "start_time": "2022-11-25T10:59:42.486Z"
   },
   {
    "duration": 12,
    "start_time": "2022-11-25T10:59:42.502Z"
   },
   {
    "duration": 25,
    "start_time": "2022-11-25T10:59:42.516Z"
   },
   {
    "duration": 20,
    "start_time": "2022-11-25T10:59:42.542Z"
   },
   {
    "duration": 13,
    "start_time": "2022-11-25T10:59:42.564Z"
   },
   {
    "duration": 4,
    "start_time": "2022-11-25T10:59:42.578Z"
   },
   {
    "duration": 22,
    "start_time": "2022-11-25T10:59:42.584Z"
   },
   {
    "duration": 6,
    "start_time": "2022-11-25T10:59:42.607Z"
   },
   {
    "duration": 188,
    "start_time": "2022-11-25T10:59:42.614Z"
   },
   {
    "duration": 2,
    "start_time": "2022-11-25T10:59:42.804Z"
   },
   {
    "duration": 12,
    "start_time": "2022-11-25T10:59:42.808Z"
   },
   {
    "duration": 8,
    "start_time": "2022-11-25T10:59:42.821Z"
   },
   {
    "duration": 13,
    "start_time": "2022-11-25T10:59:42.830Z"
   },
   {
    "duration": 7,
    "start_time": "2022-11-25T10:59:42.847Z"
   },
   {
    "duration": 8,
    "start_time": "2022-11-25T10:59:42.856Z"
   },
   {
    "duration": 14,
    "start_time": "2022-11-25T10:59:42.865Z"
   },
   {
    "duration": 12,
    "start_time": "2022-11-25T10:59:42.881Z"
   },
   {
    "duration": 11,
    "start_time": "2022-11-25T10:59:42.895Z"
   },
   {
    "duration": 12,
    "start_time": "2022-11-25T10:59:42.908Z"
   },
   {
    "duration": 5725,
    "start_time": "2022-11-25T10:59:42.922Z"
   },
   {
    "duration": 5,
    "start_time": "2022-11-25T10:59:48.739Z"
   },
   {
    "duration": 2291,
    "start_time": "2022-11-25T10:59:48.747Z"
   },
   {
    "duration": 3,
    "start_time": "2022-11-25T10:59:51.040Z"
   },
   {
    "duration": 8,
    "start_time": "2022-11-25T10:59:51.045Z"
   },
   {
    "duration": 49790,
    "start_time": "2022-11-25T10:59:51.055Z"
   },
   {
    "duration": 3,
    "start_time": "2022-11-25T11:00:40.847Z"
   },
   {
    "duration": 20,
    "start_time": "2022-11-25T11:00:40.851Z"
   },
   {
    "duration": 185,
    "start_time": "2022-11-25T11:00:40.873Z"
   },
   {
    "duration": 240,
    "start_time": "2022-11-25T11:00:41.060Z"
   },
   {
    "duration": 5,
    "start_time": "2022-11-25T11:00:41.301Z"
   },
   {
    "duration": 6,
    "start_time": "2022-11-25T11:00:41.307Z"
   },
   {
    "duration": 4,
    "start_time": "2022-11-25T11:00:41.315Z"
   },
   {
    "duration": 22,
    "start_time": "2022-11-25T11:00:41.321Z"
   },
   {
    "duration": 5,
    "start_time": "2022-11-25T11:00:41.345Z"
   },
   {
    "duration": 6,
    "start_time": "2022-11-25T11:00:41.351Z"
   },
   {
    "duration": 5501,
    "start_time": "2022-11-25T11:00:41.359Z"
   },
   {
    "duration": 77,
    "start_time": "2022-11-25T11:00:46.862Z"
   },
   {
    "duration": 5400,
    "start_time": "2022-11-25T11:00:46.941Z"
   },
   {
    "duration": 95,
    "start_time": "2022-11-25T11:00:52.343Z"
   },
   {
    "duration": 2991,
    "start_time": "2022-11-25T11:00:52.440Z"
   },
   {
    "duration": 6,
    "start_time": "2022-11-25T11:00:55.433Z"
   },
   {
    "duration": 73047,
    "start_time": "2022-11-25T11:00:55.441Z"
   },
   {
    "duration": 5,
    "start_time": "2022-11-25T11:02:08.490Z"
   },
   {
    "duration": 26,
    "start_time": "2022-11-25T11:02:08.496Z"
   },
   {
    "duration": 17,
    "start_time": "2022-11-25T11:02:08.524Z"
   },
   {
    "duration": 34,
    "start_time": "2022-11-25T11:02:08.542Z"
   },
   {
    "duration": 3160,
    "start_time": "2022-11-25T11:02:08.578Z"
   },
   {
    "duration": 4,
    "start_time": "2022-11-25T11:02:11.740Z"
   },
   {
    "duration": 1489,
    "start_time": "2022-11-25T11:02:11.750Z"
   },
   {
    "duration": 7,
    "start_time": "2022-11-25T11:02:13.245Z"
   },
   {
    "duration": 29632,
    "start_time": "2022-11-25T11:02:13.254Z"
   },
   {
    "duration": 4,
    "start_time": "2022-11-25T11:02:42.887Z"
   },
   {
    "duration": 4249,
    "start_time": "2022-11-25T11:02:42.892Z"
   },
   {
    "duration": 94,
    "start_time": "2022-11-25T11:02:47.144Z"
   },
   {
    "duration": 2243,
    "start_time": "2022-11-25T11:02:47.239Z"
   },
   {
    "duration": 3,
    "start_time": "2022-11-25T11:02:49.484Z"
   },
   {
    "duration": 43542,
    "start_time": "2022-11-25T11:02:49.488Z"
   },
   {
    "duration": 4,
    "start_time": "2022-11-25T11:03:33.037Z"
   },
   {
    "duration": 9,
    "start_time": "2022-11-25T11:03:33.042Z"
   },
   {
    "duration": 12,
    "start_time": "2022-11-25T11:03:33.053Z"
   },
   {
    "duration": 321,
    "start_time": "2022-11-25T11:03:33.067Z"
   },
   {
    "duration": 123,
    "start_time": "2022-11-25T11:03:33.390Z"
   },
   {
    "duration": 200,
    "start_time": "2022-11-25T11:03:33.515Z"
   },
   {
    "duration": 4,
    "start_time": "2022-11-25T11:03:33.717Z"
   },
   {
    "duration": 16,
    "start_time": "2022-11-25T11:03:33.722Z"
   },
   {
    "duration": 44,
    "start_time": "2022-11-25T11:03:33.740Z"
   },
   {
    "duration": 2254,
    "start_time": "2022-11-27T09:21:31.200Z"
   },
   {
    "duration": 1905,
    "start_time": "2022-11-27T09:21:37.463Z"
   },
   {
    "duration": 43,
    "start_time": "2022-11-27T09:21:39.370Z"
   },
   {
    "duration": 22,
    "start_time": "2022-11-27T09:21:39.415Z"
   },
   {
    "duration": 23,
    "start_time": "2022-11-27T09:21:39.440Z"
   },
   {
    "duration": 6,
    "start_time": "2022-11-27T09:21:40.769Z"
   },
   {
    "duration": 6,
    "start_time": "2022-11-27T09:21:43.241Z"
   },
   {
    "duration": 15,
    "start_time": "2022-11-27T09:21:43.837Z"
   },
   {
    "duration": 3,
    "start_time": "2022-11-27T09:21:46.664Z"
   },
   {
    "duration": 3,
    "start_time": "2022-11-27T09:21:58.336Z"
   },
   {
    "duration": 16,
    "start_time": "2022-11-27T09:21:59.667Z"
   },
   {
    "duration": 1218,
    "start_time": "2022-11-27T09:22:01.087Z"
   },
   {
    "duration": 1207,
    "start_time": "2022-11-27T09:22:11.095Z"
   },
   {
    "duration": 1234,
    "start_time": "2022-11-27T09:22:15.345Z"
   },
   {
    "duration": 4,
    "start_time": "2022-11-27T09:22:17.099Z"
   },
   {
    "duration": 11500,
    "start_time": "2022-11-27T09:22:17.647Z"
   },
   {
    "duration": 1483,
    "start_time": "2022-11-27T09:22:29.150Z"
   },
   {
    "duration": 10,
    "start_time": "2022-11-27T09:22:39.375Z"
   },
   {
    "duration": 5,
    "start_time": "2022-11-27T09:22:39.786Z"
   },
   {
    "duration": 4,
    "start_time": "2022-11-27T09:22:40.579Z"
   },
   {
    "duration": 17,
    "start_time": "2022-11-27T09:22:41.546Z"
   },
   {
    "duration": 6,
    "start_time": "2022-11-27T09:22:41.934Z"
   },
   {
    "duration": 3,
    "start_time": "2022-11-27T09:22:42.721Z"
   },
   {
    "duration": 4,
    "start_time": "2022-11-27T09:22:43.025Z"
   },
   {
    "duration": 12,
    "start_time": "2022-11-27T09:22:43.717Z"
   },
   {
    "duration": 5,
    "start_time": "2022-11-27T09:22:44.448Z"
   },
   {
    "duration": 31,
    "start_time": "2022-11-27T09:22:44.804Z"
   },
   {
    "duration": 22,
    "start_time": "2022-11-27T09:22:45.569Z"
   },
   {
    "duration": 18,
    "start_time": "2022-11-27T09:22:46.319Z"
   },
   {
    "duration": 5,
    "start_time": "2022-11-27T09:22:47.089Z"
   },
   {
    "duration": 5,
    "start_time": "2022-11-27T09:22:47.929Z"
   },
   {
    "duration": 172,
    "start_time": "2022-11-27T09:22:48.203Z"
   },
   {
    "duration": 3,
    "start_time": "2022-11-27T09:22:50.389Z"
   },
   {
    "duration": 8,
    "start_time": "2022-11-27T09:22:50.664Z"
   },
   {
    "duration": 4,
    "start_time": "2022-11-27T09:22:50.953Z"
   },
   {
    "duration": 10,
    "start_time": "2022-11-27T09:22:52.481Z"
   },
   {
    "duration": 7,
    "start_time": "2022-11-27T09:22:52.954Z"
   },
   {
    "duration": 5,
    "start_time": "2022-11-27T09:22:53.538Z"
   },
   {
    "duration": 4,
    "start_time": "2022-11-27T09:22:54.256Z"
   },
   {
    "duration": 5,
    "start_time": "2022-11-27T09:23:26.567Z"
   },
   {
    "duration": 3,
    "start_time": "2022-11-27T09:23:29.161Z"
   },
   {
    "duration": 4,
    "start_time": "2022-11-27T09:23:29.481Z"
   },
   {
    "duration": 5025,
    "start_time": "2022-11-27T09:23:29.821Z"
   },
   {
    "duration": 98,
    "start_time": "2022-11-27T09:23:34.848Z"
   },
   {
    "duration": 2317,
    "start_time": "2022-11-27T09:23:34.948Z"
   },
   {
    "duration": 5,
    "start_time": "2022-11-27T09:23:37.267Z"
   },
   {
    "duration": 13,
    "start_time": "2022-11-27T09:23:37.273Z"
   },
   {
    "duration": 56460,
    "start_time": "2022-11-27T09:23:37.288Z"
   },
   {
    "duration": 4,
    "start_time": "2022-11-27T09:24:33.749Z"
   },
   {
    "duration": 15,
    "start_time": "2022-11-27T09:24:33.755Z"
   },
   {
    "duration": 178,
    "start_time": "2022-11-27T09:24:33.772Z"
   },
   {
    "duration": 170,
    "start_time": "2022-11-27T09:24:33.952Z"
   },
   {
    "duration": 5,
    "start_time": "2022-11-27T09:24:34.123Z"
   },
   {
    "duration": 14,
    "start_time": "2022-11-27T09:24:34.136Z"
   },
   {
    "duration": 14,
    "start_time": "2022-11-27T09:24:34.152Z"
   },
   {
    "duration": 25,
    "start_time": "2022-11-27T09:24:34.168Z"
   },
   {
    "duration": 14,
    "start_time": "2022-11-27T09:24:34.194Z"
   },
   {
    "duration": 17,
    "start_time": "2022-11-27T09:24:34.210Z"
   },
   {
    "duration": 5907,
    "start_time": "2022-11-27T09:24:34.228Z"
   },
   {
    "duration": 3,
    "start_time": "2022-11-27T09:24:40.138Z"
   },
   {
    "duration": 108,
    "start_time": "2022-11-27T09:24:40.143Z"
   },
   {
    "duration": 16,
    "start_time": "2022-11-27T09:24:40.252Z"
   },
   {
    "duration": 19,
    "start_time": "2022-11-27T09:24:40.270Z"
   },
   {
    "duration": 14,
    "start_time": "2022-11-27T09:24:40.290Z"
   },
   {
    "duration": 2736,
    "start_time": "2022-11-27T09:24:40.305Z"
   },
   {
    "duration": 3,
    "start_time": "2022-11-27T09:24:43.043Z"
   },
   {
    "duration": 6,
    "start_time": "2022-11-27T09:24:43.050Z"
   },
   {
    "duration": 15,
    "start_time": "2022-11-27T09:24:43.058Z"
   },
   {
    "duration": 64281,
    "start_time": "2022-11-27T09:24:43.074Z"
   },
   {
    "duration": 6,
    "start_time": "2022-11-27T09:25:47.358Z"
   },
   {
    "duration": 17,
    "start_time": "2022-11-27T09:25:47.366Z"
   },
   {
    "duration": 26,
    "start_time": "2022-11-27T09:25:47.385Z"
   },
   {
    "duration": 18,
    "start_time": "2022-11-27T09:25:47.412Z"
   },
   {
    "duration": 24,
    "start_time": "2022-11-27T09:25:47.431Z"
   },
   {
    "duration": 11,
    "start_time": "2022-11-27T09:25:47.457Z"
   },
   {
    "duration": 2587,
    "start_time": "2022-11-27T09:25:47.469Z"
   },
   {
    "duration": 78,
    "start_time": "2022-11-27T09:25:50.058Z"
   },
   {
    "duration": 103,
    "start_time": "2022-11-27T09:25:50.138Z"
   },
   {
    "duration": 6,
    "start_time": "2022-11-27T09:25:50.243Z"
   },
   {
    "duration": 1092,
    "start_time": "2022-11-27T09:25:50.251Z"
   },
   {
    "duration": 3,
    "start_time": "2022-11-27T09:25:51.345Z"
   },
   {
    "duration": 7,
    "start_time": "2022-11-27T09:25:51.350Z"
   },
   {
    "duration": 9,
    "start_time": "2022-11-27T09:25:51.358Z"
   },
   {
    "duration": 29147,
    "start_time": "2022-11-27T09:25:51.368Z"
   },
   {
    "duration": 3,
    "start_time": "2022-11-27T09:26:20.518Z"
   },
   {
    "duration": 4313,
    "start_time": "2022-11-27T09:26:20.523Z"
   },
   {
    "duration": 5,
    "start_time": "2022-11-27T09:26:24.838Z"
   },
   {
    "duration": 2217,
    "start_time": "2022-11-27T09:26:24.845Z"
   },
   {
    "duration": 3,
    "start_time": "2022-11-27T09:26:27.065Z"
   },
   {
    "duration": 45883,
    "start_time": "2022-11-27T09:26:27.070Z"
   },
   {
    "duration": 5,
    "start_time": "2022-11-27T09:27:12.956Z"
   },
   {
    "duration": 30,
    "start_time": "2022-11-27T09:27:12.963Z"
   },
   {
    "duration": 38,
    "start_time": "2022-11-27T09:27:12.995Z"
   },
   {
    "duration": 346,
    "start_time": "2022-11-27T09:27:13.036Z"
   },
   {
    "duration": 135,
    "start_time": "2022-11-27T09:27:13.384Z"
   },
   {
    "duration": 214,
    "start_time": "2022-11-27T09:27:13.521Z"
   },
   {
    "duration": 5,
    "start_time": "2022-11-27T09:27:13.737Z"
   },
   {
    "duration": 16,
    "start_time": "2022-11-27T09:27:13.744Z"
   },
   {
    "duration": 57,
    "start_time": "2022-11-27T09:27:13.762Z"
   },
   {
    "duration": 2124,
    "start_time": "2022-11-27T09:27:52.928Z"
   },
   {
    "duration": 1637,
    "start_time": "2022-11-27T09:27:55.055Z"
   },
   {
    "duration": 44,
    "start_time": "2022-11-27T09:27:56.694Z"
   },
   {
    "duration": 27,
    "start_time": "2022-11-27T09:27:56.741Z"
   },
   {
    "duration": 29,
    "start_time": "2022-11-27T09:27:56.770Z"
   },
   {
    "duration": 10,
    "start_time": "2022-11-27T09:27:56.801Z"
   },
   {
    "duration": 17,
    "start_time": "2022-11-27T09:27:56.812Z"
   },
   {
    "duration": 18,
    "start_time": "2022-11-27T09:27:56.831Z"
   },
   {
    "duration": 7,
    "start_time": "2022-11-27T09:27:56.851Z"
   },
   {
    "duration": 24,
    "start_time": "2022-11-27T09:27:56.860Z"
   },
   {
    "duration": 39,
    "start_time": "2022-11-27T09:27:56.886Z"
   },
   {
    "duration": 1232,
    "start_time": "2022-11-27T09:27:56.927Z"
   },
   {
    "duration": 3,
    "start_time": "2022-11-27T09:27:58.162Z"
   },
   {
    "duration": 11384,
    "start_time": "2022-11-27T09:27:58.166Z"
   },
   {
    "duration": 1383,
    "start_time": "2022-11-27T09:28:09.552Z"
   },
   {
    "duration": 6,
    "start_time": "2022-11-27T09:28:10.937Z"
   },
   {
    "duration": 10,
    "start_time": "2022-11-27T09:28:10.945Z"
   },
   {
    "duration": 7,
    "start_time": "2022-11-27T09:28:10.957Z"
   },
   {
    "duration": 16,
    "start_time": "2022-11-27T09:28:10.966Z"
   },
   {
    "duration": 4,
    "start_time": "2022-11-27T09:28:10.984Z"
   },
   {
    "duration": 11,
    "start_time": "2022-11-27T09:28:10.990Z"
   },
   {
    "duration": 3,
    "start_time": "2022-11-27T09:28:11.035Z"
   },
   {
    "duration": 17,
    "start_time": "2022-11-27T09:28:11.040Z"
   },
   {
    "duration": 4,
    "start_time": "2022-11-27T09:28:11.058Z"
   },
   {
    "duration": 25,
    "start_time": "2022-11-27T09:28:11.064Z"
   },
   {
    "duration": 48,
    "start_time": "2022-11-27T09:28:11.091Z"
   },
   {
    "duration": 11,
    "start_time": "2022-11-27T09:28:11.141Z"
   },
   {
    "duration": 3,
    "start_time": "2022-11-27T09:28:11.156Z"
   },
   {
    "duration": 13,
    "start_time": "2022-11-27T09:28:11.160Z"
   },
   {
    "duration": 202,
    "start_time": "2022-11-27T09:28:11.174Z"
   },
   {
    "duration": 2,
    "start_time": "2022-11-27T09:28:11.378Z"
   },
   {
    "duration": 16,
    "start_time": "2022-11-27T09:28:11.382Z"
   },
   {
    "duration": 14,
    "start_time": "2022-11-27T09:28:11.399Z"
   },
   {
    "duration": 21,
    "start_time": "2022-11-27T09:28:11.415Z"
   },
   {
    "duration": 8,
    "start_time": "2022-11-27T09:28:11.437Z"
   },
   {
    "duration": 17,
    "start_time": "2022-11-27T09:28:11.446Z"
   },
   {
    "duration": 17,
    "start_time": "2022-11-27T09:28:11.465Z"
   },
   {
    "duration": 11,
    "start_time": "2022-11-27T09:28:11.483Z"
   },
   {
    "duration": 11,
    "start_time": "2022-11-27T09:28:11.495Z"
   },
   {
    "duration": 6,
    "start_time": "2022-11-27T09:28:11.508Z"
   },
   {
    "duration": 5019,
    "start_time": "2022-11-27T09:28:11.515Z"
   },
   {
    "duration": 5,
    "start_time": "2022-11-27T09:28:16.537Z"
   },
   {
    "duration": 2420,
    "start_time": "2022-11-27T09:28:16.545Z"
   },
   {
    "duration": 4,
    "start_time": "2022-11-27T09:28:18.967Z"
   },
   {
    "duration": 30,
    "start_time": "2022-11-27T09:28:18.972Z"
   },
   {
    "duration": 54987,
    "start_time": "2022-11-27T09:28:19.005Z"
   },
   {
    "duration": 3,
    "start_time": "2022-11-27T09:29:13.994Z"
   },
   {
    "duration": 17,
    "start_time": "2022-11-27T09:29:13.999Z"
   },
   {
    "duration": 185,
    "start_time": "2022-11-27T09:29:14.017Z"
   },
   {
    "duration": 170,
    "start_time": "2022-11-27T09:29:14.204Z"
   },
   {
    "duration": 6,
    "start_time": "2022-11-27T09:29:14.376Z"
   },
   {
    "duration": 11,
    "start_time": "2022-11-27T09:29:14.384Z"
   },
   {
    "duration": 9,
    "start_time": "2022-11-27T09:29:14.396Z"
   },
   {
    "duration": 19,
    "start_time": "2022-11-27T09:29:14.407Z"
   },
   {
    "duration": 14,
    "start_time": "2022-11-27T09:29:14.428Z"
   },
   {
    "duration": 7,
    "start_time": "2022-11-27T09:29:14.443Z"
   },
   {
    "duration": 5883,
    "start_time": "2022-11-27T09:29:14.452Z"
   },
   {
    "duration": 3,
    "start_time": "2022-11-27T09:29:20.338Z"
   },
   {
    "duration": 99,
    "start_time": "2022-11-27T09:29:20.344Z"
   },
   {
    "duration": 8,
    "start_time": "2022-11-27T09:29:20.445Z"
   },
   {
    "duration": 27,
    "start_time": "2022-11-27T09:29:20.454Z"
   },
   {
    "duration": 19,
    "start_time": "2022-11-27T09:29:20.483Z"
   },
   {
    "duration": 3015,
    "start_time": "2022-11-27T09:29:20.504Z"
   },
   {
    "duration": 4,
    "start_time": "2022-11-27T09:29:23.521Z"
   },
   {
    "duration": 18,
    "start_time": "2022-11-27T09:29:23.526Z"
   },
   {
    "duration": 11,
    "start_time": "2022-11-27T09:29:23.546Z"
   },
   {
    "duration": 64460,
    "start_time": "2022-11-27T09:29:23.559Z"
   },
   {
    "duration": 5,
    "start_time": "2022-11-27T09:30:28.021Z"
   },
   {
    "duration": 19,
    "start_time": "2022-11-27T09:30:28.028Z"
   },
   {
    "duration": 7,
    "start_time": "2022-11-27T09:30:28.048Z"
   },
   {
    "duration": 10,
    "start_time": "2022-11-27T09:30:28.057Z"
   },
   {
    "duration": 7,
    "start_time": "2022-11-27T09:30:28.068Z"
   },
   {
    "duration": 15,
    "start_time": "2022-11-27T09:30:28.077Z"
   },
   {
    "duration": 2743,
    "start_time": "2022-11-27T09:30:28.093Z"
   },
   {
    "duration": 3,
    "start_time": "2022-11-27T09:30:30.838Z"
   },
   {
    "duration": 110,
    "start_time": "2022-11-27T09:30:30.844Z"
   },
   {
    "duration": 19,
    "start_time": "2022-11-27T09:30:30.955Z"
   },
   {
    "duration": 1129,
    "start_time": "2022-11-27T09:30:30.976Z"
   },
   {
    "duration": 3,
    "start_time": "2022-11-27T09:30:32.107Z"
   },
   {
    "duration": 33,
    "start_time": "2022-11-27T09:30:32.112Z"
   },
   {
    "duration": 46,
    "start_time": "2022-11-27T09:30:32.146Z"
   },
   {
    "duration": 27748,
    "start_time": "2022-11-27T09:30:32.199Z"
   },
   {
    "duration": 3,
    "start_time": "2022-11-27T09:30:59.949Z"
   },
   {
    "duration": 4382,
    "start_time": "2022-11-27T09:30:59.954Z"
   },
   {
    "duration": 93,
    "start_time": "2022-11-27T09:31:04.343Z"
   },
   {
    "duration": 2276,
    "start_time": "2022-11-27T09:31:04.438Z"
   },
   {
    "duration": 4,
    "start_time": "2022-11-27T09:31:06.716Z"
   },
   {
    "duration": 45331,
    "start_time": "2022-11-27T09:31:06.722Z"
   },
   {
    "duration": 4,
    "start_time": "2022-11-27T09:31:52.055Z"
   },
   {
    "duration": 16,
    "start_time": "2022-11-27T09:31:52.060Z"
   },
   {
    "duration": 14,
    "start_time": "2022-11-27T09:31:52.077Z"
   },
   {
    "duration": 360,
    "start_time": "2022-11-27T09:31:52.093Z"
   },
   {
    "duration": 149,
    "start_time": "2022-11-27T09:31:52.456Z"
   },
   {
    "duration": 221,
    "start_time": "2022-11-27T09:31:52.608Z"
   },
   {
    "duration": 5,
    "start_time": "2022-11-27T09:31:52.831Z"
   },
   {
    "duration": 17,
    "start_time": "2022-11-27T09:31:52.839Z"
   },
   {
    "duration": 55,
    "start_time": "2022-11-27T09:31:52.859Z"
   },
   {
    "duration": 3,
    "start_time": "2022-11-27T09:42:31.018Z"
   },
   {
    "duration": 29020,
    "start_time": "2022-11-27T09:42:31.429Z"
   },
   {
    "duration": 3,
    "start_time": "2022-11-27T09:44:35.996Z"
   },
   {
    "duration": 4235,
    "start_time": "2022-11-27T09:44:36.402Z"
   },
   {
    "duration": 3,
    "start_time": "2022-11-27T09:44:44.168Z"
   },
   {
    "duration": 2063,
    "start_time": "2022-11-27T09:44:44.385Z"
   },
   {
    "duration": 3,
    "start_time": "2022-11-27T09:44:46.450Z"
   },
   {
    "duration": 45362,
    "start_time": "2022-11-27T09:44:46.454Z"
   },
   {
    "duration": 16,
    "start_time": "2022-11-27T09:45:31.819Z"
   },
   {
    "duration": 20,
    "start_time": "2022-11-27T09:45:31.837Z"
   },
   {
    "duration": 17,
    "start_time": "2022-11-27T09:45:31.858Z"
   },
   {
    "duration": 349,
    "start_time": "2022-11-27T09:45:31.877Z"
   },
   {
    "duration": 4,
    "start_time": "2022-11-27T09:47:57.081Z"
   },
   {
    "duration": 7,
    "start_time": "2022-11-27T09:47:57.476Z"
   },
   {
    "duration": 10,
    "start_time": "2022-11-27T09:47:58.287Z"
   },
   {
    "duration": 320,
    "start_time": "2022-11-27T09:47:59.003Z"
   },
   {
    "duration": 59,
    "start_time": "2022-11-27T09:48:42.292Z"
   },
   {
    "duration": 181,
    "start_time": "2022-11-27T09:48:48.739Z"
   },
   {
    "duration": 3,
    "start_time": "2022-11-27T09:49:03.529Z"
   },
   {
    "duration": 5,
    "start_time": "2022-11-27T09:49:04.489Z"
   },
   {
    "duration": 39,
    "start_time": "2022-11-27T09:49:44.964Z"
   },
   {
    "duration": 2266,
    "start_time": "2022-11-27T09:50:03.568Z"
   },
   {
    "duration": 1693,
    "start_time": "2022-11-27T09:50:05.837Z"
   },
   {
    "duration": 41,
    "start_time": "2022-11-27T09:50:07.532Z"
   },
   {
    "duration": 16,
    "start_time": "2022-11-27T09:50:07.574Z"
   },
   {
    "duration": 30,
    "start_time": "2022-11-27T09:50:07.592Z"
   },
   {
    "duration": 4,
    "start_time": "2022-11-27T09:50:07.624Z"
   },
   {
    "duration": 18,
    "start_time": "2022-11-27T09:50:07.630Z"
   },
   {
    "duration": 23,
    "start_time": "2022-11-27T09:50:07.650Z"
   },
   {
    "duration": 8,
    "start_time": "2022-11-27T09:50:07.675Z"
   },
   {
    "duration": 16,
    "start_time": "2022-11-27T09:50:07.684Z"
   },
   {
    "duration": 30,
    "start_time": "2022-11-27T09:50:07.702Z"
   },
   {
    "duration": 1257,
    "start_time": "2022-11-27T09:50:07.734Z"
   },
   {
    "duration": 3,
    "start_time": "2022-11-27T09:50:08.993Z"
   },
   {
    "duration": 10191,
    "start_time": "2022-11-27T09:50:08.999Z"
   },
   {
    "duration": 1333,
    "start_time": "2022-11-27T09:50:19.193Z"
   },
   {
    "duration": 10,
    "start_time": "2022-11-27T09:50:20.528Z"
   },
   {
    "duration": 19,
    "start_time": "2022-11-27T09:50:20.540Z"
   },
   {
    "duration": 18,
    "start_time": "2022-11-27T09:50:20.560Z"
   },
   {
    "duration": 38,
    "start_time": "2022-11-27T09:50:20.580Z"
   },
   {
    "duration": 22,
    "start_time": "2022-11-27T09:50:20.620Z"
   },
   {
    "duration": 20,
    "start_time": "2022-11-27T09:50:20.644Z"
   },
   {
    "duration": 18,
    "start_time": "2022-11-27T09:50:20.665Z"
   },
   {
    "duration": 30,
    "start_time": "2022-11-27T09:50:20.684Z"
   },
   {
    "duration": 20,
    "start_time": "2022-11-27T09:50:20.716Z"
   },
   {
    "duration": 34,
    "start_time": "2022-11-27T09:50:20.738Z"
   },
   {
    "duration": 33,
    "start_time": "2022-11-27T09:50:20.774Z"
   },
   {
    "duration": 29,
    "start_time": "2022-11-27T09:50:20.809Z"
   },
   {
    "duration": 7,
    "start_time": "2022-11-27T09:50:20.840Z"
   },
   {
    "duration": 21,
    "start_time": "2022-11-27T09:50:20.849Z"
   },
   {
    "duration": 216,
    "start_time": "2022-11-27T09:50:20.871Z"
   },
   {
    "duration": 4,
    "start_time": "2022-11-27T09:50:21.088Z"
   },
   {
    "duration": 35,
    "start_time": "2022-11-27T09:50:21.093Z"
   },
   {
    "duration": 14,
    "start_time": "2022-11-27T09:50:21.129Z"
   },
   {
    "duration": 20,
    "start_time": "2022-11-27T09:50:21.145Z"
   },
   {
    "duration": 26,
    "start_time": "2022-11-27T09:50:21.167Z"
   },
   {
    "duration": 22,
    "start_time": "2022-11-27T09:50:21.194Z"
   },
   {
    "duration": 23,
    "start_time": "2022-11-27T09:50:21.218Z"
   },
   {
    "duration": 17,
    "start_time": "2022-11-27T09:50:21.243Z"
   },
   {
    "duration": 21,
    "start_time": "2022-11-27T09:50:21.261Z"
   },
   {
    "duration": 12,
    "start_time": "2022-11-27T09:50:21.283Z"
   },
   {
    "duration": 4947,
    "start_time": "2022-11-27T09:50:21.300Z"
   },
   {
    "duration": 94,
    "start_time": "2022-11-27T09:50:26.249Z"
   },
   {
    "duration": 2306,
    "start_time": "2022-11-27T09:50:26.345Z"
   },
   {
    "duration": 5,
    "start_time": "2022-11-27T09:50:28.653Z"
   },
   {
    "duration": 21,
    "start_time": "2022-11-27T09:50:28.660Z"
   },
   {
    "duration": 50224,
    "start_time": "2022-11-27T09:50:28.683Z"
   },
   {
    "duration": 3,
    "start_time": "2022-11-27T09:51:18.909Z"
   },
   {
    "duration": 13,
    "start_time": "2022-11-27T09:51:18.914Z"
   },
   {
    "duration": 219,
    "start_time": "2022-11-27T09:51:18.935Z"
   },
   {
    "duration": 196,
    "start_time": "2022-11-27T09:51:19.157Z"
   },
   {
    "duration": 7,
    "start_time": "2022-11-27T09:51:19.355Z"
   },
   {
    "duration": 14,
    "start_time": "2022-11-27T09:51:19.364Z"
   },
   {
    "duration": 14,
    "start_time": "2022-11-27T09:51:19.380Z"
   },
   {
    "duration": 16,
    "start_time": "2022-11-27T09:51:19.396Z"
   },
   {
    "duration": 22,
    "start_time": "2022-11-27T09:51:19.413Z"
   },
   {
    "duration": 19,
    "start_time": "2022-11-27T09:51:19.437Z"
   },
   {
    "duration": 6099,
    "start_time": "2022-11-27T09:51:19.458Z"
   },
   {
    "duration": 3,
    "start_time": "2022-11-27T09:51:25.636Z"
   },
   {
    "duration": 105,
    "start_time": "2022-11-27T09:51:25.642Z"
   },
   {
    "duration": 16,
    "start_time": "2022-11-27T09:51:25.749Z"
   },
   {
    "duration": 15,
    "start_time": "2022-11-27T09:51:25.766Z"
   },
   {
    "duration": 5,
    "start_time": "2022-11-27T09:51:25.783Z"
   },
   {
    "duration": 2908,
    "start_time": "2022-11-27T09:51:25.789Z"
   },
   {
    "duration": 2,
    "start_time": "2022-11-27T09:51:28.699Z"
   },
   {
    "duration": 12,
    "start_time": "2022-11-27T09:51:28.703Z"
   },
   {
    "duration": 12,
    "start_time": "2022-11-27T09:51:28.717Z"
   },
   {
    "duration": 60918,
    "start_time": "2022-11-27T09:51:28.730Z"
   },
   {
    "duration": 4,
    "start_time": "2022-11-27T09:52:29.650Z"
   },
   {
    "duration": 13,
    "start_time": "2022-11-27T09:52:29.656Z"
   },
   {
    "duration": 6,
    "start_time": "2022-11-27T09:52:29.671Z"
   },
   {
    "duration": 7,
    "start_time": "2022-11-27T09:52:29.679Z"
   },
   {
    "duration": 8,
    "start_time": "2022-11-27T09:52:29.688Z"
   },
   {
    "duration": 6,
    "start_time": "2022-11-27T09:52:29.698Z"
   },
   {
    "duration": 2731,
    "start_time": "2022-11-27T09:52:29.705Z"
   },
   {
    "duration": 3,
    "start_time": "2022-11-27T09:52:32.438Z"
   },
   {
    "duration": 102,
    "start_time": "2022-11-27T09:52:32.444Z"
   },
   {
    "duration": 22,
    "start_time": "2022-11-27T09:52:32.548Z"
   },
   {
    "duration": 1228,
    "start_time": "2022-11-27T09:52:32.572Z"
   },
   {
    "duration": 3,
    "start_time": "2022-11-27T09:52:33.802Z"
   },
   {
    "duration": 9,
    "start_time": "2022-11-27T09:52:33.807Z"
   },
   {
    "duration": 12,
    "start_time": "2022-11-27T09:52:33.818Z"
   },
   {
    "duration": 27269,
    "start_time": "2022-11-27T09:52:33.836Z"
   },
   {
    "duration": 4,
    "start_time": "2022-11-27T09:53:01.107Z"
   },
   {
    "duration": 4624,
    "start_time": "2022-11-27T09:53:01.113Z"
   },
   {
    "duration": 5,
    "start_time": "2022-11-27T09:53:05.739Z"
   },
   {
    "duration": 2341,
    "start_time": "2022-11-27T09:53:05.746Z"
   },
   {
    "duration": 3,
    "start_time": "2022-11-27T09:53:08.088Z"
   },
   {
    "duration": 44349,
    "start_time": "2022-11-27T09:53:08.093Z"
   },
   {
    "duration": 5,
    "start_time": "2022-11-27T09:53:52.444Z"
   },
   {
    "duration": 24,
    "start_time": "2022-11-27T09:53:52.451Z"
   },
   {
    "duration": 37,
    "start_time": "2022-11-27T09:53:52.478Z"
   },
   {
    "duration": 374,
    "start_time": "2022-11-27T09:53:52.517Z"
   },
   {
    "duration": 69,
    "start_time": "2022-11-27T09:53:52.893Z"
   },
   {
    "duration": 177,
    "start_time": "2022-11-27T09:53:52.964Z"
   },
   {
    "duration": 3,
    "start_time": "2022-11-27T09:53:53.142Z"
   },
   {
    "duration": 13,
    "start_time": "2022-11-27T09:53:53.147Z"
   },
   {
    "duration": 58,
    "start_time": "2022-11-27T09:53:53.161Z"
   }
  ],
  "kernelspec": {
   "display_name": "yp",
   "language": "python",
   "name": "yp"
  },
  "language_info": {
   "codemirror_mode": {
    "name": "ipython",
    "version": 3
   },
   "file_extension": ".py",
   "mimetype": "text/x-python",
   "name": "python",
   "nbconvert_exporter": "python",
   "pygments_lexer": "ipython3",
   "version": "3.9.13"
  },
  "toc": {
   "base_numbering": 1,
   "nav_menu": {},
   "number_sections": true,
   "sideBar": true,
   "skip_h1_title": true,
   "title_cell": "Содержание",
   "title_sidebar": "Contents",
   "toc_cell": true,
   "toc_position": {},
   "toc_section_display": true,
   "toc_window_display": true
  }
 },
 "nbformat": 4,
 "nbformat_minor": 2
}
