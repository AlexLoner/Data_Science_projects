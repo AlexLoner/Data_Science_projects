{
 "cells": [
  {
   "cell_type": "markdown",
   "metadata": {
    "toc": true
   },
   "source": [
    "<h1>Содержание<span class=\"tocSkip\"></span></h1>\n",
    "<div class=\"toc\"><ul class=\"toc-item\"><li><span><a href=\"#Описание-данных\" data-toc-modified-id=\"Описание-данных-1\"><span class=\"toc-item-num\">1&nbsp;&nbsp;</span>Описание данных</a></span><ul class=\"toc-item\"><li><span><a href=\"#Технологический-процесс\" data-toc-modified-id=\"Технологический-процесс-1.1\"><span class=\"toc-item-num\">1.1&nbsp;&nbsp;</span>Технологический процесс</a></span></li><li><span><a href=\"#Параметры-этапов\" data-toc-modified-id=\"Параметры-этапов-1.2\"><span class=\"toc-item-num\">1.2&nbsp;&nbsp;</span>Параметры этапов</a></span></li><li><span><a href=\"#Наименование-признаков\" data-toc-modified-id=\"Наименование-признаков-1.3\"><span class=\"toc-item-num\">1.3&nbsp;&nbsp;</span>Наименование признаков</a></span></li></ul></li><li><span><a href=\"#Подготовка-данных\" data-toc-modified-id=\"Подготовка-данных-2\"><span class=\"toc-item-num\">2&nbsp;&nbsp;</span>Подготовка данных</a></span><ul class=\"toc-item\"><li><ul class=\"toc-item\"><li><span><a href=\"#Преобразование-типов\" data-toc-modified-id=\"Преобразование-типов-2.0.1\"><span class=\"toc-item-num\">2.0.1&nbsp;&nbsp;</span>Преобразование типов</a></span></li><li><span><a href=\"#Пропуски\" data-toc-modified-id=\"Пропуски-2.0.2\"><span class=\"toc-item-num\">2.0.2&nbsp;&nbsp;</span>Пропуски</a></span></li><li><span><a href=\"#Дублирование\" data-toc-modified-id=\"Дублирование-2.0.3\"><span class=\"toc-item-num\">2.0.3&nbsp;&nbsp;</span>Дублирование</a></span></li></ul></li></ul></li><li><span><a href=\"#Анализ-данных\" data-toc-modified-id=\"Анализ-данных-3\"><span class=\"toc-item-num\">3&nbsp;&nbsp;</span>Анализ данных</a></span><ul class=\"toc-item\"><li><span><a href=\"#Изменение-концентрации-металлов-(Au,-Ag,-Pb)-на-различных-этапах-очистки\" data-toc-modified-id=\"Изменение-концентрации-металлов-(Au,-Ag,-Pb)-на-различных-этапах-очистки-3.1\"><span class=\"toc-item-num\">3.1&nbsp;&nbsp;</span>Изменение концентрации металлов (Au, Ag, Pb) на различных этапах очистки</a></span></li><li><span><a href=\"#Сравнение-распределения-размеров-гранул-сырья-на-обучающей-и-тестовой-выборках\" data-toc-modified-id=\"Сравнение-распределения-размеров-гранул-сырья-на-обучающей-и-тестовой-выборках-3.2\"><span class=\"toc-item-num\">3.2&nbsp;&nbsp;</span>Сравнение распределения размеров гранул сырья на обучающей и тестовой выборках</a></span></li><li><span><a href=\"#Исследование-суммарной-концентрации-всех-веществ-на-разных-стадиях:-в-сырье,-в-черновом-и-финальном-концентратах.\" data-toc-modified-id=\"Исследование-суммарной-концентрации-всех-веществ-на-разных-стадиях:-в-сырье,-в-черновом-и-финальном-концентратах.-3.3\"><span class=\"toc-item-num\">3.3&nbsp;&nbsp;</span>Исследование суммарной концентрации всех веществ на разных стадиях: в сырье, в черновом и финальном концентратах.</a></span></li></ul></li><li><span><a href=\"#Модель\" data-toc-modified-id=\"Модель-4\"><span class=\"toc-item-num\">4&nbsp;&nbsp;</span>Модель</a></span><ul class=\"toc-item\"><li><ul class=\"toc-item\"><li><span><a href=\"#Тренировочная-выборка\" data-toc-modified-id=\"Тренировочная-выборка-4.0.1\"><span class=\"toc-item-num\">4.0.1&nbsp;&nbsp;</span>Тренировочная выборка</a></span></li><li><span><a href=\"#Тестовая-выборка\" data-toc-modified-id=\"Тестовая-выборка-4.0.2\"><span class=\"toc-item-num\">4.0.2&nbsp;&nbsp;</span>Тестовая выборка</a></span></li></ul></li><li><span><a href=\"#Ориентир\" data-toc-modified-id=\"Ориентир-4.1\"><span class=\"toc-item-num\">4.1&nbsp;&nbsp;</span>Ориентир</a></span></li><li><span><a href=\"#Линейная-модель\" data-toc-modified-id=\"Линейная-модель-4.2\"><span class=\"toc-item-num\">4.2&nbsp;&nbsp;</span>Линейная модель</a></span></li><li><span><a href=\"#Случайный-лес\" data-toc-modified-id=\"Случайный-лес-4.3\"><span class=\"toc-item-num\">4.3&nbsp;&nbsp;</span>Случайный лес</a></span></li><li><span><a href=\"#Результат-на-тестовой-выборке\" data-toc-modified-id=\"Результат-на-тестовой-выборке-4.4\"><span class=\"toc-item-num\">4.4&nbsp;&nbsp;</span>Результат на тестовой выборке</a></span></li></ul></li><li><span><a href=\"#Вывод\" data-toc-modified-id=\"Вывод-5\"><span class=\"toc-item-num\">5&nbsp;&nbsp;</span>Вывод</a></span></li></ul></div>"
   ]
  },
  {
   "cell_type": "markdown",
   "metadata": {},
   "source": [
    "# Восстановление золота из руды"
   ]
  },
  {
   "cell_type": "markdown",
   "metadata": {},
   "source": [
    "Подготовьте прототип модели машинного обучения для «Цифры». Компания разрабатывает решения для эффективной работы промышленных предприятий.\n",
    "\n",
    "Модель должна предсказать коэффициент восстановления золота из золотосодержащей руды. Используйте данные с параметрами добычи и очистки. \n",
    "\n",
    "Модель поможет оптимизировать производство, чтобы не запускать предприятие с убыточными характеристиками.\n",
    "\n",
    "Вам нужно:\n",
    "\n",
    "1. Подготовить данные;\n",
    "2. Провести исследовательский анализ данных;\n",
    "3. Построить и обучить модель.\n",
    "\n",
    "Чтобы выполнить проект, обращайтесь к библиотекам *pandas*, *matplotlib* и *sklearn.* Вам поможет их документация."
   ]
  },
  {
   "cell_type": "markdown",
   "metadata": {},
   "source": [
    "## Описание данных"
   ]
  },
  {
   "cell_type": "markdown",
   "metadata": {},
   "source": [
    "### Технологический процесс\n",
    "* Rougher feed — исходное сырье\n",
    "* Rougher additions (или reagent additions) — флотационные реагенты: Xanthate, Sulphate, Depressant\n",
    "* Xanthate — ксантогенат (промотер, или активатор флотации);\n",
    "* Sulphate — сульфат (на данном производстве сульфид натрия);\n",
    "* Depressant — депрессант (силикат натрия).\n",
    "* Rougher process (англ. «грубый процесс») — флотация\n",
    "* Rougher tails — отвальные хвосты\n",
    "* Float banks — флотационная установка\n",
    "* Cleaner process — очистка\n",
    "* Rougher Au — черновой концентрат золота\n",
    "* Final Au — финальный концентрат золота"
   ]
  },
  {
   "cell_type": "markdown",
   "metadata": {},
   "source": [
    "### Параметры этапов\n",
    "* air amount — объём воздуха\n",
    "* fluid levels — уровень жидкости\n",
    "* feed size — размер гранул сырья\n",
    "* feed rate — скорость подачи"
   ]
  },
  {
   "cell_type": "markdown",
   "metadata": {},
   "source": [
    "### Наименование признаков\n",
    "Наименование признаков должно быть такое:\n",
    "[этап].[тип_параметра].[название_параметра]\n",
    "\n",
    "Пример: `rougher.input.feed_ag`\n",
    "\n",
    "\n",
    "Возможные значения для блока [этап]:\n",
    "* rougher — флотация\n",
    "* primary_cleaner — первичная очистка\n",
    "* secondary_cleaner — вторичная очистка\n",
    "* final — финальные характеристики\n",
    "\n",
    "\n",
    "Возможные значения для блока [тип_параметра]:\n",
    "* input — параметры сырья\n",
    "* output — параметры продукта\n",
    "* state — параметры, характеризующие текущее состояние этапа\n",
    "* calculation — расчётные характеристики"
   ]
  },
  {
   "cell_type": "code",
   "execution_count": 1,
   "metadata": {},
   "outputs": [],
   "source": [
    "import pandas as pd\n",
    "import numpy as np\n",
    "import seaborn as sns \n",
    "import matplotlib.pyplot as plt\n",
    "from matplotlib_inline.backend_inline import set_matplotlib_formats\n",
    "from sklearn.linear_model import LinearRegression\n",
    "from sklearn.ensemble import RandomForestRegressor\n",
    "from sklearn.tree import DecisionTreeRegressor\n",
    "from sklearn.model_selection import train_test_split, cross_validate, GridSearchCV\n",
    "from sklearn.pipeline import Pipeline\n",
    "from sklearn.preprocessing import StandardScaler\n",
    "from sklearn.metrics import make_scorer\n",
    "from sklearn.dummy import DummyRegressor\n",
    "\n",
    "set_matplotlib_formats('retina')"
   ]
  },
  {
   "cell_type": "markdown",
   "metadata": {},
   "source": [
    "## Подготовка данных"
   ]
  },
  {
   "cell_type": "markdown",
   "metadata": {},
   "source": [
    "Откроем файлы и посмотрим на них"
   ]
  },
  {
   "cell_type": "code",
   "execution_count": 2,
   "metadata": {},
   "outputs": [],
   "source": [
    "try: \n",
    "    data_train = pd.read_csv('/datasets/gold_recovery_train_new.csv')\n",
    "    data_test = pd.read_csv('/datasets/gold_recovery_test_new.csv')\n",
    "    data_full = pd.read_csv('/datasets/gold_recovery_full_new.csv')\n",
    "except FileNotFoundError:\n",
    "    data_train = pd.read_csv('gold_recovery_train_new.csv')\n",
    "    data_test = pd.read_csv('gold_recovery_test_new.csv')\n",
    "    data_full = pd.read_csv('gold_recovery_full_new.csv')"
   ]
  },
  {
   "cell_type": "code",
   "execution_count": 3,
   "metadata": {
    "scrolled": true
   },
   "outputs": [
    {
     "name": "stdout",
     "output_type": "stream",
     "text": [
      "<class 'pandas.core.frame.DataFrame'>\n",
      "RangeIndex: 14149 entries, 0 to 14148\n",
      "Data columns (total 87 columns):\n",
      " #   Column                                              Non-Null Count  Dtype  \n",
      "---  ------                                              --------------  -----  \n",
      " 0   date                                                14149 non-null  object \n",
      " 1   final.output.concentrate_ag                         14148 non-null  float64\n",
      " 2   final.output.concentrate_pb                         14148 non-null  float64\n",
      " 3   final.output.concentrate_sol                        13938 non-null  float64\n",
      " 4   final.output.concentrate_au                         14149 non-null  float64\n",
      " 5   final.output.recovery                               14149 non-null  float64\n",
      " 6   final.output.tail_ag                                14149 non-null  float64\n",
      " 7   final.output.tail_pb                                14049 non-null  float64\n",
      " 8   final.output.tail_sol                               14144 non-null  float64\n",
      " 9   final.output.tail_au                                14149 non-null  float64\n",
      " 10  primary_cleaner.input.sulfate                       14129 non-null  float64\n",
      " 11  primary_cleaner.input.depressant                    14117 non-null  float64\n",
      " 12  primary_cleaner.input.feed_size                     14149 non-null  float64\n",
      " 13  primary_cleaner.input.xanthate                      14049 non-null  float64\n",
      " 14  primary_cleaner.output.concentrate_ag               14149 non-null  float64\n",
      " 15  primary_cleaner.output.concentrate_pb               14063 non-null  float64\n",
      " 16  primary_cleaner.output.concentrate_sol              13863 non-null  float64\n",
      " 17  primary_cleaner.output.concentrate_au               14149 non-null  float64\n",
      " 18  primary_cleaner.output.tail_ag                      14148 non-null  float64\n",
      " 19  primary_cleaner.output.tail_pb                      14134 non-null  float64\n",
      " 20  primary_cleaner.output.tail_sol                     14103 non-null  float64\n",
      " 21  primary_cleaner.output.tail_au                      14149 non-null  float64\n",
      " 22  primary_cleaner.state.floatbank8_a_air              14145 non-null  float64\n",
      " 23  primary_cleaner.state.floatbank8_a_level            14148 non-null  float64\n",
      " 24  primary_cleaner.state.floatbank8_b_air              14145 non-null  float64\n",
      " 25  primary_cleaner.state.floatbank8_b_level            14148 non-null  float64\n",
      " 26  primary_cleaner.state.floatbank8_c_air              14147 non-null  float64\n",
      " 27  primary_cleaner.state.floatbank8_c_level            14148 non-null  float64\n",
      " 28  primary_cleaner.state.floatbank8_d_air              14146 non-null  float64\n",
      " 29  primary_cleaner.state.floatbank8_d_level            14148 non-null  float64\n",
      " 30  rougher.calculation.sulfate_to_au_concentrate       14148 non-null  float64\n",
      " 31  rougher.calculation.floatbank10_sulfate_to_au_feed  14148 non-null  float64\n",
      " 32  rougher.calculation.floatbank11_sulfate_to_au_feed  14148 non-null  float64\n",
      " 33  rougher.calculation.au_pb_ratio                     14149 non-null  float64\n",
      " 34  rougher.input.feed_ag                               14149 non-null  float64\n",
      " 35  rougher.input.feed_pb                               14049 non-null  float64\n",
      " 36  rougher.input.feed_rate                             14141 non-null  float64\n",
      " 37  rougher.input.feed_size                             14005 non-null  float64\n",
      " 38  rougher.input.feed_sol                              14071 non-null  float64\n",
      " 39  rougher.input.feed_au                               14149 non-null  float64\n",
      " 40  rougher.input.floatbank10_sulfate                   14120 non-null  float64\n",
      " 41  rougher.input.floatbank10_xanthate                  14141 non-null  float64\n",
      " 42  rougher.input.floatbank11_sulfate                   14113 non-null  float64\n",
      " 43  rougher.input.floatbank11_xanthate                  13721 non-null  float64\n",
      " 44  rougher.output.concentrate_ag                       14149 non-null  float64\n",
      " 45  rougher.output.concentrate_pb                       14149 non-null  float64\n",
      " 46  rougher.output.concentrate_sol                      14127 non-null  float64\n",
      " 47  rougher.output.concentrate_au                       14149 non-null  float64\n",
      " 48  rougher.output.recovery                             14149 non-null  float64\n",
      " 49  rougher.output.tail_ag                              14148 non-null  float64\n",
      " 50  rougher.output.tail_pb                              14149 non-null  float64\n",
      " 51  rougher.output.tail_sol                             14149 non-null  float64\n",
      " 52  rougher.output.tail_au                              14149 non-null  float64\n",
      " 53  rougher.state.floatbank10_a_air                     14148 non-null  float64\n",
      " 54  rougher.state.floatbank10_a_level                   14148 non-null  float64\n",
      " 55  rougher.state.floatbank10_b_air                     14148 non-null  float64\n",
      " 56  rougher.state.floatbank10_b_level                   14148 non-null  float64\n",
      " 57  rougher.state.floatbank10_c_air                     14148 non-null  float64\n",
      " 58  rougher.state.floatbank10_c_level                   14148 non-null  float64\n",
      " 59  rougher.state.floatbank10_d_air                     14149 non-null  float64\n",
      " 60  rougher.state.floatbank10_d_level                   14149 non-null  float64\n",
      " 61  rougher.state.floatbank10_e_air                     13713 non-null  float64\n",
      " 62  rougher.state.floatbank10_e_level                   14149 non-null  float64\n",
      " 63  rougher.state.floatbank10_f_air                     14149 non-null  float64\n",
      " 64  rougher.state.floatbank10_f_level                   14149 non-null  float64\n",
      " 65  secondary_cleaner.output.tail_ag                    14147 non-null  float64\n",
      " 66  secondary_cleaner.output.tail_pb                    14139 non-null  float64\n",
      " 67  secondary_cleaner.output.tail_sol                   12544 non-null  float64\n",
      " 68  secondary_cleaner.output.tail_au                    14149 non-null  float64\n",
      " 69  secondary_cleaner.state.floatbank2_a_air            13932 non-null  float64\n",
      " 70  secondary_cleaner.state.floatbank2_a_level          14148 non-null  float64\n",
      " 71  secondary_cleaner.state.floatbank2_b_air            14128 non-null  float64\n",
      " 72  secondary_cleaner.state.floatbank2_b_level          14148 non-null  float64\n",
      " 73  secondary_cleaner.state.floatbank3_a_air            14145 non-null  float64\n",
      " 74  secondary_cleaner.state.floatbank3_a_level          14148 non-null  float64\n",
      " 75  secondary_cleaner.state.floatbank3_b_air            14148 non-null  float64\n",
      " 76  secondary_cleaner.state.floatbank3_b_level          14148 non-null  float64\n",
      " 77  secondary_cleaner.state.floatbank4_a_air            14143 non-null  float64\n",
      " 78  secondary_cleaner.state.floatbank4_a_level          14148 non-null  float64\n",
      " 79  secondary_cleaner.state.floatbank4_b_air            14148 non-null  float64\n",
      " 80  secondary_cleaner.state.floatbank4_b_level          14148 non-null  float64\n",
      " 81  secondary_cleaner.state.floatbank5_a_air            14148 non-null  float64\n",
      " 82  secondary_cleaner.state.floatbank5_a_level          14148 non-null  float64\n",
      " 83  secondary_cleaner.state.floatbank5_b_air            14148 non-null  float64\n",
      " 84  secondary_cleaner.state.floatbank5_b_level          14148 non-null  float64\n",
      " 85  secondary_cleaner.state.floatbank6_a_air            14147 non-null  float64\n",
      " 86  secondary_cleaner.state.floatbank6_a_level          14148 non-null  float64\n",
      "dtypes: float64(86), object(1)\n",
      "memory usage: 9.4+ MB\n"
     ]
    }
   ],
   "source": [
    "data_train.info()"
   ]
  },
  {
   "cell_type": "code",
   "execution_count": 4,
   "metadata": {
    "scrolled": true
   },
   "outputs": [
    {
     "name": "stdout",
     "output_type": "stream",
     "text": [
      "<class 'pandas.core.frame.DataFrame'>\n",
      "RangeIndex: 5290 entries, 0 to 5289\n",
      "Data columns (total 53 columns):\n",
      " #   Column                                      Non-Null Count  Dtype  \n",
      "---  ------                                      --------------  -----  \n",
      " 0   date                                        5290 non-null   object \n",
      " 1   primary_cleaner.input.sulfate               5286 non-null   float64\n",
      " 2   primary_cleaner.input.depressant            5285 non-null   float64\n",
      " 3   primary_cleaner.input.feed_size             5290 non-null   float64\n",
      " 4   primary_cleaner.input.xanthate              5286 non-null   float64\n",
      " 5   primary_cleaner.state.floatbank8_a_air      5290 non-null   float64\n",
      " 6   primary_cleaner.state.floatbank8_a_level    5290 non-null   float64\n",
      " 7   primary_cleaner.state.floatbank8_b_air      5290 non-null   float64\n",
      " 8   primary_cleaner.state.floatbank8_b_level    5290 non-null   float64\n",
      " 9   primary_cleaner.state.floatbank8_c_air      5290 non-null   float64\n",
      " 10  primary_cleaner.state.floatbank8_c_level    5290 non-null   float64\n",
      " 11  primary_cleaner.state.floatbank8_d_air      5290 non-null   float64\n",
      " 12  primary_cleaner.state.floatbank8_d_level    5290 non-null   float64\n",
      " 13  rougher.input.feed_ag                       5290 non-null   float64\n",
      " 14  rougher.input.feed_pb                       5290 non-null   float64\n",
      " 15  rougher.input.feed_rate                     5287 non-null   float64\n",
      " 16  rougher.input.feed_size                     5289 non-null   float64\n",
      " 17  rougher.input.feed_sol                      5269 non-null   float64\n",
      " 18  rougher.input.feed_au                       5290 non-null   float64\n",
      " 19  rougher.input.floatbank10_sulfate           5285 non-null   float64\n",
      " 20  rougher.input.floatbank10_xanthate          5290 non-null   float64\n",
      " 21  rougher.input.floatbank11_sulfate           5282 non-null   float64\n",
      " 22  rougher.input.floatbank11_xanthate          5265 non-null   float64\n",
      " 23  rougher.state.floatbank10_a_air             5290 non-null   float64\n",
      " 24  rougher.state.floatbank10_a_level           5290 non-null   float64\n",
      " 25  rougher.state.floatbank10_b_air             5290 non-null   float64\n",
      " 26  rougher.state.floatbank10_b_level           5290 non-null   float64\n",
      " 27  rougher.state.floatbank10_c_air             5290 non-null   float64\n",
      " 28  rougher.state.floatbank10_c_level           5290 non-null   float64\n",
      " 29  rougher.state.floatbank10_d_air             5290 non-null   float64\n",
      " 30  rougher.state.floatbank10_d_level           5290 non-null   float64\n",
      " 31  rougher.state.floatbank10_e_air             5290 non-null   float64\n",
      " 32  rougher.state.floatbank10_e_level           5290 non-null   float64\n",
      " 33  rougher.state.floatbank10_f_air             5290 non-null   float64\n",
      " 34  rougher.state.floatbank10_f_level           5290 non-null   float64\n",
      " 35  secondary_cleaner.state.floatbank2_a_air    5287 non-null   float64\n",
      " 36  secondary_cleaner.state.floatbank2_a_level  5290 non-null   float64\n",
      " 37  secondary_cleaner.state.floatbank2_b_air    5288 non-null   float64\n",
      " 38  secondary_cleaner.state.floatbank2_b_level  5290 non-null   float64\n",
      " 39  secondary_cleaner.state.floatbank3_a_air    5281 non-null   float64\n",
      " 40  secondary_cleaner.state.floatbank3_a_level  5290 non-null   float64\n",
      " 41  secondary_cleaner.state.floatbank3_b_air    5290 non-null   float64\n",
      " 42  secondary_cleaner.state.floatbank3_b_level  5290 non-null   float64\n",
      " 43  secondary_cleaner.state.floatbank4_a_air    5290 non-null   float64\n",
      " 44  secondary_cleaner.state.floatbank4_a_level  5290 non-null   float64\n",
      " 45  secondary_cleaner.state.floatbank4_b_air    5290 non-null   float64\n",
      " 46  secondary_cleaner.state.floatbank4_b_level  5290 non-null   float64\n",
      " 47  secondary_cleaner.state.floatbank5_a_air    5290 non-null   float64\n",
      " 48  secondary_cleaner.state.floatbank5_a_level  5290 non-null   float64\n",
      " 49  secondary_cleaner.state.floatbank5_b_air    5290 non-null   float64\n",
      " 50  secondary_cleaner.state.floatbank5_b_level  5290 non-null   float64\n",
      " 51  secondary_cleaner.state.floatbank6_a_air    5290 non-null   float64\n",
      " 52  secondary_cleaner.state.floatbank6_a_level  5290 non-null   float64\n",
      "dtypes: float64(52), object(1)\n",
      "memory usage: 2.1+ MB\n"
     ]
    }
   ],
   "source": [
    "data_test.info()"
   ]
  },
  {
   "cell_type": "code",
   "execution_count": 5,
   "metadata": {
    "scrolled": true
   },
   "outputs": [
    {
     "name": "stdout",
     "output_type": "stream",
     "text": [
      "<class 'pandas.core.frame.DataFrame'>\n",
      "RangeIndex: 19439 entries, 0 to 19438\n",
      "Data columns (total 87 columns):\n",
      " #   Column                                              Non-Null Count  Dtype  \n",
      "---  ------                                              --------------  -----  \n",
      " 0   date                                                19439 non-null  object \n",
      " 1   final.output.concentrate_ag                         19438 non-null  float64\n",
      " 2   final.output.concentrate_pb                         19438 non-null  float64\n",
      " 3   final.output.concentrate_sol                        19228 non-null  float64\n",
      " 4   final.output.concentrate_au                         19439 non-null  float64\n",
      " 5   final.output.recovery                               19439 non-null  float64\n",
      " 6   final.output.tail_ag                                19438 non-null  float64\n",
      " 7   final.output.tail_pb                                19338 non-null  float64\n",
      " 8   final.output.tail_sol                               19433 non-null  float64\n",
      " 9   final.output.tail_au                                19439 non-null  float64\n",
      " 10  primary_cleaner.input.sulfate                       19415 non-null  float64\n",
      " 11  primary_cleaner.input.depressant                    19402 non-null  float64\n",
      " 12  primary_cleaner.input.feed_size                     19439 non-null  float64\n",
      " 13  primary_cleaner.input.xanthate                      19335 non-null  float64\n",
      " 14  primary_cleaner.output.concentrate_ag               19439 non-null  float64\n",
      " 15  primary_cleaner.output.concentrate_pb               19323 non-null  float64\n",
      " 16  primary_cleaner.output.concentrate_sol              19069 non-null  float64\n",
      " 17  primary_cleaner.output.concentrate_au               19439 non-null  float64\n",
      " 18  primary_cleaner.output.tail_ag                      19435 non-null  float64\n",
      " 19  primary_cleaner.output.tail_pb                      19418 non-null  float64\n",
      " 20  primary_cleaner.output.tail_sol                     19377 non-null  float64\n",
      " 21  primary_cleaner.output.tail_au                      19439 non-null  float64\n",
      " 22  primary_cleaner.state.floatbank8_a_air              19435 non-null  float64\n",
      " 23  primary_cleaner.state.floatbank8_a_level            19438 non-null  float64\n",
      " 24  primary_cleaner.state.floatbank8_b_air              19435 non-null  float64\n",
      " 25  primary_cleaner.state.floatbank8_b_level            19438 non-null  float64\n",
      " 26  primary_cleaner.state.floatbank8_c_air              19437 non-null  float64\n",
      " 27  primary_cleaner.state.floatbank8_c_level            19438 non-null  float64\n",
      " 28  primary_cleaner.state.floatbank8_d_air              19436 non-null  float64\n",
      " 29  primary_cleaner.state.floatbank8_d_level            19438 non-null  float64\n",
      " 30  rougher.calculation.sulfate_to_au_concentrate       19437 non-null  float64\n",
      " 31  rougher.calculation.floatbank10_sulfate_to_au_feed  19437 non-null  float64\n",
      " 32  rougher.calculation.floatbank11_sulfate_to_au_feed  19437 non-null  float64\n",
      " 33  rougher.calculation.au_pb_ratio                     19439 non-null  float64\n",
      " 34  rougher.input.feed_ag                               19439 non-null  float64\n",
      " 35  rougher.input.feed_pb                               19339 non-null  float64\n",
      " 36  rougher.input.feed_rate                             19428 non-null  float64\n",
      " 37  rougher.input.feed_size                             19294 non-null  float64\n",
      " 38  rougher.input.feed_sol                              19340 non-null  float64\n",
      " 39  rougher.input.feed_au                               19439 non-null  float64\n",
      " 40  rougher.input.floatbank10_sulfate                   19405 non-null  float64\n",
      " 41  rougher.input.floatbank10_xanthate                  19431 non-null  float64\n",
      " 42  rougher.input.floatbank11_sulfate                   19395 non-null  float64\n",
      " 43  rougher.input.floatbank11_xanthate                  18986 non-null  float64\n",
      " 44  rougher.output.concentrate_ag                       19439 non-null  float64\n",
      " 45  rougher.output.concentrate_pb                       19439 non-null  float64\n",
      " 46  rougher.output.concentrate_sol                      19416 non-null  float64\n",
      " 47  rougher.output.concentrate_au                       19439 non-null  float64\n",
      " 48  rougher.output.recovery                             19439 non-null  float64\n",
      " 49  rougher.output.tail_ag                              19438 non-null  float64\n",
      " 50  rougher.output.tail_pb                              19439 non-null  float64\n",
      " 51  rougher.output.tail_sol                             19439 non-null  float64\n",
      " 52  rougher.output.tail_au                              19439 non-null  float64\n",
      " 53  rougher.state.floatbank10_a_air                     19438 non-null  float64\n",
      " 54  rougher.state.floatbank10_a_level                   19438 non-null  float64\n",
      " 55  rougher.state.floatbank10_b_air                     19438 non-null  float64\n",
      " 56  rougher.state.floatbank10_b_level                   19438 non-null  float64\n",
      " 57  rougher.state.floatbank10_c_air                     19438 non-null  float64\n",
      " 58  rougher.state.floatbank10_c_level                   19438 non-null  float64\n",
      " 59  rougher.state.floatbank10_d_air                     19439 non-null  float64\n",
      " 60  rougher.state.floatbank10_d_level                   19439 non-null  float64\n",
      " 61  rougher.state.floatbank10_e_air                     19003 non-null  float64\n",
      " 62  rougher.state.floatbank10_e_level                   19439 non-null  float64\n",
      " 63  rougher.state.floatbank10_f_air                     19439 non-null  float64\n",
      " 64  rougher.state.floatbank10_f_level                   19439 non-null  float64\n",
      " 65  secondary_cleaner.output.tail_ag                    19437 non-null  float64\n",
      " 66  secondary_cleaner.output.tail_pb                    19427 non-null  float64\n",
      " 67  secondary_cleaner.output.tail_sol                   17691 non-null  float64\n",
      " 68  secondary_cleaner.output.tail_au                    19439 non-null  float64\n",
      " 69  secondary_cleaner.state.floatbank2_a_air            19219 non-null  float64\n",
      " 70  secondary_cleaner.state.floatbank2_a_level          19438 non-null  float64\n",
      " 71  secondary_cleaner.state.floatbank2_b_air            19416 non-null  float64\n",
      " 72  secondary_cleaner.state.floatbank2_b_level          19438 non-null  float64\n",
      " 73  secondary_cleaner.state.floatbank3_a_air            19426 non-null  float64\n",
      " 74  secondary_cleaner.state.floatbank3_a_level          19438 non-null  float64\n",
      " 75  secondary_cleaner.state.floatbank3_b_air            19438 non-null  float64\n",
      " 76  secondary_cleaner.state.floatbank3_b_level          19438 non-null  float64\n",
      " 77  secondary_cleaner.state.floatbank4_a_air            19433 non-null  float64\n",
      " 78  secondary_cleaner.state.floatbank4_a_level          19438 non-null  float64\n",
      " 79  secondary_cleaner.state.floatbank4_b_air            19438 non-null  float64\n",
      " 80  secondary_cleaner.state.floatbank4_b_level          19438 non-null  float64\n",
      " 81  secondary_cleaner.state.floatbank5_a_air            19438 non-null  float64\n",
      " 82  secondary_cleaner.state.floatbank5_a_level          19438 non-null  float64\n",
      " 83  secondary_cleaner.state.floatbank5_b_air            19438 non-null  float64\n",
      " 84  secondary_cleaner.state.floatbank5_b_level          19438 non-null  float64\n",
      " 85  secondary_cleaner.state.floatbank6_a_air            19437 non-null  float64\n",
      " 86  secondary_cleaner.state.floatbank6_a_level          19438 non-null  float64\n",
      "dtypes: float64(86), object(1)\n",
      "memory usage: 12.9+ MB\n"
     ]
    }
   ],
   "source": [
    "data_full.info()"
   ]
  },
  {
   "cell_type": "markdown",
   "metadata": {},
   "source": [
    "В данных есть пропуски, разремся с ними позже. В тестовом наборе данных пропущено порядка 30 признаков. Кроме даты все признаки вещественные"
   ]
  },
  {
   "cell_type": "markdown",
   "metadata": {},
   "source": [
    "Сперва нас просят проверить, что эффективность обогащения рассчитана правильно, на обучающей выборке, сравнивая отклонения по MAE"
   ]
  },
  {
   "cell_type": "code",
   "execution_count": 6,
   "metadata": {},
   "outputs": [],
   "source": [
    "def mae(ar1, ar2):\n",
    "    return np.mean(np.abs(ar1 - ar2))"
   ]
  },
  {
   "cell_type": "markdown",
   "metadata": {},
   "source": [
    "Для расчета эффективности обогащения $\\eta$ нам дали формулу:\n",
    "\n",
    "$$\n",
    "\\eta =  100\\%\\frac{c (f - t)}{f (c - t)}\n",
    "$$\n",
    "\n",
    "* $c$ - доля золота в концентрате после флотации/очистки\n",
    "* $f$ - доля золота в сырье/концентрате до флотации/очистки\n",
    "* $t$ - доля золота в отвальных хвостах после флотации/очистки\n"
   ]
  },
  {
   "cell_type": "code",
   "execution_count": 7,
   "metadata": {},
   "outputs": [],
   "source": [
    "def efficiency(c, f, t):\n",
    "    return 100 * (c * (f - t)) / f / (c - t)"
   ]
  },
  {
   "cell_type": "markdown",
   "metadata": {},
   "source": [
    "В наших данных это следущие величины: \n",
    "* c = `rougher.output.concentrate_au`\n",
    "* f = `rougher.input.feed_au`\n",
    "* t = `rougher.output.tail_au`"
   ]
  },
  {
   "cell_type": "markdown",
   "metadata": {},
   "source": [
    "Считать будем только для данных без пропусков"
   ]
  },
  {
   "cell_type": "code",
   "execution_count": 8,
   "metadata": {},
   "outputs": [],
   "source": [
    "temp_train = data_train.dropna()"
   ]
  },
  {
   "cell_type": "code",
   "execution_count": 9,
   "metadata": {},
   "outputs": [],
   "source": [
    "c = temp_train['rougher.output.concentrate_au']\n",
    "f = temp_train['rougher.input.feed_au']\n",
    "t = temp_train['rougher.output.tail_au']"
   ]
  },
  {
   "cell_type": "code",
   "execution_count": 10,
   "metadata": {},
   "outputs": [
    {
     "name": "stdout",
     "output_type": "stream",
     "text": [
      "MAE error 1.15e-14\n"
     ]
    }
   ],
   "source": [
    "mae_error = mae(efficiency(c, f, t), temp_train['rougher.output.recovery'])\n",
    "print(f\"MAE error {mae_error:.2e}\")"
   ]
  },
  {
   "cell_type": "markdown",
   "metadata": {},
   "source": [
    "Получается, что довольно точно совпадает"
   ]
  },
  {
   "cell_type": "markdown",
   "metadata": {},
   "source": [
    "Теперь посмотрим каких признаков не хватает в тестовых данных "
   ]
  },
  {
   "cell_type": "code",
   "execution_count": 11,
   "metadata": {
    "scrolled": true
   },
   "outputs": [
    {
     "name": "stdout",
     "output_type": "stream",
     "text": [
      "34\n"
     ]
    },
    {
     "data": {
      "text/plain": [
       "{'final.output.concentrate_ag',\n",
       " 'final.output.concentrate_au',\n",
       " 'final.output.concentrate_pb',\n",
       " 'final.output.concentrate_sol',\n",
       " 'final.output.recovery',\n",
       " 'final.output.tail_ag',\n",
       " 'final.output.tail_au',\n",
       " 'final.output.tail_pb',\n",
       " 'final.output.tail_sol',\n",
       " 'primary_cleaner.output.concentrate_ag',\n",
       " 'primary_cleaner.output.concentrate_au',\n",
       " 'primary_cleaner.output.concentrate_pb',\n",
       " 'primary_cleaner.output.concentrate_sol',\n",
       " 'primary_cleaner.output.tail_ag',\n",
       " 'primary_cleaner.output.tail_au',\n",
       " 'primary_cleaner.output.tail_pb',\n",
       " 'primary_cleaner.output.tail_sol',\n",
       " 'rougher.calculation.au_pb_ratio',\n",
       " 'rougher.calculation.floatbank10_sulfate_to_au_feed',\n",
       " 'rougher.calculation.floatbank11_sulfate_to_au_feed',\n",
       " 'rougher.calculation.sulfate_to_au_concentrate',\n",
       " 'rougher.output.concentrate_ag',\n",
       " 'rougher.output.concentrate_au',\n",
       " 'rougher.output.concentrate_pb',\n",
       " 'rougher.output.concentrate_sol',\n",
       " 'rougher.output.recovery',\n",
       " 'rougher.output.tail_ag',\n",
       " 'rougher.output.tail_au',\n",
       " 'rougher.output.tail_pb',\n",
       " 'rougher.output.tail_sol',\n",
       " 'secondary_cleaner.output.tail_ag',\n",
       " 'secondary_cleaner.output.tail_au',\n",
       " 'secondary_cleaner.output.tail_pb',\n",
       " 'secondary_cleaner.output.tail_sol'}"
      ]
     },
     "execution_count": 11,
     "metadata": {},
     "output_type": "execute_result"
    }
   ],
   "source": [
    "missing_test_features = set(data_train.columns) - set(data_test.columns)\n",
    "print(len(missing_test_features))\n",
    "missing_test_features"
   ]
  },
  {
   "cell_type": "markdown",
   "metadata": {},
   "source": [
    "То есть помимо двух целевых переменных `final.output.recovery` и `rougher.output.recovery`. Также нам недоступны выходные пармаметры продукта, которые рассчитываются после каждого из этапов очитски. \n",
    "\n",
    "Тут я могу дополнить тестовую выборку этими признаками из полного датасета или же наоборот сократить тренировочную выборку. Но, как я понял, смысл именно в том, чтобы построить модель, которая будет только по входным параметрам давать ответ, то есть без всего тяжелого процесса обработки, где мы экспериментами кучу металла угробим. Ну и иначе, просто есть аналитическая формула и никакой модели будет уже не нужно"
   ]
  },
  {
   "cell_type": "markdown",
   "metadata": {},
   "source": [
    "#### Преобразование типов"
   ]
  },
  {
   "cell_type": "markdown",
   "metadata": {},
   "source": [
    "Теперь сделаем нашему признаку `date` временной формат"
   ]
  },
  {
   "cell_type": "code",
   "execution_count": 12,
   "metadata": {},
   "outputs": [],
   "source": [
    "data_train['date'] = pd.to_datetime(data_train['date'], format=\"%Y-%m-%d %H:%M:%S\")\n",
    "data_test['date'] = pd.to_datetime(data_test['date'], format=\"%Y-%m-%d %H:%M:%S\")\n",
    "data_full['date'] = pd.to_datetime(data_full['date'], format=\"%Y-%m-%d %H:%M:%S\")"
   ]
  },
  {
   "cell_type": "code",
   "execution_count": 13,
   "metadata": {},
   "outputs": [
    {
     "data": {
      "text/html": [
       "<div>\n",
       "<style scoped>\n",
       "    .dataframe tbody tr th:only-of-type {\n",
       "        vertical-align: middle;\n",
       "    }\n",
       "\n",
       "    .dataframe tbody tr th {\n",
       "        vertical-align: top;\n",
       "    }\n",
       "\n",
       "    .dataframe thead th {\n",
       "        text-align: right;\n",
       "    }\n",
       "</style>\n",
       "<table border=\"1\" class=\"dataframe\">\n",
       "  <thead>\n",
       "    <tr style=\"text-align: right;\">\n",
       "      <th></th>\n",
       "      <th>date</th>\n",
       "      <th>final.output.concentrate_ag</th>\n",
       "      <th>final.output.concentrate_pb</th>\n",
       "      <th>final.output.concentrate_sol</th>\n",
       "      <th>final.output.concentrate_au</th>\n",
       "      <th>final.output.recovery</th>\n",
       "      <th>final.output.tail_ag</th>\n",
       "      <th>final.output.tail_pb</th>\n",
       "      <th>final.output.tail_sol</th>\n",
       "      <th>final.output.tail_au</th>\n",
       "      <th>...</th>\n",
       "      <th>secondary_cleaner.state.floatbank4_a_air</th>\n",
       "      <th>secondary_cleaner.state.floatbank4_a_level</th>\n",
       "      <th>secondary_cleaner.state.floatbank4_b_air</th>\n",
       "      <th>secondary_cleaner.state.floatbank4_b_level</th>\n",
       "      <th>secondary_cleaner.state.floatbank5_a_air</th>\n",
       "      <th>secondary_cleaner.state.floatbank5_a_level</th>\n",
       "      <th>secondary_cleaner.state.floatbank5_b_air</th>\n",
       "      <th>secondary_cleaner.state.floatbank5_b_level</th>\n",
       "      <th>secondary_cleaner.state.floatbank6_a_air</th>\n",
       "      <th>secondary_cleaner.state.floatbank6_a_level</th>\n",
       "    </tr>\n",
       "  </thead>\n",
       "  <tbody>\n",
       "    <tr>\n",
       "      <th>19434</th>\n",
       "      <td>2018-08-18 06:59:59</td>\n",
       "      <td>3.224920</td>\n",
       "      <td>11.356233</td>\n",
       "      <td>6.803482</td>\n",
       "      <td>46.713954</td>\n",
       "      <td>73.755150</td>\n",
       "      <td>8.769645</td>\n",
       "      <td>3.141541</td>\n",
       "      <td>10.403181</td>\n",
       "      <td>1.529220</td>\n",
       "      <td>...</td>\n",
       "      <td>23.031497</td>\n",
       "      <td>-501.167942</td>\n",
       "      <td>20.007571</td>\n",
       "      <td>-499.740028</td>\n",
       "      <td>18.006038</td>\n",
       "      <td>-499.834374</td>\n",
       "      <td>13.001114</td>\n",
       "      <td>-500.155694</td>\n",
       "      <td>20.007840</td>\n",
       "      <td>-501.296428</td>\n",
       "    </tr>\n",
       "    <tr>\n",
       "      <th>19435</th>\n",
       "      <td>2018-08-18 07:59:59</td>\n",
       "      <td>3.195978</td>\n",
       "      <td>11.349355</td>\n",
       "      <td>6.862249</td>\n",
       "      <td>46.866780</td>\n",
       "      <td>69.049291</td>\n",
       "      <td>8.897321</td>\n",
       "      <td>3.130493</td>\n",
       "      <td>10.549470</td>\n",
       "      <td>1.612542</td>\n",
       "      <td>...</td>\n",
       "      <td>22.960095</td>\n",
       "      <td>-501.612783</td>\n",
       "      <td>20.035660</td>\n",
       "      <td>-500.251357</td>\n",
       "      <td>17.998535</td>\n",
       "      <td>-500.395178</td>\n",
       "      <td>12.954048</td>\n",
       "      <td>-499.895163</td>\n",
       "      <td>19.968498</td>\n",
       "      <td>-501.041608</td>\n",
       "    </tr>\n",
       "    <tr>\n",
       "      <th>19436</th>\n",
       "      <td>2018-08-18 08:59:59</td>\n",
       "      <td>3.109998</td>\n",
       "      <td>11.434366</td>\n",
       "      <td>6.886013</td>\n",
       "      <td>46.795691</td>\n",
       "      <td>67.002189</td>\n",
       "      <td>8.529606</td>\n",
       "      <td>2.911418</td>\n",
       "      <td>11.115147</td>\n",
       "      <td>1.596616</td>\n",
       "      <td>...</td>\n",
       "      <td>23.015718</td>\n",
       "      <td>-501.711599</td>\n",
       "      <td>19.951231</td>\n",
       "      <td>-499.857027</td>\n",
       "      <td>18.019543</td>\n",
       "      <td>-500.451156</td>\n",
       "      <td>13.023431</td>\n",
       "      <td>-499.914391</td>\n",
       "      <td>19.990885</td>\n",
       "      <td>-501.518452</td>\n",
       "    </tr>\n",
       "    <tr>\n",
       "      <th>19437</th>\n",
       "      <td>2018-08-18 09:59:59</td>\n",
       "      <td>3.367241</td>\n",
       "      <td>11.625587</td>\n",
       "      <td>6.799433</td>\n",
       "      <td>46.408188</td>\n",
       "      <td>65.523246</td>\n",
       "      <td>8.777171</td>\n",
       "      <td>2.819214</td>\n",
       "      <td>10.463847</td>\n",
       "      <td>1.602879</td>\n",
       "      <td>...</td>\n",
       "      <td>23.024963</td>\n",
       "      <td>-501.153409</td>\n",
       "      <td>20.054122</td>\n",
       "      <td>-500.314711</td>\n",
       "      <td>17.979515</td>\n",
       "      <td>-499.272871</td>\n",
       "      <td>12.992404</td>\n",
       "      <td>-499.976268</td>\n",
       "      <td>20.013986</td>\n",
       "      <td>-500.625471</td>\n",
       "    </tr>\n",
       "    <tr>\n",
       "      <th>19438</th>\n",
       "      <td>2018-08-18 10:59:59</td>\n",
       "      <td>3.598375</td>\n",
       "      <td>11.737832</td>\n",
       "      <td>6.717509</td>\n",
       "      <td>46.299438</td>\n",
       "      <td>70.281454</td>\n",
       "      <td>8.406690</td>\n",
       "      <td>2.517518</td>\n",
       "      <td>10.652193</td>\n",
       "      <td>1.389434</td>\n",
       "      <td>...</td>\n",
       "      <td>23.018622</td>\n",
       "      <td>-500.492702</td>\n",
       "      <td>20.020205</td>\n",
       "      <td>-500.220296</td>\n",
       "      <td>17.963512</td>\n",
       "      <td>-499.939490</td>\n",
       "      <td>12.990306</td>\n",
       "      <td>-500.080993</td>\n",
       "      <td>19.990336</td>\n",
       "      <td>-499.191575</td>\n",
       "    </tr>\n",
       "  </tbody>\n",
       "</table>\n",
       "<p>5 rows × 87 columns</p>\n",
       "</div>"
      ],
      "text/plain": [
       "                     date  final.output.concentrate_ag  \\\n",
       "19434 2018-08-18 06:59:59                     3.224920   \n",
       "19435 2018-08-18 07:59:59                     3.195978   \n",
       "19436 2018-08-18 08:59:59                     3.109998   \n",
       "19437 2018-08-18 09:59:59                     3.367241   \n",
       "19438 2018-08-18 10:59:59                     3.598375   \n",
       "\n",
       "       final.output.concentrate_pb  final.output.concentrate_sol  \\\n",
       "19434                    11.356233                      6.803482   \n",
       "19435                    11.349355                      6.862249   \n",
       "19436                    11.434366                      6.886013   \n",
       "19437                    11.625587                      6.799433   \n",
       "19438                    11.737832                      6.717509   \n",
       "\n",
       "       final.output.concentrate_au  final.output.recovery  \\\n",
       "19434                    46.713954              73.755150   \n",
       "19435                    46.866780              69.049291   \n",
       "19436                    46.795691              67.002189   \n",
       "19437                    46.408188              65.523246   \n",
       "19438                    46.299438              70.281454   \n",
       "\n",
       "       final.output.tail_ag  final.output.tail_pb  final.output.tail_sol  \\\n",
       "19434              8.769645              3.141541              10.403181   \n",
       "19435              8.897321              3.130493              10.549470   \n",
       "19436              8.529606              2.911418              11.115147   \n",
       "19437              8.777171              2.819214              10.463847   \n",
       "19438              8.406690              2.517518              10.652193   \n",
       "\n",
       "       final.output.tail_au  ...  secondary_cleaner.state.floatbank4_a_air  \\\n",
       "19434              1.529220  ...                                 23.031497   \n",
       "19435              1.612542  ...                                 22.960095   \n",
       "19436              1.596616  ...                                 23.015718   \n",
       "19437              1.602879  ...                                 23.024963   \n",
       "19438              1.389434  ...                                 23.018622   \n",
       "\n",
       "       secondary_cleaner.state.floatbank4_a_level  \\\n",
       "19434                                 -501.167942   \n",
       "19435                                 -501.612783   \n",
       "19436                                 -501.711599   \n",
       "19437                                 -501.153409   \n",
       "19438                                 -500.492702   \n",
       "\n",
       "       secondary_cleaner.state.floatbank4_b_air  \\\n",
       "19434                                 20.007571   \n",
       "19435                                 20.035660   \n",
       "19436                                 19.951231   \n",
       "19437                                 20.054122   \n",
       "19438                                 20.020205   \n",
       "\n",
       "       secondary_cleaner.state.floatbank4_b_level  \\\n",
       "19434                                 -499.740028   \n",
       "19435                                 -500.251357   \n",
       "19436                                 -499.857027   \n",
       "19437                                 -500.314711   \n",
       "19438                                 -500.220296   \n",
       "\n",
       "       secondary_cleaner.state.floatbank5_a_air  \\\n",
       "19434                                 18.006038   \n",
       "19435                                 17.998535   \n",
       "19436                                 18.019543   \n",
       "19437                                 17.979515   \n",
       "19438                                 17.963512   \n",
       "\n",
       "       secondary_cleaner.state.floatbank5_a_level  \\\n",
       "19434                                 -499.834374   \n",
       "19435                                 -500.395178   \n",
       "19436                                 -500.451156   \n",
       "19437                                 -499.272871   \n",
       "19438                                 -499.939490   \n",
       "\n",
       "       secondary_cleaner.state.floatbank5_b_air  \\\n",
       "19434                                 13.001114   \n",
       "19435                                 12.954048   \n",
       "19436                                 13.023431   \n",
       "19437                                 12.992404   \n",
       "19438                                 12.990306   \n",
       "\n",
       "       secondary_cleaner.state.floatbank5_b_level  \\\n",
       "19434                                 -500.155694   \n",
       "19435                                 -499.895163   \n",
       "19436                                 -499.914391   \n",
       "19437                                 -499.976268   \n",
       "19438                                 -500.080993   \n",
       "\n",
       "       secondary_cleaner.state.floatbank6_a_air  \\\n",
       "19434                                 20.007840   \n",
       "19435                                 19.968498   \n",
       "19436                                 19.990885   \n",
       "19437                                 20.013986   \n",
       "19438                                 19.990336   \n",
       "\n",
       "       secondary_cleaner.state.floatbank6_a_level  \n",
       "19434                                 -501.296428  \n",
       "19435                                 -501.041608  \n",
       "19436                                 -501.518452  \n",
       "19437                                 -500.625471  \n",
       "19438                                 -499.191575  \n",
       "\n",
       "[5 rows x 87 columns]"
      ]
     },
     "execution_count": 13,
     "metadata": {},
     "output_type": "execute_result"
    }
   ],
   "source": [
    "data_full.tail()"
   ]
  },
  {
   "cell_type": "markdown",
   "metadata": {},
   "source": [
    "#### Пропуски "
   ]
  },
  {
   "cell_type": "code",
   "execution_count": 14,
   "metadata": {},
   "outputs": [
    {
     "data": {
      "text/plain": [
       "date                                            0\n",
       "final.output.concentrate_ag                     1\n",
       "final.output.concentrate_pb                     1\n",
       "final.output.concentrate_sol                  211\n",
       "final.output.concentrate_au                     0\n",
       "                                             ... \n",
       "secondary_cleaner.state.floatbank5_a_level      1\n",
       "secondary_cleaner.state.floatbank5_b_air        1\n",
       "secondary_cleaner.state.floatbank5_b_level      1\n",
       "secondary_cleaner.state.floatbank6_a_air        2\n",
       "secondary_cleaner.state.floatbank6_a_level      1\n",
       "Length: 87, dtype: int64"
      ]
     },
     "execution_count": 14,
     "metadata": {},
     "output_type": "execute_result"
    }
   ],
   "source": [
    "data_full.isna().sum(axis=0)"
   ]
  },
  {
   "cell_type": "markdown",
   "metadata": {},
   "source": [
    "Хочется использовать то, что у нас данные упорядочены по времени, поэтому пропуски везде заполним по предыдущему значению. Тут можно отдельно для каждого датасета применить без опасения, что данные могут заполниться по-разному, так как они упорядочены по времени"
   ]
  },
  {
   "cell_type": "code",
   "execution_count": 15,
   "metadata": {},
   "outputs": [],
   "source": [
    "data_full = data_full.fillna(method='ffill')\n",
    "data_test = data_test.fillna(method='ffill')\n",
    "data_train = data_train.fillna(method='ffill')"
   ]
  },
  {
   "cell_type": "code",
   "execution_count": 16,
   "metadata": {},
   "outputs": [
    {
     "data": {
      "text/plain": [
       "0"
      ]
     },
     "execution_count": 16,
     "metadata": {},
     "output_type": "execute_result"
    }
   ],
   "source": [
    "data_full.isna().sum().sum()"
   ]
  },
  {
   "cell_type": "code",
   "execution_count": 16,
   "metadata": {},
   "outputs": [
    {
     "data": {
      "text/plain": [
       "0"
      ]
     },
     "execution_count": 16,
     "metadata": {},
     "output_type": "execute_result"
    }
   ],
   "source": [
    "data_test.isna().sum().sum()"
   ]
  },
  {
   "cell_type": "code",
   "execution_count": 17,
   "metadata": {},
   "outputs": [
    {
     "data": {
      "text/plain": [
       "0"
      ]
     },
     "execution_count": 17,
     "metadata": {},
     "output_type": "execute_result"
    }
   ],
   "source": [
    "data_train.isna().sum().sum()"
   ]
  },
  {
   "cell_type": "markdown",
   "metadata": {},
   "source": [
    "#### Дублирование "
   ]
  },
  {
   "cell_type": "code",
   "execution_count": 18,
   "metadata": {},
   "outputs": [
    {
     "data": {
      "text/plain": [
       "(0, 0, 0)"
      ]
     },
     "execution_count": 18,
     "metadata": {},
     "output_type": "execute_result"
    }
   ],
   "source": [
    "data_full.duplicated().sum(), data_test.duplicated().sum(), data_train.duplicated().sum()"
   ]
  },
  {
   "cell_type": "markdown",
   "metadata": {},
   "source": [
    "Дубликатов у нас нет"
   ]
  },
  {
   "cell_type": "markdown",
   "metadata": {},
   "source": [
    "## Анализ данных"
   ]
  },
  {
   "cell_type": "markdown",
   "metadata": {},
   "source": [
    "### Изменение концентрации металлов (Au, Ag, Pb) на различных этапах очистки"
   ]
  },
  {
   "cell_type": "code",
   "execution_count": 19,
   "metadata": {},
   "outputs": [],
   "source": [
    "materials = ['ag', 'au', 'pb']\n",
    "stages = ['feed', 'rougher', 'primary_cleaner', 'final']\n",
    "concentrate_features = [feature for material in materials for feature in data_full.columns if (f'concentrate_{material}' in feature) or (f'feed_{material}' in feature)]"
   ]
  },
  {
   "cell_type": "code",
   "execution_count": 20,
   "metadata": {},
   "outputs": [
    {
     "data": {
      "text/plain": [
       "['final.output.concentrate_ag',\n",
       " 'primary_cleaner.output.concentrate_ag',\n",
       " 'rougher.input.feed_ag',\n",
       " 'rougher.output.concentrate_ag',\n",
       " 'final.output.concentrate_au',\n",
       " 'primary_cleaner.output.concentrate_au',\n",
       " 'rougher.input.feed_au',\n",
       " 'rougher.output.concentrate_au',\n",
       " 'final.output.concentrate_pb',\n",
       " 'primary_cleaner.output.concentrate_pb',\n",
       " 'rougher.input.feed_pb',\n",
       " 'rougher.output.concentrate_pb']"
      ]
     },
     "execution_count": 20,
     "metadata": {},
     "output_type": "execute_result"
    }
   ],
   "source": [
    "concentrate_features"
   ]
  },
  {
   "cell_type": "code",
   "execution_count": 21,
   "metadata": {},
   "outputs": [],
   "source": [
    "concentrate_features = [\n",
    "    'rougher.input.feed_ag',\n",
    "    'rougher.input.feed_au',\n",
    "    'rougher.input.feed_pb',\n",
    "    \n",
    "    'rougher.output.concentrate_ag',\n",
    "    'rougher.output.concentrate_au',\n",
    "    'rougher.output.concentrate_pb',\n",
    "    \n",
    "    'primary_cleaner.output.concentrate_ag',\n",
    "    'primary_cleaner.output.concentrate_au',\n",
    "    'primary_cleaner.output.concentrate_pb',\n",
    "    \n",
    "    'final.output.concentrate_ag',\n",
    "    'final.output.concentrate_au',\n",
    "    'final.output.concentrate_pb'\n",
    "]"
   ]
  },
  {
   "cell_type": "code",
   "execution_count": 22,
   "metadata": {},
   "outputs": [
    {
     "data": {
      "image/png": "[encoded data removed]",
      "text/plain": [
       "<Figure size 1008x288 with 3 Axes>"
      ]
     },
     "metadata": {
      "image/png": {
       "height": 277,
       "width": 838
      },
      "needs_background": "light"
     },
     "output_type": "display_data"
    }
   ],
   "source": [
    "fig, ax = plt.subplots(1, 3, figsize=(14,4))\n",
    "for (num, material) in enumerate(materials):\n",
    "    to_plot = [feature for feature in concentrate_features if material in feature]\n",
    "    sns.histplot(data=data_train[to_plot], ax=ax[num], stat='density', legend=False)\n",
    "    if num==0: \n",
    "        ax[num].legend(stages[::-1])\n",
    "    ax[num].set(\n",
    "        xlabel='Concentrate',\n",
    "        title=material.capitalize()\n",
    "    )"
   ]
  },
  {
   "cell_type": "markdown",
   "metadata": {},
   "source": [
    "Итак, получается, что в процессе очистки концентрация серебра уменьшается примерно в два раза, но в итоге число образцов с одинаковой концентрацией немного становится больше. То есть технология очистки серебра начинает терять драгоценный металл на этапах первичной и второчной очисток. В результате выходит, что увеличивается количество образцов с содержанием серебра, но его концентрация на выходе оказывается ниже чем была.\n",
    "\n",
    "Технология очистки золота выглядит намного лучше нежели для серебра. Здесь видно, что число образцов с драгоценным металлом не проседает, а также сама концентрация золота увеличивается в образце в процессе очистки - то что и должно быть)\n",
    "\n",
    "Очистка свинца также выглядит полезной так как в итоге концентрация полезного вещества в образцах повышается, хоть и не так значительно как в случае с золотом\n",
    "\n",
    "Еще есть пик около нуля на каждой из этапов очистки - наверное, это какие-то технические проблемы, удалим их"
   ]
  },
  {
   "cell_type": "code",
   "execution_count": 23,
   "metadata": {},
   "outputs": [],
   "source": [
    "for feature in concentrate_features:\n",
    "    data_train = data_train.loc[data_train.loc[:, feature] > 1]\n",
    "#     data_full = data_full.loc[data_full.loc[:, feature] > 1]"
   ]
  },
  {
   "cell_type": "code",
   "execution_count": 24,
   "metadata": {},
   "outputs": [
    {
     "data": {
      "image/png": "[encoded data removed]",
      "text/plain": [
       "<Figure size 1008x288 with 3 Axes>"
      ]
     },
     "metadata": {
      "image/png": {
       "height": 277,
       "width": 838
      },
      "needs_background": "light"
     },
     "output_type": "display_data"
    }
   ],
   "source": [
    "fig, ax = plt.subplots(1, 3, figsize=(14,4))\n",
    "for (num, material) in enumerate(materials):\n",
    "    to_plot = [feature for feature in concentrate_features if material in feature]\n",
    "    sns.histplot(data=data_train[to_plot], ax=ax[num], stat='density', legend=False)\n",
    "    if num==0: \n",
    "        ax[num].legend(stages[::-1])\n",
    "    ax[num].set(\n",
    "        xlabel='Concentrate',\n",
    "        title=material.capitalize()\n",
    "    )"
   ]
  },
  {
   "cell_type": "markdown",
   "metadata": {},
   "source": [
    "### Сравнение распределения размеров гранул сырья на обучающей и тестовой выборках"
   ]
  },
  {
   "cell_type": "code",
   "execution_count": 25,
   "metadata": {},
   "outputs": [
    {
     "data": {
      "image/png": "[encoded data removed]",
      "text/plain": [
       "<Figure size 432x288 with 1 Axes>"
      ]
     },
     "metadata": {
      "image/png": {
       "height": 261,
       "width": 401
      },
      "needs_background": "light"
     },
     "output_type": "display_data"
    }
   ],
   "source": [
    "fig, ax = plt.subplots(1, 1, figsize=(6, 4))\n",
    "sns.kdeplot(data_train['rougher.input.feed_size'], color='purple', ax=ax, marker='o')\n",
    "sns.kdeplot(data_test['rougher.input.feed_size'], color='orange', ax=ax, marker='o')\n",
    "ax.set(xlabel='Feed Size', xlim=(0, 120))\n",
    "ax.legend(['Train', 'Test']);"
   ]
  },
  {
   "cell_type": "markdown",
   "metadata": {},
   "source": [
    "Здесь, видно, что распределения по форме похожи, но все-таки скорее отличаются, что для модели получается не очень хорошо. "
   ]
  },
  {
   "cell_type": "markdown",
   "metadata": {},
   "source": [
    "### Исследование суммарной концентрации всех веществ на разных стадиях: в сырье, в черновом и финальном концентратах."
   ]
  },
  {
   "cell_type": "code",
   "execution_count": 26,
   "metadata": {},
   "outputs": [],
   "source": [
    "initial = ['rougher.input.feed_au', 'rougher.input.feed_ag', 'rougher.input.feed_pb' ]\n",
    "rougher = ['rougher.output.concentrate_au', 'rougher.output.concentrate_ag', 'rougher.output.concentrate_pb' ]\n",
    "final = ['final.output.concentrate_au', 'final.output.concentrate_ag', 'final.output.concentrate_pb' ]"
   ]
  },
  {
   "cell_type": "code",
   "execution_count": 27,
   "metadata": {},
   "outputs": [],
   "source": [
    "stages_names = ['Init', 'Rougher', 'Final']\n",
    "stages = [initial, rougher, final]\n",
    "colors = ['tab:orange', 'tab:red', 'tab:purple']"
   ]
  },
  {
   "cell_type": "code",
   "execution_count": 28,
   "metadata": {},
   "outputs": [
    {
     "data": {
      "image/png": "[encoded data removed]",
      "text/plain": [
       "<Figure size 432x288 with 1 Axes>"
      ]
     },
     "metadata": {
      "image/png": {
       "height": 248,
       "width": 391
      },
      "needs_background": "light"
     },
     "output_type": "display_data"
    }
   ],
   "source": [
    "fig, ax = plt.subplots(1, 1, figsize=(6, 4))\n",
    "for stage, color in zip(stages, colors):\n",
    "    sns.histplot(data_train[stage].sum(axis=1), bins=55, ax=ax, color=color, stat='density')\n",
    "ax.legend(stages_names);"
   ]
  },
  {
   "cell_type": "markdown",
   "metadata": {},
   "source": [
    "Если смотреть в целом, то концентрация драгоценных металлов повышается в процессе очистки, но как мы уже видели такое смещение происходит в основном за счет очистки золота."
   ]
  },
  {
   "cell_type": "markdown",
   "metadata": {},
   "source": [
    "## Модель"
   ]
  },
  {
   "cell_type": "markdown",
   "metadata": {},
   "source": [
    "Предлагается оценивать качество модели по следующей метрике\n",
    "\n",
    "$$\n",
    "    sMAPE(y, \\hat{y}) = \\frac{2}{N} \\sum_{i = 1}^N \\frac{|y_i - \\hat{y_i}|}{|y_i| + |\\hat{y_i}|} \\cdot 100 \\%\n",
    "$$\n",
    "\n",
    "* $y_i$ - значение целевого признака для объекта с порядковым номером $i$ в выборке, на которой измеряют качество\n",
    "* $\\hat{y_i}$ - значение предсказания для объекта с порядковым номером $i$, например, в тестовой выборке\n",
    "* $N$ - количество объектов в выборке\n",
    "\n",
    "Итоговая метрика будет складываться из комбинации двух величин\n",
    "\n",
    "$$\n",
    "     error = \\frac{1}{4}\\cdot sMAPE(rougher) + \\frac{3}{4} \\cdot sMAPE(final)\n",
    "$$"
   ]
  },
  {
   "cell_type": "code",
   "execution_count": 29,
   "metadata": {},
   "outputs": [],
   "source": [
    "def smape(y, y_pred):\n",
    "    return 200 * np.sum(np.abs(y - y_pred) / (np.abs(y) + np.abs(y_pred))) / y_pred.size\n",
    "\n",
    "def final_smape(predicted, true_results):\n",
    "    r_pred = predicted[:, 0]\n",
    "    r_true = true_results[:, 0]\n",
    "    \n",
    "    f_pred = predicted[:, 1]\n",
    "    f_true = true_results[:, 1]\n",
    "    return 0.25 * smape(r_pred, r_true) + 0.75 * smape(f_pred, f_true)"
   ]
  },
  {
   "cell_type": "markdown",
   "metadata": {},
   "source": [
    "Получается эту функцию нужно использовать как функцию потерь при обучении. Вот [тут](https://stackoverflow.com/questions/32401493/how-to-create-customize-your-own-scorer-function-in-scikit-learn) нашел как это делается"
   ]
  },
  {
   "cell_type": "code",
   "execution_count": 30,
   "metadata": {},
   "outputs": [],
   "source": [
    "smape_scorer = make_scorer(final_smape, greater_is_better=False)"
   ]
  },
  {
   "cell_type": "markdown",
   "metadata": {},
   "source": [
    "#### Тренировочная выборка"
   ]
  },
  {
   "cell_type": "markdown",
   "metadata": {},
   "source": [
    "Теперь уберем из тренировочной выборки признаки, которых нет в тестовой. Плюс исключим целевые признаки"
   ]
  },
  {
   "cell_type": "code",
   "execution_count": 31,
   "metadata": {},
   "outputs": [],
   "source": [
    "target_names = ['rougher.output.recovery', 'final.output.recovery']"
   ]
  },
  {
   "cell_type": "code",
   "execution_count": 32,
   "metadata": {},
   "outputs": [],
   "source": [
    "to_skip = ['date'] + list(missing_test_features) + target_names"
   ]
  },
  {
   "cell_type": "code",
   "execution_count": 33,
   "metadata": {},
   "outputs": [],
   "source": [
    "features_train = data_train.drop(labels=to_skip, axis=1).values\n",
    "target_train = data_train[target_names].values"
   ]
  },
  {
   "cell_type": "markdown",
   "metadata": {},
   "source": [
    "#### Тестовая выборка"
   ]
  },
  {
   "cell_type": "markdown",
   "metadata": {},
   "source": [
    "Для того чтобы выделить тестовые целевые переменные,  нужно из полного датасета выбрать соответствующие строки по дате"
   ]
  },
  {
   "cell_type": "code",
   "execution_count": 34,
   "metadata": {},
   "outputs": [],
   "source": [
    "data_test = data_test.merge(\n",
    "    right=data_full[['date'] + target_names], \n",
    "    how='inner',\n",
    "    on='date'\n",
    ")"
   ]
  },
  {
   "cell_type": "code",
   "execution_count": 35,
   "metadata": {},
   "outputs": [],
   "source": [
    "features_test = data_test.drop(labels=['date'] + target_names, axis=1).values\n",
    "target_test = data_test[target_names].values"
   ]
  },
  {
   "cell_type": "markdown",
   "metadata": {},
   "source": [
    "Фиксируем генератор случайных чисел"
   ]
  },
  {
   "cell_type": "code",
   "execution_count": 36,
   "metadata": {},
   "outputs": [],
   "source": [
    "seed = 4"
   ]
  },
  {
   "cell_type": "markdown",
   "metadata": {},
   "source": [
    "### Ориентир"
   ]
  },
  {
   "cell_type": "code",
   "execution_count": 37,
   "metadata": {},
   "outputs": [],
   "source": [
    "pipe_dummy = Pipeline(\n",
    "    steps=[\n",
    "        ('scaler', StandardScaler()),\n",
    "        ('dummy_model', DummyRegressor(strategy=\"mean\")),\n",
    "    ]\n",
    ")"
   ]
  },
  {
   "cell_type": "code",
   "execution_count": 38,
   "metadata": {},
   "outputs": [
    {
     "name": "stdout",
     "output_type": "stream",
     "text": [
      "Ориентировочное значение: -9.298946853802475\n"
     ]
    }
   ],
   "source": [
    "pipe_dummy.fit(features_train, target_train)\n",
    "print(f\"Ориентировочное значение: {smape_scorer(pipe_dummy, features_train, target_train)}\")"
   ]
  },
  {
   "cell_type": "markdown",
   "metadata": {},
   "source": [
    "Я искренне не понимаю, как он получает тут минус. Но функция должна быть симметричной, поэтому чем ближе значение к нулю, тем лучше"
   ]
  },
  {
   "cell_type": "markdown",
   "metadata": {},
   "source": [
    "### Линейная модель"
   ]
  },
  {
   "cell_type": "code",
   "execution_count": 39,
   "metadata": {},
   "outputs": [],
   "source": [
    "pipe = Pipeline(\n",
    "    steps=[\n",
    "        ('scaler', StandardScaler()),\n",
    "        ('linear_regression', LinearRegression()),\n",
    "    ]\n",
    ")\n",
    "\n",
    "lr_models = cross_validate(pipe, features_train, target_train, scoring=smape_scorer, cv=4, n_jobs=4)"
   ]
  },
  {
   "cell_type": "code",
   "execution_count": 40,
   "metadata": {},
   "outputs": [
    {
     "data": {
      "text/plain": [
       "-9.901878877397177"
      ]
     },
     "execution_count": 40,
     "metadata": {},
     "output_type": "execute_result"
    }
   ],
   "source": [
    "lr_models['test_score'].mean()"
   ]
  },
  {
   "cell_type": "markdown",
   "metadata": {},
   "source": [
    "### Случайный лес"
   ]
  },
  {
   "cell_type": "markdown",
   "metadata": {},
   "source": [
    "Чтобы отдельно не писать код для решающего дерева, я включу его в параметры `n_estimator = 1` "
   ]
  },
  {
   "cell_type": "code",
   "execution_count": 41,
   "metadata": {},
   "outputs": [],
   "source": [
    "pipe = Pipeline(\n",
    "    steps=[\n",
    "        ('scaler', StandardScaler()),\n",
    "        ('rf_model', RandomForestRegressor(random_state=seed)),\n",
    "    ]\n",
    ")\n",
    "grid_rf = GridSearchCV(pipe, \n",
    "                       param_grid={\n",
    "                           'rf_model__max_depth': [2, 3, 4, 5, 8, 10],\n",
    "                           'rf_model__n_estimators': [1, 2, 4, 8, 16, 32, 64, 128],\n",
    "                           'rf_model__max_features': ['sqrt', 'log2']\n",
    "                       },\n",
    "                       scoring=smape_scorer,\n",
    "                       cv=4,\n",
    "                       n_jobs=4\n",
    "                      )"
   ]
  },
  {
   "cell_type": "code",
   "execution_count": 42,
   "metadata": {},
   "outputs": [
    {
     "name": "stdout",
     "output_type": "stream",
     "text": [
      "CPU times: total: 13.3 s\n",
      "Wall time: 4min 24s\n"
     ]
    },
    {
     "data": {
      "text/plain": [
       "GridSearchCV(cv=4,\n",
       "             estimator=Pipeline(steps=[('scaler', StandardScaler()),\n",
       "                                       ('rf_model',\n",
       "                                        RandomForestRegressor(random_state=4))]),\n",
       "             n_jobs=4,\n",
       "             param_grid={'rf_model__max_depth': [2, 3, 4, 5, 8, 10],\n",
       "                         'rf_model__max_features': ['sqrt', 'log2'],\n",
       "                         'rf_model__n_estimators': [1, 2, 4, 8, 16, 32, 64,\n",
       "                                                    128]},\n",
       "             scoring=make_scorer(final_smape, greater_is_better=False))"
      ]
     },
     "execution_count": 42,
     "metadata": {},
     "output_type": "execute_result"
    }
   ],
   "source": [
    "%%time\n",
    "grid_rf.fit(features_train, target_train)"
   ]
  },
  {
   "cell_type": "code",
   "execution_count": 43,
   "metadata": {},
   "outputs": [],
   "source": [
    "best_rf = grid_rf.best_estimator_"
   ]
  },
  {
   "cell_type": "code",
   "execution_count": 44,
   "metadata": {},
   "outputs": [
    {
     "data": {
      "text/plain": [
       "Pipeline(steps=[('scaler', StandardScaler()),\n",
       "                ('rf_model',\n",
       "                 RandomForestRegressor(max_depth=10, max_features='sqrt',\n",
       "                                       n_estimators=64, random_state=4))])"
      ]
     },
     "execution_count": 44,
     "metadata": {},
     "output_type": "execute_result"
    }
   ],
   "source": [
    "best_rf"
   ]
  },
  {
   "cell_type": "code",
   "execution_count": 45,
   "metadata": {},
   "outputs": [
    {
     "data": {
      "text/plain": [
       "-8.808587921061036"
      ]
     },
     "execution_count": 45,
     "metadata": {},
     "output_type": "execute_result"
    }
   ],
   "source": [
    "grid_rf.best_score_"
   ]
  },
  {
   "cell_type": "markdown",
   "metadata": {},
   "source": [
    "Вот тут значение получилось лучше всего, поэтому останавливаемся на этой модели"
   ]
  },
  {
   "cell_type": "markdown",
   "metadata": {},
   "source": [
    "### Результат на тестовой выборке"
   ]
  },
  {
   "cell_type": "markdown",
   "metadata": {},
   "source": [
    "Случайная модель"
   ]
  },
  {
   "cell_type": "code",
   "execution_count": 46,
   "metadata": {},
   "outputs": [
    {
     "data": {
      "text/plain": [
       "-9.813389469612133"
      ]
     },
     "execution_count": 46,
     "metadata": {},
     "output_type": "execute_result"
    }
   ],
   "source": [
    "smape_scorer(pipe_dummy, features_test, target_test)"
   ]
  },
  {
   "cell_type": "markdown",
   "metadata": {},
   "source": [
    "Лучшая модель - случайный лес"
   ]
  },
  {
   "cell_type": "code",
   "execution_count": 47,
   "metadata": {},
   "outputs": [
    {
     "data": {
      "text/plain": [
       "-9.307331331968907"
      ]
     },
     "execution_count": 47,
     "metadata": {},
     "output_type": "execute_result"
    }
   ],
   "source": [
    "smape_scorer(best_rf, features_test, target_test)"
   ]
  },
  {
   "cell_type": "markdown",
   "metadata": {},
   "source": [
    "Получается константную модель мы обогнали и наша модель обладает большей обобщающей способностью"
   ]
  },
  {
   "cell_type": "markdown",
   "metadata": {},
   "source": [
    "## Вывод\n",
    "\n",
    "\n",
    "Целью данного проекта было построение модели машинного обучения для предсказания коэффициента восстановления драгоценного металла по параметрам технологического процесса. \n",
    "\n",
    "В ходе анализа данных было установлено, что в первую очередь в оптимизации нуждается процесс получения серебра, так как на текущий момент в результате очистки концентрация драгоценного металла уменьшается приблизительно в 2 раза по сравнению с начальной. \n",
    "\n",
    "Текущие процессы очистки золота и свинца находятся на хорошем уровне и позволяют не терять много полезного металла в процессе очистки. Однако с помощью построеное модели машинного обучения можно улучшить показатели и этих процессов.\n",
    "\n"
   ]
  }
 ],
 "metadata": {
  "ExecuteTimeLog": [
   {
    "duration": 1557,
    "start_time": "2022-12-19T14:10:30.654Z"
   },
   {
    "duration": 2044,
    "start_time": "2022-12-19T14:10:33.115Z"
   },
   {
    "duration": 20,
    "start_time": "2022-12-19T14:10:37.701Z"
   },
   {
    "duration": 14,
    "start_time": "2022-12-19T14:10:38.289Z"
   },
   {
    "duration": 17,
    "start_time": "2022-12-19T14:10:38.659Z"
   },
   {
    "duration": 3,
    "start_time": "2022-12-19T14:10:39.724Z"
   },
   {
    "duration": 3,
    "start_time": "2022-12-19T14:10:41.306Z"
   },
   {
    "duration": 13,
    "start_time": "2022-12-19T14:10:42.933Z"
   },
   {
    "duration": 3,
    "start_time": "2022-12-19T14:10:43.398Z"
   },
   {
    "duration": 5,
    "start_time": "2022-12-19T14:10:44.292Z"
   },
   {
    "duration": 6,
    "start_time": "2022-12-19T14:10:49.048Z"
   },
   {
    "duration": 12,
    "start_time": "2022-12-19T14:13:18.751Z"
   },
   {
    "duration": 23,
    "start_time": "2022-12-19T14:13:18.973Z"
   },
   {
    "duration": 10,
    "start_time": "2022-12-19T14:13:19.383Z"
   },
   {
    "duration": 22,
    "start_time": "2022-12-19T14:13:19.820Z"
   },
   {
    "duration": 9,
    "start_time": "2022-12-19T14:13:20.049Z"
   },
   {
    "duration": 6,
    "start_time": "2022-12-19T14:13:20.293Z"
   },
   {
    "duration": 8,
    "start_time": "2022-12-19T14:13:20.493Z"
   },
   {
    "duration": 224,
    "start_time": "2022-12-19T14:13:20.885Z"
   },
   {
    "duration": 3,
    "start_time": "2022-12-19T14:13:21.586Z"
   },
   {
    "duration": 1500,
    "start_time": "2022-12-19T14:13:21.776Z"
   },
   {
    "duration": 79,
    "start_time": "2022-12-19T14:13:23.278Z"
   },
   {
    "duration": 1497,
    "start_time": "2022-12-19T14:13:23.358Z"
   },
   {
    "duration": 477,
    "start_time": "2022-12-19T14:13:24.857Z"
   },
   {
    "duration": 21,
    "start_time": "2022-12-19T14:13:25.336Z"
   },
   {
    "duration": 348,
    "start_time": "2022-12-19T14:13:25.359Z"
   },
   {
    "duration": 3,
    "start_time": "2022-12-19T14:13:25.709Z"
   },
   {
    "duration": 5,
    "start_time": "2022-12-19T14:13:25.713Z"
   },
   {
    "duration": 474,
    "start_time": "2022-12-19T14:13:25.719Z"
   },
   {
    "duration": 9,
    "start_time": "2022-12-19T14:13:26.195Z"
   },
   {
    "duration": 2,
    "start_time": "2022-12-19T14:13:26.206Z"
   },
   {
    "duration": 3,
    "start_time": "2022-12-19T14:13:26.298Z"
   },
   {
    "duration": 3,
    "start_time": "2022-12-19T14:13:26.492Z"
   },
   {
    "duration": 5,
    "start_time": "2022-12-19T14:13:26.694Z"
   },
   {
    "duration": 12,
    "start_time": "2022-12-19T14:13:27.341Z"
   },
   {
    "duration": 6,
    "start_time": "2022-12-19T14:13:27.592Z"
   },
   {
    "duration": 2,
    "start_time": "2022-12-19T14:13:28.025Z"
   },
   {
    "duration": 3,
    "start_time": "2022-12-19T14:13:28.454Z"
   },
   {
    "duration": 17,
    "start_time": "2022-12-19T14:13:28.653Z"
   },
   {
    "duration": 3534,
    "start_time": "2022-12-19T14:13:29.303Z"
   },
   {
    "duration": 5,
    "start_time": "2022-12-19T14:13:32.840Z"
   },
   {
    "duration": 6,
    "start_time": "2022-12-19T14:13:32.846Z"
   },
   {
    "duration": 111,
    "start_time": "2022-12-19T21:21:37.276Z"
   },
   {
    "duration": 16,
    "start_time": "2022-12-19T21:21:56.192Z"
   },
   {
    "duration": 4,
    "start_time": "2022-12-19T21:22:14.909Z"
   },
   {
    "duration": 1599,
    "start_time": "2022-12-20T15:53:51.045Z"
   },
   {
    "duration": 2255,
    "start_time": "2022-12-20T15:53:52.646Z"
   },
   {
    "duration": 21,
    "start_time": "2022-12-20T15:53:54.903Z"
   },
   {
    "duration": 55,
    "start_time": "2022-12-20T15:53:54.927Z"
   },
   {
    "duration": 31,
    "start_time": "2022-12-20T15:53:54.984Z"
   },
   {
    "duration": 42,
    "start_time": "2022-12-20T15:53:55.016Z"
   },
   {
    "duration": 36,
    "start_time": "2022-12-20T15:53:55.062Z"
   },
   {
    "duration": 56,
    "start_time": "2022-12-20T15:53:55.100Z"
   },
   {
    "duration": 48,
    "start_time": "2022-12-20T15:53:55.158Z"
   },
   {
    "duration": 48,
    "start_time": "2022-12-20T15:53:55.208Z"
   },
   {
    "duration": 51,
    "start_time": "2022-12-20T15:53:55.258Z"
   },
   {
    "duration": 41,
    "start_time": "2022-12-20T15:53:55.311Z"
   },
   {
    "duration": 63,
    "start_time": "2022-12-20T15:53:55.354Z"
   },
   {
    "duration": 29,
    "start_time": "2022-12-20T15:53:55.418Z"
   },
   {
    "duration": 37,
    "start_time": "2022-12-20T15:53:55.449Z"
   },
   {
    "duration": 25,
    "start_time": "2022-12-20T15:53:55.487Z"
   },
   {
    "duration": 31,
    "start_time": "2022-12-20T15:53:55.514Z"
   },
   {
    "duration": 50,
    "start_time": "2022-12-20T15:53:55.547Z"
   },
   {
    "duration": 283,
    "start_time": "2022-12-20T15:53:55.598Z"
   },
   {
    "duration": 411,
    "start_time": "2022-12-20T15:54:15.291Z"
   },
   {
    "duration": 3,
    "start_time": "2022-12-20T15:54:17.974Z"
   },
   {
    "duration": 1988,
    "start_time": "2022-12-20T15:54:18.484Z"
   },
   {
    "duration": 2266,
    "start_time": "2022-12-20T15:54:46.512Z"
   },
   {
    "duration": 4,
    "start_time": "2022-12-20T15:56:08.828Z"
   },
   {
    "duration": 4,
    "start_time": "2022-12-20T15:56:51.809Z"
   },
   {
    "duration": 3,
    "start_time": "2022-12-20T15:57:15.949Z"
   },
   {
    "duration": 3,
    "start_time": "2022-12-20T15:58:02.335Z"
   },
   {
    "duration": 3,
    "start_time": "2022-12-20T15:58:06.335Z"
   },
   {
    "duration": 3,
    "start_time": "2022-12-20T16:01:31.722Z"
   },
   {
    "duration": 3,
    "start_time": "2022-12-20T16:01:38.299Z"
   },
   {
    "duration": 2497,
    "start_time": "2022-12-20T16:01:39.942Z"
   },
   {
    "duration": 1928,
    "start_time": "2022-12-20T16:02:16.660Z"
   },
   {
    "duration": 1977,
    "start_time": "2022-12-20T16:02:28.332Z"
   },
   {
    "duration": 94,
    "start_time": "2022-12-20T16:02:40.203Z"
   },
   {
    "duration": 2196,
    "start_time": "2022-12-20T16:02:40.935Z"
   },
   {
    "duration": 1898,
    "start_time": "2022-12-20T16:02:50.893Z"
   },
   {
    "duration": 5,
    "start_time": "2022-12-20T16:13:34.689Z"
   },
   {
    "duration": 679,
    "start_time": "2022-12-20T16:13:34.696Z"
   },
   {
    "duration": 19,
    "start_time": "2022-12-20T16:13:35.378Z"
   },
   {
    "duration": 12,
    "start_time": "2022-12-20T16:13:35.399Z"
   },
   {
    "duration": 17,
    "start_time": "2022-12-20T16:13:35.412Z"
   },
   {
    "duration": 3,
    "start_time": "2022-12-20T16:13:35.431Z"
   },
   {
    "duration": 11,
    "start_time": "2022-12-20T16:13:35.436Z"
   },
   {
    "duration": 43,
    "start_time": "2022-12-20T16:13:35.448Z"
   },
   {
    "duration": 4,
    "start_time": "2022-12-20T16:13:35.494Z"
   },
   {
    "duration": 9,
    "start_time": "2022-12-20T16:13:35.500Z"
   },
   {
    "duration": 7,
    "start_time": "2022-12-20T16:13:35.510Z"
   },
   {
    "duration": 22,
    "start_time": "2022-12-20T16:13:35.518Z"
   },
   {
    "duration": 42,
    "start_time": "2022-12-20T16:13:35.542Z"
   },
   {
    "duration": 13,
    "start_time": "2022-12-20T16:13:35.586Z"
   },
   {
    "duration": 22,
    "start_time": "2022-12-20T16:13:35.601Z"
   },
   {
    "duration": 9,
    "start_time": "2022-12-20T16:13:35.626Z"
   },
   {
    "duration": 6,
    "start_time": "2022-12-20T16:13:35.637Z"
   },
   {
    "duration": 37,
    "start_time": "2022-12-20T16:13:35.645Z"
   },
   {
    "duration": 253,
    "start_time": "2022-12-20T16:13:35.684Z"
   },
   {
    "duration": 3,
    "start_time": "2022-12-20T16:13:35.939Z"
   },
   {
    "duration": 8,
    "start_time": "2022-12-20T16:13:35.945Z"
   },
   {
    "duration": 9,
    "start_time": "2022-12-20T16:13:35.956Z"
   },
   {
    "duration": 1931,
    "start_time": "2022-12-20T16:13:35.966Z"
   },
   {
    "duration": 38,
    "start_time": "2022-12-20T16:13:37.900Z"
   },
   {
    "duration": 1877,
    "start_time": "2022-12-20T16:13:37.940Z"
   },
   {
    "duration": 2,
    "start_time": "2022-12-20T16:13:39.819Z"
   },
   {
    "duration": 9,
    "start_time": "2022-12-20T16:13:39.823Z"
   },
   {
    "duration": 5,
    "start_time": "2022-12-20T16:13:39.834Z"
   },
   {
    "duration": 452,
    "start_time": "2022-12-20T16:13:39.841Z"
   },
   {
    "duration": 3,
    "start_time": "2022-12-20T16:13:40.295Z"
   },
   {
    "duration": 6,
    "start_time": "2022-12-20T16:13:40.300Z"
   },
   {
    "duration": 486,
    "start_time": "2022-12-20T16:13:40.308Z"
   },
   {
    "duration": 5,
    "start_time": "2022-12-20T16:13:40.795Z"
   },
   {
    "duration": 13,
    "start_time": "2022-12-20T16:13:40.801Z"
   },
   {
    "duration": 13,
    "start_time": "2022-12-20T16:13:40.816Z"
   },
   {
    "duration": 5,
    "start_time": "2022-12-20T16:13:40.831Z"
   },
   {
    "duration": 10,
    "start_time": "2022-12-20T16:13:40.838Z"
   },
   {
    "duration": 15,
    "start_time": "2022-12-20T16:13:40.849Z"
   },
   {
    "duration": 15,
    "start_time": "2022-12-20T16:13:40.866Z"
   },
   {
    "duration": 3,
    "start_time": "2022-12-20T16:13:40.883Z"
   },
   {
    "duration": 5,
    "start_time": "2022-12-20T16:13:40.888Z"
   },
   {
    "duration": 29,
    "start_time": "2022-12-20T16:13:40.895Z"
   },
   {
    "duration": 390,
    "start_time": "2022-12-20T16:13:40.926Z"
   },
   {
    "duration": 4,
    "start_time": "2022-12-20T16:13:41.318Z"
   },
   {
    "duration": 9,
    "start_time": "2022-12-20T16:13:41.324Z"
   },
   {
    "duration": 321453,
    "start_time": "2022-12-20T16:13:41.335Z"
   },
   {
    "duration": 3,
    "start_time": "2022-12-20T16:19:02.790Z"
   },
   {
    "duration": 9,
    "start_time": "2022-12-20T16:19:02.795Z"
   },
   {
    "duration": 8,
    "start_time": "2022-12-20T16:19:02.806Z"
   },
   {
    "duration": 10,
    "start_time": "2022-12-20T16:19:02.816Z"
   },
   {
    "duration": 51,
    "start_time": "2022-12-20T16:19:02.828Z"
   },
   {
    "duration": 1418,
    "start_time": "2022-12-20T16:27:07.980Z"
   },
   {
    "duration": 739,
    "start_time": "2022-12-20T16:27:09.401Z"
   },
   {
    "duration": 22,
    "start_time": "2022-12-20T16:27:10.142Z"
   },
   {
    "duration": 34,
    "start_time": "2022-12-20T16:27:10.166Z"
   },
   {
    "duration": 35,
    "start_time": "2022-12-20T16:27:10.202Z"
   },
   {
    "duration": 3,
    "start_time": "2022-12-20T16:27:10.239Z"
   },
   {
    "duration": 29,
    "start_time": "2022-12-20T16:27:10.244Z"
   },
   {
    "duration": 37,
    "start_time": "2022-12-20T16:27:10.276Z"
   },
   {
    "duration": 14,
    "start_time": "2022-12-20T16:27:10.315Z"
   },
   {
    "duration": 29,
    "start_time": "2022-12-20T16:27:10.333Z"
   },
   {
    "duration": 37,
    "start_time": "2022-12-20T16:27:10.364Z"
   },
   {
    "duration": 38,
    "start_time": "2022-12-20T16:27:10.402Z"
   },
   {
    "duration": 45,
    "start_time": "2022-12-20T16:27:10.441Z"
   },
   {
    "duration": 10,
    "start_time": "2022-12-20T16:27:10.488Z"
   },
   {
    "duration": 33,
    "start_time": "2022-12-20T16:27:10.500Z"
   },
   {
    "duration": 22,
    "start_time": "2022-12-20T16:27:10.535Z"
   },
   {
    "duration": 13,
    "start_time": "2022-12-20T16:27:10.559Z"
   },
   {
    "duration": 29,
    "start_time": "2022-12-20T16:27:10.573Z"
   },
   {
    "duration": 247,
    "start_time": "2022-12-20T16:27:10.604Z"
   },
   {
    "duration": 3,
    "start_time": "2022-12-20T16:27:10.852Z"
   },
   {
    "duration": 8,
    "start_time": "2022-12-20T16:27:10.857Z"
   },
   {
    "duration": 17,
    "start_time": "2022-12-20T16:27:10.867Z"
   },
   {
    "duration": 2014,
    "start_time": "2022-12-20T16:27:10.886Z"
   },
   {
    "duration": 42,
    "start_time": "2022-12-20T16:27:12.902Z"
   },
   {
    "duration": 1936,
    "start_time": "2022-12-20T16:27:12.946Z"
   },
   {
    "duration": 3,
    "start_time": "2022-12-20T16:27:14.884Z"
   },
   {
    "duration": 34,
    "start_time": "2022-12-20T16:27:14.888Z"
   },
   {
    "duration": 14,
    "start_time": "2022-12-20T16:27:14.927Z"
   },
   {
    "duration": 569,
    "start_time": "2022-12-20T16:27:14.942Z"
   },
   {
    "duration": 3,
    "start_time": "2022-12-20T16:27:15.513Z"
   },
   {
    "duration": 58,
    "start_time": "2022-12-20T16:27:15.517Z"
   },
   {
    "duration": 694,
    "start_time": "2022-12-20T16:27:15.576Z"
   },
   {
    "duration": 6,
    "start_time": "2022-12-20T16:27:16.272Z"
   },
   {
    "duration": 41,
    "start_time": "2022-12-20T16:27:16.280Z"
   },
   {
    "duration": 44,
    "start_time": "2022-12-20T16:27:16.322Z"
   },
   {
    "duration": 33,
    "start_time": "2022-12-20T16:27:16.368Z"
   },
   {
    "duration": 69,
    "start_time": "2022-12-20T16:27:16.403Z"
   },
   {
    "duration": 50,
    "start_time": "2022-12-20T16:27:16.474Z"
   },
   {
    "duration": 55,
    "start_time": "2022-12-20T16:27:16.526Z"
   },
   {
    "duration": 22,
    "start_time": "2022-12-20T16:27:16.583Z"
   },
   {
    "duration": 36,
    "start_time": "2022-12-20T16:27:16.607Z"
   },
   {
    "duration": 40,
    "start_time": "2022-12-20T16:27:16.645Z"
   },
   {
    "duration": 3444,
    "start_time": "2022-12-20T16:27:16.686Z"
   },
   {
    "duration": 5,
    "start_time": "2022-12-20T16:27:20.133Z"
   },
   {
    "duration": 37,
    "start_time": "2022-12-20T16:27:20.141Z"
   },
   {
    "duration": 314747,
    "start_time": "2022-12-20T16:27:20.180Z"
   },
   {
    "duration": 3,
    "start_time": "2022-12-20T16:32:34.929Z"
   },
   {
    "duration": 39,
    "start_time": "2022-12-20T16:32:34.934Z"
   },
   {
    "duration": 18,
    "start_time": "2022-12-20T16:32:34.975Z"
   },
   {
    "duration": 9,
    "start_time": "2022-12-20T16:32:34.994Z"
   },
   {
    "duration": 32,
    "start_time": "2022-12-20T16:32:35.004Z"
   }
  ],
  "kernelspec": {
   "display_name": "Python 3 (ipykernel)",
   "language": "python",
   "name": "python3"
  },
  "language_info": {
   "codemirror_mode": {
    "name": "ipython",
    "version": 3
   },
   "file_extension": ".py",
   "mimetype": "text/x-python",
   "name": "python",
   "nbconvert_exporter": "python",
   "pygments_lexer": "ipython3",
   "version": "3.9.12"
  },
  "toc": {
   "base_numbering": 1,
   "nav_menu": {},
   "number_sections": true,
   "sideBar": true,
   "skip_h1_title": true,
   "title_cell": "Содержание",
   "title_sidebar": "Contents",
   "toc_cell": true,
   "toc_position": {
    "height": "calc(100% - 180px)",
    "left": "10px",
    "top": "150px",
    "width": "165px"
   },
   "toc_section_display": true,
   "toc_window_display": true
  }
 },
 "nbformat": 4,
 "nbformat_minor": 4
}
