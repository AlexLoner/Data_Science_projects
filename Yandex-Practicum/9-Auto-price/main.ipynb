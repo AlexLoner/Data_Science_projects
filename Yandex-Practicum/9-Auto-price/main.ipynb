{
 "cells": [
  {
   "cell_type": "markdown",
   "metadata": {},
   "source": [
    "# Определение стоимости автомобилей"
   ]
  },
  {
   "cell_type": "markdown",
   "metadata": {},
   "source": [
    "Сервис по продаже автомобилей с пробегом «Не бит, не крашен» разрабатывает приложение для привлечения новых клиентов. В нём можно быстро узнать рыночную стоимость своего автомобиля. В вашем распоряжении исторические данные: технические характеристики, комплектации и цены автомобилей. Вам нужно построить модель для определения стоимости. \n",
    "\n",
    "Заказчику важны:\n",
    "\n",
    "- качество предсказания;\n",
    "- скорость предсказания;\n",
    "- время обучения."
   ]
  },
  {
   "cell_type": "markdown",
   "metadata": {},
   "source": [
    "### Признаки\n",
    "* DateCrawled — дата скачивания анкеты из базы\n",
    "* VehicleType — тип автомобильного кузова\n",
    "* RegistrationYear — год регистрации автомобиля\n",
    "* Gearbox — тип коробки передач\n",
    "* Power — мощность (л. с.)\n",
    "* Model — модель автомобиля\n",
    "* Kilometer — пробег (км)\n",
    "* RegistrationMonth — месяц регистрации автомобиля\n",
    "* FuelType — тип топлива\n",
    "* Brand — марка автомобиля\n",
    "* Repaired — была машина в ремонте или нет\n",
    "* DateCreated — дата создания анкеты\n",
    "* NumberOfPictures — количество фотографий автомобиля\n",
    "* PostalCode — почтовый индекс владельца анкеты (пользователя)\n",
    "* LastSeen — дата последней активности пользователя\n",
    "\n",
    "### Целевой признак\n",
    "* Price — цена (евро)"
   ]
  },
  {
   "cell_type": "code",
   "execution_count": 1,
   "metadata": {},
   "outputs": [
    {
     "name": "stdout",
     "output_type": "stream",
     "text": [
      "Requirement already satisfied: catboost in /opt/conda/lib/python3.9/site-packages (1.0.3)\n",
      "Requirement already satisfied: scipy in /opt/conda/lib/python3.9/site-packages (from catboost) (1.9.1)\n",
      "Requirement already satisfied: plotly in /opt/conda/lib/python3.9/site-packages (from catboost) (5.4.0)\n",
      "Requirement already satisfied: graphviz in /opt/conda/lib/python3.9/site-packages (from catboost) (0.20.1)\n",
      "Requirement already satisfied: matplotlib in /opt/conda/lib/python3.9/site-packages (from catboost) (3.3.4)\n",
      "Requirement already satisfied: numpy>=1.16.0 in /opt/conda/lib/python3.9/site-packages (from catboost) (1.21.1)\n",
      "Requirement already satisfied: pandas>=0.24.0 in /opt/conda/lib/python3.9/site-packages (from catboost) (1.2.4)\n",
      "Requirement already satisfied: six in /opt/conda/lib/python3.9/site-packages (from catboost) (1.16.0)\n",
      "Requirement already satisfied: python-dateutil>=2.7.3 in /opt/conda/lib/python3.9/site-packages (from pandas>=0.24.0->catboost) (2.8.1)\n",
      "Requirement already satisfied: pytz>=2017.3 in /opt/conda/lib/python3.9/site-packages (from pandas>=0.24.0->catboost) (2021.1)\n",
      "Requirement already satisfied: pyparsing!=2.0.4,!=2.1.2,!=2.1.6,>=2.0.3 in /opt/conda/lib/python3.9/site-packages (from matplotlib->catboost) (2.4.7)\n",
      "Requirement already satisfied: cycler>=0.10 in /opt/conda/lib/python3.9/site-packages (from matplotlib->catboost) (0.11.0)\n",
      "Requirement already satisfied: pillow>=6.2.0 in /opt/conda/lib/python3.9/site-packages (from matplotlib->catboost) (8.4.0)\n",
      "Requirement already satisfied: kiwisolver>=1.0.1 in /opt/conda/lib/python3.9/site-packages (from matplotlib->catboost) (1.4.4)\n",
      "Requirement already satisfied: tenacity>=6.2.0 in /opt/conda/lib/python3.9/site-packages (from plotly->catboost) (8.0.1)\n"
     ]
    }
   ],
   "source": [
    "!pip install catboost"
   ]
  },
  {
   "cell_type": "code",
   "execution_count": 2,
   "metadata": {},
   "outputs": [
    {
     "name": "stdout",
     "output_type": "stream",
     "text": [
      "Collecting scikit-optimize\n",
      "  Downloading scikit_optimize-0.9.0-py2.py3-none-any.whl (100 kB)\n",
      "\u001b[K     |████████████████████████████████| 100 kB 1.7 MB/s ta 0:00:01\n",
      "\u001b[?25hCollecting pyaml>=16.9\n",
      "  Downloading pyaml-21.10.1-py2.py3-none-any.whl (24 kB)\n",
      "Requirement already satisfied: scikit-learn>=0.20.0 in /opt/conda/lib/python3.9/site-packages (from scikit-optimize) (0.24.1)\n",
      "Requirement already satisfied: numpy>=1.13.3 in /opt/conda/lib/python3.9/site-packages (from scikit-optimize) (1.21.1)\n",
      "Requirement already satisfied: scipy>=0.19.1 in /opt/conda/lib/python3.9/site-packages (from scikit-optimize) (1.9.1)\n",
      "Requirement already satisfied: joblib>=0.11 in /opt/conda/lib/python3.9/site-packages (from scikit-optimize) (1.1.0)\n",
      "Requirement already satisfied: PyYAML in /opt/conda/lib/python3.9/site-packages (from pyaml>=16.9->scikit-optimize) (6.0)\n",
      "Requirement already satisfied: threadpoolctl>=2.0.0 in /opt/conda/lib/python3.9/site-packages (from scikit-learn>=0.20.0->scikit-optimize) (3.1.0)\n",
      "Installing collected packages: pyaml, scikit-optimize\n",
      "Successfully installed pyaml-21.10.1 scikit-optimize-0.9.0\n"
     ]
    }
   ],
   "source": [
    "!pip install scikit-optimize"
   ]
  },
  {
   "cell_type": "code",
   "execution_count": 3,
   "metadata": {},
   "outputs": [
    {
     "name": "stdout",
     "output_type": "stream",
     "text": [
      "Requirement already satisfied: lightgbm in /opt/conda/lib/python3.9/site-packages (3.3.1)\r\n",
      "Requirement already satisfied: wheel in /opt/conda/lib/python3.9/site-packages (from lightgbm) (0.36.2)\r\n",
      "Requirement already satisfied: numpy in /opt/conda/lib/python3.9/site-packages (from lightgbm) (1.21.1)\r\n",
      "Requirement already satisfied: scipy in /opt/conda/lib/python3.9/site-packages (from lightgbm) (1.9.1)\r\n",
      "Requirement already satisfied: scikit-learn!=0.22.0 in /opt/conda/lib/python3.9/site-packages (from lightgbm) (0.24.1)\r\n",
      "Requirement already satisfied: joblib>=0.11 in /opt/conda/lib/python3.9/site-packages (from scikit-learn!=0.22.0->lightgbm) (1.1.0)\r\n",
      "Requirement already satisfied: threadpoolctl>=2.0.0 in /opt/conda/lib/python3.9/site-packages (from scikit-learn!=0.22.0->lightgbm) (3.1.0)\r\n"
     ]
    }
   ],
   "source": [
    "!pip install lightgbm"
   ]
  },
  {
   "cell_type": "code",
   "execution_count": 4,
   "metadata": {},
   "outputs": [
    {
     "name": "stdout",
     "output_type": "stream",
     "text": [
      "Collecting phik\n",
      "  Downloading phik-0.12.3-cp39-cp39-manylinux_2_17_x86_64.manylinux2014_x86_64.whl (679 kB)\n",
      "\u001b[K     |████████████████████████████████| 679 kB 1.3 MB/s eta 0:00:01\n",
      "\u001b[?25hRequirement already satisfied: matplotlib>=2.2.3 in /opt/conda/lib/python3.9/site-packages (from phik) (3.3.4)\n",
      "Requirement already satisfied: joblib>=0.14.1 in /opt/conda/lib/python3.9/site-packages (from phik) (1.1.0)\n",
      "Requirement already satisfied: numpy>=1.18.0 in /opt/conda/lib/python3.9/site-packages (from phik) (1.21.1)\n",
      "Requirement already satisfied: pandas>=0.25.1 in /opt/conda/lib/python3.9/site-packages (from phik) (1.2.4)\n",
      "Requirement already satisfied: scipy>=1.5.2 in /opt/conda/lib/python3.9/site-packages (from phik) (1.9.1)\n",
      "Requirement already satisfied: pillow>=6.2.0 in /opt/conda/lib/python3.9/site-packages (from matplotlib>=2.2.3->phik) (8.4.0)\n",
      "Requirement already satisfied: cycler>=0.10 in /opt/conda/lib/python3.9/site-packages (from matplotlib>=2.2.3->phik) (0.11.0)\n",
      "Requirement already satisfied: pyparsing!=2.0.4,!=2.1.2,!=2.1.6,>=2.0.3 in /opt/conda/lib/python3.9/site-packages (from matplotlib>=2.2.3->phik) (2.4.7)\n",
      "Requirement already satisfied: kiwisolver>=1.0.1 in /opt/conda/lib/python3.9/site-packages (from matplotlib>=2.2.3->phik) (1.4.4)\n",
      "Requirement already satisfied: python-dateutil>=2.1 in /opt/conda/lib/python3.9/site-packages (from matplotlib>=2.2.3->phik) (2.8.1)\n",
      "Requirement already satisfied: pytz>=2017.3 in /opt/conda/lib/python3.9/site-packages (from pandas>=0.25.1->phik) (2021.1)\n",
      "Requirement already satisfied: six>=1.5 in /opt/conda/lib/python3.9/site-packages (from python-dateutil>=2.1->matplotlib>=2.2.3->phik) (1.16.0)\n",
      "Installing collected packages: phik\n",
      "Successfully installed phik-0.12.3\n"
     ]
    }
   ],
   "source": [
    "!pip install phik"
   ]
  },
  {
   "cell_type": "code",
   "execution_count": 5,
   "metadata": {},
   "outputs": [],
   "source": [
    "import time\n",
    "import warnings\n",
    "import pandas as pd\n",
    "import numpy as np\n",
    "import seaborn as sns\n",
    "import matplotlib.pyplot as plt\n",
    "from scipy.sparse import csr_matrix, hstack\n",
    "\n",
    "from sklearn.model_selection import train_test_split, cross_validate, RandomizedSearchCV, GridSearchCV\n",
    "from sklearn.preprocessing import OneHotEncoder, LabelEncoder, StandardScaler, OrdinalEncoder\n",
    "from sklearn.metrics import mean_squared_error, make_scorer\n",
    "from sklearn.pipeline import Pipeline\n",
    "from sklearn.linear_model import Ridge\n",
    "from sklearn.ensemble import RandomForestRegressor\n",
    "from sklearn.compose import ColumnTransformer\n",
    "\n",
    "from catboost import CatBoostRegressor\n",
    "from skopt import BayesSearchCV\n",
    "from skopt.space import Real, Categorical, Integer\n",
    "from skopt.plots import plot_objective\n",
    "\n",
    "import lightgbm as lgb\n",
    "from phik import phik_matrix\n",
    "\n",
    "\n",
    "from matplotlib_inline.backend_inline import set_matplotlib_formats\n",
    "set_matplotlib_formats('retina')"
   ]
  },
  {
   "cell_type": "markdown",
   "metadata": {},
   "source": [
    "## Подготовка данных"
   ]
  },
  {
   "cell_type": "code",
   "execution_count": 6,
   "metadata": {},
   "outputs": [],
   "source": [
    "try: \n",
    "    data = pd.read_csv('/datasets/autos.csv')\n",
    "except:\n",
    "    data = pd.read_csv('autos.csv')"
   ]
  },
  {
   "cell_type": "markdown",
   "metadata": {},
   "source": [
    "### Знакомство с данными"
   ]
  },
  {
   "cell_type": "markdown",
   "metadata": {},
   "source": [
    "Посмотрим на пропуски "
   ]
  },
  {
   "cell_type": "code",
   "execution_count": 7,
   "metadata": {},
   "outputs": [
    {
     "data": {
      "image/png": "[encoded data removed]",
      "text/plain": [
       "<Figure size 432x360 with 1 Axes>"
      ]
     },
     "metadata": {
      "image/png": {
       "height": 331,
       "width": 471
      },
      "needs_background": "light"
     },
     "output_type": "display_data"
    }
   ],
   "source": [
    "na_count = pd.DataFrame(data.isna().sum(axis=0)).rename(columns={0: \"nans\"}).reset_index()\n",
    "na_count['percent'] = 100 * na_count['nans'] / data.shape[0]\n",
    "\n",
    "fig, ax = plt.subplots(figsize=(6, 5))\n",
    "for i in range(na_count.shape[0]):\n",
    "    ax.annotate(f\"{na_count.loc[i, 'percent']:.1f}%\", xy=(na_count.loc[i, 'percent'] + 5, i+0.25) )\n",
    "sns.barplot(data=na_count, y='index', x='percent', orient='h', ax=ax, color='tab:purple')\n",
    "ax.set(xlim = (0, 100), ylabel=\"parameter\", title=\"Total amount of Nans\");"
   ]
  },
  {
   "cell_type": "code",
   "execution_count": 8,
   "metadata": {},
   "outputs": [
    {
     "data": {
      "text/html": [
       "<div>\n",
       "<style scoped>\n",
       "    .dataframe tbody tr th:only-of-type {\n",
       "        vertical-align: middle;\n",
       "    }\n",
       "\n",
       "    .dataframe tbody tr th {\n",
       "        vertical-align: top;\n",
       "    }\n",
       "\n",
       "    .dataframe thead th {\n",
       "        text-align: right;\n",
       "    }\n",
       "</style>\n",
       "<table border=\"1\" class=\"dataframe\">\n",
       "  <thead>\n",
       "    <tr style=\"text-align: right;\">\n",
       "      <th></th>\n",
       "      <th>DateCrawled</th>\n",
       "      <th>Price</th>\n",
       "      <th>VehicleType</th>\n",
       "      <th>RegistrationYear</th>\n",
       "      <th>Gearbox</th>\n",
       "      <th>Power</th>\n",
       "      <th>Model</th>\n",
       "      <th>Kilometer</th>\n",
       "      <th>RegistrationMonth</th>\n",
       "      <th>FuelType</th>\n",
       "      <th>Brand</th>\n",
       "      <th>Repaired</th>\n",
       "      <th>DateCreated</th>\n",
       "      <th>NumberOfPictures</th>\n",
       "      <th>PostalCode</th>\n",
       "      <th>LastSeen</th>\n",
       "    </tr>\n",
       "  </thead>\n",
       "  <tbody>\n",
       "    <tr>\n",
       "      <th>0</th>\n",
       "      <td>2016-03-24 11:52:17</td>\n",
       "      <td>480</td>\n",
       "      <td>NaN</td>\n",
       "      <td>1993</td>\n",
       "      <td>manual</td>\n",
       "      <td>0</td>\n",
       "      <td>golf</td>\n",
       "      <td>150000</td>\n",
       "      <td>0</td>\n",
       "      <td>petrol</td>\n",
       "      <td>volkswagen</td>\n",
       "      <td>NaN</td>\n",
       "      <td>2016-03-24 00:00:00</td>\n",
       "      <td>0</td>\n",
       "      <td>70435</td>\n",
       "      <td>2016-04-07 03:16:57</td>\n",
       "    </tr>\n",
       "    <tr>\n",
       "      <th>1</th>\n",
       "      <td>2016-03-24 10:58:45</td>\n",
       "      <td>18300</td>\n",
       "      <td>coupe</td>\n",
       "      <td>2011</td>\n",
       "      <td>manual</td>\n",
       "      <td>190</td>\n",
       "      <td>NaN</td>\n",
       "      <td>125000</td>\n",
       "      <td>5</td>\n",
       "      <td>gasoline</td>\n",
       "      <td>audi</td>\n",
       "      <td>yes</td>\n",
       "      <td>2016-03-24 00:00:00</td>\n",
       "      <td>0</td>\n",
       "      <td>66954</td>\n",
       "      <td>2016-04-07 01:46:50</td>\n",
       "    </tr>\n",
       "    <tr>\n",
       "      <th>2</th>\n",
       "      <td>2016-03-14 12:52:21</td>\n",
       "      <td>9800</td>\n",
       "      <td>suv</td>\n",
       "      <td>2004</td>\n",
       "      <td>auto</td>\n",
       "      <td>163</td>\n",
       "      <td>grand</td>\n",
       "      <td>125000</td>\n",
       "      <td>8</td>\n",
       "      <td>gasoline</td>\n",
       "      <td>jeep</td>\n",
       "      <td>NaN</td>\n",
       "      <td>2016-03-14 00:00:00</td>\n",
       "      <td>0</td>\n",
       "      <td>90480</td>\n",
       "      <td>2016-04-05 12:47:46</td>\n",
       "    </tr>\n",
       "    <tr>\n",
       "      <th>3</th>\n",
       "      <td>2016-03-17 16:54:04</td>\n",
       "      <td>1500</td>\n",
       "      <td>small</td>\n",
       "      <td>2001</td>\n",
       "      <td>manual</td>\n",
       "      <td>75</td>\n",
       "      <td>golf</td>\n",
       "      <td>150000</td>\n",
       "      <td>6</td>\n",
       "      <td>petrol</td>\n",
       "      <td>volkswagen</td>\n",
       "      <td>no</td>\n",
       "      <td>2016-03-17 00:00:00</td>\n",
       "      <td>0</td>\n",
       "      <td>91074</td>\n",
       "      <td>2016-03-17 17:40:17</td>\n",
       "    </tr>\n",
       "    <tr>\n",
       "      <th>4</th>\n",
       "      <td>2016-03-31 17:25:20</td>\n",
       "      <td>3600</td>\n",
       "      <td>small</td>\n",
       "      <td>2008</td>\n",
       "      <td>manual</td>\n",
       "      <td>69</td>\n",
       "      <td>fabia</td>\n",
       "      <td>90000</td>\n",
       "      <td>7</td>\n",
       "      <td>gasoline</td>\n",
       "      <td>skoda</td>\n",
       "      <td>no</td>\n",
       "      <td>2016-03-31 00:00:00</td>\n",
       "      <td>0</td>\n",
       "      <td>60437</td>\n",
       "      <td>2016-04-06 10:17:21</td>\n",
       "    </tr>\n",
       "  </tbody>\n",
       "</table>\n",
       "</div>"
      ],
      "text/plain": [
       "           DateCrawled  Price VehicleType  RegistrationYear Gearbox  Power  \\\n",
       "0  2016-03-24 11:52:17    480         NaN              1993  manual      0   \n",
       "1  2016-03-24 10:58:45  18300       coupe              2011  manual    190   \n",
       "2  2016-03-14 12:52:21   9800         suv              2004    auto    163   \n",
       "3  2016-03-17 16:54:04   1500       small              2001  manual     75   \n",
       "4  2016-03-31 17:25:20   3600       small              2008  manual     69   \n",
       "\n",
       "   Model  Kilometer  RegistrationMonth  FuelType       Brand Repaired  \\\n",
       "0   golf     150000                  0    petrol  volkswagen      NaN   \n",
       "1    NaN     125000                  5  gasoline        audi      yes   \n",
       "2  grand     125000                  8  gasoline        jeep      NaN   \n",
       "3   golf     150000                  6    petrol  volkswagen       no   \n",
       "4  fabia      90000                  7  gasoline       skoda       no   \n",
       "\n",
       "           DateCreated  NumberOfPictures  PostalCode             LastSeen  \n",
       "0  2016-03-24 00:00:00                 0       70435  2016-04-07 03:16:57  \n",
       "1  2016-03-24 00:00:00                 0       66954  2016-04-07 01:46:50  \n",
       "2  2016-03-14 00:00:00                 0       90480  2016-04-05 12:47:46  \n",
       "3  2016-03-17 00:00:00                 0       91074  2016-03-17 17:40:17  \n",
       "4  2016-03-31 00:00:00                 0       60437  2016-04-06 10:17:21  "
      ]
     },
     "execution_count": 8,
     "metadata": {},
     "output_type": "execute_result"
    }
   ],
   "source": [
    "data.head()"
   ]
  },
  {
   "cell_type": "markdown",
   "metadata": {},
   "source": [
    "Сделаем имена колонок по-другому"
   ]
  },
  {
   "cell_type": "code",
   "execution_count": 9,
   "metadata": {},
   "outputs": [],
   "source": [
    "data.columns = data.columns.str.lower()\n",
    "data = data.rename(\n",
    "    columns={\n",
    "        'datecrawled': 'date_crawled',\n",
    "        'vehicletype': 'vehicle_type', \n",
    "        'registrationyear': 'registration_year',\n",
    "        'registrationmonth': 'registration_month',\n",
    "        'fueltype': 'fuel_type', \n",
    "        'datecreated' : 'date_created', \n",
    "        'numberofpictures' : 'number_pictures', \n",
    "        'postalcode' : 'postal_code',\n",
    "        'lastseen': 'last_seen'\n",
    "    }\n",
    ")"
   ]
  },
  {
   "cell_type": "markdown",
   "metadata": {},
   "source": [
    "Посмотрим на численные признаки"
   ]
  },
  {
   "cell_type": "code",
   "execution_count": 10,
   "metadata": {
    "scrolled": true
   },
   "outputs": [
    {
     "data": {
      "text/html": [
       "<div>\n",
       "<style scoped>\n",
       "    .dataframe tbody tr th:only-of-type {\n",
       "        vertical-align: middle;\n",
       "    }\n",
       "\n",
       "    .dataframe tbody tr th {\n",
       "        vertical-align: top;\n",
       "    }\n",
       "\n",
       "    .dataframe thead th {\n",
       "        text-align: right;\n",
       "    }\n",
       "</style>\n",
       "<table border=\"1\" class=\"dataframe\">\n",
       "  <thead>\n",
       "    <tr style=\"text-align: right;\">\n",
       "      <th></th>\n",
       "      <th>price</th>\n",
       "      <th>registration_year</th>\n",
       "      <th>power</th>\n",
       "      <th>kilometer</th>\n",
       "      <th>registration_month</th>\n",
       "      <th>number_pictures</th>\n",
       "      <th>postal_code</th>\n",
       "    </tr>\n",
       "  </thead>\n",
       "  <tbody>\n",
       "    <tr>\n",
       "      <th>count</th>\n",
       "      <td>354369.000000</td>\n",
       "      <td>354369.000000</td>\n",
       "      <td>354369.000000</td>\n",
       "      <td>354369.000000</td>\n",
       "      <td>354369.000000</td>\n",
       "      <td>354369.0</td>\n",
       "      <td>354369.000000</td>\n",
       "    </tr>\n",
       "    <tr>\n",
       "      <th>mean</th>\n",
       "      <td>4416.656776</td>\n",
       "      <td>2004.234448</td>\n",
       "      <td>110.094337</td>\n",
       "      <td>128211.172535</td>\n",
       "      <td>5.714645</td>\n",
       "      <td>0.0</td>\n",
       "      <td>50508.689087</td>\n",
       "    </tr>\n",
       "    <tr>\n",
       "      <th>std</th>\n",
       "      <td>4514.158514</td>\n",
       "      <td>90.227958</td>\n",
       "      <td>189.850405</td>\n",
       "      <td>37905.341530</td>\n",
       "      <td>3.726421</td>\n",
       "      <td>0.0</td>\n",
       "      <td>25783.096248</td>\n",
       "    </tr>\n",
       "    <tr>\n",
       "      <th>min</th>\n",
       "      <td>0.000000</td>\n",
       "      <td>1000.000000</td>\n",
       "      <td>0.000000</td>\n",
       "      <td>5000.000000</td>\n",
       "      <td>0.000000</td>\n",
       "      <td>0.0</td>\n",
       "      <td>1067.000000</td>\n",
       "    </tr>\n",
       "    <tr>\n",
       "      <th>25%</th>\n",
       "      <td>1050.000000</td>\n",
       "      <td>1999.000000</td>\n",
       "      <td>69.000000</td>\n",
       "      <td>125000.000000</td>\n",
       "      <td>3.000000</td>\n",
       "      <td>0.0</td>\n",
       "      <td>30165.000000</td>\n",
       "    </tr>\n",
       "    <tr>\n",
       "      <th>50%</th>\n",
       "      <td>2700.000000</td>\n",
       "      <td>2003.000000</td>\n",
       "      <td>105.000000</td>\n",
       "      <td>150000.000000</td>\n",
       "      <td>6.000000</td>\n",
       "      <td>0.0</td>\n",
       "      <td>49413.000000</td>\n",
       "    </tr>\n",
       "    <tr>\n",
       "      <th>75%</th>\n",
       "      <td>6400.000000</td>\n",
       "      <td>2008.000000</td>\n",
       "      <td>143.000000</td>\n",
       "      <td>150000.000000</td>\n",
       "      <td>9.000000</td>\n",
       "      <td>0.0</td>\n",
       "      <td>71083.000000</td>\n",
       "    </tr>\n",
       "    <tr>\n",
       "      <th>max</th>\n",
       "      <td>20000.000000</td>\n",
       "      <td>9999.000000</td>\n",
       "      <td>20000.000000</td>\n",
       "      <td>150000.000000</td>\n",
       "      <td>12.000000</td>\n",
       "      <td>0.0</td>\n",
       "      <td>99998.000000</td>\n",
       "    </tr>\n",
       "  </tbody>\n",
       "</table>\n",
       "</div>"
      ],
      "text/plain": [
       "               price  registration_year          power      kilometer  \\\n",
       "count  354369.000000      354369.000000  354369.000000  354369.000000   \n",
       "mean     4416.656776        2004.234448     110.094337  128211.172535   \n",
       "std      4514.158514          90.227958     189.850405   37905.341530   \n",
       "min         0.000000        1000.000000       0.000000    5000.000000   \n",
       "25%      1050.000000        1999.000000      69.000000  125000.000000   \n",
       "50%      2700.000000        2003.000000     105.000000  150000.000000   \n",
       "75%      6400.000000        2008.000000     143.000000  150000.000000   \n",
       "max     20000.000000        9999.000000   20000.000000  150000.000000   \n",
       "\n",
       "       registration_month  number_pictures    postal_code  \n",
       "count       354369.000000         354369.0  354369.000000  \n",
       "mean             5.714645              0.0   50508.689087  \n",
       "std              3.726421              0.0   25783.096248  \n",
       "min              0.000000              0.0    1067.000000  \n",
       "25%              3.000000              0.0   30165.000000  \n",
       "50%              6.000000              0.0   49413.000000  \n",
       "75%              9.000000              0.0   71083.000000  \n",
       "max             12.000000              0.0   99998.000000  "
      ]
     },
     "execution_count": 10,
     "metadata": {},
     "output_type": "execute_result"
    }
   ],
   "source": [
    "data.describe()"
   ]
  },
  {
   "cell_type": "markdown",
   "metadata": {},
   "source": [
    "Что видно сразу:\n",
    "\n",
    "1. `number_pictures` - бесполезный, все значения нули\n",
    "2. `price` и `power` - есть нулевые значения и, судя по `power`,  есть автомобили с ракетными двигателями)\n",
    "3. `registration_year` - 1000, 9999 странное значение\n",
    "4. `kilometer` - большинство значений сгруппировано около максимума 150_000, может так и должно быть, пока не ясно"
   ]
  },
  {
   "cell_type": "code",
   "execution_count": 11,
   "metadata": {
    "scrolled": true
   },
   "outputs": [
    {
     "data": {
      "text/plain": [
       "Index(['date_crawled', 'price', 'vehicle_type', 'registration_year', 'gearbox',\n",
       "       'power', 'model', 'kilometer', 'registration_month', 'fuel_type',\n",
       "       'brand', 'repaired', 'date_created', 'number_pictures', 'postal_code',\n",
       "       'last_seen'],\n",
       "      dtype='object')"
      ]
     },
     "execution_count": 11,
     "metadata": {},
     "output_type": "execute_result"
    }
   ],
   "source": [
    "data.columns"
   ]
  },
  {
   "cell_type": "markdown",
   "metadata": {},
   "source": [
    "### Обработка аномалий"
   ]
  },
  {
   "cell_type": "markdown",
   "metadata": {},
   "source": [
    "#### Неинформативные признаки"
   ]
  },
  {
   "cell_type": "markdown",
   "metadata": {},
   "source": [
    "Сразу удалю столбец с числом картинок - там везде одинаковое значение. И еще `registration_month` он мне сразу не понравился) но и чисто эмпирически он ничего не дал"
   ]
  },
  {
   "cell_type": "code",
   "execution_count": 12,
   "metadata": {},
   "outputs": [],
   "source": [
    "data = data.drop(labels=['number_pictures', 'registration_month'], axis=1)"
   ]
  },
  {
   "cell_type": "markdown",
   "metadata": {},
   "source": [
    "Отделим признаки по категориям, потом может пригодится"
   ]
  },
  {
   "cell_type": "code",
   "execution_count": 13,
   "metadata": {},
   "outputs": [],
   "source": [
    "times = ['date_crawled', 'date_created', 'last_seen']\n",
    "numbers = ['power', 'kilometer']\n",
    "categorial = list(set(data.columns) - set(numbers) - set(times))"
   ]
  },
  {
   "cell_type": "code",
   "execution_count": 14,
   "metadata": {},
   "outputs": [
    {
     "name": "stdout",
     "output_type": "stream",
     "text": [
      "interval columns not set, guessing: ['power', 'kilometer', 'postal_code', 'price', 'registration_year']\n"
     ]
    }
   ],
   "source": [
    "phik_mtx = phik_matrix(data.loc[:, numbers+categorial])"
   ]
  },
  {
   "cell_type": "code",
   "execution_count": 15,
   "metadata": {},
   "outputs": [
    {
     "data": {
      "image/png": "[encoded data removed]",
      "text/plain": [
       "<Figure size 576x504 with 2 Axes>"
      ]
     },
     "metadata": {
      "image/png": {
       "height": 491,
       "width": 543
      },
      "needs_background": "light"
     },
     "output_type": "display_data"
    }
   ],
   "source": [
    "fig, ax = plt.subplots(figsize=(8,7))\n",
    "sns.heatmap(phik_mtx, \n",
    "            annot=True, \n",
    "            fmt='.2f',\n",
    "            cmap=plt.cm.PuOr,\n",
    "            vmin=-1, vmax=1\n",
    ");"
   ]
  },
  {
   "cell_type": "markdown",
   "metadata": {},
   "source": [
    "Получилась единица между `model` и `brand`. Как мне кажется, это логично по модели должно быть возможно восстановить бренд. Зависимость в `phik` матрице улавливается не обязательно линейная, поэтому можно оставить оба признака."
   ]
  },
  {
   "cell_type": "markdown",
   "metadata": {},
   "source": [
    "Удалим еще `price` из категориальных признаков"
   ]
  },
  {
   "cell_type": "code",
   "execution_count": 16,
   "metadata": {},
   "outputs": [],
   "source": [
    "categorial.remove('price')"
   ]
  },
  {
   "cell_type": "markdown",
   "metadata": {},
   "source": [
    "#### Нулевые значения\n"
   ]
  },
  {
   "cell_type": "markdown",
   "metadata": {},
   "source": [
    "Ранее мы приметили, что в столбах `price` и `power` есть нулевые значения. `price` у нас целевая переменная, поэтому восстанавливать значения не будем, просто уберем нули"
   ]
  },
  {
   "cell_type": "code",
   "execution_count": 17,
   "metadata": {},
   "outputs": [
    {
     "data": {
      "text/plain": [
       "0.030397692800442477"
      ]
     },
     "execution_count": 17,
     "metadata": {},
     "output_type": "execute_result"
    }
   ],
   "source": [
    "(data['price'] == 0).sum() / data.shape[0]"
   ]
  },
  {
   "cell_type": "markdown",
   "metadata": {},
   "source": [
    "3% не жалко)"
   ]
  },
  {
   "cell_type": "code",
   "execution_count": 18,
   "metadata": {},
   "outputs": [],
   "source": [
    "data = data[data['price'] > 0].reset_index(drop=True)"
   ]
  },
  {
   "cell_type": "markdown",
   "metadata": {},
   "source": [
    "Теперь оценим число нулей для `power`"
   ]
  },
  {
   "cell_type": "code",
   "execution_count": 19,
   "metadata": {},
   "outputs": [
    {
     "data": {
      "text/plain": [
       "0.1058216457070347"
      ]
     },
     "execution_count": 19,
     "metadata": {},
     "output_type": "execute_result"
    }
   ],
   "source": [
    "(data['power'] == 0).sum() / data.shape[0]"
   ]
  },
  {
   "cell_type": "markdown",
   "metadata": {},
   "source": [
    "Тут уже жалко) Заполнять средним или медианой по всем значениям, мне кажется, не стоит, так как можно сделать похитрее. Например, есть предположение, что мощность машины будет связана с ее типом или брендом."
   ]
  },
  {
   "cell_type": "code",
   "execution_count": 20,
   "metadata": {},
   "outputs": [
    {
     "data": {
      "text/html": [
       "<div>\n",
       "<style scoped>\n",
       "    .dataframe tbody tr th:only-of-type {\n",
       "        vertical-align: middle;\n",
       "    }\n",
       "\n",
       "    .dataframe tbody tr th {\n",
       "        vertical-align: top;\n",
       "    }\n",
       "\n",
       "    .dataframe thead tr th {\n",
       "        text-align: left;\n",
       "    }\n",
       "\n",
       "    .dataframe thead tr:last-of-type th {\n",
       "        text-align: right;\n",
       "    }\n",
       "</style>\n",
       "<table border=\"1\" class=\"dataframe\">\n",
       "  <thead>\n",
       "    <tr>\n",
       "      <th></th>\n",
       "      <th colspan=\"8\" halign=\"left\">mean</th>\n",
       "      <th colspan=\"8\" halign=\"left\">median</th>\n",
       "    </tr>\n",
       "    <tr>\n",
       "      <th>vehicle_type</th>\n",
       "      <th>bus</th>\n",
       "      <th>convertible</th>\n",
       "      <th>coupe</th>\n",
       "      <th>other</th>\n",
       "      <th>sedan</th>\n",
       "      <th>small</th>\n",
       "      <th>suv</th>\n",
       "      <th>wagon</th>\n",
       "      <th>bus</th>\n",
       "      <th>convertible</th>\n",
       "      <th>coupe</th>\n",
       "      <th>other</th>\n",
       "      <th>sedan</th>\n",
       "      <th>small</th>\n",
       "      <th>suv</th>\n",
       "      <th>wagon</th>\n",
       "    </tr>\n",
       "    <tr>\n",
       "      <th>brand</th>\n",
       "      <th></th>\n",
       "      <th></th>\n",
       "      <th></th>\n",
       "      <th></th>\n",
       "      <th></th>\n",
       "      <th></th>\n",
       "      <th></th>\n",
       "      <th></th>\n",
       "      <th></th>\n",
       "      <th></th>\n",
       "      <th></th>\n",
       "      <th></th>\n",
       "      <th></th>\n",
       "      <th></th>\n",
       "      <th></th>\n",
       "      <th></th>\n",
       "    </tr>\n",
       "  </thead>\n",
       "  <tbody>\n",
       "    <tr>\n",
       "      <th>alfa_romeo</th>\n",
       "      <td>NaN</td>\n",
       "      <td>137.711864</td>\n",
       "      <td>221.898230</td>\n",
       "      <td>86.714286</td>\n",
       "      <td>129.837719</td>\n",
       "      <td>173.072340</td>\n",
       "      <td>NaN</td>\n",
       "      <td>152.454545</td>\n",
       "      <td>NaN</td>\n",
       "      <td>150.0</td>\n",
       "      <td>150.0</td>\n",
       "      <td>104.5</td>\n",
       "      <td>135.5</td>\n",
       "      <td>105.0</td>\n",
       "      <td>NaN</td>\n",
       "      <td>150.0</td>\n",
       "    </tr>\n",
       "    <tr>\n",
       "      <th>audi</th>\n",
       "      <td>89.900000</td>\n",
       "      <td>175.225806</td>\n",
       "      <td>184.919399</td>\n",
       "      <td>120.682243</td>\n",
       "      <td>143.353002</td>\n",
       "      <td>95.899220</td>\n",
       "      <td>208.774011</td>\n",
       "      <td>163.574582</td>\n",
       "      <td>75.0</td>\n",
       "      <td>163.0</td>\n",
       "      <td>180.0</td>\n",
       "      <td>115.0</td>\n",
       "      <td>131.0</td>\n",
       "      <td>101.0</td>\n",
       "      <td>239.0</td>\n",
       "      <td>150.0</td>\n",
       "    </tr>\n",
       "    <tr>\n",
       "      <th>bmw</th>\n",
       "      <td>112.833333</td>\n",
       "      <td>164.037199</td>\n",
       "      <td>158.037469</td>\n",
       "      <td>125.683036</td>\n",
       "      <td>158.265966</td>\n",
       "      <td>108.304348</td>\n",
       "      <td>184.995031</td>\n",
       "      <td>178.455236</td>\n",
       "      <td>150.0</td>\n",
       "      <td>170.0</td>\n",
       "      <td>150.0</td>\n",
       "      <td>115.0</td>\n",
       "      <td>150.0</td>\n",
       "      <td>115.0</td>\n",
       "      <td>204.0</td>\n",
       "      <td>170.0</td>\n",
       "    </tr>\n",
       "    <tr>\n",
       "      <th>chevrolet</th>\n",
       "      <td>166.365385</td>\n",
       "      <td>228.882353</td>\n",
       "      <td>180.550562</td>\n",
       "      <td>161.906977</td>\n",
       "      <td>120.134529</td>\n",
       "      <td>83.596552</td>\n",
       "      <td>168.482759</td>\n",
       "      <td>119.409524</td>\n",
       "      <td>163.0</td>\n",
       "      <td>193.0</td>\n",
       "      <td>190.0</td>\n",
       "      <td>163.0</td>\n",
       "      <td>124.0</td>\n",
       "      <td>68.0</td>\n",
       "      <td>163.0</td>\n",
       "      <td>121.0</td>\n",
       "    </tr>\n",
       "    <tr>\n",
       "      <th>chrysler</th>\n",
       "      <td>133.640964</td>\n",
       "      <td>145.697368</td>\n",
       "      <td>206.872340</td>\n",
       "      <td>140.666667</td>\n",
       "      <td>162.412186</td>\n",
       "      <td>129.250000</td>\n",
       "      <td>278.478261</td>\n",
       "      <td>162.485477</td>\n",
       "      <td>150.0</td>\n",
       "      <td>143.0</td>\n",
       "      <td>218.0</td>\n",
       "      <td>140.0</td>\n",
       "      <td>143.0</td>\n",
       "      <td>140.5</td>\n",
       "      <td>180.0</td>\n",
       "      <td>141.0</td>\n",
       "    </tr>\n",
       "  </tbody>\n",
       "</table>\n",
       "</div>"
      ],
      "text/plain": [
       "                    mean                                                  \\\n",
       "vehicle_type         bus convertible       coupe       other       sedan   \n",
       "brand                                                                      \n",
       "alfa_romeo           NaN  137.711864  221.898230   86.714286  129.837719   \n",
       "audi           89.900000  175.225806  184.919399  120.682243  143.353002   \n",
       "bmw           112.833333  164.037199  158.037469  125.683036  158.265966   \n",
       "chevrolet     166.365385  228.882353  180.550562  161.906977  120.134529   \n",
       "chrysler      133.640964  145.697368  206.872340  140.666667  162.412186   \n",
       "\n",
       "                                                 median                     \\\n",
       "vehicle_type       small         suv       wagon    bus convertible  coupe   \n",
       "brand                                                                        \n",
       "alfa_romeo    173.072340         NaN  152.454545    NaN       150.0  150.0   \n",
       "audi           95.899220  208.774011  163.574582   75.0       163.0  180.0   \n",
       "bmw           108.304348  184.995031  178.455236  150.0       170.0  150.0   \n",
       "chevrolet      83.596552  168.482759  119.409524  163.0       193.0  190.0   \n",
       "chrysler      129.250000  278.478261  162.485477  150.0       143.0  218.0   \n",
       "\n",
       "                                                 \n",
       "vehicle_type  other  sedan  small    suv  wagon  \n",
       "brand                                            \n",
       "alfa_romeo    104.5  135.5  105.0    NaN  150.0  \n",
       "audi          115.0  131.0  101.0  239.0  150.0  \n",
       "bmw           115.0  150.0  115.0  204.0  170.0  \n",
       "chevrolet     163.0  124.0   68.0  163.0  121.0  \n",
       "chrysler      140.0  143.0  140.5  180.0  141.0  "
      ]
     },
     "execution_count": 20,
     "metadata": {},
     "output_type": "execute_result"
    }
   ],
   "source": [
    "data.pivot_table(values='power', index='brand', columns='vehicle_type', aggfunc=['mean', 'median']).head()"
   ]
  },
  {
   "cell_type": "markdown",
   "metadata": {},
   "source": [
    "Тут есть пропуски, но это может быть из-за того, что такой производитель просто не делает такой тип машин. Наверное, попроще будет брать медиану, дробя только по бренду - там изначально нет пропусков.\n",
    "\n",
    "То есть идея следующая: сгруппировать мощности по бренду и брать медиану для каждого прощенного значения"
   ]
  },
  {
   "cell_type": "code",
   "execution_count": 21,
   "metadata": {},
   "outputs": [
    {
     "data": {
      "text/html": [
       "<div>\n",
       "<style scoped>\n",
       "    .dataframe tbody tr th:only-of-type {\n",
       "        vertical-align: middle;\n",
       "    }\n",
       "\n",
       "    .dataframe tbody tr th {\n",
       "        vertical-align: top;\n",
       "    }\n",
       "\n",
       "    .dataframe thead th {\n",
       "        text-align: right;\n",
       "    }\n",
       "</style>\n",
       "<table border=\"1\" class=\"dataframe\">\n",
       "  <thead>\n",
       "    <tr style=\"text-align: right;\">\n",
       "      <th></th>\n",
       "      <th>median_value</th>\n",
       "    </tr>\n",
       "    <tr>\n",
       "      <th>brand</th>\n",
       "      <th></th>\n",
       "    </tr>\n",
       "  </thead>\n",
       "  <tbody>\n",
       "    <tr>\n",
       "      <th>alfa_romeo</th>\n",
       "      <td>140</td>\n",
       "    </tr>\n",
       "    <tr>\n",
       "      <th>audi</th>\n",
       "      <td>143</td>\n",
       "    </tr>\n",
       "    <tr>\n",
       "      <th>bmw</th>\n",
       "      <td>150</td>\n",
       "    </tr>\n",
       "    <tr>\n",
       "      <th>chevrolet</th>\n",
       "      <td>113</td>\n",
       "    </tr>\n",
       "    <tr>\n",
       "      <th>chrysler</th>\n",
       "      <td>145</td>\n",
       "    </tr>\n",
       "  </tbody>\n",
       "</table>\n",
       "</div>"
      ],
      "text/plain": [
       "            median_value\n",
       "brand                   \n",
       "alfa_romeo           140\n",
       "audi                 143\n",
       "bmw                  150\n",
       "chevrolet            113\n",
       "chrysler             145"
      ]
     },
     "execution_count": 21,
     "metadata": {},
     "output_type": "execute_result"
    }
   ],
   "source": [
    "brand_power_map = data.groupby(by='brand')['power'].agg(median_value=\"median\")\n",
    "brand_power_map.head()"
   ]
  },
  {
   "cell_type": "code",
   "execution_count": 22,
   "metadata": {},
   "outputs": [],
   "source": [
    "def set_power(x):\n",
    "    return brand_power_map.loc[x['brand'], 'median_value']"
   ]
  },
  {
   "cell_type": "code",
   "execution_count": 23,
   "metadata": {},
   "outputs": [],
   "source": [
    "missed = data['power'] == 0\n",
    "data.loc[missed, 'power'] = data.loc[missed].apply(set_power, axis=1)"
   ]
  },
  {
   "cell_type": "markdown",
   "metadata": {},
   "source": [
    "#### Странные значения\n"
   ]
  },
  {
   "cell_type": "markdown",
   "metadata": {},
   "source": [
    "В столбце `power` были слишком большие значения"
   ]
  },
  {
   "cell_type": "code",
   "execution_count": 24,
   "metadata": {},
   "outputs": [
    {
     "data": {
      "text/plain": [
       "[(0.0, 400.0)]"
      ]
     },
     "execution_count": 24,
     "metadata": {},
     "output_type": "execute_result"
    },
    {
     "data": {
      "image/png": "[encoded data removed]",
      "text/plain": [
       "<Figure size 432x288 with 1 Axes>"
      ]
     },
     "metadata": {
      "image/png": {
       "height": 261,
       "width": 362
      },
      "needs_background": "light"
     },
     "output_type": "display_data"
    }
   ],
   "source": [
    "fig, ax = plt.subplots(1, 1, figsize=(6, 4))\n",
    "sns.boxplot(data=data, x='power')\n",
    "ax.set(xlim=(0, 400))"
   ]
  },
  {
   "cell_type": "code",
   "execution_count": 25,
   "metadata": {},
   "outputs": [],
   "source": [
    "q1 = data['power'].quantile(0.25)\n",
    "q3 =data['power'].quantile(0.75)\n",
    "\n",
    "iqr = q3 - q1"
   ]
  },
  {
   "cell_type": "code",
   "execution_count": 26,
   "metadata": {},
   "outputs": [
    {
     "data": {
      "text/plain": [
       "0.02812306277412201"
      ]
     },
     "execution_count": 26,
     "metadata": {},
     "output_type": "execute_result"
    }
   ],
   "source": [
    "data.query('power > (@q3 + 1.5 * @iqr)').shape[0] / data.shape[0]"
   ]
  },
  {
   "cell_type": "markdown",
   "metadata": {},
   "source": [
    "Думаю тремя процентами можно пожертвовать"
   ]
  },
  {
   "cell_type": "code",
   "execution_count": 27,
   "metadata": {},
   "outputs": [],
   "source": [
    "data = data.query('power < (@q3 + 1.5 * @iqr)').reset_index(drop=True)"
   ]
  },
  {
   "cell_type": "markdown",
   "metadata": {},
   "source": [
    "В столбце `registration_year` были замечены странные значения годов выпуска. Посмотрим на всевозможные года в наших данных"
   ]
  },
  {
   "cell_type": "code",
   "execution_count": 28,
   "metadata": {},
   "outputs": [
    {
     "data": {
      "text/plain": [
       "array([1993, 2011, 2004, 2001, 2008, 1995, 2014, 1998, 2005, 1910, 2016,\n",
       "       2007, 2009, 2002, 2018, 1997, 1990, 2017, 1981, 2003, 1994, 1991,\n",
       "       1984, 2006, 1999, 2012, 2010, 2000, 1992, 2013, 1996, 1985, 1989,\n",
       "       2015, 1982, 1976, 1983, 1973, 1969, 1971, 1987, 1988, 1980, 1970,\n",
       "       1986, 1965, 1945, 1925, 1974, 1979, 1955, 1978, 1972, 1968, 1977,\n",
       "       1961, 1966, 1975, 1963, 1964, 1960, 5000, 1958, 1967, 1956, 3200,\n",
       "       1000, 1941, 9999, 8888, 1500, 2200, 4100, 1962, 1929, 1957, 1940,\n",
       "       3000, 2066, 1949, 2019, 1937, 1951, 1959, 1953, 1954, 1234, 8000,\n",
       "       5300, 9000, 2900, 6000, 5900, 5911, 1950, 1948, 1952, 8500, 1932,\n",
       "       1255, 3700, 3800, 4800, 1942, 7000, 4000, 1935, 1933, 1936, 6500,\n",
       "       1923, 2290, 1930, 1001, 9450, 1944, 2500, 1943, 1934, 1938, 1928,\n",
       "       1800, 5555, 5600, 1600, 1111, 2222, 1039, 1300, 2800, 1931, 4500,\n",
       "       1602, 7800, 1947, 1927, 7100, 8200, 1946])"
      ]
     },
     "execution_count": 28,
     "metadata": {},
     "output_type": "execute_result"
    }
   ],
   "source": [
    "data['registration_year'].unique()"
   ]
  },
  {
   "cell_type": "markdown",
   "metadata": {},
   "source": [
    "Тээк... Сначала посчитаем число опечаток"
   ]
  },
  {
   "cell_type": "code",
   "execution_count": 29,
   "metadata": {},
   "outputs": [
    {
     "data": {
      "text/plain": [
       "(124, 14)"
      ]
     },
     "execution_count": 29,
     "metadata": {},
     "output_type": "execute_result"
    }
   ],
   "source": [
    "looks_fine = (data['registration_year'] < 2023) & (data['registration_year'] > 1900)\n",
    "data.loc[~looks_fine].shape"
   ]
  },
  {
   "cell_type": "markdown",
   "metadata": {},
   "source": [
    "Их немного, это очень радует. Тогда я сделаю так: в значениях, где опечатки очевидные, типо 9999 вместо 1999, я поменяю значения сам, остальное выбросим."
   ]
  },
  {
   "cell_type": "code",
   "execution_count": 30,
   "metadata": {},
   "outputs": [],
   "source": [
    "def fix_typos(year):\n",
    "    if year % 1000 == 0:\n",
    "        year = 2000\n",
    "    elif str(year)[0] != '1' and str(year)[1] == '9':\n",
    "        year = 1000 + year % 1000\n",
    "    return year\n",
    "    "
   ]
  },
  {
   "cell_type": "code",
   "execution_count": 31,
   "metadata": {},
   "outputs": [],
   "source": [
    "data.loc[~looks_fine, 'registration_year'] = data.loc[~looks_fine, 'registration_year'].apply(fix_typos)"
   ]
  },
  {
   "cell_type": "code",
   "execution_count": 32,
   "metadata": {
    "scrolled": true
   },
   "outputs": [
    {
     "data": {
      "text/plain": [
       "(45, 14)"
      ]
     },
     "execution_count": 32,
     "metadata": {},
     "output_type": "execute_result"
    }
   ],
   "source": [
    "looks_fine = (data['registration_year'] < 2023) & (data['registration_year'] > 1900)\n",
    "data.loc[~looks_fine].shape"
   ]
  },
  {
   "cell_type": "markdown",
   "metadata": {},
   "source": [
    "Ну больше половины, я надеюсь, мы спасли, остальные выкидываем"
   ]
  },
  {
   "cell_type": "code",
   "execution_count": 33,
   "metadata": {},
   "outputs": [
    {
     "data": {
      "text/plain": [
       "0"
      ]
     },
     "execution_count": 33,
     "metadata": {},
     "output_type": "execute_result"
    }
   ],
   "source": [
    "data = data.loc[looks_fine]\n",
    "(data['power'] == 0).sum()"
   ]
  },
  {
   "cell_type": "code",
   "execution_count": 34,
   "metadata": {},
   "outputs": [],
   "source": [
    "data['date_created'] = pd.to_datetime(data['date_created'], format='%Y-%m-%d %H:%M:%S')"
   ]
  },
  {
   "cell_type": "code",
   "execution_count": 35,
   "metadata": {},
   "outputs": [],
   "source": [
    "indexes_wrong_year = (data['date_created'].dt.year < data['registration_year'])\n",
    "data.loc[indexes_wrong_year, 'registration_year'] = data.loc[indexes_wrong_year, 'date_created'].dt.year"
   ]
  },
  {
   "cell_type": "markdown",
   "metadata": {},
   "source": [
    "Еще я посчитал странным, что куча значений пробега находится на 150_000 км. Посмотрим поближе"
   ]
  },
  {
   "cell_type": "code",
   "execution_count": 36,
   "metadata": {},
   "outputs": [
    {
     "data": {
      "text/plain": [
       "Text(0, 0.5, 'Количество')"
      ]
     },
     "execution_count": 36,
     "metadata": {},
     "output_type": "execute_result"
    },
    {
     "data": {
      "image/png": "[encoded data removed]",
      "text/plain": [
       "<Figure size 432x216 with 1 Axes>"
      ]
     },
     "metadata": {
      "image/png": {
       "height": 207,
       "width": 412
      },
      "needs_background": "light"
     },
     "output_type": "display_data"
    }
   ],
   "source": [
    "plt.figure(figsize=(6, 3))\n",
    "sns.histplot(data['kilometer']/1000, binwidth=10)\n",
    "plt.xlabel('Пробег, тыс. км')\n",
    "plt.ylabel('Количество')"
   ]
  },
  {
   "cell_type": "markdown",
   "metadata": {},
   "source": [
    "Вообще эти значения слишком \"красивые\" и скорее похожи на попадание в категорию. То есть до 50 тыс. км, до 80 тыс. км и последняя более 150 тыс. км.. Не понятно, что делать с этим признаком и нужно ли вообще что-то делать, скорее всего нужно относится к нему как к категориальному"
   ]
  },
  {
   "cell_type": "code",
   "execution_count": 37,
   "metadata": {},
   "outputs": [],
   "source": [
    "numbers.remove('kilometer')\n",
    "categorial.append('kilometer')"
   ]
  },
  {
   "cell_type": "markdown",
   "metadata": {},
   "source": [
    "#### Пропуски"
   ]
  },
  {
   "cell_type": "markdown",
   "metadata": {},
   "source": [
    "На данный момент у нас есть пропуски в следующих категориях"
   ]
  },
  {
   "cell_type": "code",
   "execution_count": 38,
   "metadata": {},
   "outputs": [
    {
     "data": {
      "image/png": "[encoded data removed]",
      "text/plain": [
       "<Figure size 432x360 with 1 Axes>"
      ]
     },
     "metadata": {
      "image/png": {
       "height": 331,
       "width": 464
      },
      "needs_background": "light"
     },
     "output_type": "display_data"
    }
   ],
   "source": [
    "na_count = pd.DataFrame(data.isna().sum(axis=0)).rename(columns={0: \"nans\"}).reset_index()\n",
    "na_count['percent'] = 100 * na_count['nans'] / data.shape[0]\n",
    "\n",
    "fig, ax = plt.subplots(figsize=(6, 5))\n",
    "for i in range(na_count.shape[0]):\n",
    "    ax.annotate(f\"{na_count.loc[i, 'percent']:.1f}%\", xy=(na_count.loc[i, 'percent'] + 5, i+0.25) )\n",
    "sns.barplot(data=na_count, y='index', x='percent', orient='h', ax=ax, color='tab:purple')\n",
    "ax.set(xlim = (0, 100), ylabel=\"parameter\", title=\"Total amount of Nans\");"
   ]
  },
  {
   "cell_type": "markdown",
   "metadata": {},
   "source": [
    "##### Repaired\n",
    "Пропусков 20%, признак бинарный, есть средняя корреляция с ценой, но цена это целевая переменная - так нечестно восстанавливать пропуски. "
   ]
  },
  {
   "cell_type": "code",
   "execution_count": 39,
   "metadata": {},
   "outputs": [
    {
     "data": {
      "image/png": "[encoded data removed]",
      "text/plain": [
       "<Figure size 288x216 with 1 Axes>"
      ]
     },
     "metadata": {
      "image/png": {
       "height": 193,
       "width": 296
      },
      "needs_background": "light"
     },
     "output_type": "display_data"
    }
   ],
   "source": [
    "plt.figure(figsize=(4, 3))\n",
    "plt.hist(data.loc[~data['repaired'].isna(), 'repaired'].values)\n",
    "plt.ylabel('Количество');\n"
   ]
  },
  {
   "cell_type": "markdown",
   "metadata": {},
   "source": [
    "Попробуем в качестве эксперимента сделать `nan` отдельной категорией"
   ]
  },
  {
   "cell_type": "code",
   "execution_count": 40,
   "metadata": {},
   "outputs": [],
   "source": [
    "unknown = data['repaired'].isna()\n",
    "data.loc[unknown, 'repaired'] = 'unknown'"
   ]
  },
  {
   "cell_type": "markdown",
   "metadata": {},
   "source": [
    "##### Vehicle type \n",
    "Ситуация такая же как и в предыдущем типе. Значений пропущено приличное количество, поэтому выкидывать не хочется. Так же сделаем новую категорию"
   ]
  },
  {
   "cell_type": "code",
   "execution_count": 41,
   "metadata": {},
   "outputs": [],
   "source": [
    "missed = data['vehicle_type'].isna()\n",
    "data.loc[missed, 'vehicle_type'] = 'unknown'"
   ]
  },
  {
   "cell_type": "markdown",
   "metadata": {},
   "source": [
    "##### Model\n"
   ]
  },
  {
   "cell_type": "markdown",
   "metadata": {},
   "source": [
    "Наибольшая корреляция у этого признака была с `brand`, значит будем заполнять модой, сгруппировав по бренду"
   ]
  },
  {
   "cell_type": "code",
   "execution_count": 42,
   "metadata": {},
   "outputs": [],
   "source": [
    "missed = data['model'].isna()"
   ]
  },
  {
   "cell_type": "code",
   "execution_count": 43,
   "metadata": {},
   "outputs": [],
   "source": [
    "brand_model_map = data.groupby(by='brand')['model'].agg(\n",
    "    value=lambda x: pd.Series.mode(x) if len(pd.Series.mode(x)) > 0 else np.nan  # Подстраховка если для всей группы значения пропущено\n",
    ")"
   ]
  },
  {
   "cell_type": "code",
   "execution_count": 44,
   "metadata": {},
   "outputs": [],
   "source": [
    "data.loc[missed, 'model'] = data.loc[missed].apply(\n",
    "    lambda x: brand_model_map.loc[x['brand'], 'value'],\n",
    "    axis=1\n",
    ")"
   ]
  },
  {
   "cell_type": "code",
   "execution_count": 45,
   "metadata": {},
   "outputs": [
    {
     "data": {
      "text/plain": [
       "0.007409648116589645"
      ]
     },
     "execution_count": 45,
     "metadata": {},
     "output_type": "execute_result"
    }
   ],
   "source": [
    "data['model'].isna().sum() / data.shape[0]"
   ]
  },
  {
   "cell_type": "code",
   "execution_count": 46,
   "metadata": {},
   "outputs": [
    {
     "data": {
      "text/plain": [
       "array(['sonstige_autos'], dtype=object)"
      ]
     },
     "execution_count": 46,
     "metadata": {},
     "output_type": "execute_result"
    }
   ],
   "source": [
    "data.loc[data['model'].isna(), 'brand'].unique()"
   ]
  },
  {
   "cell_type": "markdown",
   "metadata": {},
   "source": [
    "То есть пропущенные значения все у одного бренда и их меньше 1% и категория, если перевести, называется \"другие авто\" - удалю пожалуй)"
   ]
  },
  {
   "cell_type": "code",
   "execution_count": 47,
   "metadata": {},
   "outputs": [],
   "source": [
    "missed = data['model'].isna()\n",
    "data = data[~missed]"
   ]
  },
  {
   "cell_type": "markdown",
   "metadata": {},
   "source": [
    "##### Gear box"
   ]
  },
  {
   "cell_type": "code",
   "execution_count": 48,
   "metadata": {},
   "outputs": [
    {
     "data": {
      "text/plain": [
       "array(['manual', 'auto', nan], dtype=object)"
      ]
     },
     "execution_count": 48,
     "metadata": {},
     "output_type": "execute_result"
    }
   ],
   "source": [
    "data['gearbox'].unique()"
   ]
  },
  {
   "cell_type": "code",
   "execution_count": 49,
   "metadata": {},
   "outputs": [],
   "source": [
    "missed = data['gearbox'].isna()"
   ]
  },
  {
   "cell_type": "code",
   "execution_count": 50,
   "metadata": {},
   "outputs": [
    {
     "data": {
      "image/png": "[encoded data removed]",
      "text/plain": [
       "<Figure size 360x252 with 1 Axes>"
      ]
     },
     "metadata": {
      "image/png": {
       "height": 221,
       "width": 352
      },
      "needs_background": "light"
     },
     "output_type": "display_data"
    }
   ],
   "source": [
    "plt.figure(figsize=(5, 3.5))\n",
    "plt.hist(data.loc[~missed, 'gearbox'].values)\n",
    "plt.ylabel('Количество');"
   ]
  },
  {
   "cell_type": "markdown",
   "metadata": {},
   "source": [
    "Тут ситуация в целом напоминает `repaired` только все-таки число пропусков в 4 раза меньше,  поэтому заполним пропуски как `manual`"
   ]
  },
  {
   "cell_type": "code",
   "execution_count": 51,
   "metadata": {},
   "outputs": [],
   "source": [
    "data.loc[missed, 'gearbox'] = 'manual'"
   ]
  },
  {
   "cell_type": "markdown",
   "metadata": {},
   "source": [
    "##### Fuel type\n"
   ]
  },
  {
   "cell_type": "code",
   "execution_count": 52,
   "metadata": {},
   "outputs": [
    {
     "data": {
      "text/plain": [
       "array(['petrol', 'gasoline', nan, 'lpg', 'other', 'hybrid', 'cng',\n",
       "       'electric'], dtype=object)"
      ]
     },
     "execution_count": 52,
     "metadata": {},
     "output_type": "execute_result"
    }
   ],
   "source": [
    "data['fuel_type'].unique()"
   ]
  },
  {
   "cell_type": "code",
   "execution_count": 53,
   "metadata": {},
   "outputs": [],
   "source": [
    "model_fuel_map = data.groupby('model')['fuel_type'].agg(value=pd.Series.mode)"
   ]
  },
  {
   "cell_type": "code",
   "execution_count": 54,
   "metadata": {},
   "outputs": [],
   "source": [
    "missed = data['fuel_type'].isna()\n",
    "data.loc[missed, 'fuel_type'] = data.loc[missed].apply(\n",
    "    lambda x: model_fuel_map.loc[x['model'], 'value'],\n",
    "    axis=1\n",
    ")"
   ]
  },
  {
   "cell_type": "code",
   "execution_count": 55,
   "metadata": {},
   "outputs": [
    {
     "data": {
      "image/png": "[encoded data removed]",
      "text/plain": [
       "<Figure size 432x360 with 1 Axes>"
      ]
     },
     "metadata": {
      "image/png": {
       "height": 331,
       "width": 464
      },
      "needs_background": "light"
     },
     "output_type": "display_data"
    }
   ],
   "source": [
    "na_count = pd.DataFrame(data.isna().sum(axis=0)).rename(columns={0: \"nans\"}).reset_index()\n",
    "na_count['percent'] = 100 * na_count['nans'] / data.shape[0]\n",
    "\n",
    "fig, ax = plt.subplots(figsize=(6, 5))\n",
    "for i in range(na_count.shape[0]):\n",
    "    ax.annotate(f\"{na_count.loc[i, 'percent']:.1f}%\", xy=(na_count.loc[i, 'percent'] + 5, i+0.25) )\n",
    "sns.barplot(data=na_count, y='index', x='percent', orient='h', ax=ax, color='tab:purple')\n",
    "ax.set(xlim = (0, 100), ylabel=\"parameter\", title=\"Total amount of Nans\");"
   ]
  },
  {
   "cell_type": "markdown",
   "metadata": {},
   "source": [
    "Итак, с пропусками и странными значениями разобрались наконец"
   ]
  },
  {
   "cell_type": "markdown",
   "metadata": {},
   "source": [
    "### Временные признаки"
   ]
  },
  {
   "cell_type": "code",
   "execution_count": 56,
   "metadata": {},
   "outputs": [
    {
     "data": {
      "text/html": [
       "<div>\n",
       "<style scoped>\n",
       "    .dataframe tbody tr th:only-of-type {\n",
       "        vertical-align: middle;\n",
       "    }\n",
       "\n",
       "    .dataframe tbody tr th {\n",
       "        vertical-align: top;\n",
       "    }\n",
       "\n",
       "    .dataframe thead th {\n",
       "        text-align: right;\n",
       "    }\n",
       "</style>\n",
       "<table border=\"1\" class=\"dataframe\">\n",
       "  <thead>\n",
       "    <tr style=\"text-align: right;\">\n",
       "      <th></th>\n",
       "      <th>date_crawled</th>\n",
       "      <th>date_created</th>\n",
       "      <th>last_seen</th>\n",
       "    </tr>\n",
       "  </thead>\n",
       "  <tbody>\n",
       "    <tr>\n",
       "      <th>0</th>\n",
       "      <td>2016-03-24 11:52:17</td>\n",
       "      <td>2016-03-24</td>\n",
       "      <td>2016-04-07 03:16:57</td>\n",
       "    </tr>\n",
       "    <tr>\n",
       "      <th>1</th>\n",
       "      <td>2016-03-24 10:58:45</td>\n",
       "      <td>2016-03-24</td>\n",
       "      <td>2016-04-07 01:46:50</td>\n",
       "    </tr>\n",
       "    <tr>\n",
       "      <th>2</th>\n",
       "      <td>2016-03-14 12:52:21</td>\n",
       "      <td>2016-03-14</td>\n",
       "      <td>2016-04-05 12:47:46</td>\n",
       "    </tr>\n",
       "    <tr>\n",
       "      <th>3</th>\n",
       "      <td>2016-03-17 16:54:04</td>\n",
       "      <td>2016-03-17</td>\n",
       "      <td>2016-03-17 17:40:17</td>\n",
       "    </tr>\n",
       "    <tr>\n",
       "      <th>4</th>\n",
       "      <td>2016-03-31 17:25:20</td>\n",
       "      <td>2016-03-31</td>\n",
       "      <td>2016-04-06 10:17:21</td>\n",
       "    </tr>\n",
       "  </tbody>\n",
       "</table>\n",
       "</div>"
      ],
      "text/plain": [
       "          date_crawled date_created            last_seen\n",
       "0  2016-03-24 11:52:17   2016-03-24  2016-04-07 03:16:57\n",
       "1  2016-03-24 10:58:45   2016-03-24  2016-04-07 01:46:50\n",
       "2  2016-03-14 12:52:21   2016-03-14  2016-04-05 12:47:46\n",
       "3  2016-03-17 16:54:04   2016-03-17  2016-03-17 17:40:17\n",
       "4  2016-03-31 17:25:20   2016-03-31  2016-04-06 10:17:21"
      ]
     },
     "execution_count": 56,
     "metadata": {},
     "output_type": "execute_result"
    }
   ],
   "source": [
    "data[times].head()"
   ]
  },
  {
   "cell_type": "markdown",
   "metadata": {},
   "source": [
    "`date_created` в целом повторяет столбец `date_crawled`, только без точного времени, поэтому на него особо внимания не будем обращать. Последний столбец - время последней активности пользователя. Мне на ум приходит только создать новый признак как разницу между датой скачивания и последним заходом  "
   ]
  },
  {
   "cell_type": "code",
   "execution_count": 57,
   "metadata": {},
   "outputs": [],
   "source": [
    "data[times] = data.loc[:, times].apply(pd.to_datetime, format=\"%Y-%m-%d %H:%M:%S\")"
   ]
  },
  {
   "cell_type": "code",
   "execution_count": 58,
   "metadata": {},
   "outputs": [],
   "source": [
    "data['minutes'] = (data['last_seen']- data['date_crawled']).dt.total_seconds() // 60"
   ]
  },
  {
   "cell_type": "code",
   "execution_count": 59,
   "metadata": {},
   "outputs": [],
   "source": [
    "data = data.drop(labels=times, axis=1)"
   ]
  },
  {
   "cell_type": "code",
   "execution_count": 60,
   "metadata": {},
   "outputs": [],
   "source": [
    "numbers.append('minutes')"
   ]
  },
  {
   "cell_type": "markdown",
   "metadata": {},
   "source": [
    "### Дубликаты "
   ]
  },
  {
   "cell_type": "code",
   "execution_count": 61,
   "metadata": {},
   "outputs": [
    {
     "data": {
      "text/plain": [
       "2266"
      ]
     },
     "execution_count": 61,
     "metadata": {},
     "output_type": "execute_result"
    }
   ],
   "source": [
    "data.duplicated().sum()"
   ]
  },
  {
   "cell_type": "code",
   "execution_count": 62,
   "metadata": {},
   "outputs": [],
   "source": [
    "data.drop_duplicates(inplace=True)"
   ]
  },
  {
   "cell_type": "markdown",
   "metadata": {},
   "source": [
    "## Обучение моделей"
   ]
  },
  {
   "cell_type": "markdown",
   "metadata": {},
   "source": [
    "В этом разделе попробуем сравнить четыре модели машинного обучения\n",
    "\n",
    "1. Ridge model\n",
    "2. RandomForest\n",
    "3. CatBoost\n",
    "4. LightGBM\n",
    "\n",
    "Сравнивать их мы будем по RMSE и относительному времени обучения __лучшей__ модели. То есть я не буду сравнивать время, потраченное на поиск лучших гиперпараметров. Также будем смотреть на время предсказания"
   ]
  },
  {
   "cell_type": "code",
   "execution_count": 63,
   "metadata": {},
   "outputs": [],
   "source": [
    "rmse = lambda y_true, y_pred: np.sqrt(mean_squared_error(y_true, y_pred))"
   ]
  },
  {
   "cell_type": "markdown",
   "metadata": {},
   "source": [
    "Разделим выборку на тренировочную и тестовую"
   ]
  },
  {
   "cell_type": "code",
   "execution_count": 64,
   "metadata": {},
   "outputs": [],
   "source": [
    "features = data.drop('price', axis=1)\n",
    "target = data['price']"
   ]
  },
  {
   "cell_type": "code",
   "execution_count": 65,
   "metadata": {},
   "outputs": [],
   "source": [
    "features[categorial] = features[categorial].apply(LabelEncoder().fit_transform)"
   ]
  },
  {
   "cell_type": "code",
   "execution_count": 66,
   "metadata": {},
   "outputs": [],
   "source": [
    "seed = 4 \n",
    "features_train, features_test, target_train, target_test = train_test_split(features, target, \n",
    "                                                                            test_size=0.3, \n",
    "                                                                            random_state=seed\n",
    "                                                                           )"
   ]
  },
  {
   "cell_type": "markdown",
   "metadata": {},
   "source": [
    "Идея функции в том, чтобы принимать модель для оптимизации гиперпараметров и сам вид оптимизации `GridSeacrhCV`, `RandomizedSearchCV` или `BayesSearchCV`. "
   ]
  },
  {
   "cell_type": "code",
   "execution_count": 67,
   "metadata": {},
   "outputs": [],
   "source": [
    "def search_best_model(model, reseacher, x, y, params, n_iter):\n",
    "    '''\n",
    "        model - модель для обучения\n",
    "        reseacher - метод поиска гиперпараметров\n",
    "        x - признаки\n",
    "        y - целевая переменная \n",
    "        params - параметры поиска для reseacher\n",
    "    '''\n",
    "    grid = reseacher(model, params,\n",
    "        n_jobs=-1, \n",
    "        cv=5, \n",
    "        n_iter=n_iter,\n",
    "        scoring=make_scorer(rmse, greater_is_better=False)\n",
    "    )\n",
    "    grid.fit(x, y)\n",
    "    return grid\n",
    "    "
   ]
  },
  {
   "cell_type": "markdown",
   "metadata": {},
   "source": [
    "Еще определим функцию, которая будет брать лучшую модель и выдавать время и результат RMSE на обучающей выборке"
   ]
  },
  {
   "cell_type": "code",
   "execution_count": 68,
   "metadata": {},
   "outputs": [],
   "source": [
    "def model_review(model, x_train, y_train):\n",
    "    t1 = time.time()\n",
    "    model.fit(x_train, y_train)\n",
    "    train_time = time.time() - t1\n",
    "    \n",
    "    train_score = rmse(y_train, model.predict(x_train))\n",
    "    return train_time, train_score"
   ]
  },
  {
   "cell_type": "markdown",
   "metadata": {},
   "source": [
    "Создадим таблицу с результатами для дальнейшего анализа"
   ]
  },
  {
   "cell_type": "code",
   "execution_count": 69,
   "metadata": {},
   "outputs": [],
   "source": [
    "models_review = pd.DataFrame(index=['time', 'rmse'])"
   ]
  },
  {
   "cell_type": "markdown",
   "metadata": {},
   "source": [
    "### Ridge"
   ]
  },
  {
   "cell_type": "markdown",
   "metadata": {},
   "source": [
    "#### LabelEncoder"
   ]
  },
  {
   "cell_type": "markdown",
   "metadata": {},
   "source": [
    "###### Подбор параметров"
   ]
  },
  {
   "cell_type": "code",
   "execution_count": 70,
   "metadata": {},
   "outputs": [],
   "source": [
    "pipe = Pipeline(\n",
    "    steps=[\n",
    "        ('scaler', StandardScaler()),\n",
    "        ('lin_model', Ridge(random_state=seed))\n",
    "    ]\n",
    ")"
   ]
  },
  {
   "cell_type": "code",
   "execution_count": 71,
   "metadata": {},
   "outputs": [],
   "source": [
    "ridge_le_params = {\n",
    "        'lin_model__alpha': Real(1e-04, 100, prior='uniform'), \n",
    "}"
   ]
  },
  {
   "cell_type": "markdown",
   "metadata": {},
   "source": [
    "Учится порядка 3 минут"
   ]
  },
  {
   "cell_type": "code",
   "execution_count": 72,
   "metadata": {},
   "outputs": [],
   "source": [
    "ridge_le = search_best_model(pipe, BayesSearchCV, features_train, target_train, ridge_le_params, n_iter=50)"
   ]
  },
  {
   "cell_type": "markdown",
   "metadata": {},
   "source": [
    "Можно еще посмотреть насколько хорошо определились гиперпараметры"
   ]
  },
  {
   "cell_type": "code",
   "execution_count": 73,
   "metadata": {},
   "outputs": [
    {
     "data": {
      "image/png": "[encoded data removed]",
      "text/plain": [
       "<Figure size 144x144 with 1 Axes>"
      ]
     },
     "metadata": {
      "image/png": {
       "height": 171,
       "width": 209
      },
      "needs_background": "light"
     },
     "output_type": "display_data"
    }
   ],
   "source": [
    "plot_objective(ridge_le.optimizer_results_[0], levels=100);"
   ]
  },
  {
   "cell_type": "code",
   "execution_count": 74,
   "metadata": {},
   "outputs": [
    {
     "data": {
      "text/plain": [
       "Pipeline(steps=[('scaler', StandardScaler()),\n",
       "                ('lin_model', Ridge(alpha=17.52531482631429, random_state=4))])"
      ]
     },
     "execution_count": 74,
     "metadata": {},
     "output_type": "execute_result"
    }
   ],
   "source": [
    "ridge_le.best_estimator_"
   ]
  },
  {
   "cell_type": "markdown",
   "metadata": {},
   "source": [
    "###### Оценка времен"
   ]
  },
  {
   "cell_type": "code",
   "execution_count": 75,
   "metadata": {},
   "outputs": [],
   "source": [
    "pipe = Pipeline(\n",
    "    steps=[\n",
    "        ('scaler', StandardScaler()),\n",
    "        ('lin_model', Ridge(alpha=17.64, random_state=seed))\n",
    "    ]\n",
    ")"
   ]
  },
  {
   "cell_type": "code",
   "execution_count": 76,
   "metadata": {},
   "outputs": [],
   "source": [
    "models_review['rigle_le'] = model_review(pipe, features_train, target_train)"
   ]
  },
  {
   "cell_type": "code",
   "execution_count": 77,
   "metadata": {},
   "outputs": [
    {
     "data": {
      "text/html": [
       "<div>\n",
       "<style scoped>\n",
       "    .dataframe tbody tr th:only-of-type {\n",
       "        vertical-align: middle;\n",
       "    }\n",
       "\n",
       "    .dataframe tbody tr th {\n",
       "        vertical-align: top;\n",
       "    }\n",
       "\n",
       "    .dataframe thead th {\n",
       "        text-align: right;\n",
       "    }\n",
       "</style>\n",
       "<table border=\"1\" class=\"dataframe\">\n",
       "  <thead>\n",
       "    <tr style=\"text-align: right;\">\n",
       "      <th></th>\n",
       "      <th>rigle_le</th>\n",
       "    </tr>\n",
       "  </thead>\n",
       "  <tbody>\n",
       "    <tr>\n",
       "      <th>time</th>\n",
       "      <td>0.065219</td>\n",
       "    </tr>\n",
       "    <tr>\n",
       "      <th>rmse</th>\n",
       "      <td>2935.105116</td>\n",
       "    </tr>\n",
       "  </tbody>\n",
       "</table>\n",
       "</div>"
      ],
      "text/plain": [
       "         rigle_le\n",
       "time     0.065219\n",
       "rmse  2935.105116"
      ]
     },
     "execution_count": 77,
     "metadata": {},
     "output_type": "execute_result"
    }
   ],
   "source": [
    "models_review"
   ]
  },
  {
   "cell_type": "markdown",
   "metadata": {},
   "source": [
    "#### OneHotEncoder"
   ]
  },
  {
   "cell_type": "markdown",
   "metadata": {},
   "source": [
    "Два способа\n",
    "\n",
    "1. Полный - все категориальные признаки делаем через `ohe`. RMSE будет около 2000. НО... может сработать не у каждого, так как даже через разреженные матрицы это процедура съела у меня 11 Гб памяти. Поэтому здесь я его не привожу\n",
    "\n",
    "2. Частичный - сделать `ohe` преобразование только для относительно не больших признаков. Тогда и разреженные матрицы не нужны"
   ]
  },
  {
   "cell_type": "markdown",
   "metadata": {},
   "source": [
    "##### Частичный OHE"
   ]
  },
  {
   "cell_type": "markdown",
   "metadata": {},
   "source": [
    "###### Подбор параметров"
   ]
  },
  {
   "cell_type": "markdown",
   "metadata": {},
   "source": [
    "Выделяется признаки, в которых меньше 15 категорий, чтобы можно было посчитать и не переполнить память"
   ]
  },
  {
   "cell_type": "code",
   "execution_count": 78,
   "metadata": {},
   "outputs": [],
   "source": [
    "small_cat = features[categorial].apply(lambda x: len(np.unique(x)) <= 15, axis=0).\\\n",
    "                                 reset_index()\n",
    "\n",
    "small_cat.columns = ['cat_features', 'label']\n",
    "\n",
    "cat_to_ohe = small_cat.loc[small_cat['label'], 'cat_features'].values\n",
    "cat_stay_le = small_cat.loc[~small_cat['label'], 'cat_features'].values"
   ]
  },
  {
   "cell_type": "code",
   "execution_count": 80,
   "metadata": {},
   "outputs": [],
   "source": [
    "part_ohe_transform = ColumnTransformer(\n",
    "    transformers=[\n",
    "        ('scaler', StandardScaler(), numbers + list(cat_stay_le)),\n",
    "        ('part_ohe', OneHotEncoder(sparse=False, handle_unknown='ignore'), cat_to_ohe)\n",
    "    ]\n",
    ")"
   ]
  },
  {
   "cell_type": "code",
   "execution_count": 81,
   "metadata": {},
   "outputs": [],
   "source": [
    "pipe_ohe = Pipeline(\n",
    "\n",
    "    steps=[\n",
    "        ('ohe', part_ohe_transform),\n",
    "        ('lin_model', Ridge(random_state=seed))\n",
    "    ]\n",
    ")"
   ]
  },
  {
   "cell_type": "markdown",
   "metadata": {},
   "source": [
    "Тут параметры поиска такие же, только признаки изменены"
   ]
  },
  {
   "cell_type": "markdown",
   "metadata": {},
   "source": [
    "Учится порядка 10-15 минут"
   ]
  },
  {
   "cell_type": "code",
   "execution_count": 82,
   "metadata": {},
   "outputs": [],
   "source": [
    "ridge_ohe_params = {\n",
    "        'lin_model__alpha': Real(0, 150, prior='uniform'), \n",
    "}"
   ]
  },
  {
   "cell_type": "code",
   "execution_count": 83,
   "metadata": {},
   "outputs": [],
   "source": [
    "ridge_part_ohe = search_best_model(pipe_ohe, BayesSearchCV, features_train, target_train, ridge_ohe_params, 50)"
   ]
  },
  {
   "cell_type": "code",
   "execution_count": 84,
   "metadata": {},
   "outputs": [
    {
     "data": {
      "image/png": "[encoded data removed]",
      "text/plain": [
       "<Figure size 144x144 with 1 Axes>"
      ]
     },
     "metadata": {
      "image/png": {
       "height": 175,
       "width": 183
      },
      "needs_background": "light"
     },
     "output_type": "display_data"
    }
   ],
   "source": [
    "plot_objective(ridge_part_ohe.optimizer_results_[0], levels=10);"
   ]
  },
  {
   "cell_type": "code",
   "execution_count": 85,
   "metadata": {},
   "outputs": [
    {
     "data": {
      "text/plain": [
       "Pipeline(steps=[('ohe',\n",
       "                 ColumnTransformer(transformers=[('scaler', StandardScaler(),\n",
       "                                                  ['power', 'minutes',\n",
       "                                                   'postal_code', 'model',\n",
       "                                                   'registration_year',\n",
       "                                                   'brand']),\n",
       "                                                 ('part_ohe',\n",
       "                                                  OneHotEncoder(handle_unknown='ignore',\n",
       "                                                                sparse=False),\n",
       "                                                  array(['fuel_type', 'repaired', 'gearbox', 'vehicle_type', 'kilometer'],\n",
       "      dtype=object))])),\n",
       "                ('lin_model', Ridge(alpha=9.989554050785824, random_state=4))])"
      ]
     },
     "execution_count": 85,
     "metadata": {},
     "output_type": "execute_result"
    }
   ],
   "source": [
    "ridge_part_ohe.best_estimator_\n"
   ]
  },
  {
   "cell_type": "markdown",
   "metadata": {},
   "source": [
    "###### Оценка времен"
   ]
  },
  {
   "cell_type": "code",
   "execution_count": 86,
   "metadata": {},
   "outputs": [],
   "source": [
    "pipe_ohe = Pipeline(\n",
    "\n",
    "    steps=[\n",
    "        ('ohe', part_ohe_transform),\n",
    "        ('scaler', StandardScaler()),\n",
    "        ('lin_model', Ridge(alpha=9.97, random_state=seed))\n",
    "    ]\n",
    ")"
   ]
  },
  {
   "cell_type": "code",
   "execution_count": 87,
   "metadata": {},
   "outputs": [],
   "source": [
    "models_review['rigle_part_ohe'] = model_review(pipe_ohe, features_train, target_train)"
   ]
  },
  {
   "cell_type": "code",
   "execution_count": 88,
   "metadata": {
    "scrolled": true
   },
   "outputs": [
    {
     "data": {
      "text/html": [
       "<div>\n",
       "<style scoped>\n",
       "    .dataframe tbody tr th:only-of-type {\n",
       "        vertical-align: middle;\n",
       "    }\n",
       "\n",
       "    .dataframe tbody tr th {\n",
       "        vertical-align: top;\n",
       "    }\n",
       "\n",
       "    .dataframe thead th {\n",
       "        text-align: right;\n",
       "    }\n",
       "</style>\n",
       "<table border=\"1\" class=\"dataframe\">\n",
       "  <thead>\n",
       "    <tr style=\"text-align: right;\">\n",
       "      <th></th>\n",
       "      <th>rigle_le</th>\n",
       "      <th>rigle_part_ohe</th>\n",
       "    </tr>\n",
       "  </thead>\n",
       "  <tbody>\n",
       "    <tr>\n",
       "      <th>time</th>\n",
       "      <td>0.065219</td>\n",
       "      <td>0.600760</td>\n",
       "    </tr>\n",
       "    <tr>\n",
       "      <th>rmse</th>\n",
       "      <td>2935.105116</td>\n",
       "      <td>2712.577175</td>\n",
       "    </tr>\n",
       "  </tbody>\n",
       "</table>\n",
       "</div>"
      ],
      "text/plain": [
       "         rigle_le  rigle_part_ohe\n",
       "time     0.065219        0.600760\n",
       "rmse  2935.105116     2712.577175"
      ]
     },
     "execution_count": 88,
     "metadata": {},
     "output_type": "execute_result"
    }
   ],
   "source": [
    "models_review"
   ]
  },
  {
   "cell_type": "markdown",
   "metadata": {},
   "source": [
    "### RandomForest"
   ]
  },
  {
   "cell_type": "markdown",
   "metadata": {},
   "source": [
    "Теперь попробуем ансамбли. Здесь, мне кажется, `LabelEnconding` будет достаточно. Этот алгоритм не должен зависеть от такого разбиения признаков"
   ]
  },
  {
   "cell_type": "markdown",
   "metadata": {},
   "source": [
    "#### LabelEncoder"
   ]
  },
  {
   "cell_type": "markdown",
   "metadata": {},
   "source": [
    "###### Подбор параметров"
   ]
  },
  {
   "cell_type": "code",
   "execution_count": 90,
   "metadata": {},
   "outputs": [],
   "source": [
    "rf_le_model = RandomForestRegressor(random_state=seed, warm_start=True)"
   ]
  },
  {
   "cell_type": "code",
   "execution_count": 91,
   "metadata": {},
   "outputs": [],
   "source": [
    "rf_le_params = {\n",
    "    'n_estimators': Integer(1, 50), \n",
    "    'max_depth': Integer(2, 10)\n",
    "}"
   ]
  },
  {
   "cell_type": "markdown",
   "metadata": {},
   "source": [
    "Счиается около 30 минут"
   ]
  },
  {
   "cell_type": "code",
   "execution_count": null,
   "metadata": {
    "scrolled": true
   },
   "outputs": [],
   "source": [
    "t1 = time.time()\n",
    "rf_le_grid = search_best_model(rf_le_model, BayesSearchCV, features_train, target_train, rf_le_params, 20)\n",
    "t2 = (time.time() - t1) / 60\n",
    "print(f\"Время подбора {t2:1f} минут\")"
   ]
  },
  {
   "cell_type": "code",
   "execution_count": null,
   "metadata": {},
   "outputs": [],
   "source": [
    "rf_le_grid.best_estimator_"
   ]
  },
  {
   "cell_type": "code",
   "execution_count": null,
   "metadata": {},
   "outputs": [],
   "source": [
    "plot_objective(rf_le_grid.optimizer_results_[0], levels=10);"
   ]
  },
  {
   "cell_type": "markdown",
   "metadata": {},
   "source": [
    "###### Оценка времен"
   ]
  },
  {
   "cell_type": "code",
   "execution_count": null,
   "metadata": {},
   "outputs": [],
   "source": [
    "rf_le_model = RandomForestRegressor(max_depth=10, n_estimators=50, random_state=seed, warm_start=True)"
   ]
  },
  {
   "cell_type": "code",
   "execution_count": null,
   "metadata": {},
   "outputs": [],
   "source": [
    "models_review['rf_le_model'] = model_review(rf_le_model, features_train, target_train)"
   ]
  },
  {
   "cell_type": "code",
   "execution_count": null,
   "metadata": {},
   "outputs": [],
   "source": [
    "models_review"
   ]
  },
  {
   "cell_type": "markdown",
   "metadata": {},
   "source": [
    "В данном случае лучшая модель получилась из 50 деревьев с глубиной 10. Можно получить и получше, приблизительно 1548 выйдет для модели из 150 деревьев с глубиной в 24, но обучаться такая модель будет существенно дольше. \n",
    "\n",
    "В принципе и здесь видно, что RF сработал лучше линейной модели."
   ]
  },
  {
   "cell_type": "markdown",
   "metadata": {},
   "source": [
    "#### OrdinalEncoder"
   ]
  },
  {
   "cell_type": "code",
   "execution_count": null,
   "metadata": {},
   "outputs": [],
   "source": [
    "part_oe_transform = ColumnTransformer(\n",
    "    transformers=[\n",
    "        ('scaler', StandardScaler(), numbers),\n",
    "        ('part_ohe', OrdinalEncoder(handle_unknown='use_encoded_value', unknown_value=-1), categorial)\n",
    "    ]\n",
    ")"
   ]
  },
  {
   "cell_type": "code",
   "execution_count": null,
   "metadata": {},
   "outputs": [],
   "source": [
    "pipe_oe = Pipeline(\n",
    "\n",
    "    steps=[\n",
    "        ('oe', part_oe_transform),\n",
    "        ('rf_model', RandomForestRegressor(warm_start=True, random_state=seed))\n",
    "    ]\n",
    ")"
   ]
  },
  {
   "cell_type": "markdown",
   "metadata": {},
   "source": [
    "###### Подбор параметров"
   ]
  },
  {
   "cell_type": "code",
   "execution_count": null,
   "metadata": {},
   "outputs": [],
   "source": [
    "rf_oe_params = {\n",
    "    'rf_model__n_estimators': Integer(1, 50), \n",
    "    'rf_model__max_depth': Integer(2, 10)\n",
    "}"
   ]
  },
  {
   "cell_type": "markdown",
   "metadata": {},
   "source": [
    "Счиается около 30 минут"
   ]
  },
  {
   "cell_type": "code",
   "execution_count": null,
   "metadata": {
    "scrolled": true
   },
   "outputs": [],
   "source": [
    "t1 = time.time()\n",
    "rf_oe_grid = search_best_model(pipe_oe, BayesSearchCV, features_train, target_train, rf_oe_params, 20)\n",
    "t2 = (time.time() - t1) / 60\n",
    "print(f\"Время подбора {t2:1f} минут\")"
   ]
  },
  {
   "cell_type": "code",
   "execution_count": null,
   "metadata": {},
   "outputs": [],
   "source": [
    "rf_oe_grid.best_estimator_"
   ]
  },
  {
   "cell_type": "code",
   "execution_count": null,
   "metadata": {},
   "outputs": [],
   "source": [
    "plot_objective(rf_oe_grid.optimizer_results_[0], levels=10);"
   ]
  },
  {
   "cell_type": "markdown",
   "metadata": {},
   "source": [
    "###### Оценка времен"
   ]
  },
  {
   "cell_type": "code",
   "execution_count": null,
   "metadata": {},
   "outputs": [],
   "source": [
    "pipe_oe = Pipeline(\n",
    "    steps=[\n",
    "        ('oe', part_oe_transform),\n",
    "        ('rf_model', RandomForestRegressor(max_depth=10, n_estimators=50, warm_start=True, random_state=seed))\n",
    "    ]\n",
    ")"
   ]
  },
  {
   "cell_type": "code",
   "execution_count": null,
   "metadata": {},
   "outputs": [],
   "source": [
    "models_review['rf_oe_model'] = model_review(pipe_oe, features_train, target_train)"
   ]
  },
  {
   "cell_type": "code",
   "execution_count": null,
   "metadata": {},
   "outputs": [],
   "source": [
    "models_review"
   ]
  },
  {
   "cell_type": "markdown",
   "metadata": {},
   "source": [
    "### LightGBM"
   ]
  },
  {
   "cell_type": "markdown",
   "metadata": {},
   "source": [
    "Здесь начинаем исследовать алгоритмы градиентного бустинга. У них большое число параметров для варирования, но для `LightGBM` я выделил три основных, на мой взгляд, и варьировал их."
   ]
  },
  {
   "cell_type": "code",
   "execution_count": null,
   "metadata": {},
   "outputs": [],
   "source": [
    "categorial_num = [list(categorial).index(i) for i in categorial]"
   ]
  },
  {
   "cell_type": "code",
   "execution_count": null,
   "metadata": {},
   "outputs": [],
   "source": [
    "lgbm_model = lgb.LGBMRegressor(\n",
    "    random_state=seed, \n",
    "    categorical_feature=categorial_num,\n",
    "    metric='rmse'\n",
    ")"
   ]
  },
  {
   "cell_type": "code",
   "execution_count": null,
   "metadata": {
    "scrolled": true
   },
   "outputs": [],
   "source": [
    "lgbm_model.fit(features_train, target_train, categorical_feature=categorial_num,)"
   ]
  },
  {
   "cell_type": "code",
   "execution_count": null,
   "metadata": {},
   "outputs": [],
   "source": [
    "rmse(target_train, lgbm_model.predict(features_train))"
   ]
  },
  {
   "cell_type": "markdown",
   "metadata": {},
   "source": [
    "###### Подбор параметров"
   ]
  },
  {
   "cell_type": "code",
   "execution_count": null,
   "metadata": {},
   "outputs": [],
   "source": [
    "lgbm_model = lgb.LGBMRegressor(\n",
    "    random_state=seed, \n",
    "    categorical_feature=categorial_num,\n",
    "    metric='rmse'\n",
    ")"
   ]
  },
  {
   "cell_type": "code",
   "execution_count": null,
   "metadata": {},
   "outputs": [],
   "source": [
    "lgbm_params = {\n",
    "#     'max_depth': [8, 10, 12, 14],\n",
    "    'max_depth': [12],\n",
    "    'learning_rate': [0.1, 0.2, 0.3]\n",
    "}"
   ]
  },
  {
   "cell_type": "code",
   "execution_count": null,
   "metadata": {},
   "outputs": [],
   "source": [
    "lgbm_grid = GridSearchCV(\n",
    "    estimator=lgbm_model,\n",
    "    param_grid=lgbm_params,\n",
    "    cv=5,\n",
    "    n_jobs=-1,\n",
    "    scoring=make_scorer(rmse, greater_is_better=False),\n",
    "    \n",
    ")"
   ]
  },
  {
   "cell_type": "markdown",
   "metadata": {},
   "source": [
    "На платформе считается очень долго, даже если варьировать только один параметр :("
   ]
  },
  {
   "cell_type": "code",
   "execution_count": null,
   "metadata": {
    "scrolled": true
   },
   "outputs": [],
   "source": [
    "t1 = time.time()\n",
    "lgbm_grid.fit(features_train, target_train)\n",
    "t2 = (time.time() - t1) / 60\n",
    "print(f\"Время подбора {t2:1f} минут\")"
   ]
  },
  {
   "cell_type": "code",
   "execution_count": null,
   "metadata": {},
   "outputs": [],
   "source": [
    "lgbm_grid.best_estimator_"
   ]
  },
  {
   "cell_type": "markdown",
   "metadata": {},
   "source": [
    "###### Оценка времен"
   ]
  },
  {
   "cell_type": "code",
   "execution_count": null,
   "metadata": {},
   "outputs": [],
   "source": [
    "lgbm_model = lgb.LGBMRegressor(\n",
    "    categorical_feature=categorial_num,\n",
    "    learning_rate=0.2, \n",
    "    max_depth=12,\n",
    "    metric='rmse', \n",
    "    random_state=seed\n",
    ")"
   ]
  },
  {
   "cell_type": "code",
   "execution_count": null,
   "metadata": {},
   "outputs": [],
   "source": [
    "models_review['lgbm_model'] = model_review(lgbm_model, features_train, target_train)"
   ]
  },
  {
   "cell_type": "code",
   "execution_count": null,
   "metadata": {},
   "outputs": [],
   "source": [
    "models_review"
   ]
  },
  {
   "cell_type": "markdown",
   "metadata": {},
   "source": [
    "По общему показателю `LighGBM` обошел `RF`"
   ]
  },
  {
   "cell_type": "markdown",
   "metadata": {},
   "source": [
    "### Catboost\n"
   ]
  },
  {
   "cell_type": "markdown",
   "metadata": {},
   "source": [
    "Последний из алгоритмов, которые я хотел бы попробовать в данной работе. Насколько я понял из документации ему можно отдать датасет без настроек, указав категориальные признаки и он самостоятельно их закодирует"
   ]
  },
  {
   "cell_type": "markdown",
   "metadata": {},
   "source": [
    "Попробуем запустить, ничего не настраивая"
   ]
  },
  {
   "cell_type": "code",
   "execution_count": null,
   "metadata": {},
   "outputs": [],
   "source": [
    "ya_model = CatBoostRegressor(\n",
    "    random_seed=seed, \n",
    "    loss_function='RMSE',\n",
    "    cat_features=categorial, \n",
    "    task_type='CPU', \n",
    "    verbose=0\n",
    ")"
   ]
  },
  {
   "cell_type": "code",
   "execution_count": null,
   "metadata": {},
   "outputs": [],
   "source": [
    "%%time\n",
    "ya_model.fit(features_train, target_train)"
   ]
  },
  {
   "cell_type": "code",
   "execution_count": null,
   "metadata": {},
   "outputs": [],
   "source": [
    "rmse(target_train, ya_model.predict(features_train))"
   ]
  },
  {
   "cell_type": "markdown",
   "metadata": {},
   "source": [
    "Я растроен.. Я так долго выбивал прошлый результат, а тут из коробки вышло даже лучше"
   ]
  },
  {
   "cell_type": "markdown",
   "metadata": {},
   "source": [
    "###### Подбор параметров"
   ]
  },
  {
   "cell_type": "markdown",
   "metadata": {},
   "source": [
    "В [документации](https://catboost.ai/en/docs/concepts/speed-up-training) говорят, что `learning_rate` подстраивается сам. Попробуем поменять глубину деревьев"
   ]
  },
  {
   "cell_type": "code",
   "execution_count": null,
   "metadata": {},
   "outputs": [],
   "source": [
    "ya_model = CatBoostRegressor(\n",
    "    random_seed=seed, \n",
    "    loss_function='RMSE',\n",
    "    cat_features=categorial, \n",
    "    task_type='CPU', \n",
    "    verbose=0\n",
    ")"
   ]
  },
  {
   "cell_type": "code",
   "execution_count": null,
   "metadata": {},
   "outputs": [],
   "source": [
    "ya_params = {'max_depth': range(9, 13)}"
   ]
  },
  {
   "cell_type": "markdown",
   "metadata": {},
   "source": [
    "Считается около двух часов"
   ]
  },
  {
   "cell_type": "code",
   "execution_count": null,
   "metadata": {},
   "outputs": [],
   "source": [
    "ya_grid = ya_model.grid_search(ya_params, X=features_train, y=target_train, )"
   ]
  },
  {
   "cell_type": "markdown",
   "metadata": {},
   "source": [
    "###### Оценка времен"
   ]
  },
  {
   "cell_type": "code",
   "execution_count": null,
   "metadata": {},
   "outputs": [],
   "source": [
    "ya_model = CatBoostRegressor(\n",
    "    depth=12,\n",
    "    random_seed=seed, \n",
    "    loss_function='RMSE',\n",
    "    cat_features=categorial, \n",
    "    task_type='CPU', \n",
    "    verbose=0\n",
    ")"
   ]
  },
  {
   "cell_type": "code",
   "execution_count": null,
   "metadata": {},
   "outputs": [],
   "source": [
    "models_review['ya_model'] = model_review(ya_model, features_train, target_train)"
   ]
  },
  {
   "cell_type": "code",
   "execution_count": null,
   "metadata": {},
   "outputs": [],
   "source": [
    "models_review"
   ]
  },
  {
   "cell_type": "markdown",
   "metadata": {},
   "source": [
    "## Анализ моделей"
   ]
  },
  {
   "cell_type": "code",
   "execution_count": null,
   "metadata": {},
   "outputs": [],
   "source": [
    "models_review = models_review.T"
   ]
  },
  {
   "cell_type": "code",
   "execution_count": null,
   "metadata": {},
   "outputs": [],
   "source": [
    "models_review['ratio_time'] = models_review['time'] / models_review['time'].min()"
   ]
  },
  {
   "cell_type": "code",
   "execution_count": null,
   "metadata": {},
   "outputs": [],
   "source": [
    "models_review.reset_index()"
   ]
  },
  {
   "cell_type": "code",
   "execution_count": null,
   "metadata": {},
   "outputs": [],
   "source": [
    "fig, ax = plt.subplots(figsize=(5, 3.5))\n",
    "\n",
    "sns.lineplot(data=models_review.reset_index(), ls='--', ms=8, marker='D', x='index', y='rmse')\n",
    "ax.hlines(2500, -0.2, 5.2, colors='k', ls=':')\n",
    "ax.annotate('Threshold', (2.2, 2550))\n",
    "ax.legend(['Train'])\n",
    "ax.set_xticklabels(models_review.index, rotation=30)\n",
    "ax.set(\n",
    "    xlim=(-0.2, 5.2),\n",
    "    ylabel='RMSE',\n",
    "    xlabel='Model',\n",
    "    title='RMSE Score'\n",
    ");"
   ]
  },
  {
   "cell_type": "markdown",
   "metadata": {},
   "source": [
    "\n",
    "Порог в 2500 удалось преодолеть четырем моделям из шести. Лучше всего справился алгоритм `CatBoost` со значением 1470"
   ]
  },
  {
   "cell_type": "code",
   "execution_count": null,
   "metadata": {},
   "outputs": [],
   "source": [
    "models_review[['time', 'ratio_time']]"
   ]
  },
  {
   "cell_type": "markdown",
   "metadata": {},
   "source": [
    "Однако хорошо видно, что цена лучшего значения метрике обошлась в очень долгие вычисления. Алгоритм `CatBoost` оказался намного медленнее, чем `LightGBM`, который проиграл по RMSE около 70"
   ]
  },
  {
   "cell_type": "code",
   "execution_count": null,
   "metadata": {},
   "outputs": [],
   "source": [
    "print(f\"Constant model score: {rmse(target_test, target_test.mean() * np.ones(target_test.shape))}\")"
   ]
  },
  {
   "cell_type": "code",
   "execution_count": null,
   "metadata": {},
   "outputs": [],
   "source": [
    "print(f\"Test score: {rmse(target_test, ya_model.predict(features_test)):.2f}\")"
   ]
  },
  {
   "cell_type": "markdown",
   "metadata": {},
   "source": [
    "Обученная модель также дает существенно лучшие результаты по сравнению с константной моделью"
   ]
  },
  {
   "cell_type": "markdown",
   "metadata": {},
   "source": [
    "## Вывод"
   ]
  },
  {
   "cell_type": "markdown",
   "metadata": {},
   "source": [
    "Целью данного проекта было определение наиболее подходящей модели машинного обучения для сервиса по продаже автомобилей \"Не бит, не крашен\". Выбор модели осуществлялся, опираясь на три показателя: качество предсказания (оценивалось по метрике RMSE), время обучения и время предсказания. \n",
    "\n",
    "Всего в работе были рассмотрены четыре вида моделей. Для модели линейной регрессии было предложено два варианта представления признаков для обучения. Данные предоставленные для обучения модели были предварительно проанализированы и очищены от паразитных значений для более качественного обучения моделей. \n",
    "\n",
    "В итоге к внедрению в структуру сервиса рекомендуется модель `LighGBM`. Данная модель показала наилучший показатель в совокупности по всем трем компонентам. Однако, несколько уступила модели `CatBoost` по качеству предсказания. Несмотря на этот факт, рекомендуется именно эта модель в силу более быстрого обучения, что также важно для работы сервера. Если же имеется возможность заранее предобучить модель, то имеет смысл воспользоваться алгоритмом библиотеки `CatBoost`. Несмотря на то, что относительное время предсказания этой модели хуже в разы, чем у `LighGBM`, но в реальных величинах речь идет о долях секунды, что не значительно."
   ]
  }
 ],
 "metadata": {
  "ExecuteTimeLog": [
   {
    "duration": 8,
    "start_time": "2023-02-03T18:42:36.499Z"
   },
   {
    "duration": 2665,
    "start_time": "2023-02-03T18:42:42.778Z"
   },
   {
    "duration": 1685,
    "start_time": "2023-02-03T18:42:45.446Z"
   },
   {
    "duration": 3252,
    "start_time": "2023-02-03T18:42:47.133Z"
   },
   {
    "duration": 2324,
    "start_time": "2023-02-03T18:42:50.389Z"
   },
   {
    "duration": 3169,
    "start_time": "2023-02-03T18:42:52.715Z"
   },
   {
    "duration": 3009,
    "start_time": "2023-02-03T18:42:55.886Z"
   },
   {
    "duration": 499,
    "start_time": "2023-02-03T18:42:58.897Z"
   },
   {
    "duration": 16,
    "start_time": "2023-02-03T18:42:59.397Z"
   },
   {
    "duration": 53,
    "start_time": "2023-02-03T18:42:59.415Z"
   },
   {
    "duration": 93,
    "start_time": "2023-02-03T18:42:59.471Z"
   },
   {
    "duration": 4,
    "start_time": "2023-02-03T18:42:59.566Z"
   },
   {
    "duration": 53,
    "start_time": "2023-02-03T18:42:59.571Z"
   },
   {
    "duration": 12,
    "start_time": "2023-02-03T18:42:59.626Z"
   },
   {
    "duration": 6002,
    "start_time": "2023-02-03T18:42:59.640Z"
   },
   {
    "duration": 1165,
    "start_time": "2023-02-03T18:43:05.644Z"
   },
   {
    "duration": 2,
    "start_time": "2023-02-03T18:43:06.811Z"
   },
   {
    "duration": 11,
    "start_time": "2023-02-03T18:43:06.815Z"
   },
   {
    "duration": 68,
    "start_time": "2023-02-03T18:43:06.838Z"
   },
   {
    "duration": 6,
    "start_time": "2023-02-03T18:43:06.907Z"
   },
   {
    "duration": 191,
    "start_time": "2023-02-03T18:43:06.914Z"
   },
   {
    "duration": 50,
    "start_time": "2023-02-03T18:43:07.106Z"
   },
   {
    "duration": 3,
    "start_time": "2023-02-03T18:43:07.158Z"
   },
   {
    "duration": 522,
    "start_time": "2023-02-03T18:43:07.162Z"
   },
   {
    "duration": 182,
    "start_time": "2023-02-03T18:43:07.686Z"
   },
   {
    "duration": 14,
    "start_time": "2023-02-03T18:43:07.869Z"
   },
   {
    "duration": 17,
    "start_time": "2023-02-03T18:43:07.884Z"
   },
   {
    "duration": 92,
    "start_time": "2023-02-03T18:43:07.903Z"
   },
   {
    "duration": 7,
    "start_time": "2023-02-03T18:43:07.999Z"
   },
   {
    "duration": 15,
    "start_time": "2023-02-03T18:43:08.007Z"
   },
   {
    "duration": 16,
    "start_time": "2023-02-03T18:43:08.023Z"
   },
   {
    "duration": 16,
    "start_time": "2023-02-03T18:43:08.041Z"
   },
   {
    "duration": 11,
    "start_time": "2023-02-03T18:43:08.060Z"
   },
   {
    "duration": 56,
    "start_time": "2023-02-03T18:43:08.073Z"
   },
   {
    "duration": 329,
    "start_time": "2023-02-03T18:43:08.130Z"
   },
   {
    "duration": 3,
    "start_time": "2023-02-03T18:43:08.461Z"
   },
   {
    "duration": 421,
    "start_time": "2023-02-03T18:43:08.466Z"
   },
   {
    "duration": 200,
    "start_time": "2023-02-03T18:43:08.888Z"
   },
   {
    "duration": 21,
    "start_time": "2023-02-03T18:43:09.090Z"
   },
   {
    "duration": 34,
    "start_time": "2023-02-03T18:43:09.113Z"
   },
   {
    "duration": 27,
    "start_time": "2023-02-03T18:43:09.149Z"
   },
   {
    "duration": 97,
    "start_time": "2023-02-03T18:43:09.178Z"
   },
   {
    "duration": 241,
    "start_time": "2023-02-03T18:43:09.277Z"
   },
   {
    "duration": 21,
    "start_time": "2023-02-03T18:43:09.520Z"
   },
   {
    "duration": 23,
    "start_time": "2023-02-03T18:43:09.543Z"
   },
   {
    "duration": 57,
    "start_time": "2023-02-03T18:43:09.568Z"
   },
   {
    "duration": 26,
    "start_time": "2023-02-03T18:43:09.627Z"
   },
   {
    "duration": 21,
    "start_time": "2023-02-03T18:43:09.655Z"
   },
   {
    "duration": 214,
    "start_time": "2023-02-03T18:43:09.678Z"
   },
   {
    "duration": 8,
    "start_time": "2023-02-03T18:43:09.893Z"
   },
   {
    "duration": 28,
    "start_time": "2023-02-03T18:43:09.903Z"
   },
   {
    "duration": 100,
    "start_time": "2023-02-03T18:43:09.938Z"
   },
   {
    "duration": 379,
    "start_time": "2023-02-03T18:43:10.040Z"
   },
   {
    "duration": 434,
    "start_time": "2023-02-03T18:43:10.421Z"
   },
   {
    "duration": 18,
    "start_time": "2023-02-03T18:43:10.857Z"
   },
   {
    "duration": 247,
    "start_time": "2023-02-03T18:43:10.876Z"
   },
   {
    "duration": 43,
    "start_time": "2023-02-03T18:43:11.125Z"
   },
   {
    "duration": 23,
    "start_time": "2023-02-03T18:43:11.170Z"
   },
   {
    "duration": 5,
    "start_time": "2023-02-03T18:43:11.195Z"
   },
   {
    "duration": 209,
    "start_time": "2023-02-03T18:43:11.202Z"
   },
   {
    "duration": 214,
    "start_time": "2023-02-03T18:43:11.413Z"
   },
   {
    "duration": 3,
    "start_time": "2023-02-03T18:43:11.629Z"
   },
   {
    "duration": 26,
    "start_time": "2023-02-03T18:43:11.633Z"
   },
   {
    "duration": 492,
    "start_time": "2023-02-03T18:43:11.661Z"
   },
   {
    "duration": 73,
    "start_time": "2023-02-03T18:43:12.155Z"
   },
   {
    "duration": 12,
    "start_time": "2023-02-03T18:43:12.229Z"
   },
   {
    "duration": 4,
    "start_time": "2023-02-03T18:43:23.004Z"
   },
   {
    "duration": 3,
    "start_time": "2023-02-03T18:43:24.871Z"
   },
   {
    "duration": 4,
    "start_time": "2023-02-03T18:43:25.265Z"
   },
   {
    "duration": 245898,
    "start_time": "2023-02-03T18:43:33.359Z"
   },
   {
    "duration": 5,
    "start_time": "2023-02-03T18:49:12.383Z"
   },
   {
    "duration": 5,
    "start_time": "2023-02-03T18:49:20.236Z"
   },
   {
    "duration": 14,
    "start_time": "2023-02-03T18:49:32.267Z"
   },
   {
    "duration": 137,
    "start_time": "2023-02-03T18:50:33.312Z"
   },
   {
    "duration": 2173,
    "start_time": "2023-02-03T22:05:59.591Z"
   },
   {
    "duration": 1375,
    "start_time": "2023-02-03T22:06:01.767Z"
   },
   {
    "duration": 2110,
    "start_time": "2023-02-03T22:06:03.144Z"
   },
   {
    "duration": 2151,
    "start_time": "2023-02-03T22:06:05.257Z"
   },
   {
    "duration": 2320,
    "start_time": "2023-02-03T22:06:07.410Z"
   },
   {
    "duration": 844,
    "start_time": "2023-02-03T22:06:09.732Z"
   },
   {
    "duration": 542,
    "start_time": "2023-02-03T22:06:10.578Z"
   },
   {
    "duration": 16,
    "start_time": "2023-02-03T22:06:11.122Z"
   },
   {
    "duration": 57,
    "start_time": "2023-02-03T22:06:11.140Z"
   },
   {
    "duration": 155,
    "start_time": "2023-02-03T22:06:11.200Z"
   },
   {
    "duration": 4,
    "start_time": "2023-02-03T22:06:11.357Z"
   },
   {
    "duration": 55,
    "start_time": "2023-02-03T22:06:11.363Z"
   },
   {
    "duration": 17,
    "start_time": "2023-02-03T22:06:11.421Z"
   },
   {
    "duration": 6054,
    "start_time": "2023-02-03T22:06:11.440Z"
   },
   {
    "duration": 1202,
    "start_time": "2023-02-03T22:06:17.496Z"
   },
   {
    "duration": 3,
    "start_time": "2023-02-03T22:06:18.699Z"
   },
   {
    "duration": 9,
    "start_time": "2023-02-03T22:06:18.703Z"
   },
   {
    "duration": 88,
    "start_time": "2023-02-03T22:06:18.714Z"
   },
   {
    "duration": 5,
    "start_time": "2023-02-03T22:06:18.804Z"
   },
   {
    "duration": 177,
    "start_time": "2023-02-03T22:06:18.811Z"
   },
   {
    "duration": 53,
    "start_time": "2023-02-03T22:06:18.990Z"
   },
   {
    "duration": 3,
    "start_time": "2023-02-03T22:06:19.045Z"
   },
   {
    "duration": 546,
    "start_time": "2023-02-03T22:06:19.050Z"
   },
   {
    "duration": 198,
    "start_time": "2023-02-03T22:06:19.598Z"
   },
   {
    "duration": 15,
    "start_time": "2023-02-03T22:06:19.798Z"
   },
   {
    "duration": 32,
    "start_time": "2023-02-03T22:06:19.814Z"
   },
   {
    "duration": 74,
    "start_time": "2023-02-03T22:06:19.847Z"
   },
   {
    "duration": 7,
    "start_time": "2023-02-03T22:06:19.937Z"
   },
   {
    "duration": 26,
    "start_time": "2023-02-03T22:06:19.945Z"
   },
   {
    "duration": 55,
    "start_time": "2023-02-03T22:06:19.972Z"
   },
   {
    "duration": 37,
    "start_time": "2023-02-03T22:06:20.029Z"
   },
   {
    "duration": 35,
    "start_time": "2023-02-03T22:06:20.068Z"
   },
   {
    "duration": 100,
    "start_time": "2023-02-03T22:06:20.104Z"
   },
   {
    "duration": 302,
    "start_time": "2023-02-03T22:06:20.206Z"
   },
   {
    "duration": 3,
    "start_time": "2023-02-03T22:06:20.509Z"
   },
   {
    "duration": 479,
    "start_time": "2023-02-03T22:06:20.514Z"
   },
   {
    "duration": 309,
    "start_time": "2023-02-03T22:06:20.994Z"
   },
   {
    "duration": 34,
    "start_time": "2023-02-03T22:06:21.304Z"
   },
   {
    "duration": 35,
    "start_time": "2023-02-03T22:06:21.339Z"
   },
   {
    "duration": 30,
    "start_time": "2023-02-03T22:06:21.376Z"
   },
   {
    "duration": 104,
    "start_time": "2023-02-03T22:06:21.408Z"
   },
   {
    "duration": 244,
    "start_time": "2023-02-03T22:06:21.514Z"
   },
   {
    "duration": 21,
    "start_time": "2023-02-03T22:06:21.760Z"
   },
   {
    "duration": 31,
    "start_time": "2023-02-03T22:06:21.783Z"
   },
   {
    "duration": 66,
    "start_time": "2023-02-03T22:06:21.816Z"
   },
   {
    "duration": 21,
    "start_time": "2023-02-03T22:06:21.884Z"
   },
   {
    "duration": 32,
    "start_time": "2023-02-03T22:06:21.906Z"
   },
   {
    "duration": 219,
    "start_time": "2023-02-03T22:06:21.940Z"
   },
   {
    "duration": 7,
    "start_time": "2023-02-03T22:06:22.161Z"
   },
   {
    "duration": 22,
    "start_time": "2023-02-03T22:06:22.171Z"
   },
   {
    "duration": 89,
    "start_time": "2023-02-03T22:06:28.307Z"
   },
   {
    "duration": 375,
    "start_time": "2023-02-03T22:06:28.580Z"
   },
   {
    "duration": 462,
    "start_time": "2023-02-03T22:06:28.957Z"
   },
   {
    "duration": 19,
    "start_time": "2023-02-03T22:06:29.438Z"
   },
   {
    "duration": 212,
    "start_time": "2023-02-03T22:06:29.869Z"
   },
   {
    "duration": 34,
    "start_time": "2023-02-03T22:06:30.083Z"
   },
   {
    "duration": 22,
    "start_time": "2023-02-03T22:06:30.280Z"
   },
   {
    "duration": 3,
    "start_time": "2023-02-03T22:06:30.457Z"
   },
   {
    "duration": 173,
    "start_time": "2023-02-03T22:06:30.907Z"
   },
   {
    "duration": 189,
    "start_time": "2023-02-03T22:06:31.127Z"
   },
   {
    "duration": 3,
    "start_time": "2023-02-03T22:06:32.685Z"
   },
   {
    "duration": 16,
    "start_time": "2023-02-03T22:06:33.983Z"
   },
   {
    "duration": 489,
    "start_time": "2023-02-03T22:06:34.412Z"
   },
   {
    "duration": 71,
    "start_time": "2023-02-03T22:06:35.965Z"
   },
   {
    "duration": 4,
    "start_time": "2023-02-03T22:06:39.967Z"
   },
   {
    "duration": 4,
    "start_time": "2023-02-03T22:06:43.201Z"
   },
   {
    "duration": 3,
    "start_time": "2023-02-03T22:06:44.312Z"
   },
   {
    "duration": 3,
    "start_time": "2023-02-03T22:06:49.085Z"
   },
   {
    "duration": 4,
    "start_time": "2023-02-03T22:06:51.267Z"
   },
   {
    "duration": 226069,
    "start_time": "2023-02-03T22:06:54.380Z"
   },
   {
    "duration": 802,
    "start_time": "2023-02-03T22:10:40.452Z"
   },
   {
    "duration": 183,
    "start_time": "2023-02-03T22:10:41.256Z"
   },
   {
    "duration": 4,
    "start_time": "2023-02-03T22:12:10.405Z"
   },
   {
    "duration": 281,
    "start_time": "2023-02-03T22:12:11.057Z"
   },
   {
    "duration": 7,
    "start_time": "2023-02-03T22:12:11.604Z"
   },
   {
    "duration": 99,
    "start_time": "2023-02-03T22:12:21.603Z"
   },
   {
    "duration": 330,
    "start_time": "2023-02-03T22:12:22.323Z"
   },
   {
    "duration": 72,
    "start_time": "2023-02-03T22:12:23.285Z"
   },
   {
    "duration": 337722,
    "start_time": "2023-02-03T22:12:35.716Z"
   },
   {
    "duration": 926,
    "start_time": "2023-02-03T22:18:13.441Z"
   },
   {
    "duration": 104,
    "start_time": "2023-02-03T22:18:14.438Z"
   },
   {
    "duration": 92,
    "start_time": "2023-02-03T22:18:14.546Z"
   },
   {
    "duration": 820,
    "start_time": "2023-02-03T22:18:14.640Z"
   },
   {
    "duration": 81,
    "start_time": "2023-02-03T22:18:15.462Z"
   },
   {
    "duration": 54,
    "start_time": "2023-02-03T22:20:34.662Z"
   },
   {
    "duration": 3,
    "start_time": "2023-02-03T22:20:42.661Z"
   },
   {
    "duration": 31392,
    "start_time": "2023-02-03T22:20:43.474Z"
   },
   {
    "duration": 9,
    "start_time": "2023-02-03T22:21:14.868Z"
   },
   {
    "duration": 4,
    "start_time": "2023-02-03T22:21:28.381Z"
   },
   {
    "duration": 7,
    "start_time": "2023-02-03T22:21:29.384Z"
   },
   {
    "duration": 3,
    "start_time": "2023-02-03T22:21:42.375Z"
   },
   {
    "duration": 134847,
    "start_time": "2023-02-03T22:21:43.008Z"
   },
   {
    "duration": 85,
    "start_time": "2023-02-03T22:23:57.857Z"
   },
   {
    "duration": 55,
    "start_time": "2023-02-03T22:26:06.070Z"
   },
   {
    "duration": 3,
    "start_time": "2023-02-03T22:26:10.245Z"
   },
   {
    "duration": 2739,
    "start_time": "2023-02-04T08:11:56.269Z"
   },
   {
    "duration": 2729,
    "start_time": "2023-02-04T08:11:59.011Z"
   },
   {
    "duration": 3316,
    "start_time": "2023-02-04T08:12:01.742Z"
   },
   {
    "duration": 2281,
    "start_time": "2023-02-04T08:12:05.061Z"
   },
   {
    "duration": 2921,
    "start_time": "2023-02-04T08:12:07.344Z"
   },
   {
    "duration": 1155,
    "start_time": "2023-02-04T08:12:10.267Z"
   },
   {
    "duration": 517,
    "start_time": "2023-02-04T08:12:11.424Z"
   },
   {
    "duration": 17,
    "start_time": "2023-02-04T08:12:11.943Z"
   },
   {
    "duration": 63,
    "start_time": "2023-02-04T08:12:11.962Z"
   },
   {
    "duration": 128,
    "start_time": "2023-02-04T08:12:12.029Z"
   },
   {
    "duration": 5,
    "start_time": "2023-02-04T08:12:12.159Z"
   },
   {
    "duration": 64,
    "start_time": "2023-02-04T08:12:12.166Z"
   },
   {
    "duration": 10,
    "start_time": "2023-02-04T08:12:12.232Z"
   },
   {
    "duration": 5902,
    "start_time": "2023-02-04T08:12:12.244Z"
   },
   {
    "duration": 1212,
    "start_time": "2023-02-04T08:12:18.147Z"
   },
   {
    "duration": 3,
    "start_time": "2023-02-04T08:12:19.360Z"
   },
   {
    "duration": 20,
    "start_time": "2023-02-04T08:12:19.365Z"
   },
   {
    "duration": 69,
    "start_time": "2023-02-04T08:12:19.387Z"
   },
   {
    "duration": 6,
    "start_time": "2023-02-04T08:12:19.458Z"
   },
   {
    "duration": 200,
    "start_time": "2023-02-04T08:12:19.485Z"
   },
   {
    "duration": 57,
    "start_time": "2023-02-04T08:12:19.687Z"
   },
   {
    "duration": 3,
    "start_time": "2023-02-04T08:12:19.746Z"
   },
   {
    "duration": 528,
    "start_time": "2023-02-04T08:12:19.751Z"
   },
   {
    "duration": 195,
    "start_time": "2023-02-04T08:12:20.283Z"
   },
   {
    "duration": 15,
    "start_time": "2023-02-04T08:12:20.483Z"
   },
   {
    "duration": 18,
    "start_time": "2023-02-04T08:12:20.500Z"
   },
   {
    "duration": 116,
    "start_time": "2023-02-04T08:12:20.520Z"
   },
   {
    "duration": 9,
    "start_time": "2023-02-04T08:12:20.641Z"
   },
   {
    "duration": 10,
    "start_time": "2023-02-04T08:12:20.651Z"
   },
   {
    "duration": 22,
    "start_time": "2023-02-04T08:12:20.662Z"
   },
   {
    "duration": 15,
    "start_time": "2023-02-04T08:12:20.686Z"
   },
   {
    "duration": 10,
    "start_time": "2023-02-04T08:12:20.703Z"
   },
   {
    "duration": 49,
    "start_time": "2023-02-04T08:12:20.714Z"
   },
   {
    "duration": 316,
    "start_time": "2023-02-04T08:12:20.765Z"
   },
   {
    "duration": 3,
    "start_time": "2023-02-04T08:12:21.082Z"
   },
   {
    "duration": 433,
    "start_time": "2023-02-04T08:12:21.087Z"
   },
   {
    "duration": 296,
    "start_time": "2023-02-04T08:12:21.522Z"
   },
   {
    "duration": 22,
    "start_time": "2023-02-04T08:12:21.819Z"
   },
   {
    "duration": 21,
    "start_time": "2023-02-04T08:12:21.843Z"
   },
   {
    "duration": 17,
    "start_time": "2023-02-04T08:12:21.883Z"
   },
   {
    "duration": 97,
    "start_time": "2023-02-04T08:12:21.902Z"
   },
   {
    "duration": 250,
    "start_time": "2023-02-04T08:12:22.001Z"
   },
   {
    "duration": 19,
    "start_time": "2023-02-04T08:12:22.253Z"
   },
   {
    "duration": 38,
    "start_time": "2023-02-04T08:12:22.274Z"
   },
   {
    "duration": 78,
    "start_time": "2023-02-04T08:12:22.314Z"
   },
   {
    "duration": 20,
    "start_time": "2023-02-04T08:12:22.394Z"
   },
   {
    "duration": 21,
    "start_time": "2023-02-04T08:12:22.416Z"
   },
   {
    "duration": 225,
    "start_time": "2023-02-04T08:12:22.439Z"
   },
   {
    "duration": 20,
    "start_time": "2023-02-04T08:12:22.667Z"
   },
   {
    "duration": 21,
    "start_time": "2023-02-04T08:12:22.689Z"
   },
   {
    "duration": 114,
    "start_time": "2023-02-04T08:12:22.712Z"
   },
   {
    "duration": 390,
    "start_time": "2023-02-04T08:12:22.828Z"
   },
   {
    "duration": 430,
    "start_time": "2023-02-04T08:12:23.220Z"
   },
   {
    "duration": 31,
    "start_time": "2023-02-04T08:12:23.653Z"
   },
   {
    "duration": 236,
    "start_time": "2023-02-04T08:12:23.686Z"
   },
   {
    "duration": 37,
    "start_time": "2023-02-04T08:12:23.924Z"
   },
   {
    "duration": 35,
    "start_time": "2023-02-04T08:12:23.963Z"
   },
   {
    "duration": 3,
    "start_time": "2023-02-04T08:12:23.999Z"
   },
   {
    "duration": 200,
    "start_time": "2023-02-04T08:12:24.004Z"
   },
   {
    "duration": 205,
    "start_time": "2023-02-04T08:12:24.206Z"
   },
   {
    "duration": 3,
    "start_time": "2023-02-04T08:12:24.412Z"
   },
   {
    "duration": 32,
    "start_time": "2023-02-04T08:12:24.417Z"
   },
   {
    "duration": 502,
    "start_time": "2023-02-04T08:12:24.451Z"
   },
   {
    "duration": 85,
    "start_time": "2023-02-04T08:12:24.955Z"
   },
   {
    "duration": 4,
    "start_time": "2023-02-04T08:12:25.042Z"
   },
   {
    "duration": 18,
    "start_time": "2023-02-04T08:12:25.047Z"
   },
   {
    "duration": 36,
    "start_time": "2023-02-04T08:12:25.067Z"
   },
   {
    "duration": 29,
    "start_time": "2023-02-04T08:12:25.105Z"
   },
   {
    "duration": 13,
    "start_time": "2023-02-04T08:12:25.136Z"
   },
   {
    "duration": 257078,
    "start_time": "2023-02-04T08:12:25.150Z"
   },
   {
    "duration": 872,
    "start_time": "2023-02-04T08:16:42.231Z"
   },
   {
    "duration": 79,
    "start_time": "2023-02-04T08:16:43.105Z"
   },
   {
    "duration": 5,
    "start_time": "2023-02-04T08:16:43.187Z"
   },
   {
    "duration": 296,
    "start_time": "2023-02-04T08:16:43.194Z"
   },
   {
    "duration": 195,
    "start_time": "2023-02-04T08:16:43.493Z"
   },
   {
    "duration": 117,
    "start_time": "2023-02-04T08:16:43.690Z"
   },
   {
    "duration": 330,
    "start_time": "2023-02-04T08:16:43.809Z"
   },
   {
    "duration": 92,
    "start_time": "2023-02-04T08:16:44.141Z"
   },
   {
    "duration": 398053,
    "start_time": "2023-02-04T08:16:44.235Z"
   },
   {
    "duration": 918,
    "start_time": "2023-02-04T08:23:22.291Z"
   },
   {
    "duration": 178,
    "start_time": "2023-02-04T08:23:23.211Z"
   },
   {
    "duration": 4,
    "start_time": "2023-02-04T08:23:23.397Z"
   },
   {
    "duration": 894,
    "start_time": "2023-02-04T08:23:23.404Z"
   },
   {
    "duration": 86,
    "start_time": "2023-02-04T08:23:24.302Z"
   },
   {
    "duration": 8,
    "start_time": "2023-02-04T08:24:33.498Z"
   },
   {
    "duration": 61,
    "start_time": "2023-02-04T08:24:48.175Z"
   },
   {
    "duration": 4,
    "start_time": "2023-02-04T08:24:50.486Z"
   },
   {
    "duration": 5,
    "start_time": "2023-02-04T08:24:51.178Z"
   },
   {
    "duration": 2577,
    "start_time": "2023-02-04T08:28:03.072Z"
   },
   {
    "duration": 1633,
    "start_time": "2023-02-04T08:28:05.652Z"
   },
   {
    "duration": 2516,
    "start_time": "2023-02-04T08:28:07.287Z"
   },
   {
    "duration": 2371,
    "start_time": "2023-02-04T08:28:09.807Z"
   },
   {
    "duration": 2883,
    "start_time": "2023-02-04T08:28:12.181Z"
   },
   {
    "duration": 1164,
    "start_time": "2023-02-04T08:28:15.067Z"
   },
   {
    "duration": 517,
    "start_time": "2023-02-04T08:28:16.233Z"
   },
   {
    "duration": 18,
    "start_time": "2023-02-04T08:28:16.751Z"
   },
   {
    "duration": 56,
    "start_time": "2023-02-04T08:28:16.771Z"
   },
   {
    "duration": 109,
    "start_time": "2023-02-04T08:28:16.830Z"
   },
   {
    "duration": 5,
    "start_time": "2023-02-04T08:28:16.940Z"
   },
   {
    "duration": 64,
    "start_time": "2023-02-04T08:28:16.947Z"
   },
   {
    "duration": 3,
    "start_time": "2023-02-04T08:28:17.013Z"
   },
   {
    "duration": 6211,
    "start_time": "2023-02-04T08:28:17.019Z"
   },
   {
    "duration": 1274,
    "start_time": "2023-02-04T08:28:23.232Z"
   },
   {
    "duration": 3,
    "start_time": "2023-02-04T08:28:24.508Z"
   },
   {
    "duration": 20,
    "start_time": "2023-02-04T08:28:24.513Z"
   },
   {
    "duration": 86,
    "start_time": "2023-02-04T08:28:24.535Z"
   },
   {
    "duration": 7,
    "start_time": "2023-02-04T08:28:24.623Z"
   },
   {
    "duration": 189,
    "start_time": "2023-02-04T08:28:24.631Z"
   },
   {
    "duration": 42,
    "start_time": "2023-02-04T08:28:24.822Z"
   },
   {
    "duration": 18,
    "start_time": "2023-02-04T08:28:24.866Z"
   },
   {
    "duration": 618,
    "start_time": "2023-02-04T08:28:24.886Z"
   },
   {
    "duration": 202,
    "start_time": "2023-02-04T08:28:25.506Z"
   },
   {
    "duration": 14,
    "start_time": "2023-02-04T08:28:25.710Z"
   },
   {
    "duration": 16,
    "start_time": "2023-02-04T08:28:25.726Z"
   },
   {
    "duration": 108,
    "start_time": "2023-02-04T08:28:25.743Z"
   },
   {
    "duration": 7,
    "start_time": "2023-02-04T08:28:25.856Z"
   },
   {
    "duration": 23,
    "start_time": "2023-02-04T08:28:25.864Z"
   },
   {
    "duration": 5,
    "start_time": "2023-02-04T08:28:25.889Z"
   },
   {
    "duration": 21,
    "start_time": "2023-02-04T08:28:25.895Z"
   },
   {
    "duration": 8,
    "start_time": "2023-02-04T08:28:25.918Z"
   },
   {
    "duration": 45,
    "start_time": "2023-02-04T08:28:25.927Z"
   },
   {
    "duration": 337,
    "start_time": "2023-02-04T08:28:25.974Z"
   },
   {
    "duration": 3,
    "start_time": "2023-02-04T08:28:26.313Z"
   },
   {
    "duration": 459,
    "start_time": "2023-02-04T08:28:26.318Z"
   },
   {
    "duration": 211,
    "start_time": "2023-02-04T08:28:26.780Z"
   },
   {
    "duration": 26,
    "start_time": "2023-02-04T08:28:26.995Z"
   },
   {
    "duration": 21,
    "start_time": "2023-02-04T08:28:27.024Z"
   },
   {
    "duration": 37,
    "start_time": "2023-02-04T08:28:27.047Z"
   },
   {
    "duration": 114,
    "start_time": "2023-02-04T08:28:27.086Z"
   },
   {
    "duration": 251,
    "start_time": "2023-02-04T08:28:27.202Z"
   },
   {
    "duration": 18,
    "start_time": "2023-02-04T08:28:27.455Z"
   },
   {
    "duration": 27,
    "start_time": "2023-02-04T08:28:27.475Z"
   },
   {
    "duration": 55,
    "start_time": "2023-02-04T08:28:27.504Z"
   },
   {
    "duration": 43,
    "start_time": "2023-02-04T08:28:27.561Z"
   },
   {
    "duration": 21,
    "start_time": "2023-02-04T08:28:27.605Z"
   },
   {
    "duration": 245,
    "start_time": "2023-02-04T08:28:27.628Z"
   },
   {
    "duration": 15,
    "start_time": "2023-02-04T08:28:27.875Z"
   },
   {
    "duration": 24,
    "start_time": "2023-02-04T08:28:27.892Z"
   },
   {
    "duration": 118,
    "start_time": "2023-02-04T08:28:27.918Z"
   },
   {
    "duration": 463,
    "start_time": "2023-02-04T08:28:28.038Z"
   },
   {
    "duration": 449,
    "start_time": "2023-02-04T08:28:28.503Z"
   },
   {
    "duration": 19,
    "start_time": "2023-02-04T08:28:28.954Z"
   },
   {
    "duration": 248,
    "start_time": "2023-02-04T08:28:28.985Z"
   },
   {
    "duration": 39,
    "start_time": "2023-02-04T08:28:29.235Z"
   },
   {
    "duration": 32,
    "start_time": "2023-02-04T08:28:29.276Z"
   },
   {
    "duration": 3,
    "start_time": "2023-02-04T08:28:29.310Z"
   },
   {
    "duration": 212,
    "start_time": "2023-02-04T08:28:29.315Z"
   },
   {
    "duration": 269,
    "start_time": "2023-02-04T08:28:29.529Z"
   },
   {
    "duration": 3,
    "start_time": "2023-02-04T08:28:29.801Z"
   },
   {
    "duration": 36,
    "start_time": "2023-02-04T08:28:29.806Z"
   },
   {
    "duration": 525,
    "start_time": "2023-02-04T08:28:29.845Z"
   },
   {
    "duration": 78,
    "start_time": "2023-02-04T08:28:30.372Z"
   },
   {
    "duration": 5,
    "start_time": "2023-02-04T08:28:30.451Z"
   },
   {
    "duration": 24,
    "start_time": "2023-02-04T08:28:30.458Z"
   },
   {
    "duration": 52,
    "start_time": "2023-02-04T08:28:30.484Z"
   },
   {
    "duration": 28,
    "start_time": "2023-02-04T08:28:30.538Z"
   },
   {
    "duration": 50,
    "start_time": "2023-02-04T08:28:30.569Z"
   },
   {
    "duration": 265019,
    "start_time": "2023-02-04T08:28:30.621Z"
   },
   {
    "duration": 762,
    "start_time": "2023-02-04T08:32:55.642Z"
   },
   {
    "duration": 95,
    "start_time": "2023-02-04T08:32:56.405Z"
   },
   {
    "duration": 5,
    "start_time": "2023-02-04T08:32:56.585Z"
   },
   {
    "duration": 392,
    "start_time": "2023-02-04T08:32:56.592Z"
   },
   {
    "duration": 99,
    "start_time": "2023-02-04T08:32:56.987Z"
   },
   {
    "duration": 105,
    "start_time": "2023-02-04T08:32:57.088Z"
   },
   {
    "duration": 308,
    "start_time": "2023-02-04T08:32:57.195Z"
   },
   {
    "duration": 84,
    "start_time": "2023-02-04T08:32:57.505Z"
   },
   {
    "duration": 361393,
    "start_time": "2023-02-04T08:32:57.591Z"
   },
   {
    "duration": 910,
    "start_time": "2023-02-04T08:38:58.987Z"
   },
   {
    "duration": 92,
    "start_time": "2023-02-04T08:38:59.899Z"
   },
   {
    "duration": 88,
    "start_time": "2023-02-04T08:39:00.000Z"
   },
   {
    "duration": 908,
    "start_time": "2023-02-04T08:39:00.090Z"
   },
   {
    "duration": 186,
    "start_time": "2023-02-04T08:39:01.000Z"
   },
   {
    "duration": 71,
    "start_time": "2023-02-04T08:39:18.987Z"
   },
   {
    "duration": 3,
    "start_time": "2023-02-04T08:39:20.309Z"
   },
   {
    "duration": 5,
    "start_time": "2023-02-04T08:39:21.092Z"
   },
   {
    "duration": 3960,
    "start_time": "2023-02-04T08:39:23.978Z"
   },
   {
    "duration": 1893723,
    "start_time": "2023-02-04T08:40:26.361Z"
   },
   {
    "duration": 440,
    "start_time": "2023-02-04T09:15:26.979Z"
   },
   {
    "duration": 1483,
    "start_time": "2023-02-04T09:15:28.728Z"
   },
   {
    "duration": 3,
    "start_time": "2023-02-04T09:15:38.110Z"
   },
   {
    "duration": 33150,
    "start_time": "2023-02-04T09:15:38.966Z"
   },
   {
    "duration": 8,
    "start_time": "2023-02-04T09:16:12.118Z"
   },
   {
    "duration": 3,
    "start_time": "2023-02-04T09:16:51.992Z"
   },
   {
    "duration": 6,
    "start_time": "2023-02-04T09:16:52.096Z"
   },
   {
    "duration": 3,
    "start_time": "2023-02-04T09:17:29.049Z"
   },
   {
    "duration": 15400,
    "start_time": "2023-02-04T09:17:29.996Z"
   },
   {
    "duration": 12,
    "start_time": "2023-02-04T09:17:49.049Z"
   },
   {
    "duration": 72,
    "start_time": "2023-02-04T09:18:25.892Z"
   },
   {
    "duration": 52,
    "start_time": "2023-02-04T09:18:32.484Z"
   },
   {
    "duration": 3,
    "start_time": "2023-02-04T09:18:34.297Z"
   },
   {
    "duration": 362787,
    "start_time": "2023-02-04T09:18:35.736Z"
   },
   {
    "duration": 2120,
    "start_time": "2023-02-04T09:24:38.525Z"
   },
   {
    "duration": 2,
    "start_time": "2023-02-04T09:25:54.335Z"
   },
   {
    "duration": 3,
    "start_time": "2023-02-04T09:26:00.360Z"
   },
   {
    "duration": 3,
    "start_time": "2023-02-04T09:26:11.929Z"
   },
   {
    "duration": 8106536,
    "start_time": "2023-02-04T09:26:38.269Z"
   },
   {
    "duration": 71,
    "start_time": "2023-02-04T11:41:44.807Z"
   },
   {
    "duration": 8,
    "start_time": "2023-02-04T11:46:49.007Z"
   },
   {
    "duration": 1419357,
    "start_time": "2023-02-04T11:46:49.958Z"
   },
   {
    "duration": 9,
    "start_time": "2023-02-04T12:10:29.318Z"
   },
   {
    "duration": 5,
    "start_time": "2023-02-04T12:13:27.461Z"
   },
   {
    "duration": 6,
    "start_time": "2023-02-04T12:13:28.383Z"
   },
   {
    "duration": 17,
    "start_time": "2023-02-04T12:13:29.736Z"
   },
   {
    "duration": 209,
    "start_time": "2023-02-04T12:13:40.342Z"
   },
   {
    "duration": 205,
    "start_time": "2023-02-04T12:14:31.628Z"
   },
   {
    "duration": 258,
    "start_time": "2023-02-04T12:14:35.330Z"
   },
   {
    "duration": 249,
    "start_time": "2023-02-04T12:14:41.532Z"
   },
   {
    "duration": 237,
    "start_time": "2023-02-04T12:14:45.654Z"
   },
   {
    "duration": 235,
    "start_time": "2023-02-04T12:14:52.896Z"
   },
   {
    "duration": 9,
    "start_time": "2023-02-04T12:15:04.778Z"
   },
   {
    "duration": 232,
    "start_time": "2023-02-04T12:16:28.666Z"
   },
   {
    "duration": 240,
    "start_time": "2023-02-04T12:16:34.119Z"
   },
   {
    "duration": 260,
    "start_time": "2023-02-04T12:16:45.004Z"
   },
   {
    "duration": 367,
    "start_time": "2023-02-04T12:16:56.077Z"
   },
   {
    "duration": 264,
    "start_time": "2023-02-04T12:17:00.529Z"
   },
   {
    "duration": 250,
    "start_time": "2023-02-04T12:17:10.086Z"
   },
   {
    "duration": 247,
    "start_time": "2023-02-04T12:17:18.295Z"
   },
   {
    "duration": 9,
    "start_time": "2023-02-04T12:17:22.365Z"
   },
   {
    "duration": 2317,
    "start_time": "2023-02-04T23:39:19.776Z"
   },
   {
    "duration": 1582,
    "start_time": "2023-02-04T23:39:22.095Z"
   },
   {
    "duration": 3240,
    "start_time": "2023-02-04T23:39:23.679Z"
   },
   {
    "duration": 2235,
    "start_time": "2023-02-04T23:39:26.921Z"
   },
   {
    "duration": 2746,
    "start_time": "2023-02-04T23:39:29.158Z"
   },
   {
    "duration": 1008,
    "start_time": "2023-02-04T23:39:31.906Z"
   },
   {
    "duration": 565,
    "start_time": "2023-02-04T23:39:32.915Z"
   },
   {
    "duration": 16,
    "start_time": "2023-02-04T23:39:33.482Z"
   },
   {
    "duration": 85,
    "start_time": "2023-02-04T23:39:33.499Z"
   },
   {
    "duration": 110,
    "start_time": "2023-02-04T23:39:33.587Z"
   },
   {
    "duration": 5,
    "start_time": "2023-02-04T23:39:33.700Z"
   },
   {
    "duration": 66,
    "start_time": "2023-02-04T23:39:33.707Z"
   },
   {
    "duration": 10,
    "start_time": "2023-02-04T23:39:33.775Z"
   },
   {
    "duration": 5916,
    "start_time": "2023-02-04T23:39:33.788Z"
   },
   {
    "duration": 1254,
    "start_time": "2023-02-04T23:39:39.705Z"
   },
   {
    "duration": 3,
    "start_time": "2023-02-04T23:39:40.961Z"
   },
   {
    "duration": 15,
    "start_time": "2023-02-04T23:39:40.965Z"
   },
   {
    "duration": 90,
    "start_time": "2023-02-04T23:39:40.982Z"
   },
   {
    "duration": 6,
    "start_time": "2023-02-04T23:39:41.074Z"
   },
   {
    "duration": 180,
    "start_time": "2023-02-04T23:39:41.081Z"
   },
   {
    "duration": 40,
    "start_time": "2023-02-04T23:39:41.263Z"
   },
   {
    "duration": 4,
    "start_time": "2023-02-04T23:39:41.305Z"
   },
   {
    "duration": 585,
    "start_time": "2023-02-04T23:39:41.310Z"
   },
   {
    "duration": 179,
    "start_time": "2023-02-04T23:39:41.897Z"
   },
   {
    "duration": 13,
    "start_time": "2023-02-04T23:39:42.078Z"
   },
   {
    "duration": 20,
    "start_time": "2023-02-04T23:39:42.093Z"
   },
   {
    "duration": 93,
    "start_time": "2023-02-04T23:39:42.115Z"
   },
   {
    "duration": 7,
    "start_time": "2023-02-04T23:39:42.213Z"
   },
   {
    "duration": 20,
    "start_time": "2023-02-04T23:39:42.222Z"
   },
   {
    "duration": 7,
    "start_time": "2023-02-04T23:39:42.244Z"
   },
   {
    "duration": 16,
    "start_time": "2023-02-04T23:39:42.253Z"
   },
   {
    "duration": 12,
    "start_time": "2023-02-04T23:39:42.271Z"
   },
   {
    "duration": 54,
    "start_time": "2023-02-04T23:39:42.285Z"
   },
   {
    "duration": 373,
    "start_time": "2023-02-04T23:39:42.341Z"
   },
   {
    "duration": 3,
    "start_time": "2023-02-04T23:39:42.716Z"
   },
   {
    "duration": 441,
    "start_time": "2023-02-04T23:39:42.720Z"
   },
   {
    "duration": 215,
    "start_time": "2023-02-04T23:39:43.163Z"
   },
   {
    "duration": 22,
    "start_time": "2023-02-04T23:39:43.380Z"
   },
   {
    "duration": 35,
    "start_time": "2023-02-04T23:39:43.403Z"
   },
   {
    "duration": 17,
    "start_time": "2023-02-04T23:39:43.439Z"
   },
   {
    "duration": 108,
    "start_time": "2023-02-04T23:39:43.458Z"
   },
   {
    "duration": 254,
    "start_time": "2023-02-04T23:39:43.568Z"
   },
   {
    "duration": 22,
    "start_time": "2023-02-04T23:39:43.824Z"
   },
   {
    "duration": 40,
    "start_time": "2023-02-04T23:39:43.848Z"
   },
   {
    "duration": 71,
    "start_time": "2023-02-04T23:39:43.891Z"
   },
   {
    "duration": 21,
    "start_time": "2023-02-04T23:39:43.964Z"
   },
   {
    "duration": 31,
    "start_time": "2023-02-04T23:39:43.987Z"
   },
   {
    "duration": 234,
    "start_time": "2023-02-04T23:39:44.020Z"
   },
   {
    "duration": 7,
    "start_time": "2023-02-04T23:39:44.256Z"
   },
   {
    "duration": 36,
    "start_time": "2023-02-04T23:39:44.265Z"
   },
   {
    "duration": 105,
    "start_time": "2023-02-04T23:39:44.303Z"
   },
   {
    "duration": 399,
    "start_time": "2023-02-04T23:39:44.410Z"
   },
   {
    "duration": 416,
    "start_time": "2023-02-04T23:39:44.811Z"
   },
   {
    "duration": 26,
    "start_time": "2023-02-04T23:39:45.229Z"
   },
   {
    "duration": 260,
    "start_time": "2023-02-04T23:39:45.257Z"
   },
   {
    "duration": 41,
    "start_time": "2023-02-04T23:39:45.519Z"
   },
   {
    "duration": 27,
    "start_time": "2023-02-04T23:39:45.562Z"
   },
   {
    "duration": 8,
    "start_time": "2023-02-04T23:39:45.590Z"
   },
   {
    "duration": 211,
    "start_time": "2023-02-04T23:39:45.600Z"
   },
   {
    "duration": 202,
    "start_time": "2023-02-04T23:39:45.813Z"
   },
   {
    "duration": 2,
    "start_time": "2023-02-04T23:39:46.017Z"
   },
   {
    "duration": 40,
    "start_time": "2023-02-04T23:39:46.021Z"
   },
   {
    "duration": 479,
    "start_time": "2023-02-04T23:39:46.062Z"
   },
   {
    "duration": 73,
    "start_time": "2023-02-04T23:39:46.543Z"
   },
   {
    "duration": 4,
    "start_time": "2023-02-04T23:39:46.618Z"
   },
   {
    "duration": 15,
    "start_time": "2023-02-04T23:39:46.624Z"
   },
   {
    "duration": 10,
    "start_time": "2023-02-04T23:39:46.641Z"
   },
   {
    "duration": 7,
    "start_time": "2023-02-04T23:39:46.653Z"
   },
   {
    "duration": 13,
    "start_time": "2023-02-04T23:39:46.661Z"
   },
   {
    "duration": 233483,
    "start_time": "2023-02-04T23:39:46.676Z"
   },
   {
    "duration": 789,
    "start_time": "2023-02-04T23:43:40.161Z"
   },
   {
    "duration": 14,
    "start_time": "2023-02-04T23:43:40.952Z"
   },
   {
    "duration": 4,
    "start_time": "2023-02-04T23:43:41.038Z"
   },
   {
    "duration": 393,
    "start_time": "2023-02-04T23:43:41.045Z"
   },
   {
    "duration": 98,
    "start_time": "2023-02-04T23:43:41.441Z"
   },
   {
    "duration": 109,
    "start_time": "2023-02-04T23:43:41.541Z"
   },
   {
    "duration": 310,
    "start_time": "2023-02-04T23:43:41.652Z"
   },
   {
    "duration": 100,
    "start_time": "2023-02-04T23:43:41.964Z"
   },
   {
    "duration": 364472,
    "start_time": "2023-02-04T23:43:42.066Z"
   },
   {
    "duration": 997,
    "start_time": "2023-02-04T23:49:46.541Z"
   },
   {
    "duration": 99,
    "start_time": "2023-02-04T23:49:47.540Z"
   },
   {
    "duration": 3,
    "start_time": "2023-02-04T23:49:47.739Z"
   },
   {
    "duration": 807,
    "start_time": "2023-02-04T23:49:47.743Z"
   },
   {
    "duration": 90,
    "start_time": "2023-02-04T23:49:48.552Z"
   },
   {
    "duration": 155,
    "start_time": "2023-02-04T23:49:48.645Z"
   },
   {
    "duration": 3,
    "start_time": "2023-02-04T23:49:48.802Z"
   },
   {
    "duration": 9,
    "start_time": "2023-02-04T23:49:48.806Z"
   },
   {
    "duration": 1698132,
    "start_time": "2023-02-04T23:49:48.817Z"
   },
   {
    "duration": 489,
    "start_time": "2023-02-05T00:18:06.951Z"
   },
   {
    "duration": 1408,
    "start_time": "2023-02-05T00:18:07.442Z"
   },
   {
    "duration": 3,
    "start_time": "2023-02-05T00:18:08.852Z"
   },
   {
    "duration": 31342,
    "start_time": "2023-02-05T00:18:08.857Z"
   },
   {
    "duration": 8,
    "start_time": "2023-02-05T00:18:40.201Z"
   },
   {
    "duration": 12,
    "start_time": "2023-02-05T00:18:40.211Z"
   },
   {
    "duration": 16,
    "start_time": "2023-02-05T00:18:40.225Z"
   },
   {
    "duration": 1177096,
    "start_time": "2023-02-05T00:18:40.243Z"
   },
   {
    "duration": 0,
    "start_time": "2023-02-05T00:38:17.342Z"
   },
   {
    "duration": 0,
    "start_time": "2023-02-05T00:38:17.344Z"
   },
   {
    "duration": 0,
    "start_time": "2023-02-05T00:38:17.346Z"
   },
   {
    "duration": 0,
    "start_time": "2023-02-05T00:38:17.348Z"
   },
   {
    "duration": 0,
    "start_time": "2023-02-05T00:38:17.349Z"
   },
   {
    "duration": 0,
    "start_time": "2023-02-05T00:38:17.351Z"
   },
   {
    "duration": 0,
    "start_time": "2023-02-05T00:38:17.352Z"
   },
   {
    "duration": 0,
    "start_time": "2023-02-05T00:38:17.354Z"
   },
   {
    "duration": 0,
    "start_time": "2023-02-05T00:38:17.355Z"
   },
   {
    "duration": 0,
    "start_time": "2023-02-05T00:38:17.357Z"
   },
   {
    "duration": 0,
    "start_time": "2023-02-05T00:38:17.359Z"
   },
   {
    "duration": 0,
    "start_time": "2023-02-05T00:38:17.360Z"
   },
   {
    "duration": 0,
    "start_time": "2023-02-05T00:38:17.362Z"
   },
   {
    "duration": 0,
    "start_time": "2023-02-05T00:38:17.363Z"
   },
   {
    "duration": 0,
    "start_time": "2023-02-05T00:38:17.365Z"
   },
   {
    "duration": 0,
    "start_time": "2023-02-05T00:38:17.366Z"
   },
   {
    "duration": 0,
    "start_time": "2023-02-05T00:38:17.368Z"
   },
   {
    "duration": 0,
    "start_time": "2023-02-05T00:38:17.370Z"
   },
   {
    "duration": 0,
    "start_time": "2023-02-05T00:38:17.371Z"
   },
   {
    "duration": 0,
    "start_time": "2023-02-05T00:38:17.373Z"
   },
   {
    "duration": 1639,
    "start_time": "2023-02-05T17:31:58.314Z"
   },
   {
    "duration": 2095,
    "start_time": "2023-02-05T17:32:06.262Z"
   },
   {
    "duration": 2746,
    "start_time": "2023-02-05T17:32:08.359Z"
   },
   {
    "duration": 1796,
    "start_time": "2023-02-05T17:32:11.107Z"
   },
   {
    "duration": 2529,
    "start_time": "2023-02-05T17:32:12.905Z"
   },
   {
    "duration": 57,
    "start_time": "2023-02-05T17:32:19.231Z"
   },
   {
    "duration": 2627,
    "start_time": "2023-02-05T17:32:27.513Z"
   },
   {
    "duration": 442,
    "start_time": "2023-02-05T17:32:30.143Z"
   },
   {
    "duration": 15,
    "start_time": "2023-02-05T17:32:30.586Z"
   },
   {
    "duration": 47,
    "start_time": "2023-02-05T17:32:30.688Z"
   },
   {
    "duration": 84,
    "start_time": "2023-02-05T17:32:31.324Z"
   },
   {
    "duration": 4,
    "start_time": "2023-02-05T17:32:32.149Z"
   },
   {
    "duration": 40,
    "start_time": "2023-02-05T17:32:32.945Z"
   },
   {
    "duration": 3,
    "start_time": "2023-02-05T17:32:33.608Z"
   },
   {
    "duration": 4734,
    "start_time": "2023-02-05T17:32:33.817Z"
   },
   {
    "duration": 1001,
    "start_time": "2023-02-05T17:32:38.553Z"
   },
   {
    "duration": 3,
    "start_time": "2023-02-05T17:32:39.555Z"
   },
   {
    "duration": 7,
    "start_time": "2023-02-05T17:32:39.560Z"
   },
   {
    "duration": 71,
    "start_time": "2023-02-05T17:32:39.568Z"
   },
   {
    "duration": 5,
    "start_time": "2023-02-05T17:32:39.641Z"
   },
   {
    "duration": 147,
    "start_time": "2023-02-05T17:32:39.647Z"
   },
   {
    "duration": 41,
    "start_time": "2023-02-05T17:32:39.795Z"
   },
   {
    "duration": 3,
    "start_time": "2023-02-05T17:32:39.838Z"
   },
   {
    "duration": 445,
    "start_time": "2023-02-05T17:32:39.843Z"
   },
   {
    "duration": 165,
    "start_time": "2023-02-05T17:32:40.290Z"
   },
   {
    "duration": 12,
    "start_time": "2023-02-05T17:32:40.457Z"
   },
   {
    "duration": 21,
    "start_time": "2023-02-05T17:32:40.471Z"
   },
   {
    "duration": 63,
    "start_time": "2023-02-05T17:32:40.706Z"
   },
   {
    "duration": 6,
    "start_time": "2023-02-05T17:32:41.858Z"
   },
   {
    "duration": 7,
    "start_time": "2023-02-05T17:32:42.916Z"
   },
   {
    "duration": 3,
    "start_time": "2023-02-05T17:32:43.551Z"
   },
   {
    "duration": 6,
    "start_time": "2023-02-05T17:32:44.000Z"
   },
   {
    "duration": 6,
    "start_time": "2023-02-05T17:32:44.375Z"
   },
   {
    "duration": 39,
    "start_time": "2023-02-05T17:32:45.774Z"
   },
   {
    "duration": 60,
    "start_time": "2023-02-05T17:32:52.093Z"
   },
   {
    "duration": 32,
    "start_time": "2023-02-05T17:32:52.395Z"
   },
   {
    "duration": 265,
    "start_time": "2023-02-05T17:32:53.098Z"
   },
   {
    "duration": 3,
    "start_time": "2023-02-05T17:32:54.109Z"
   },
   {
    "duration": 355,
    "start_time": "2023-02-05T17:32:55.678Z"
   },
   {
    "duration": 244,
    "start_time": "2023-02-05T17:32:56.388Z"
   },
   {
    "duration": 24,
    "start_time": "2023-02-05T17:32:57.715Z"
   },
   {
    "duration": 20,
    "start_time": "2023-02-05T17:32:58.714Z"
   },
   {
    "duration": 12,
    "start_time": "2023-02-05T17:32:59.610Z"
   },
   {
    "duration": 73,
    "start_time": "2023-02-05T17:32:59.837Z"
   },
   {
    "duration": 243,
    "start_time": "2023-02-05T17:33:00.095Z"
   },
   {
    "duration": 20,
    "start_time": "2023-02-05T17:33:00.341Z"
   },
   {
    "duration": 13,
    "start_time": "2023-02-05T17:33:00.572Z"
   },
   {
    "duration": 46,
    "start_time": "2023-02-05T17:33:01.124Z"
   },
   {
    "duration": 16,
    "start_time": "2023-02-05T17:33:02.118Z"
   },
   {
    "duration": 13,
    "start_time": "2023-02-05T17:33:02.596Z"
   },
   {
    "duration": 170,
    "start_time": "2023-02-05T17:33:15.546Z"
   },
   {
    "duration": 7,
    "start_time": "2023-02-05T17:33:16.452Z"
   },
   {
    "duration": 17,
    "start_time": "2023-02-05T17:33:17.126Z"
   },
   {
    "duration": 105,
    "start_time": "2023-02-05T17:33:17.423Z"
   },
   {
    "duration": 403,
    "start_time": "2023-02-05T17:33:17.820Z"
   },
   {
    "duration": 348,
    "start_time": "2023-02-05T17:33:18.228Z"
   },
   {
    "duration": 16,
    "start_time": "2023-02-05T17:33:20.273Z"
   },
   {
    "duration": 151,
    "start_time": "2023-02-05T17:33:20.841Z"
   },
   {
    "duration": 29,
    "start_time": "2023-02-05T17:33:21.148Z"
   },
   {
    "duration": 24,
    "start_time": "2023-02-05T17:33:21.421Z"
   },
   {
    "duration": 3,
    "start_time": "2023-02-05T17:33:21.664Z"
   },
   {
    "duration": 150,
    "start_time": "2023-02-05T17:33:22.926Z"
   },
   {
    "duration": 171,
    "start_time": "2023-02-05T17:33:23.230Z"
   },
   {
    "duration": 3,
    "start_time": "2023-02-05T17:33:24.471Z"
   },
   {
    "duration": 18,
    "start_time": "2023-02-05T17:33:25.317Z"
   },
   {
    "duration": 466,
    "start_time": "2023-02-05T17:33:25.604Z"
   },
   {
    "duration": 71,
    "start_time": "2023-02-05T17:33:26.072Z"
   },
   {
    "duration": 4,
    "start_time": "2023-02-05T17:33:26.496Z"
   },
   {
    "duration": 3,
    "start_time": "2023-02-05T17:33:27.636Z"
   },
   {
    "duration": 3,
    "start_time": "2023-02-05T17:33:28.500Z"
   },
   {
    "duration": 3,
    "start_time": "2023-02-05T17:33:29.612Z"
   },
   {
    "duration": 3,
    "start_time": "2023-02-05T17:33:30.415Z"
   },
   {
    "duration": 193497,
    "start_time": "2023-02-05T17:33:31.031Z"
   },
   {
    "duration": 702,
    "start_time": "2023-02-05T17:36:44.530Z"
   },
   {
    "duration": 9,
    "start_time": "2023-02-05T17:36:45.234Z"
   },
   {
    "duration": 2,
    "start_time": "2023-02-05T17:37:54.708Z"
   },
   {
    "duration": 150,
    "start_time": "2023-02-05T17:37:55.178Z"
   },
   {
    "duration": 6,
    "start_time": "2023-02-05T17:37:55.824Z"
   },
   {
    "duration": 82,
    "start_time": "2023-02-05T17:38:02.473Z"
   },
   {
    "duration": 3,
    "start_time": "2023-02-05T17:38:03.100Z"
   },
   {
    "duration": 3,
    "start_time": "2023-02-05T17:38:06.918Z"
   },
   {
    "duration": 3,
    "start_time": "2023-02-05T17:39:01.296Z"
   },
   {
    "duration": 3,
    "start_time": "2023-02-05T17:39:01.830Z"
   },
   {
    "duration": 4,
    "start_time": "2023-02-05T17:39:03.728Z"
   },
   {
    "duration": 322867,
    "start_time": "2023-02-05T17:39:05.364Z"
   },
   {
    "duration": 724,
    "start_time": "2023-02-05T17:44:28.233Z"
   },
   {
    "duration": 13,
    "start_time": "2023-02-05T17:44:29.028Z"
   },
   {
    "duration": 9,
    "start_time": "2023-02-05T17:44:29.043Z"
   },
   {
    "duration": 981,
    "start_time": "2023-02-05T17:44:29.053Z"
   },
   {
    "duration": 95,
    "start_time": "2023-02-05T17:44:30.036Z"
   },
   {
    "duration": 19,
    "start_time": "2023-02-05T17:44:30.133Z"
   },
   {
    "duration": 16,
    "start_time": "2023-02-05T17:44:30.153Z"
   },
   {
    "duration": 23,
    "start_time": "2023-02-05T17:44:30.170Z"
   },
   {
    "duration": 515579,
    "start_time": "2023-02-05T17:44:30.195Z"
   },
   {
    "duration": 0,
    "start_time": "2023-02-05T17:53:05.778Z"
   },
   {
    "duration": 0,
    "start_time": "2023-02-05T17:53:05.779Z"
   },
   {
    "duration": 0,
    "start_time": "2023-02-05T17:53:05.780Z"
   },
   {
    "duration": 0,
    "start_time": "2023-02-05T17:53:05.781Z"
   },
   {
    "duration": 0,
    "start_time": "2023-02-05T17:53:05.782Z"
   },
   {
    "duration": 0,
    "start_time": "2023-02-05T17:53:05.783Z"
   },
   {
    "duration": 0,
    "start_time": "2023-02-05T17:53:05.784Z"
   },
   {
    "duration": 0,
    "start_time": "2023-02-05T17:53:05.785Z"
   },
   {
    "duration": 0,
    "start_time": "2023-02-05T17:53:05.786Z"
   },
   {
    "duration": 0,
    "start_time": "2023-02-05T17:53:05.787Z"
   },
   {
    "duration": 1,
    "start_time": "2023-02-05T17:53:05.788Z"
   },
   {
    "duration": 0,
    "start_time": "2023-02-05T17:53:05.790Z"
   },
   {
    "duration": 0,
    "start_time": "2023-02-05T17:53:05.791Z"
   },
   {
    "duration": 0,
    "start_time": "2023-02-05T17:53:05.792Z"
   },
   {
    "duration": 0,
    "start_time": "2023-02-05T17:53:05.792Z"
   },
   {
    "duration": 0,
    "start_time": "2023-02-05T17:53:05.794Z"
   },
   {
    "duration": 0,
    "start_time": "2023-02-05T17:53:05.794Z"
   },
   {
    "duration": 0,
    "start_time": "2023-02-05T17:53:05.828Z"
   },
   {
    "duration": 0,
    "start_time": "2023-02-05T17:53:05.829Z"
   },
   {
    "duration": 0,
    "start_time": "2023-02-05T17:53:05.830Z"
   },
   {
    "duration": 0,
    "start_time": "2023-02-05T17:53:05.832Z"
   },
   {
    "duration": 0,
    "start_time": "2023-02-05T17:53:05.833Z"
   },
   {
    "duration": 0,
    "start_time": "2023-02-05T17:53:05.834Z"
   },
   {
    "duration": 0,
    "start_time": "2023-02-05T17:53:05.834Z"
   },
   {
    "duration": 0,
    "start_time": "2023-02-05T17:53:05.835Z"
   },
   {
    "duration": 0,
    "start_time": "2023-02-05T17:53:05.836Z"
   },
   {
    "duration": 0,
    "start_time": "2023-02-05T17:53:05.838Z"
   },
   {
    "duration": 0,
    "start_time": "2023-02-05T17:53:05.839Z"
   },
   {
    "duration": 0,
    "start_time": "2023-02-05T17:53:05.840Z"
   },
   {
    "duration": 0,
    "start_time": "2023-02-05T17:53:05.841Z"
   },
   {
    "duration": 0,
    "start_time": "2023-02-05T17:53:05.842Z"
   },
   {
    "duration": 0,
    "start_time": "2023-02-05T17:53:05.843Z"
   },
   {
    "duration": 0,
    "start_time": "2023-02-05T17:53:05.844Z"
   },
   {
    "duration": 0,
    "start_time": "2023-02-05T17:53:05.845Z"
   },
   {
    "duration": 0,
    "start_time": "2023-02-05T17:53:05.846Z"
   },
   {
    "duration": 0,
    "start_time": "2023-02-05T17:53:05.847Z"
   },
   {
    "duration": 0,
    "start_time": "2023-02-05T17:53:05.848Z"
   },
   {
    "duration": 0,
    "start_time": "2023-02-05T17:53:05.850Z"
   },
   {
    "duration": 0,
    "start_time": "2023-02-05T17:53:05.851Z"
   },
   {
    "duration": 0,
    "start_time": "2023-02-05T17:53:05.853Z"
   },
   {
    "duration": 0,
    "start_time": "2023-02-05T17:53:05.854Z"
   },
   {
    "duration": 0,
    "start_time": "2023-02-05T17:53:05.855Z"
   },
   {
    "duration": 1334809,
    "start_time": "2023-02-05T17:53:34.587Z"
   },
   {
    "duration": 4,
    "start_time": "2023-02-05T18:15:49.397Z"
   },
   {
    "duration": 1267,
    "start_time": "2023-02-05T18:15:49.403Z"
   },
   {
    "duration": 3,
    "start_time": "2023-02-05T18:15:50.672Z"
   },
   {
    "duration": 26543,
    "start_time": "2023-02-05T18:15:50.676Z"
   },
   {
    "duration": 11,
    "start_time": "2023-02-05T18:16:17.220Z"
   },
   {
    "duration": 5,
    "start_time": "2023-02-05T18:16:17.233Z"
   },
   {
    "duration": 8,
    "start_time": "2023-02-05T18:16:17.239Z"
   },
   {
    "duration": 10,
    "start_time": "2023-02-05T18:16:17.249Z"
   },
   {
    "duration": 1532862,
    "start_time": "2023-02-05T18:16:17.261Z"
   },
   {
    "duration": 9,
    "start_time": "2023-02-05T18:41:50.127Z"
   },
   {
    "duration": 1417,
    "start_time": "2023-02-05T18:41:50.138Z"
   },
   {
    "duration": 4,
    "start_time": "2023-02-05T18:41:51.556Z"
   },
   {
    "duration": 27392,
    "start_time": "2023-02-05T18:41:51.561Z"
   },
   {
    "duration": 7,
    "start_time": "2023-02-05T18:42:18.955Z"
   },
   {
    "duration": 5,
    "start_time": "2023-02-05T18:42:18.964Z"
   },
   {
    "duration": 5,
    "start_time": "2023-02-05T18:42:18.970Z"
   },
   {
    "duration": 347463,
    "start_time": "2023-02-05T18:42:18.976Z"
   },
   {
    "duration": 2115,
    "start_time": "2023-02-05T18:48:06.441Z"
   },
   {
    "duration": 3,
    "start_time": "2023-02-05T18:48:08.628Z"
   },
   {
    "duration": 5,
    "start_time": "2023-02-05T18:48:08.633Z"
   },
   {
    "duration": 5,
    "start_time": "2023-02-05T18:48:08.640Z"
   },
   {
    "duration": 7918015,
    "start_time": "2023-02-05T18:48:08.646Z"
   },
   {
    "duration": 0,
    "start_time": "2023-02-05T21:00:06.664Z"
   },
   {
    "duration": 0,
    "start_time": "2023-02-05T21:00:06.665Z"
   },
   {
    "duration": 0,
    "start_time": "2023-02-05T21:00:06.666Z"
   },
   {
    "duration": 0,
    "start_time": "2023-02-05T21:00:06.668Z"
   },
   {
    "duration": 0,
    "start_time": "2023-02-05T21:00:06.669Z"
   },
   {
    "duration": 0,
    "start_time": "2023-02-05T21:00:06.671Z"
   },
   {
    "duration": 0,
    "start_time": "2023-02-05T21:00:06.672Z"
   },
   {
    "duration": 0,
    "start_time": "2023-02-05T21:00:06.673Z"
   },
   {
    "duration": 0,
    "start_time": "2023-02-05T21:00:06.675Z"
   },
   {
    "duration": 0,
    "start_time": "2023-02-05T21:00:06.676Z"
   },
   {
    "duration": 0,
    "start_time": "2023-02-05T21:00:06.678Z"
   },
   {
    "duration": 0,
    "start_time": "2023-02-05T21:00:06.679Z"
   },
   {
    "duration": 0,
    "start_time": "2023-02-05T21:00:06.680Z"
   },
   {
    "duration": 0,
    "start_time": "2023-02-05T21:00:06.681Z"
   },
   {
    "duration": 0,
    "start_time": "2023-02-05T21:00:06.682Z"
   },
   {
    "duration": 0,
    "start_time": "2023-02-05T21:00:06.729Z"
   },
   {
    "duration": 0,
    "start_time": "2023-02-05T21:00:06.730Z"
   },
   {
    "duration": 0,
    "start_time": "2023-02-05T21:00:06.731Z"
   },
   {
    "duration": 0,
    "start_time": "2023-02-05T21:00:06.732Z"
   },
   {
    "duration": 0,
    "start_time": "2023-02-05T21:00:06.733Z"
   },
   {
    "duration": 3,
    "start_time": "2023-02-05T21:00:24.208Z"
   },
   {
    "duration": 3,
    "start_time": "2023-02-05T21:00:25.045Z"
   },
   {
    "duration": 3650595,
    "start_time": "2023-02-05T21:00:26.344Z"
   },
   {
    "duration": 4,
    "start_time": "2023-02-05T22:01:16.941Z"
   },
   {
    "duration": 2,
    "start_time": "2023-02-05T22:05:45.687Z"
   },
   {
    "duration": 6252,
    "start_time": "2023-02-05T22:05:46.676Z"
   },
   {
    "duration": 8,
    "start_time": "2023-02-05T22:05:52.930Z"
   },
   {
    "duration": 6,
    "start_time": "2023-02-05T22:05:52.940Z"
   },
   {
    "duration": 303114,
    "start_time": "2023-02-05T22:05:52.948Z"
   },
   {
    "duration": 3991,
    "start_time": "2023-02-05T22:10:56.063Z"
   },
   {
    "duration": 3,
    "start_time": "2023-02-05T22:11:07.475Z"
   },
   {
    "duration": 3,
    "start_time": "2023-02-05T22:11:08.509Z"
   },
   {
    "duration": 515593,
    "start_time": "2023-02-05T22:11:11.155Z"
   },
   {
    "duration": 2,
    "start_time": "2023-02-05T22:19:50.842Z"
   },
   {
    "duration": 1144039,
    "start_time": "2023-02-05T22:19:51.926Z"
   },
   {
    "duration": 9,
    "start_time": "2023-02-05T22:38:55.967Z"
   },
   {
    "duration": 6,
    "start_time": "2023-02-05T22:38:55.977Z"
   },
   {
    "duration": 4,
    "start_time": "2023-02-05T22:38:55.985Z"
   },
   {
    "duration": 11,
    "start_time": "2023-02-05T22:38:55.991Z"
   },
   {
    "duration": 204,
    "start_time": "2023-02-05T22:38:56.004Z"
   },
   {
    "duration": 18,
    "start_time": "2023-02-05T22:38:56.210Z"
   },
   {
    "duration": 4,
    "start_time": "2023-02-05T22:38:56.230Z"
   },
   {
    "duration": 5166,
    "start_time": "2023-02-05T22:38:56.236Z"
   },
   {
    "duration": 1977,
    "start_time": "2023-02-05T22:46:11.016Z"
   },
   {
    "duration": 1771,
    "start_time": "2023-02-05T22:46:12.996Z"
   },
   {
    "duration": 1733,
    "start_time": "2023-02-05T22:46:14.769Z"
   },
   {
    "duration": 1733,
    "start_time": "2023-02-05T22:46:16.504Z"
   },
   {
    "duration": 1414,
    "start_time": "2023-02-05T22:46:18.239Z"
   },
   {
    "duration": 2349,
    "start_time": "2023-02-06T17:49:05.907Z"
   },
   {
    "duration": 2756,
    "start_time": "2023-02-06T17:49:08.258Z"
   },
   {
    "duration": 2015,
    "start_time": "2023-02-06T17:49:11.016Z"
   },
   {
    "duration": 2695,
    "start_time": "2023-02-06T17:49:13.033Z"
   },
   {
    "duration": 1486,
    "start_time": "2023-02-06T17:49:15.730Z"
   },
   {
    "duration": 768,
    "start_time": "2023-02-06T17:49:17.217Z"
   },
   {
    "duration": 443,
    "start_time": "2023-02-06T17:49:17.986Z"
   },
   {
    "duration": 14,
    "start_time": "2023-02-06T17:49:18.431Z"
   },
   {
    "duration": 51,
    "start_time": "2023-02-06T17:49:18.447Z"
   },
   {
    "duration": 99,
    "start_time": "2023-02-06T17:49:18.501Z"
   },
   {
    "duration": 4,
    "start_time": "2023-02-06T17:49:18.602Z"
   },
   {
    "duration": 56,
    "start_time": "2023-02-06T17:49:18.608Z"
   },
   {
    "duration": 4,
    "start_time": "2023-02-06T17:49:18.665Z"
   },
   {
    "duration": 5268,
    "start_time": "2023-02-06T17:49:18.670Z"
   },
   {
    "duration": 1069,
    "start_time": "2023-02-06T17:49:23.939Z"
   },
   {
    "duration": 2,
    "start_time": "2023-02-06T17:49:25.010Z"
   },
   {
    "duration": 24,
    "start_time": "2023-02-06T17:49:25.014Z"
   },
   {
    "duration": 70,
    "start_time": "2023-02-06T17:49:25.039Z"
   },
   {
    "duration": 5,
    "start_time": "2023-02-06T17:49:25.111Z"
   },
   {
    "duration": 145,
    "start_time": "2023-02-06T17:49:25.117Z"
   },
   {
    "duration": 33,
    "start_time": "2023-02-06T17:49:25.263Z"
   },
   {
    "duration": 2,
    "start_time": "2023-02-06T17:49:25.298Z"
   },
   {
    "duration": 458,
    "start_time": "2023-02-06T17:49:25.302Z"
   },
   {
    "duration": 153,
    "start_time": "2023-02-06T17:49:25.762Z"
   },
   {
    "duration": 11,
    "start_time": "2023-02-06T17:49:25.916Z"
   },
   {
    "duration": 25,
    "start_time": "2023-02-06T17:49:25.928Z"
   },
   {
    "duration": 64,
    "start_time": "2023-02-06T17:49:25.955Z"
   },
   {
    "duration": 7,
    "start_time": "2023-02-06T17:49:26.022Z"
   },
   {
    "duration": 20,
    "start_time": "2023-02-06T17:49:26.030Z"
   },
   {
    "duration": 17,
    "start_time": "2023-02-06T17:49:26.051Z"
   },
   {
    "duration": 8,
    "start_time": "2023-02-06T17:49:26.070Z"
   },
   {
    "duration": 6,
    "start_time": "2023-02-06T17:49:26.080Z"
   },
   {
    "duration": 37,
    "start_time": "2023-02-06T17:49:26.088Z"
   },
   {
    "duration": 74,
    "start_time": "2023-02-06T17:49:26.127Z"
   },
   {
    "duration": 48,
    "start_time": "2023-02-06T17:49:26.203Z"
   },
   {
    "duration": 267,
    "start_time": "2023-02-06T17:49:26.253Z"
   },
   {
    "duration": 3,
    "start_time": "2023-02-06T17:49:26.522Z"
   },
   {
    "duration": 357,
    "start_time": "2023-02-06T17:49:26.526Z"
   },
   {
    "duration": 246,
    "start_time": "2023-02-06T17:49:26.885Z"
   },
   {
    "duration": 23,
    "start_time": "2023-02-06T17:49:27.132Z"
   },
   {
    "duration": 25,
    "start_time": "2023-02-06T17:49:27.157Z"
   },
   {
    "duration": 66,
    "start_time": "2023-02-06T17:49:27.183Z"
   },
   {
    "duration": 154,
    "start_time": "2023-02-06T17:49:27.252Z"
   },
   {
    "duration": 272,
    "start_time": "2023-02-06T17:49:27.408Z"
   },
   {
    "duration": 15,
    "start_time": "2023-02-06T17:49:27.682Z"
   },
   {
    "duration": 21,
    "start_time": "2023-02-06T17:49:27.699Z"
   },
   {
    "duration": 56,
    "start_time": "2023-02-06T17:49:27.721Z"
   },
   {
    "duration": 17,
    "start_time": "2023-02-06T17:49:27.778Z"
   },
   {
    "duration": 58,
    "start_time": "2023-02-06T17:49:27.796Z"
   },
   {
    "duration": 187,
    "start_time": "2023-02-06T17:49:27.856Z"
   },
   {
    "duration": 6,
    "start_time": "2023-02-06T17:49:28.045Z"
   },
   {
    "duration": 18,
    "start_time": "2023-02-06T17:49:28.053Z"
   },
   {
    "duration": 95,
    "start_time": "2023-02-06T17:49:28.073Z"
   },
   {
    "duration": 392,
    "start_time": "2023-02-06T17:49:28.169Z"
   },
   {
    "duration": 352,
    "start_time": "2023-02-06T17:49:28.563Z"
   },
   {
    "duration": 15,
    "start_time": "2023-02-06T17:49:28.916Z"
   },
   {
    "duration": 157,
    "start_time": "2023-02-06T17:49:28.943Z"
   },
   {
    "duration": 31,
    "start_time": "2023-02-06T17:49:29.102Z"
   },
   {
    "duration": 31,
    "start_time": "2023-02-06T17:49:29.134Z"
   },
   {
    "duration": 2,
    "start_time": "2023-02-06T17:49:29.167Z"
   },
   {
    "duration": 169,
    "start_time": "2023-02-06T17:49:29.171Z"
   },
   {
    "duration": 172,
    "start_time": "2023-02-06T17:49:29.344Z"
   },
   {
    "duration": 3,
    "start_time": "2023-02-06T17:49:29.517Z"
   },
   {
    "duration": 24,
    "start_time": "2023-02-06T17:49:29.521Z"
   },
   {
    "duration": 437,
    "start_time": "2023-02-06T17:49:29.546Z"
   },
   {
    "duration": 78,
    "start_time": "2023-02-06T17:49:29.984Z"
   },
   {
    "duration": 4,
    "start_time": "2023-02-06T17:49:30.065Z"
   },
   {
    "duration": 29,
    "start_time": "2023-02-06T17:49:30.070Z"
   },
   {
    "duration": 19,
    "start_time": "2023-02-06T17:49:30.100Z"
   },
   {
    "duration": 24,
    "start_time": "2023-02-06T17:49:30.121Z"
   },
   {
    "duration": 28,
    "start_time": "2023-02-06T17:49:30.146Z"
   },
   {
    "duration": 223077,
    "start_time": "2023-02-06T17:49:30.176Z"
   },
   {
    "duration": 703,
    "start_time": "2023-02-06T17:53:13.256Z"
   },
   {
    "duration": 6,
    "start_time": "2023-02-06T17:53:13.961Z"
   },
   {
    "duration": 3,
    "start_time": "2023-02-06T17:53:14.043Z"
   },
   {
    "duration": 108,
    "start_time": "2023-02-06T17:53:14.048Z"
   },
   {
    "duration": 8,
    "start_time": "2023-02-06T17:53:14.244Z"
   },
   {
    "duration": 88,
    "start_time": "2023-02-06T17:53:14.344Z"
   },
   {
    "duration": 2,
    "start_time": "2023-02-06T17:53:14.433Z"
   },
   {
    "duration": 3,
    "start_time": "2023-02-06T17:53:14.444Z"
   },
   {
    "duration": 6,
    "start_time": "2023-02-06T17:53:14.448Z"
   },
   {
    "duration": 6,
    "start_time": "2023-02-06T17:53:14.459Z"
   },
   {
    "duration": 354687,
    "start_time": "2023-02-06T17:53:14.466Z"
   },
   {
    "duration": 811,
    "start_time": "2023-02-06T17:59:09.245Z"
   },
   {
    "duration": 10,
    "start_time": "2023-02-06T17:59:10.058Z"
   },
   {
    "duration": 74,
    "start_time": "2023-02-06T17:59:10.070Z"
   },
   {
    "duration": 1018,
    "start_time": "2023-02-06T17:59:10.146Z"
   },
   {
    "duration": 83,
    "start_time": "2023-02-06T17:59:11.167Z"
   },
   {
    "duration": 97,
    "start_time": "2023-02-06T17:59:11.253Z"
   },
   {
    "duration": 5,
    "start_time": "2023-02-06T17:59:11.351Z"
   },
   {
    "duration": 7,
    "start_time": "2023-02-06T17:59:11.358Z"
   },
   {
    "duration": 50,
    "start_time": "2023-02-06T19:36:54.287Z"
   }
  ],
  "kernelspec": {
   "display_name": "Python 3 (ipykernel)",
   "language": "python",
   "name": "python3"
  },
  "language_info": {
   "codemirror_mode": {
    "name": "ipython",
    "version": 3
   },
   "file_extension": ".py",
   "mimetype": "text/x-python",
   "name": "python",
   "nbconvert_exporter": "python",
   "pygments_lexer": "ipython3",
   "version": "3.9.18"
  },
  "toc": {
   "base_numbering": 1,
   "nav_menu": {},
   "number_sections": true,
   "sideBar": true,
   "skip_h1_title": true,
   "title_cell": "Table of Contents",
   "title_sidebar": "Contents",
   "toc_cell": false,
   "toc_position": {},
   "toc_section_display": true,
   "toc_window_display": false
  }
 },
 "nbformat": 4,
 "nbformat_minor": 4
}
