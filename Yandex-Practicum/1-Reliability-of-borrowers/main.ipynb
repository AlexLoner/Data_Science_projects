{
 "cells": [
  {
   "cell_type": "markdown",
   "id": "7dc01dc4",
   "metadata": {
    "deletable": false,
    "editable": false,
    "id": "c81daeeb"
   },
   "source": [
    "# Исследование надежности заемщиков"
   ]
  },
  {
   "cell_type": "markdown",
   "id": "78941ec7",
   "metadata": {
    "deletable": false,
    "editable": false,
    "id": "-G3EJWzf62s6"
   },
   "source": [
    "Это первая часть проекта, она будет проверена автоматически. Вторую часть проверит ревьюер. "
   ]
  },
  {
   "cell_type": "markdown",
   "id": "2883d551",
   "metadata": {
    "deletable": false,
    "editable": false,
    "id": "744d7639"
   },
   "source": [
    "## Откройте таблицу и изучите общую информацию о данных"
   ]
  },
  {
   "cell_type": "markdown",
   "id": "324e2494",
   "metadata": {
    "deletable": false,
    "editable": false,
    "id": "e7a14c31",
    "tags": [
     "start_task"
    ]
   },
   "source": [
    "**Задание 1. Импортируйте библиотеку pandas. Считайте данные из csv-файла в датафрейм и сохраните в переменную `data`. Путь к файлу:**\n",
    "\n",
    "`/datasets/data.csv`"
   ]
  },
  {
   "cell_type": "code",
   "execution_count": 1,
   "id": "a96fada1",
   "metadata": {
    "id": "7bcf75c9"
   },
   "outputs": [],
   "source": [
    "import pandas as pd"
   ]
  },
  {
   "cell_type": "code",
   "execution_count": 2,
   "id": "33d4305b",
   "metadata": {
    "id": "4d240ee2"
   },
   "outputs": [],
   "source": [
    "data = pd.read_csv('data.csv')"
   ]
  },
  {
   "cell_type": "markdown",
   "id": "bf6c8cdc",
   "metadata": {
    "deletable": false,
    "editable": false,
    "id": "b8038fe3",
    "tags": [
     "start_task"
    ]
   },
   "source": [
    "**Задание 2. Выведите первые 20 строчек датафрейма `data` на экран.**"
   ]
  },
  {
   "cell_type": "code",
   "execution_count": 3,
   "id": "502fe51f",
   "metadata": {
    "id": "2a7cab99"
   },
   "outputs": [
    {
     "data": {
      "text/html": [
       "<div>\n",
       "<style scoped>\n",
       "    .dataframe tbody tr th:only-of-type {\n",
       "        vertical-align: middle;\n",
       "    }\n",
       "\n",
       "    .dataframe tbody tr th {\n",
       "        vertical-align: top;\n",
       "    }\n",
       "\n",
       "    .dataframe thead th {\n",
       "        text-align: right;\n",
       "    }\n",
       "</style>\n",
       "<table border=\"1\" class=\"dataframe\">\n",
       "  <thead>\n",
       "    <tr style=\"text-align: right;\">\n",
       "      <th></th>\n",
       "      <th>children</th>\n",
       "      <th>days_employed</th>\n",
       "      <th>dob_years</th>\n",
       "      <th>education</th>\n",
       "      <th>education_id</th>\n",
       "      <th>family_status</th>\n",
       "      <th>family_status_id</th>\n",
       "      <th>gender</th>\n",
       "      <th>income_type</th>\n",
       "      <th>debt</th>\n",
       "      <th>total_income</th>\n",
       "      <th>purpose</th>\n",
       "    </tr>\n",
       "  </thead>\n",
       "  <tbody>\n",
       "    <tr>\n",
       "      <th>0</th>\n",
       "      <td>1</td>\n",
       "      <td>-8437.673028</td>\n",
       "      <td>42</td>\n",
       "      <td>высшее</td>\n",
       "      <td>0</td>\n",
       "      <td>женат / замужем</td>\n",
       "      <td>0</td>\n",
       "      <td>F</td>\n",
       "      <td>сотрудник</td>\n",
       "      <td>0</td>\n",
       "      <td>253875.639453</td>\n",
       "      <td>покупка жилья</td>\n",
       "    </tr>\n",
       "    <tr>\n",
       "      <th>1</th>\n",
       "      <td>1</td>\n",
       "      <td>-4024.803754</td>\n",
       "      <td>36</td>\n",
       "      <td>среднее</td>\n",
       "      <td>1</td>\n",
       "      <td>женат / замужем</td>\n",
       "      <td>0</td>\n",
       "      <td>F</td>\n",
       "      <td>сотрудник</td>\n",
       "      <td>0</td>\n",
       "      <td>112080.014102</td>\n",
       "      <td>приобретение автомобиля</td>\n",
       "    </tr>\n",
       "    <tr>\n",
       "      <th>2</th>\n",
       "      <td>0</td>\n",
       "      <td>-5623.422610</td>\n",
       "      <td>33</td>\n",
       "      <td>Среднее</td>\n",
       "      <td>1</td>\n",
       "      <td>женат / замужем</td>\n",
       "      <td>0</td>\n",
       "      <td>M</td>\n",
       "      <td>сотрудник</td>\n",
       "      <td>0</td>\n",
       "      <td>145885.952297</td>\n",
       "      <td>покупка жилья</td>\n",
       "    </tr>\n",
       "    <tr>\n",
       "      <th>3</th>\n",
       "      <td>3</td>\n",
       "      <td>-4124.747207</td>\n",
       "      <td>32</td>\n",
       "      <td>среднее</td>\n",
       "      <td>1</td>\n",
       "      <td>женат / замужем</td>\n",
       "      <td>0</td>\n",
       "      <td>M</td>\n",
       "      <td>сотрудник</td>\n",
       "      <td>0</td>\n",
       "      <td>267628.550329</td>\n",
       "      <td>дополнительное образование</td>\n",
       "    </tr>\n",
       "    <tr>\n",
       "      <th>4</th>\n",
       "      <td>0</td>\n",
       "      <td>340266.072047</td>\n",
       "      <td>53</td>\n",
       "      <td>среднее</td>\n",
       "      <td>1</td>\n",
       "      <td>гражданский брак</td>\n",
       "      <td>1</td>\n",
       "      <td>F</td>\n",
       "      <td>пенсионер</td>\n",
       "      <td>0</td>\n",
       "      <td>158616.077870</td>\n",
       "      <td>сыграть свадьбу</td>\n",
       "    </tr>\n",
       "    <tr>\n",
       "      <th>5</th>\n",
       "      <td>0</td>\n",
       "      <td>-926.185831</td>\n",
       "      <td>27</td>\n",
       "      <td>высшее</td>\n",
       "      <td>0</td>\n",
       "      <td>гражданский брак</td>\n",
       "      <td>1</td>\n",
       "      <td>M</td>\n",
       "      <td>компаньон</td>\n",
       "      <td>0</td>\n",
       "      <td>255763.565419</td>\n",
       "      <td>покупка жилья</td>\n",
       "    </tr>\n",
       "    <tr>\n",
       "      <th>6</th>\n",
       "      <td>0</td>\n",
       "      <td>-2879.202052</td>\n",
       "      <td>43</td>\n",
       "      <td>высшее</td>\n",
       "      <td>0</td>\n",
       "      <td>женат / замужем</td>\n",
       "      <td>0</td>\n",
       "      <td>F</td>\n",
       "      <td>компаньон</td>\n",
       "      <td>0</td>\n",
       "      <td>240525.971920</td>\n",
       "      <td>операции с жильем</td>\n",
       "    </tr>\n",
       "    <tr>\n",
       "      <th>7</th>\n",
       "      <td>0</td>\n",
       "      <td>-152.779569</td>\n",
       "      <td>50</td>\n",
       "      <td>СРЕДНЕЕ</td>\n",
       "      <td>1</td>\n",
       "      <td>женат / замужем</td>\n",
       "      <td>0</td>\n",
       "      <td>M</td>\n",
       "      <td>сотрудник</td>\n",
       "      <td>0</td>\n",
       "      <td>135823.934197</td>\n",
       "      <td>образование</td>\n",
       "    </tr>\n",
       "    <tr>\n",
       "      <th>8</th>\n",
       "      <td>2</td>\n",
       "      <td>-6929.865299</td>\n",
       "      <td>35</td>\n",
       "      <td>ВЫСШЕЕ</td>\n",
       "      <td>0</td>\n",
       "      <td>гражданский брак</td>\n",
       "      <td>1</td>\n",
       "      <td>F</td>\n",
       "      <td>сотрудник</td>\n",
       "      <td>0</td>\n",
       "      <td>95856.832424</td>\n",
       "      <td>на проведение свадьбы</td>\n",
       "    </tr>\n",
       "    <tr>\n",
       "      <th>9</th>\n",
       "      <td>0</td>\n",
       "      <td>-2188.756445</td>\n",
       "      <td>41</td>\n",
       "      <td>среднее</td>\n",
       "      <td>1</td>\n",
       "      <td>женат / замужем</td>\n",
       "      <td>0</td>\n",
       "      <td>M</td>\n",
       "      <td>сотрудник</td>\n",
       "      <td>0</td>\n",
       "      <td>144425.938277</td>\n",
       "      <td>покупка жилья для семьи</td>\n",
       "    </tr>\n",
       "    <tr>\n",
       "      <th>10</th>\n",
       "      <td>2</td>\n",
       "      <td>-4171.483647</td>\n",
       "      <td>36</td>\n",
       "      <td>высшее</td>\n",
       "      <td>0</td>\n",
       "      <td>женат / замужем</td>\n",
       "      <td>0</td>\n",
       "      <td>M</td>\n",
       "      <td>компаньон</td>\n",
       "      <td>0</td>\n",
       "      <td>113943.491460</td>\n",
       "      <td>покупка недвижимости</td>\n",
       "    </tr>\n",
       "    <tr>\n",
       "      <th>11</th>\n",
       "      <td>0</td>\n",
       "      <td>-792.701887</td>\n",
       "      <td>40</td>\n",
       "      <td>среднее</td>\n",
       "      <td>1</td>\n",
       "      <td>женат / замужем</td>\n",
       "      <td>0</td>\n",
       "      <td>F</td>\n",
       "      <td>сотрудник</td>\n",
       "      <td>0</td>\n",
       "      <td>77069.234271</td>\n",
       "      <td>покупка коммерческой недвижимости</td>\n",
       "    </tr>\n",
       "    <tr>\n",
       "      <th>12</th>\n",
       "      <td>0</td>\n",
       "      <td>NaN</td>\n",
       "      <td>65</td>\n",
       "      <td>среднее</td>\n",
       "      <td>1</td>\n",
       "      <td>гражданский брак</td>\n",
       "      <td>1</td>\n",
       "      <td>M</td>\n",
       "      <td>пенсионер</td>\n",
       "      <td>0</td>\n",
       "      <td>NaN</td>\n",
       "      <td>сыграть свадьбу</td>\n",
       "    </tr>\n",
       "    <tr>\n",
       "      <th>13</th>\n",
       "      <td>0</td>\n",
       "      <td>-1846.641941</td>\n",
       "      <td>54</td>\n",
       "      <td>неоконченное высшее</td>\n",
       "      <td>2</td>\n",
       "      <td>женат / замужем</td>\n",
       "      <td>0</td>\n",
       "      <td>F</td>\n",
       "      <td>сотрудник</td>\n",
       "      <td>0</td>\n",
       "      <td>130458.228857</td>\n",
       "      <td>приобретение автомобиля</td>\n",
       "    </tr>\n",
       "    <tr>\n",
       "      <th>14</th>\n",
       "      <td>0</td>\n",
       "      <td>-1844.956182</td>\n",
       "      <td>56</td>\n",
       "      <td>высшее</td>\n",
       "      <td>0</td>\n",
       "      <td>гражданский брак</td>\n",
       "      <td>1</td>\n",
       "      <td>F</td>\n",
       "      <td>компаньон</td>\n",
       "      <td>1</td>\n",
       "      <td>165127.911772</td>\n",
       "      <td>покупка жилой недвижимости</td>\n",
       "    </tr>\n",
       "    <tr>\n",
       "      <th>15</th>\n",
       "      <td>1</td>\n",
       "      <td>-972.364419</td>\n",
       "      <td>26</td>\n",
       "      <td>среднее</td>\n",
       "      <td>1</td>\n",
       "      <td>женат / замужем</td>\n",
       "      <td>0</td>\n",
       "      <td>F</td>\n",
       "      <td>сотрудник</td>\n",
       "      <td>0</td>\n",
       "      <td>116820.904450</td>\n",
       "      <td>строительство собственной недвижимости</td>\n",
       "    </tr>\n",
       "    <tr>\n",
       "      <th>16</th>\n",
       "      <td>0</td>\n",
       "      <td>-1719.934226</td>\n",
       "      <td>35</td>\n",
       "      <td>среднее</td>\n",
       "      <td>1</td>\n",
       "      <td>женат / замужем</td>\n",
       "      <td>0</td>\n",
       "      <td>F</td>\n",
       "      <td>сотрудник</td>\n",
       "      <td>0</td>\n",
       "      <td>289202.704229</td>\n",
       "      <td>недвижимость</td>\n",
       "    </tr>\n",
       "    <tr>\n",
       "      <th>17</th>\n",
       "      <td>0</td>\n",
       "      <td>-2369.999720</td>\n",
       "      <td>33</td>\n",
       "      <td>высшее</td>\n",
       "      <td>0</td>\n",
       "      <td>гражданский брак</td>\n",
       "      <td>1</td>\n",
       "      <td>M</td>\n",
       "      <td>сотрудник</td>\n",
       "      <td>0</td>\n",
       "      <td>90410.586745</td>\n",
       "      <td>строительство недвижимости</td>\n",
       "    </tr>\n",
       "    <tr>\n",
       "      <th>18</th>\n",
       "      <td>0</td>\n",
       "      <td>400281.136913</td>\n",
       "      <td>53</td>\n",
       "      <td>среднее</td>\n",
       "      <td>1</td>\n",
       "      <td>вдовец / вдова</td>\n",
       "      <td>2</td>\n",
       "      <td>F</td>\n",
       "      <td>пенсионер</td>\n",
       "      <td>0</td>\n",
       "      <td>56823.777243</td>\n",
       "      <td>на покупку подержанного автомобиля</td>\n",
       "    </tr>\n",
       "    <tr>\n",
       "      <th>19</th>\n",
       "      <td>0</td>\n",
       "      <td>-10038.818549</td>\n",
       "      <td>48</td>\n",
       "      <td>СРЕДНЕЕ</td>\n",
       "      <td>1</td>\n",
       "      <td>в разводе</td>\n",
       "      <td>3</td>\n",
       "      <td>F</td>\n",
       "      <td>сотрудник</td>\n",
       "      <td>0</td>\n",
       "      <td>242831.107982</td>\n",
       "      <td>на покупку своего автомобиля</td>\n",
       "    </tr>\n",
       "  </tbody>\n",
       "</table>\n",
       "</div>"
      ],
      "text/plain": [
       "    children  days_employed  dob_years            education  education_id  \\\n",
       "0          1   -8437.673028         42               высшее             0   \n",
       "1          1   -4024.803754         36              среднее             1   \n",
       "2          0   -5623.422610         33              Среднее             1   \n",
       "3          3   -4124.747207         32              среднее             1   \n",
       "4          0  340266.072047         53              среднее             1   \n",
       "5          0    -926.185831         27               высшее             0   \n",
       "6          0   -2879.202052         43               высшее             0   \n",
       "7          0    -152.779569         50              СРЕДНЕЕ             1   \n",
       "8          2   -6929.865299         35               ВЫСШЕЕ             0   \n",
       "9          0   -2188.756445         41              среднее             1   \n",
       "10         2   -4171.483647         36               высшее             0   \n",
       "11         0    -792.701887         40              среднее             1   \n",
       "12         0            NaN         65              среднее             1   \n",
       "13         0   -1846.641941         54  неоконченное высшее             2   \n",
       "14         0   -1844.956182         56               высшее             0   \n",
       "15         1    -972.364419         26              среднее             1   \n",
       "16         0   -1719.934226         35              среднее             1   \n",
       "17         0   -2369.999720         33               высшее             0   \n",
       "18         0  400281.136913         53              среднее             1   \n",
       "19         0  -10038.818549         48              СРЕДНЕЕ             1   \n",
       "\n",
       "       family_status  family_status_id gender income_type  debt  \\\n",
       "0    женат / замужем                 0      F   сотрудник     0   \n",
       "1    женат / замужем                 0      F   сотрудник     0   \n",
       "2    женат / замужем                 0      M   сотрудник     0   \n",
       "3    женат / замужем                 0      M   сотрудник     0   \n",
       "4   гражданский брак                 1      F   пенсионер     0   \n",
       "5   гражданский брак                 1      M   компаньон     0   \n",
       "6    женат / замужем                 0      F   компаньон     0   \n",
       "7    женат / замужем                 0      M   сотрудник     0   \n",
       "8   гражданский брак                 1      F   сотрудник     0   \n",
       "9    женат / замужем                 0      M   сотрудник     0   \n",
       "10   женат / замужем                 0      M   компаньон     0   \n",
       "11   женат / замужем                 0      F   сотрудник     0   \n",
       "12  гражданский брак                 1      M   пенсионер     0   \n",
       "13   женат / замужем                 0      F   сотрудник     0   \n",
       "14  гражданский брак                 1      F   компаньон     1   \n",
       "15   женат / замужем                 0      F   сотрудник     0   \n",
       "16   женат / замужем                 0      F   сотрудник     0   \n",
       "17  гражданский брак                 1      M   сотрудник     0   \n",
       "18    вдовец / вдова                 2      F   пенсионер     0   \n",
       "19         в разводе                 3      F   сотрудник     0   \n",
       "\n",
       "     total_income                                 purpose  \n",
       "0   253875.639453                           покупка жилья  \n",
       "1   112080.014102                 приобретение автомобиля  \n",
       "2   145885.952297                           покупка жилья  \n",
       "3   267628.550329              дополнительное образование  \n",
       "4   158616.077870                         сыграть свадьбу  \n",
       "5   255763.565419                           покупка жилья  \n",
       "6   240525.971920                       операции с жильем  \n",
       "7   135823.934197                             образование  \n",
       "8    95856.832424                   на проведение свадьбы  \n",
       "9   144425.938277                 покупка жилья для семьи  \n",
       "10  113943.491460                    покупка недвижимости  \n",
       "11   77069.234271       покупка коммерческой недвижимости  \n",
       "12            NaN                         сыграть свадьбу  \n",
       "13  130458.228857                 приобретение автомобиля  \n",
       "14  165127.911772              покупка жилой недвижимости  \n",
       "15  116820.904450  строительство собственной недвижимости  \n",
       "16  289202.704229                            недвижимость  \n",
       "17   90410.586745              строительство недвижимости  \n",
       "18   56823.777243      на покупку подержанного автомобиля  \n",
       "19  242831.107982            на покупку своего автомобиля  "
      ]
     },
     "execution_count": 3,
     "metadata": {},
     "output_type": "execute_result"
    }
   ],
   "source": [
    "data.head(20)"
   ]
  },
  {
   "cell_type": "markdown",
   "id": "a082182c",
   "metadata": {
    "deletable": false,
    "editable": false,
    "id": "1c12e233",
    "tags": [
     "start_task"
    ]
   },
   "source": [
    "**Задание 3. Выведите основную информацию о датафрейме с помощью метода `info()`.**"
   ]
  },
  {
   "cell_type": "code",
   "execution_count": 4,
   "id": "34ea9ede",
   "metadata": {
    "id": "2b757bca"
   },
   "outputs": [
    {
     "name": "stdout",
     "output_type": "stream",
     "text": [
      "<class 'pandas.core.frame.DataFrame'>\n",
      "RangeIndex: 21525 entries, 0 to 21524\n",
      "Data columns (total 12 columns):\n",
      " #   Column            Non-Null Count  Dtype  \n",
      "---  ------            --------------  -----  \n",
      " 0   children          21525 non-null  int64  \n",
      " 1   days_employed     19351 non-null  float64\n",
      " 2   dob_years         21525 non-null  int64  \n",
      " 3   education         21525 non-null  object \n",
      " 4   education_id      21525 non-null  int64  \n",
      " 5   family_status     21525 non-null  object \n",
      " 6   family_status_id  21525 non-null  int64  \n",
      " 7   gender            21525 non-null  object \n",
      " 8   income_type       21525 non-null  object \n",
      " 9   debt              21525 non-null  int64  \n",
      " 10  total_income      19351 non-null  float64\n",
      " 11  purpose           21525 non-null  object \n",
      "dtypes: float64(2), int64(5), object(5)\n",
      "memory usage: 2.0+ MB\n"
     ]
    }
   ],
   "source": [
    "data.info()"
   ]
  },
  {
   "cell_type": "markdown",
   "id": "1342b6da",
   "metadata": {
    "deletable": false,
    "editable": false,
    "id": "333ec665"
   },
   "source": [
    "## Предобработка данных"
   ]
  },
  {
   "cell_type": "markdown",
   "id": "9b858ff0",
   "metadata": {
    "deletable": false,
    "editable": false,
    "id": "02d92d53"
   },
   "source": [
    "### Удаление пропусков"
   ]
  },
  {
   "cell_type": "markdown",
   "id": "8d38fd9e",
   "metadata": {
    "deletable": false,
    "editable": false,
    "id": "cd84967c",
    "tags": [
     "start_task"
    ]
   },
   "source": [
    "**Задание 4. Выведите количество пропущенных значений для каждого столбца. Используйте комбинацию двух методов.**"
   ]
  },
  {
   "cell_type": "code",
   "execution_count": 5,
   "id": "e6213bbd",
   "metadata": {
    "id": "7f9b2309"
   },
   "outputs": [
    {
     "data": {
      "text/plain": [
       "children               0\n",
       "days_employed       2174\n",
       "dob_years              0\n",
       "education              0\n",
       "education_id           0\n",
       "family_status          0\n",
       "family_status_id       0\n",
       "gender                 0\n",
       "income_type            0\n",
       "debt                   0\n",
       "total_income        2174\n",
       "purpose                0\n",
       "dtype: int64"
      ]
     },
     "execution_count": 5,
     "metadata": {},
     "output_type": "execute_result"
    }
   ],
   "source": [
    "data.isna().sum(axis=0)"
   ]
  },
  {
   "cell_type": "markdown",
   "id": "2d0c0cda",
   "metadata": {
    "deletable": false,
    "editable": false,
    "id": "db86e27b",
    "tags": [
     "start_task"
    ]
   },
   "source": [
    "**Задание 5. В двух столбцах есть пропущенные значения. Один из них — `days_employed`. Пропуски в этом столбце вы обработаете на следующем этапе. Другой столбец с пропущенными значениями — `total_income` — хранит данные о доходах. На сумму дохода сильнее всего влияет тип занятости, поэтому заполнить пропуски в этом столбце нужно медианным значением по каждому типу из столбца `income_type`. Например, у человека с типом занятости `сотрудник` пропуск в столбце `total_income` должен быть заполнен медианным доходом среди всех записей с тем же типом.**"
   ]
  },
  {
   "cell_type": "code",
   "execution_count": 6,
   "id": "81183d4d",
   "metadata": {
    "id": "42006a93"
   },
   "outputs": [],
   "source": [
    "median_income = data.groupby('income_type')['total_income'].median()\n",
    "rows_na = data['total_income'].isna()\n",
    "data.loc[rows_na, \"total_income\"] = data.loc[rows_na, \"income_type\"].apply(\n",
    "    lambda x: median_income[x]\n",
    ")"
   ]
  },
  {
   "cell_type": "markdown",
   "id": "34e46aac",
   "metadata": {
    "deletable": false,
    "editable": false,
    "id": "89da5ece"
   },
   "source": [
    "### Обработка аномальных значений"
   ]
  },
  {
   "cell_type": "markdown",
   "id": "eba3f4e0",
   "metadata": {
    "deletable": false,
    "editable": false,
    "id": "57964554",
    "tags": [
     "start_task"
    ]
   },
   "source": [
    "**Задание 6. В данных могут встречаться артефакты (аномалии) — значения, которые не отражают действительность и появились по какой-то ошибке. Таким артефактом будет отрицательное количество дней трудового стажа в столбце `days_employed`. Для реальных данных это нормально. Обработайте значения в этом столбце: замените все отрицательные значения положительными с помощью метода `abs()`.**"
   ]
  },
  {
   "cell_type": "code",
   "execution_count": 7,
   "id": "c8e329e9",
   "metadata": {
    "id": "f6f055bf"
   },
   "outputs": [],
   "source": [
    "data['days_employed'] = data['days_employed'].abs()"
   ]
  },
  {
   "cell_type": "markdown",
   "id": "9aa91b40",
   "metadata": {
    "deletable": false,
    "editable": false,
    "id": "6107dd2f",
    "tags": [
     "start_task"
    ]
   },
   "source": [
    "**Задание 7. Для каждого типа занятости выведите медианное значение трудового стажа `days_employed` в днях.**"
   ]
  },
  {
   "cell_type": "code",
   "execution_count": 8,
   "id": "de9dc6e5",
   "metadata": {
    "id": "85a5faf6"
   },
   "outputs": [
    {
     "data": {
      "text/plain": [
       "income_type\n",
       "безработный        366413.652744\n",
       "в декрете            3296.759962\n",
       "госслужащий          2689.368353\n",
       "компаньон            1547.382223\n",
       "пенсионер          365213.306266\n",
       "предприниматель       520.848083\n",
       "сотрудник            1574.202821\n",
       "студент               578.751554\n",
       "Name: days_employed, dtype: float64"
      ]
     },
     "execution_count": 8,
     "metadata": {},
     "output_type": "execute_result"
    }
   ],
   "source": [
    "data.groupby('income_type')['days_employed'].median()"
   ]
  },
  {
   "cell_type": "markdown",
   "id": "5d788ce7",
   "metadata": {
    "deletable": false,
    "editable": false,
    "id": "38d1a030"
   },
   "source": [
    "У двух типов (безработные и пенсионеры) получатся аномально большие значения. Исправить такие значения сложно, поэтому оставьте их как есть. Тем более этот столбец не понадобится вам для исследования."
   ]
  },
  {
   "cell_type": "markdown",
   "id": "173c7d75",
   "metadata": {
    "deletable": false,
    "editable": false,
    "id": "d8a9f147",
    "tags": [
     "start_task"
    ]
   },
   "source": [
    "**Задание 8. Выведите перечень уникальных значений столбца `children`.**"
   ]
  },
  {
   "cell_type": "code",
   "execution_count": 9,
   "id": "e2470059",
   "metadata": {
    "id": "ef5056eb"
   },
   "outputs": [
    {
     "data": {
      "text/plain": [
       "array([ 1,  0,  3,  2, -1,  4, 20,  5], dtype=int64)"
      ]
     },
     "execution_count": 9,
     "metadata": {},
     "output_type": "execute_result"
    }
   ],
   "source": [
    "data['children'].unique()"
   ]
  },
  {
   "cell_type": "markdown",
   "id": "c6b1536f",
   "metadata": {
    "deletable": false,
    "editable": false,
    "id": "40b9ebf2",
    "tags": [
     "start_task"
    ]
   },
   "source": [
    "**Задание 9. В столбце `children` есть два аномальных значения. Удалите строки, в которых встречаются такие аномальные значения из датафрейма `data`.**"
   ]
  },
  {
   "cell_type": "code",
   "execution_count": 10,
   "id": "91a247e0",
   "metadata": {
    "id": "3ff9801d"
   },
   "outputs": [],
   "source": [
    "data = data[(data['children'] != -1) & (data['children'] != 20)]"
   ]
  },
  {
   "cell_type": "markdown",
   "id": "896c183a",
   "metadata": {
    "deletable": false,
    "editable": false,
    "id": "bbc4d0ce",
    "tags": [
     "start_task"
    ]
   },
   "source": [
    "**Задание 10. Ещё раз выведите перечень уникальных значений столбца `children`, чтобы убедиться, что артефакты удалены.**"
   ]
  },
  {
   "cell_type": "code",
   "execution_count": 11,
   "id": "925a9a2c",
   "metadata": {
    "id": "ad4fa8b7"
   },
   "outputs": [
    {
     "data": {
      "text/plain": [
       "array([1, 0, 3, 2, 4, 5], dtype=int64)"
      ]
     },
     "execution_count": 11,
     "metadata": {},
     "output_type": "execute_result"
    }
   ],
   "source": [
    "data['children'].unique()"
   ]
  },
  {
   "cell_type": "markdown",
   "id": "db26e27b",
   "metadata": {
    "deletable": false,
    "editable": false,
    "id": "75440b63"
   },
   "source": [
    "### Удаление пропусков (продолжение)"
   ]
  },
  {
   "cell_type": "markdown",
   "id": "2e77e8a0",
   "metadata": {
    "deletable": false,
    "editable": false,
    "id": "f4ea573f",
    "tags": [
     "start_task"
    ]
   },
   "source": [
    "**Задание 11. Заполните пропуски в столбце `days_employed` медианными значениями по каждому типу занятости `income_type`.**"
   ]
  },
  {
   "cell_type": "code",
   "execution_count": 12,
   "id": "89874b45",
   "metadata": {
    "id": "af6b1a7e"
   },
   "outputs": [],
   "source": [
    "median_days = data.groupby('income_type')['days_employed'].median()\n",
    "rows_na = data['days_employed'].isna()\n",
    "\n",
    "data.loc[rows_na, \"days_employed\"] = data.loc[rows_na, \"income_type\"].apply(\n",
    "    lambda x: median_days[x]\n",
    ")"
   ]
  },
  {
   "cell_type": "markdown",
   "id": "da6907be",
   "metadata": {
    "deletable": false,
    "editable": false,
    "id": "2753f40d",
    "tags": [
     "start_task"
    ]
   },
   "source": [
    "**Задание 12. Убедитесь, что все пропуски заполнены. Проверьте себя и ещё раз выведите количество пропущенных значений для каждого столбца с помощью двух методов.**"
   ]
  },
  {
   "cell_type": "code",
   "execution_count": 13,
   "id": "0197bfad",
   "metadata": {
    "id": "55f78bc2"
   },
   "outputs": [
    {
     "data": {
      "text/plain": [
       "children            0\n",
       "days_employed       0\n",
       "dob_years           0\n",
       "education           0\n",
       "education_id        0\n",
       "family_status       0\n",
       "family_status_id    0\n",
       "gender              0\n",
       "income_type         0\n",
       "debt                0\n",
       "total_income        0\n",
       "purpose             0\n",
       "dtype: int64"
      ]
     },
     "execution_count": 13,
     "metadata": {},
     "output_type": "execute_result"
    }
   ],
   "source": [
    "data.isna().sum()"
   ]
  },
  {
   "cell_type": "markdown",
   "id": "39099f0f",
   "metadata": {
    "deletable": false,
    "editable": false,
    "id": "ddc81e43"
   },
   "source": [
    "### Изменение типов данных"
   ]
  },
  {
   "cell_type": "markdown",
   "id": "9d58f58d",
   "metadata": {
    "deletable": false,
    "editable": false,
    "id": "42d19d24",
    "tags": [
     "start_task"
    ]
   },
   "source": [
    "**Задание 13. Замените вещественный тип данных в столбце `total_income` на целочисленный с помощью метода `astype()`.**"
   ]
  },
  {
   "cell_type": "code",
   "execution_count": 14,
   "id": "e5a2400e",
   "metadata": {
    "id": "920b65ad"
   },
   "outputs": [],
   "source": [
    "# ваш код здесь\n",
    "data[\"total_income\"] = data['total_income'].astype(\"int\")"
   ]
  },
  {
   "cell_type": "markdown",
   "id": "28abe395",
   "metadata": {
    "deletable": false,
    "editable": false,
    "id": "80c420ba"
   },
   "source": [
    "### Обработка дубликатов"
   ]
  },
  {
   "cell_type": "markdown",
   "id": "832209ee",
   "metadata": {
    "deletable": false,
    "editable": false,
    "tags": [
     "start_task"
    ]
   },
   "source": [
    "**Задание 14. Обработайте неявные дубликаты в столбце `education`. В этом столбце есть одни и те же значения, но записанные по-разному: с использованием заглавных и строчных букв. Приведите их к нижнему регистру. Проверьте остальные столбцы.**"
   ]
  },
  {
   "cell_type": "code",
   "execution_count": 15,
   "id": "6e8c1679",
   "metadata": {},
   "outputs": [],
   "source": [
    "data['education'] = data['education'].str.lower()"
   ]
  },
  {
   "cell_type": "markdown",
   "id": "2651ea10",
   "metadata": {
    "deletable": false,
    "editable": false,
    "id": "dc587695",
    "tags": [
     "start_task"
    ]
   },
   "source": [
    "**Задание 15. Выведите на экран количество строк-дубликатов в данных. Если такие строки присутствуют, удалите их.**"
   ]
  },
  {
   "cell_type": "code",
   "execution_count": 16,
   "id": "eefb6407",
   "metadata": {
    "id": "3ee445e4"
   },
   "outputs": [
    {
     "data": {
      "text/plain": [
       "71"
      ]
     },
     "execution_count": 16,
     "metadata": {},
     "output_type": "execute_result"
    }
   ],
   "source": [
    "data.duplicated().sum()"
   ]
  },
  {
   "cell_type": "code",
   "execution_count": 17,
   "id": "0d669986",
   "metadata": {
    "id": "8575fe05"
   },
   "outputs": [],
   "source": [
    "data = data.drop_duplicates()\n",
    "data = data.reset_index(drop=True)"
   ]
  },
  {
   "cell_type": "markdown",
   "id": "f10c050f",
   "metadata": {
    "deletable": false,
    "editable": false,
    "id": "9904cf55"
   },
   "source": [
    "### Категоризация данных"
   ]
  },
  {
   "cell_type": "markdown",
   "id": "2f8e087f",
   "metadata": {
    "deletable": false,
    "editable": false,
    "id": "72fcc8a2",
    "tags": [
     "start_task"
    ]
   },
   "source": [
    "**Задание 16. На основании диапазонов, указанных ниже, создайте в датафрейме `data` столбец `total_income_category` с категориями:**\n",
    "\n",
    "- 0–30000 — `'E'`;\n",
    "- 30001–50000 — `'D'`;\n",
    "- 50001–200000 — `'C'`;\n",
    "- 200001–1000000 — `'B'`;\n",
    "- 1000001 и выше — `'A'`.\n",
    "\n",
    "\n",
    "**Например, кредитополучателю с доходом 25000 нужно назначить категорию `'E'`, а клиенту, получающему 235000, — `'B'`. Используйте собственную функцию с именем `categorize_income()` и метод `apply()`.**"
   ]
  },
  {
   "cell_type": "code",
   "execution_count": 18,
   "id": "1183820b",
   "metadata": {
    "id": "e1771346"
   },
   "outputs": [],
   "source": [
    "def categorize_income(income):\n",
    "    if income > 1_000_000:\n",
    "        label = \"A\"\n",
    "    elif 200_000 < income <= 1_000_000:\n",
    "        label =\"B\"\n",
    "    elif 50_000 < income <= 200_000:\n",
    "        label = \"C\"\n",
    "    elif 30_000 < income <= 50_000:\n",
    "        label = \"D\"\n",
    "    else:\n",
    "        label = \"E\"\n",
    "    return label"
   ]
  },
  {
   "cell_type": "code",
   "execution_count": 19,
   "id": "94c43bf7",
   "metadata": {
    "id": "d5f3586d"
   },
   "outputs": [],
   "source": [
    "data['total_income_category'] = data['total_income'].apply(categorize_income)"
   ]
  },
  {
   "cell_type": "markdown",
   "id": "d7c30d13",
   "metadata": {
    "deletable": false,
    "editable": false,
    "id": "dde49b5c",
    "tags": [
     "start_task"
    ]
   },
   "source": [
    "**Задание 17. Выведите на экран перечень уникальных целей взятия кредита из столбца `purpose`.**"
   ]
  },
  {
   "cell_type": "code",
   "execution_count": 20,
   "id": "3a559875",
   "metadata": {
    "id": "f67ce9b3"
   },
   "outputs": [
    {
     "data": {
      "text/plain": [
       "array(['покупка жилья', 'приобретение автомобиля',\n",
       "       'дополнительное образование', 'сыграть свадьбу',\n",
       "       'операции с жильем', 'образование', 'на проведение свадьбы',\n",
       "       'покупка жилья для семьи', 'покупка недвижимости',\n",
       "       'покупка коммерческой недвижимости', 'покупка жилой недвижимости',\n",
       "       'строительство собственной недвижимости', 'недвижимость',\n",
       "       'строительство недвижимости', 'на покупку подержанного автомобиля',\n",
       "       'на покупку своего автомобиля',\n",
       "       'операции с коммерческой недвижимостью',\n",
       "       'строительство жилой недвижимости', 'жилье',\n",
       "       'операции со своей недвижимостью', 'автомобили',\n",
       "       'заняться образованием', 'сделка с подержанным автомобилем',\n",
       "       'получение образования', 'автомобиль', 'свадьба',\n",
       "       'получение дополнительного образования', 'покупка своего жилья',\n",
       "       'операции с недвижимостью', 'получение высшего образования',\n",
       "       'свой автомобиль', 'сделка с автомобилем',\n",
       "       'профильное образование', 'высшее образование',\n",
       "       'покупка жилья для сдачи', 'на покупку автомобиля', 'ремонт жилью',\n",
       "       'заняться высшим образованием'], dtype=object)"
      ]
     },
     "execution_count": 20,
     "metadata": {},
     "output_type": "execute_result"
    }
   ],
   "source": [
    "data['purpose'].unique()"
   ]
  },
  {
   "cell_type": "markdown",
   "id": "f323ae51",
   "metadata": {
    "deletable": false,
    "editable": false,
    "id": "85d0aef0",
    "tags": [
     "start_task"
    ]
   },
   "source": [
    "**Задание 18. Создайте функцию, которая на основании данных из столбца `purpose` сформирует новый столбец `purpose_category`, в который войдут следующие категории:**\n",
    "\n",
    "- `'операции с автомобилем'`,\n",
    "- `'операции с недвижимостью'`,\n",
    "- `'проведение свадьбы'`,\n",
    "- `'получение образования'`.\n",
    "\n",
    "**Например, если в столбце `purpose` находится подстрока `'на покупку автомобиля'`, то в столбце `purpose_category` должна появиться строка `'операции с автомобилем'`.**\n",
    "\n",
    "**Используйте собственную функцию с именем `categorize_purpose()` и метод `apply()`. Изучите данные в столбце `purpose` и определите, какие подстроки помогут вам правильно определить категорию.**"
   ]
  },
  {
   "cell_type": "code",
   "execution_count": 21,
   "id": "4f581cbd",
   "metadata": {
    "id": "e149fab4"
   },
   "outputs": [],
   "source": [
    "def categorize_purpose(purpose):\n",
    "    if (\"машин\" in purpose) or (\"авто\" in purpose):\n",
    "        label = 'операции с автомобилем'\n",
    "    elif (\"жил\" in purpose) or (\"движим\" in purpose) or (\"дом\" in purpose):\n",
    "        label = 'операции с недвижимостью'\n",
    "    elif (\"свадь\" in purpose):\n",
    "        label = 'проведение свадьбы'\n",
    "    elif (\"образов\" in purpose) or (\"учеба\" in purpose) or (\"учёба\" in purpose):\n",
    "        label = 'получение образования'\n",
    "    return label"
   ]
  },
  {
   "cell_type": "code",
   "execution_count": 22,
   "id": "a0269da8",
   "metadata": {
    "id": "bf36e69b"
   },
   "outputs": [],
   "source": [
    "data['purpose_category'] = data['purpose'].apply(categorize_purpose)"
   ]
  },
  {
   "cell_type": "markdown",
   "id": "6f8b51a9",
   "metadata": {},
   "source": [
    "### Шаг 3. Исследуйте данные и ответьте на вопросы"
   ]
  },
  {
   "cell_type": "markdown",
   "id": "3bf461d3",
   "metadata": {},
   "source": [
    "В этой части задания вопросы однотипные: нужно узнать есть ли зависимость просрочки кредита от какого-то фактора. Поэтому напишем функцию, которая будет:\n",
    "* группировать наши данные по вводимому признаку\n",
    "* подсчитывать число просрочек\n",
    "* подсчитывать общее число кредитов\n",
    "* отношение числа просрочек к числу событий \n",
    "* переводить отношение в проценты для наглядности. \n",
    "\n",
    "Последние два параметра я решил ввести, чтобы оценивать существование зависимости по отношению, потому как в результате разбиений группы будут несбалансированные и голые цифры могут вводить в заблуждение"
   ]
  },
  {
   "cell_type": "code",
   "execution_count": 23,
   "id": "2802ce3f",
   "metadata": {},
   "outputs": [],
   "source": [
    "def create_group(df: pd.DataFrame, feature: str) -> pd.DataFrame:\n",
    "    grouped = df.groupby(feature)['debt'].agg(['sum', 'count'])\n",
    "    grouped = grouped.reset_index()\n",
    "    grouped = grouped.rename(\n",
    "        columns={\n",
    "            'sum': 'total_debt',\n",
    "            'count': 'total_credit'\n",
    "        }\n",
    "    )\n",
    "    grouped['ratio'] = grouped['total_debt'] / grouped['total_credit']\n",
    "    grouped['percent'] = round(100 * grouped['ratio'], 3)\n",
    "    return grouped"
   ]
  },
  {
   "cell_type": "markdown",
   "id": "6b28621a",
   "metadata": {},
   "source": [
    "#### 3.1 Есть ли зависимость между количеством детей и возвратом кредита в срок?"
   ]
  },
  {
   "cell_type": "markdown",
   "id": "10dcf38a",
   "metadata": {},
   "source": [
    "Для начала перегруппируем данные и посмотрим как выглядят общее количество выданных кредитов и количество просрочек для семей с разным количеством детей."
   ]
  },
  {
   "cell_type": "code",
   "execution_count": 24,
   "id": "22109000",
   "metadata": {},
   "outputs": [],
   "source": [
    "debt_from_childrens = create_group(data, 'children')"
   ]
  },
  {
   "cell_type": "code",
   "execution_count": 25,
   "id": "905263a2",
   "metadata": {},
   "outputs": [
    {
     "data": {
      "text/html": [
       "<div>\n",
       "<style scoped>\n",
       "    .dataframe tbody tr th:only-of-type {\n",
       "        vertical-align: middle;\n",
       "    }\n",
       "\n",
       "    .dataframe tbody tr th {\n",
       "        vertical-align: top;\n",
       "    }\n",
       "\n",
       "    .dataframe thead th {\n",
       "        text-align: right;\n",
       "    }\n",
       "</style>\n",
       "<table border=\"1\" class=\"dataframe\">\n",
       "  <thead>\n",
       "    <tr style=\"text-align: right;\">\n",
       "      <th></th>\n",
       "      <th>children</th>\n",
       "      <th>total_debt</th>\n",
       "      <th>total_credit</th>\n",
       "      <th>ratio</th>\n",
       "      <th>percent</th>\n",
       "    </tr>\n",
       "  </thead>\n",
       "  <tbody>\n",
       "    <tr>\n",
       "      <th>0</th>\n",
       "      <td>0</td>\n",
       "      <td>1063</td>\n",
       "      <td>14091</td>\n",
       "      <td>0.075438</td>\n",
       "      <td>7.544</td>\n",
       "    </tr>\n",
       "    <tr>\n",
       "      <th>1</th>\n",
       "      <td>1</td>\n",
       "      <td>444</td>\n",
       "      <td>4808</td>\n",
       "      <td>0.092346</td>\n",
       "      <td>9.235</td>\n",
       "    </tr>\n",
       "    <tr>\n",
       "      <th>2</th>\n",
       "      <td>2</td>\n",
       "      <td>194</td>\n",
       "      <td>2052</td>\n",
       "      <td>0.094542</td>\n",
       "      <td>9.454</td>\n",
       "    </tr>\n",
       "    <tr>\n",
       "      <th>3</th>\n",
       "      <td>3</td>\n",
       "      <td>27</td>\n",
       "      <td>330</td>\n",
       "      <td>0.081818</td>\n",
       "      <td>8.182</td>\n",
       "    </tr>\n",
       "    <tr>\n",
       "      <th>4</th>\n",
       "      <td>4</td>\n",
       "      <td>4</td>\n",
       "      <td>41</td>\n",
       "      <td>0.097561</td>\n",
       "      <td>9.756</td>\n",
       "    </tr>\n",
       "    <tr>\n",
       "      <th>5</th>\n",
       "      <td>5</td>\n",
       "      <td>0</td>\n",
       "      <td>9</td>\n",
       "      <td>0.000000</td>\n",
       "      <td>0.000</td>\n",
       "    </tr>\n",
       "  </tbody>\n",
       "</table>\n",
       "</div>"
      ],
      "text/plain": [
       "   children  total_debt  total_credit     ratio  percent\n",
       "0         0        1063         14091  0.075438    7.544\n",
       "1         1         444          4808  0.092346    9.235\n",
       "2         2         194          2052  0.094542    9.454\n",
       "3         3          27           330  0.081818    8.182\n",
       "4         4           4            41  0.097561    9.756\n",
       "5         5           0             9  0.000000    0.000"
      ]
     },
     "execution_count": 25,
     "metadata": {},
     "output_type": "execute_result"
    }
   ],
   "source": [
    "debt_from_childrens.head(6)"
   ]
  },
  {
   "cell_type": "code",
   "execution_count": 26,
   "id": "175bd81f",
   "metadata": {},
   "outputs": [
    {
     "data": {
      "image/png": "[encoded data removed]",
      "text/plain": [
       "<Figure size 432x288 with 1 Axes>"
      ]
     },
     "metadata": {
      "needs_background": "light"
     },
     "output_type": "display_data"
    }
   ],
   "source": [
    "debt_from_childrens.plot(\n",
    "    x='children', \n",
    "    y='percent', \n",
    "    marker='o',\n",
    "    ylabel='Процент, %',\n",
    "    xlabel='Число детей',\n",
    "    title=\"Процент задолженностей в зависимости от числа детей\"\n",
    ");"
   ]
  },
  {
   "cell_type": "markdown",
   "id": "cc3bba8e",
   "metadata": {},
   "source": [
    "Если данные для людей с пятью детьми убрать и не принимать во внимание, потому как в них слишком мало измерений и сомнительно, что они отражают реальную картину, то в целом процент задолженностей немного растет с количеством детей в семье.  \n",
    "\n",
    "Точка для людей с тремя детьми немного выпадает, возможно из-за того, что попалась такая выборка и ее значение выровнялось бы при добавлении данных (на мой взгляд конечно).\n",
    "\n",
    "__Вывод__: \n",
    "Процент задолженностей плавно (нелинейно) растет с увеличением числа детей в семье. Соответственно, чем больше детей в семье, тем вероятнее просрочка по кредиту. "
   ]
  },
  {
   "cell_type": "markdown",
   "id": "98691a24",
   "metadata": {},
   "source": [
    "#### 3.2 Есть ли зависимость между семейным положением и возвратом кредита в срок?\n",
    "Для того, чтобы ответить на этот вопрос сгруппируем данные по семейному положению"
   ]
  },
  {
   "cell_type": "code",
   "execution_count": 27,
   "id": "20ff9649",
   "metadata": {},
   "outputs": [],
   "source": [
    "family = create_group(data, 'family_status')"
   ]
  },
  {
   "cell_type": "code",
   "execution_count": 28,
   "id": "9ff2a28a",
   "metadata": {},
   "outputs": [
    {
     "data": {
      "text/html": [
       "<div>\n",
       "<style scoped>\n",
       "    .dataframe tbody tr th:only-of-type {\n",
       "        vertical-align: middle;\n",
       "    }\n",
       "\n",
       "    .dataframe tbody tr th {\n",
       "        vertical-align: top;\n",
       "    }\n",
       "\n",
       "    .dataframe thead th {\n",
       "        text-align: right;\n",
       "    }\n",
       "</style>\n",
       "<table border=\"1\" class=\"dataframe\">\n",
       "  <thead>\n",
       "    <tr style=\"text-align: right;\">\n",
       "      <th></th>\n",
       "      <th>family_status</th>\n",
       "      <th>total_debt</th>\n",
       "      <th>total_credit</th>\n",
       "      <th>ratio</th>\n",
       "      <th>percent</th>\n",
       "    </tr>\n",
       "  </thead>\n",
       "  <tbody>\n",
       "    <tr>\n",
       "      <th>0</th>\n",
       "      <td>Не женат / не замужем</td>\n",
       "      <td>273</td>\n",
       "      <td>2796</td>\n",
       "      <td>0.097639</td>\n",
       "      <td>9.764</td>\n",
       "    </tr>\n",
       "    <tr>\n",
       "      <th>1</th>\n",
       "      <td>в разводе</td>\n",
       "      <td>84</td>\n",
       "      <td>1189</td>\n",
       "      <td>0.070648</td>\n",
       "      <td>7.065</td>\n",
       "    </tr>\n",
       "    <tr>\n",
       "      <th>2</th>\n",
       "      <td>вдовец / вдова</td>\n",
       "      <td>63</td>\n",
       "      <td>951</td>\n",
       "      <td>0.066246</td>\n",
       "      <td>6.625</td>\n",
       "    </tr>\n",
       "    <tr>\n",
       "      <th>3</th>\n",
       "      <td>гражданский брак</td>\n",
       "      <td>385</td>\n",
       "      <td>4134</td>\n",
       "      <td>0.093130</td>\n",
       "      <td>9.313</td>\n",
       "    </tr>\n",
       "    <tr>\n",
       "      <th>4</th>\n",
       "      <td>женат / замужем</td>\n",
       "      <td>927</td>\n",
       "      <td>12261</td>\n",
       "      <td>0.075606</td>\n",
       "      <td>7.561</td>\n",
       "    </tr>\n",
       "  </tbody>\n",
       "</table>\n",
       "</div>"
      ],
      "text/plain": [
       "           family_status  total_debt  total_credit     ratio  percent\n",
       "0  Не женат / не замужем         273          2796  0.097639    9.764\n",
       "1              в разводе          84          1189  0.070648    7.065\n",
       "2         вдовец / вдова          63           951  0.066246    6.625\n",
       "3       гражданский брак         385          4134  0.093130    9.313\n",
       "4        женат / замужем         927         12261  0.075606    7.561"
      ]
     },
     "execution_count": 28,
     "metadata": {},
     "output_type": "execute_result"
    }
   ],
   "source": [
    "family"
   ]
  },
  {
   "cell_type": "markdown",
   "id": "f0e6cb31",
   "metadata": {},
   "source": [
    "Судя по данным, получается, что люди, которые женаты/замужем или пережили брак (как бы это не звучало) заметно реже просрачивают выплаты по кредитам, нежели не женатые/не замужние или состоящие в гражданском браке.\n",
    " \n",
    "Оценим на сколько процентов:"
   ]
  },
  {
   "cell_type": "code",
   "execution_count": 29,
   "id": "a57d9782",
   "metadata": {},
   "outputs": [
    {
     "name": "stdout",
     "output_type": "stream",
     "text": [
      "Средняя разница 2.45\n"
     ]
    }
   ],
   "source": [
    "print(f\"Средняя разница {0.5 * (9.8 + 9.3) - (6.6 + 7.6 + 7.1) / 3:.2f}\")"
   ]
  },
  {
   "cell_type": "markdown",
   "id": "f8ca4223",
   "metadata": {},
   "source": [
    "__Вывод__:\n",
    "Да, зависимость есть. Не женатые / не замужние люди или же состоящие в гражданском браке в среднем на 2.45% случаев чаще имеют задолженности по кредитам.\n",
    "\n",
    "\n",
    "Как мне кажется, это получается из-за того, что люди с семьями имеют на самом деле несколько больший бюджет, чем указано в таблице, так как их все-таки двое плюс, может быть, родственники. В случае со `вдовцами / вдовами`, наверное, также из-за родственников. У `не женатых / не замужних` только свой бюджет, а люди в `гражданском браке` мне представляются все-таки как два практически отдельных человека с раздельным бюджетом.\n"
   ]
  },
  {
   "cell_type": "markdown",
   "id": "99d8ea3f",
   "metadata": {},
   "source": [
    "#### 3.3 Есть ли зависимость между уровнем дохода и возвратом кредита в срок?"
   ]
  },
  {
   "cell_type": "markdown",
   "id": "fad342b4",
   "metadata": {},
   "source": [
    "Тут группировать будем по созданному нами ранее разделению на группы по зарплате"
   ]
  },
  {
   "cell_type": "code",
   "execution_count": 30,
   "id": "4ecfc5b2",
   "metadata": {},
   "outputs": [],
   "source": [
    "income = create_group(data, 'total_income_category')"
   ]
  },
  {
   "cell_type": "code",
   "execution_count": 31,
   "id": "cb8afc4f",
   "metadata": {},
   "outputs": [
    {
     "data": {
      "text/html": [
       "<div>\n",
       "<style scoped>\n",
       "    .dataframe tbody tr th:only-of-type {\n",
       "        vertical-align: middle;\n",
       "    }\n",
       "\n",
       "    .dataframe tbody tr th {\n",
       "        vertical-align: top;\n",
       "    }\n",
       "\n",
       "    .dataframe thead th {\n",
       "        text-align: right;\n",
       "    }\n",
       "</style>\n",
       "<table border=\"1\" class=\"dataframe\">\n",
       "  <thead>\n",
       "    <tr style=\"text-align: right;\">\n",
       "      <th></th>\n",
       "      <th>total_income_category</th>\n",
       "      <th>total_debt</th>\n",
       "      <th>total_credit</th>\n",
       "      <th>ratio</th>\n",
       "      <th>percent</th>\n",
       "    </tr>\n",
       "  </thead>\n",
       "  <tbody>\n",
       "    <tr>\n",
       "      <th>0</th>\n",
       "      <td>A</td>\n",
       "      <td>2</td>\n",
       "      <td>25</td>\n",
       "      <td>0.080000</td>\n",
       "      <td>8.000</td>\n",
       "    </tr>\n",
       "    <tr>\n",
       "      <th>1</th>\n",
       "      <td>B</td>\n",
       "      <td>354</td>\n",
       "      <td>5014</td>\n",
       "      <td>0.070602</td>\n",
       "      <td>7.060</td>\n",
       "    </tr>\n",
       "    <tr>\n",
       "      <th>2</th>\n",
       "      <td>C</td>\n",
       "      <td>1353</td>\n",
       "      <td>15921</td>\n",
       "      <td>0.084982</td>\n",
       "      <td>8.498</td>\n",
       "    </tr>\n",
       "    <tr>\n",
       "      <th>3</th>\n",
       "      <td>D</td>\n",
       "      <td>21</td>\n",
       "      <td>349</td>\n",
       "      <td>0.060172</td>\n",
       "      <td>6.017</td>\n",
       "    </tr>\n",
       "    <tr>\n",
       "      <th>4</th>\n",
       "      <td>E</td>\n",
       "      <td>2</td>\n",
       "      <td>22</td>\n",
       "      <td>0.090909</td>\n",
       "      <td>9.091</td>\n",
       "    </tr>\n",
       "  </tbody>\n",
       "</table>\n",
       "</div>"
      ],
      "text/plain": [
       "  total_income_category  total_debt  total_credit     ratio  percent\n",
       "0                     A           2            25  0.080000    8.000\n",
       "1                     B         354          5014  0.070602    7.060\n",
       "2                     C        1353         15921  0.084982    8.498\n",
       "3                     D          21           349  0.060172    6.017\n",
       "4                     E           2            22  0.090909    9.091"
      ]
     },
     "execution_count": 31,
     "metadata": {},
     "output_type": "execute_result"
    }
   ],
   "source": [
    "income"
   ]
  },
  {
   "cell_type": "markdown",
   "id": "a0442560",
   "metadata": {},
   "source": [
    "Можно для наглядности добавить еще значения соответсвующие каждой группе. \n",
    "\n",
    "PS: _Их всего пять, поэтому можно расставить и руками_"
   ]
  },
  {
   "cell_type": "code",
   "execution_count": 32,
   "id": "2f7b68d7",
   "metadata": {},
   "outputs": [],
   "source": [
    "income['total_income_category_digits'] = [\n",
    "    '> 1_000_000', '200_000 : 1_000_000', '50_000 : 200_000', '30_000 : 50_000', '< 30_000'\n",
    "]"
   ]
  },
  {
   "cell_type": "code",
   "execution_count": 33,
   "id": "72e263ff",
   "metadata": {},
   "outputs": [
    {
     "data": {
      "text/html": [
       "<div>\n",
       "<style scoped>\n",
       "    .dataframe tbody tr th:only-of-type {\n",
       "        vertical-align: middle;\n",
       "    }\n",
       "\n",
       "    .dataframe tbody tr th {\n",
       "        vertical-align: top;\n",
       "    }\n",
       "\n",
       "    .dataframe thead th {\n",
       "        text-align: right;\n",
       "    }\n",
       "</style>\n",
       "<table border=\"1\" class=\"dataframe\">\n",
       "  <thead>\n",
       "    <tr style=\"text-align: right;\">\n",
       "      <th></th>\n",
       "      <th>total_income_category</th>\n",
       "      <th>total_debt</th>\n",
       "      <th>total_credit</th>\n",
       "      <th>ratio</th>\n",
       "      <th>percent</th>\n",
       "      <th>total_income_category_digits</th>\n",
       "    </tr>\n",
       "  </thead>\n",
       "  <tbody>\n",
       "    <tr>\n",
       "      <th>0</th>\n",
       "      <td>A</td>\n",
       "      <td>2</td>\n",
       "      <td>25</td>\n",
       "      <td>0.080000</td>\n",
       "      <td>8.000</td>\n",
       "      <td>&gt; 1_000_000</td>\n",
       "    </tr>\n",
       "    <tr>\n",
       "      <th>1</th>\n",
       "      <td>B</td>\n",
       "      <td>354</td>\n",
       "      <td>5014</td>\n",
       "      <td>0.070602</td>\n",
       "      <td>7.060</td>\n",
       "      <td>200_000 : 1_000_000</td>\n",
       "    </tr>\n",
       "    <tr>\n",
       "      <th>2</th>\n",
       "      <td>C</td>\n",
       "      <td>1353</td>\n",
       "      <td>15921</td>\n",
       "      <td>0.084982</td>\n",
       "      <td>8.498</td>\n",
       "      <td>50_000 : 200_000</td>\n",
       "    </tr>\n",
       "    <tr>\n",
       "      <th>3</th>\n",
       "      <td>D</td>\n",
       "      <td>21</td>\n",
       "      <td>349</td>\n",
       "      <td>0.060172</td>\n",
       "      <td>6.017</td>\n",
       "      <td>30_000 : 50_000</td>\n",
       "    </tr>\n",
       "    <tr>\n",
       "      <th>4</th>\n",
       "      <td>E</td>\n",
       "      <td>2</td>\n",
       "      <td>22</td>\n",
       "      <td>0.090909</td>\n",
       "      <td>9.091</td>\n",
       "      <td>&lt; 30_000</td>\n",
       "    </tr>\n",
       "  </tbody>\n",
       "</table>\n",
       "</div>"
      ],
      "text/plain": [
       "  total_income_category  total_debt  total_credit     ratio  percent  \\\n",
       "0                     A           2            25  0.080000    8.000   \n",
       "1                     B         354          5014  0.070602    7.060   \n",
       "2                     C        1353         15921  0.084982    8.498   \n",
       "3                     D          21           349  0.060172    6.017   \n",
       "4                     E           2            22  0.090909    9.091   \n",
       "\n",
       "  total_income_category_digits  \n",
       "0                  > 1_000_000  \n",
       "1          200_000 : 1_000_000  \n",
       "2             50_000 : 200_000  \n",
       "3              30_000 : 50_000  \n",
       "4                     < 30_000  "
      ]
     },
     "execution_count": 33,
     "metadata": {},
     "output_type": "execute_result"
    }
   ],
   "source": [
    "income"
   ]
  },
  {
   "cell_type": "code",
   "execution_count": 34,
   "id": "cc2f95a3",
   "metadata": {},
   "outputs": [
    {
     "data": {
      "image/png": "[encoded data removed]",
      "text/plain": [
       "<Figure size 432x288 with 1 Axes>"
      ]
     },
     "metadata": {
      "needs_background": "light"
     },
     "output_type": "display_data"
    }
   ],
   "source": [
    "income.plot(\n",
    "    x='total_income_category', \n",
    "    y='percent', \n",
    "    marker='o',\n",
    "    ylabel='Процент, %',\n",
    "    xlabel='Катерогия заемщика',\n",
    "    title=\"Процент задолженностей от уровня дохода\"\n",
    ");"
   ]
  },
  {
   "cell_type": "markdown",
   "id": "ab52ab57",
   "metadata": {},
   "source": [
    "Здесь я не вижу зависимости между уровнем дохода и возвратом кредита в срок, что странно для меня. Даже если принять что для категорий `A` и `Е` данных мало и откинуть их, то явной зависимости не вырисовывается.\n",
    "\n",
    "Возможно, если добавить еще размер кредита и(или) сколько в месяц вынужден выплачивать заемщик, то зависимость и появится\n",
    "\n",
    "__Вывод__: Зависимости числа задолженностей от уровня дохода не выявлено"
   ]
  },
  {
   "cell_type": "markdown",
   "id": "f9d143b0",
   "metadata": {},
   "source": [
    "#### 3.4 Как разные цели кредита влияют на его возврат в срок?\n",
    "В данном случае будем группировать по `purpose_category`"
   ]
  },
  {
   "cell_type": "code",
   "execution_count": 35,
   "id": "d04d6e16",
   "metadata": {},
   "outputs": [
    {
     "data": {
      "text/html": [
       "<div>\n",
       "<style scoped>\n",
       "    .dataframe tbody tr th:only-of-type {\n",
       "        vertical-align: middle;\n",
       "    }\n",
       "\n",
       "    .dataframe tbody tr th {\n",
       "        vertical-align: top;\n",
       "    }\n",
       "\n",
       "    .dataframe thead th {\n",
       "        text-align: right;\n",
       "    }\n",
       "</style>\n",
       "<table border=\"1\" class=\"dataframe\">\n",
       "  <thead>\n",
       "    <tr style=\"text-align: right;\">\n",
       "      <th></th>\n",
       "      <th>purpose_category</th>\n",
       "      <th>total_debt</th>\n",
       "      <th>total_credit</th>\n",
       "      <th>ratio</th>\n",
       "      <th>percent</th>\n",
       "    </tr>\n",
       "  </thead>\n",
       "  <tbody>\n",
       "    <tr>\n",
       "      <th>0</th>\n",
       "      <td>операции с автомобилем</td>\n",
       "      <td>400</td>\n",
       "      <td>4279</td>\n",
       "      <td>0.093480</td>\n",
       "      <td>9.348</td>\n",
       "    </tr>\n",
       "    <tr>\n",
       "      <th>1</th>\n",
       "      <td>операции с недвижимостью</td>\n",
       "      <td>780</td>\n",
       "      <td>10751</td>\n",
       "      <td>0.072551</td>\n",
       "      <td>7.255</td>\n",
       "    </tr>\n",
       "    <tr>\n",
       "      <th>2</th>\n",
       "      <td>получение образования</td>\n",
       "      <td>369</td>\n",
       "      <td>3988</td>\n",
       "      <td>0.092528</td>\n",
       "      <td>9.253</td>\n",
       "    </tr>\n",
       "    <tr>\n",
       "      <th>3</th>\n",
       "      <td>проведение свадьбы</td>\n",
       "      <td>183</td>\n",
       "      <td>2313</td>\n",
       "      <td>0.079118</td>\n",
       "      <td>7.912</td>\n",
       "    </tr>\n",
       "  </tbody>\n",
       "</table>\n",
       "</div>"
      ],
      "text/plain": [
       "           purpose_category  total_debt  total_credit     ratio  percent\n",
       "0    операции с автомобилем         400          4279  0.093480    9.348\n",
       "1  операции с недвижимостью         780         10751  0.072551    7.255\n",
       "2     получение образования         369          3988  0.092528    9.253\n",
       "3        проведение свадьбы         183          2313  0.079118    7.912"
      ]
     },
     "execution_count": 35,
     "metadata": {},
     "output_type": "execute_result"
    }
   ],
   "source": [
    "purpose = create_group(data, 'purpose_category')\n",
    "purpose"
   ]
  },
  {
   "cell_type": "markdown",
   "id": "9da142a4",
   "metadata": {},
   "source": [
    "Если ввести дополнительный параметр, например, мера персональной ответсвенности. То \n",
    "я бы расставил эти категории в следующем порядке: `операции с недвижимостью > проведение свадьбы > получение образования > операции с автомобилем`. \n",
    "\n",
    "PS: Под мерой персональной ответственности я подразумеваю степень последствий, которые могут произойти, если не выполнить цель.\n",
    "\n",
    "PSS: Может быть, это сильно притянуто или сформулированно не очень корректно, но я бы расставил именно так. "
   ]
  },
  {
   "cell_type": "markdown",
   "id": "d22786cc",
   "metadata": {},
   "source": [
    "__Вывод__: Чем более ответственная цель в плане последствий, тем меньше вероятность просрочки кредита."
   ]
  },
  {
   "cell_type": "markdown",
   "id": "726d4415",
   "metadata": {},
   "source": [
    "### Ответ на комментарий\n",
    "___"
   ]
  },
  {
   "cell_type": "code",
   "execution_count": 36,
   "id": "60ed7bc8",
   "metadata": {},
   "outputs": [
    {
     "data": {
      "text/html": [
       "<div>\n",
       "<style scoped>\n",
       "    .dataframe tbody tr th:only-of-type {\n",
       "        vertical-align: middle;\n",
       "    }\n",
       "\n",
       "    .dataframe tbody tr th {\n",
       "        vertical-align: top;\n",
       "    }\n",
       "\n",
       "    .dataframe thead tr th {\n",
       "        text-align: left;\n",
       "    }\n",
       "\n",
       "    .dataframe thead tr:last-of-type th {\n",
       "        text-align: right;\n",
       "    }\n",
       "</style>\n",
       "<table border=\"1\" class=\"dataframe\">\n",
       "  <thead>\n",
       "    <tr>\n",
       "      <th></th>\n",
       "      <th>mean</th>\n",
       "      <th>&lt;lambda&gt;</th>\n",
       "    </tr>\n",
       "    <tr>\n",
       "      <th></th>\n",
       "      <th>debt</th>\n",
       "      <th>debt</th>\n",
       "    </tr>\n",
       "    <tr>\n",
       "      <th>purpose_category</th>\n",
       "      <th></th>\n",
       "      <th></th>\n",
       "    </tr>\n",
       "  </thead>\n",
       "  <tbody>\n",
       "    <tr>\n",
       "      <th>операции с автомобилем</th>\n",
       "      <td>0.093480</td>\n",
       "      <td>9.347978</td>\n",
       "    </tr>\n",
       "    <tr>\n",
       "      <th>операции с недвижимостью</th>\n",
       "      <td>0.072551</td>\n",
       "      <td>7.255139</td>\n",
       "    </tr>\n",
       "    <tr>\n",
       "      <th>получение образования</th>\n",
       "      <td>0.092528</td>\n",
       "      <td>9.252758</td>\n",
       "    </tr>\n",
       "    <tr>\n",
       "      <th>проведение свадьбы</th>\n",
       "      <td>0.079118</td>\n",
       "      <td>7.911803</td>\n",
       "    </tr>\n",
       "  </tbody>\n",
       "</table>\n",
       "</div>"
      ],
      "text/plain": [
       "                              mean  <lambda>\n",
       "                              debt      debt\n",
       "purpose_category                            \n",
       "операции с автомобилем    0.093480  9.347978\n",
       "операции с недвижимостью  0.072551  7.255139\n",
       "получение образования     0.092528  9.252758\n",
       "проведение свадьбы        0.079118  7.911803"
      ]
     },
     "execution_count": 36,
     "metadata": {},
     "output_type": "execute_result"
    }
   ],
   "source": [
    "data.pivot_table(\n",
    "    index='purpose_category', \n",
    "    values='debt', \n",
    "    aggfunc=['mean', lambda x: 100 * x.mean()]\n",
    ")"
   ]
  },
  {
   "cell_type": "markdown",
   "id": "62688ea9",
   "metadata": {},
   "source": [
    "Тут ничего нового не добавилось, если я правильно сгруппировал, поэтому вывод у меня не поменялся.\n",
    "\n",
    "Метод `mean` в данном случае сработал как для посчета отношения из-за того, что признак `debt` единица, если была задержка по кредиту и ноль, если ее не было. Столбец с `<lambda>` это перевод в проценты (не нашел как на лету переименовывать столбцы)\n",
    "\n",
    "___\n",
    "\n",
    "\n",
    "Интересно получается, если добавить еще один признак для группировки, например, `education`.\n",
    "\n",
    "Для начала, просто сгруппировав по уровню образования, получается, что чем он выше, тем задолженностей меньше\n"
   ]
  },
  {
   "cell_type": "code",
   "execution_count": 37,
   "id": "c213d590",
   "metadata": {},
   "outputs": [
    {
     "data": {
      "text/html": [
       "<div>\n",
       "<style scoped>\n",
       "    .dataframe tbody tr th:only-of-type {\n",
       "        vertical-align: middle;\n",
       "    }\n",
       "\n",
       "    .dataframe tbody tr th {\n",
       "        vertical-align: top;\n",
       "    }\n",
       "\n",
       "    .dataframe thead tr th {\n",
       "        text-align: left;\n",
       "    }\n",
       "\n",
       "    .dataframe thead tr:last-of-type th {\n",
       "        text-align: right;\n",
       "    }\n",
       "</style>\n",
       "<table border=\"1\" class=\"dataframe\">\n",
       "  <thead>\n",
       "    <tr>\n",
       "      <th></th>\n",
       "      <th>count</th>\n",
       "      <th>sum</th>\n",
       "      <th>mean</th>\n",
       "      <th>&lt;lambda&gt;</th>\n",
       "    </tr>\n",
       "    <tr>\n",
       "      <th></th>\n",
       "      <th>debt</th>\n",
       "      <th>debt</th>\n",
       "      <th>debt</th>\n",
       "      <th>debt</th>\n",
       "    </tr>\n",
       "    <tr>\n",
       "      <th>education</th>\n",
       "      <th></th>\n",
       "      <th></th>\n",
       "      <th></th>\n",
       "      <th></th>\n",
       "    </tr>\n",
       "  </thead>\n",
       "  <tbody>\n",
       "    <tr>\n",
       "      <th>высшее</th>\n",
       "      <td>5227</td>\n",
       "      <td>278</td>\n",
       "      <td>0.053185</td>\n",
       "      <td>5.318538</td>\n",
       "    </tr>\n",
       "    <tr>\n",
       "      <th>начальное</th>\n",
       "      <td>282</td>\n",
       "      <td>31</td>\n",
       "      <td>0.109929</td>\n",
       "      <td>10.992908</td>\n",
       "    </tr>\n",
       "    <tr>\n",
       "      <th>неоконченное высшее</th>\n",
       "      <td>741</td>\n",
       "      <td>68</td>\n",
       "      <td>0.091768</td>\n",
       "      <td>9.176788</td>\n",
       "    </tr>\n",
       "    <tr>\n",
       "      <th>среднее</th>\n",
       "      <td>15075</td>\n",
       "      <td>1355</td>\n",
       "      <td>0.089884</td>\n",
       "      <td>8.988391</td>\n",
       "    </tr>\n",
       "    <tr>\n",
       "      <th>ученая степень</th>\n",
       "      <td>6</td>\n",
       "      <td>0</td>\n",
       "      <td>0.000000</td>\n",
       "      <td>0.000000</td>\n",
       "    </tr>\n",
       "  </tbody>\n",
       "</table>\n",
       "</div>"
      ],
      "text/plain": [
       "                     count   sum      mean   <lambda>\n",
       "                      debt  debt      debt       debt\n",
       "education                                            \n",
       "высшее                5227   278  0.053185   5.318538\n",
       "начальное              282    31  0.109929  10.992908\n",
       "неоконченное высшее    741    68  0.091768   9.176788\n",
       "среднее              15075  1355  0.089884   8.988391\n",
       "ученая степень           6     0  0.000000   0.000000"
      ]
     },
     "execution_count": 37,
     "metadata": {},
     "output_type": "execute_result"
    }
   ],
   "source": [
    "data.pivot_table(\n",
    "    index='education',\n",
    "    values='debt', \n",
    "    aggfunc=['count', 'sum', 'mean', lambda x: 100 * x.mean()]\n",
    ")"
   ]
  },
  {
   "cell_type": "markdown",
   "id": "111f10fa",
   "metadata": {},
   "source": [
    "Уберем категорию `ученая степень` случаев все-таки маловато на фоне остальных и будем смотреть не на доли, а на проценты и сгруппируем уже по двум признакам"
   ]
  },
  {
   "cell_type": "code",
   "execution_count": 38,
   "id": "551ba3b8",
   "metadata": {},
   "outputs": [
    {
     "data": {
      "text/html": [
       "<div>\n",
       "<style scoped>\n",
       "    .dataframe tbody tr th:only-of-type {\n",
       "        vertical-align: middle;\n",
       "    }\n",
       "\n",
       "    .dataframe tbody tr th {\n",
       "        vertical-align: top;\n",
       "    }\n",
       "\n",
       "    .dataframe thead th {\n",
       "        text-align: right;\n",
       "    }\n",
       "</style>\n",
       "<table border=\"1\" class=\"dataframe\">\n",
       "  <thead>\n",
       "    <tr style=\"text-align: right;\">\n",
       "      <th>education</th>\n",
       "      <th>высшее</th>\n",
       "      <th>начальное</th>\n",
       "      <th>неоконченное высшее</th>\n",
       "      <th>среднее</th>\n",
       "    </tr>\n",
       "    <tr>\n",
       "      <th>purpose_category</th>\n",
       "      <th></th>\n",
       "      <th></th>\n",
       "      <th></th>\n",
       "      <th></th>\n",
       "    </tr>\n",
       "  </thead>\n",
       "  <tbody>\n",
       "    <tr>\n",
       "      <th>операции с автомобилем</th>\n",
       "      <td>6.485963</td>\n",
       "      <td>10.909091</td>\n",
       "      <td>10.457516</td>\n",
       "      <td>10.236998</td>\n",
       "    </tr>\n",
       "    <tr>\n",
       "      <th>операции с недвижимостью</th>\n",
       "      <td>4.836895</td>\n",
       "      <td>11.111111</td>\n",
       "      <td>8.994709</td>\n",
       "      <td>7.952891</td>\n",
       "    </tr>\n",
       "    <tr>\n",
       "      <th>получение образования</th>\n",
       "      <td>5.926724</td>\n",
       "      <td>9.090909</td>\n",
       "      <td>9.160305</td>\n",
       "      <td>10.337626</td>\n",
       "    </tr>\n",
       "    <tr>\n",
       "      <th>проведение свадьбы</th>\n",
       "      <td>4.507513</td>\n",
       "      <td>14.285714</td>\n",
       "      <td>7.594937</td>\n",
       "      <td>9.085252</td>\n",
       "    </tr>\n",
       "  </tbody>\n",
       "</table>\n",
       "</div>"
      ],
      "text/plain": [
       "education                   высшее  начальное  неоконченное высшее    среднее\n",
       "purpose_category                                                             \n",
       "операции с автомобилем    6.485963  10.909091            10.457516  10.236998\n",
       "операции с недвижимостью  4.836895  11.111111             8.994709   7.952891\n",
       "получение образования     5.926724   9.090909             9.160305  10.337626\n",
       "проведение свадьбы        4.507513  14.285714             7.594937   9.085252"
      ]
     },
     "execution_count": 38,
     "metadata": {},
     "output_type": "execute_result"
    }
   ],
   "source": [
    "data[data['education'] != 'ученая степень'].pivot_table(\n",
    "    index='purpose_category', \n",
    "    columns='education',\n",
    "    values='debt', \n",
    "    aggfunc=lambda x: 100 * x.mean(), \n",
    ")"
   ]
  },
  {
   "cell_type": "markdown",
   "id": "f2a257bd",
   "metadata": {},
   "source": [
    "Тут получается, что люди с разным уровнем образования более ответственно подходят к разным целям:\n",
    "1. Высшее или неполное высшее - проведение свадьбы\n",
    "2. Среднее - недвижимость\n",
    "3. Начальное - получение образования"
   ]
  },
  {
   "cell_type": "markdown",
   "id": "c1c8a15a",
   "metadata": {},
   "source": [
    "#### 3.5 Приведите возможные причины появления пропусков в исходных данных.\n",
    "__Ответ__:\n",
    "1. Человеческий фактор (случайные)\n",
    "    1. Опечатки\n",
    "    2. Ошибки\n",
    "2. Ошибки или неполнота в коде (неслучайные)\n",
    "    1. Не сказано как обрабатывать какой-то случай\n",
    "    2. Сбой в работе системы\n",
    "    3. Вирусы)"
   ]
  },
  {
   "cell_type": "markdown",
   "id": "19f0aa8e",
   "metadata": {},
   "source": [
    "#### 3.6 Объясните, почему заполнить пропуски медианным значением — лучшее решение для количественных переменных.\n",
    "\n",
    "__Ответ__: \n",
    "Медиана менее чувствительна к выбросам в отличие от среднего значения.\n",
    "\n",
    "Рассмотрим массив \n",
    "```python\n",
    "    array = [10, 10, 15, 25, 100000]\n",
    "```\n",
    "тогда \n",
    "* Среднее значение\n",
    " * От [10, 10, 15, 25] -> 15\n",
    " * От [10, 10, 15, 25, 100000] -> 20012\n",
    "* Медиана \n",
    " * От [10, 10, 15, 25] -> 12.5\n",
    " * От [10, 10, 15, 25, 100000] -> 15\n"
   ]
  },
  {
   "cell_type": "markdown",
   "id": "0e8b9d6b",
   "metadata": {},
   "source": [
    "### Шаг 4: общий вывод.\n",
    "Данные из датасета `/datasets/data.csv` было необходимо проанализоровать на наличие зависмостей между _семейным положением_, _количества детей_ клиента на факт погашения кредита в срок.\n",
    "\n",
    "После обработки данных: удаления пропусков, очистка выбросов, устранения дубликатов и категоризации данных можно сделать вывод: \n",
    "1. Заемщики без детей имеют меньше задолженностей по кредиту приблизительно на 1.5% относительно наличия одного ребенка и 2% относительно наличия четырех детей.\n",
    "2. `Не женатые / не замужние` люди или же состоящие в `гражданском браке` в среднем на `2.45%` случаев чаще имеют задолженности по кредитам.\n",
    "3. Зависимости числа задолженностей от уровня дохода заемщика по представленным данным не выявлено. Возможно следует запросить дополнительные сведения (размер кредита, ежемесячная выплата) для более тонкого анализа.\n",
    "4. В среднем люди с более ответственной целью имеют меньше задолженностей по кредитам примерно на 1.7% случаев. Однако, если провести анализ с учетом уровня образования, то можно увидеть, что \n",
    " 1. Люди с более высоким уровнем образования реже имеют просрочки по кредиту.\n",
    " 2. Для людей с разной степенью образования приоритет по каждой из категорий разный\n",
    "   * Наивысший приоритет:\n",
    "     * Высшее и неполное высшее - проведение свадьбы (4.5% и 7.6%)\n",
    "     * Среднее - недвижимость (8%)\n",
    "     * Начальное - получение образования (9.1%)\n",
    "   * Меньший приоритет\n",
    "     * Высшее и неполное высшее - операции с автомобилем (6.5% и 10.5%)\n",
    "     * Среднее - получение образования (10.3%)\n",
    "     * Начальное - проведение свадьбы (14.3%)\n",
    "___"
   ]
  }
 ],
 "metadata": {
  "ExecuteTimeLog": [
   {
    "duration": 403,
    "start_time": "2022-09-11T14:14:40.039Z"
   },
   {
    "duration": 102,
    "start_time": "2022-09-11T14:14:40.444Z"
   },
   {
    "duration": 308,
    "start_time": "2022-09-11T14:14:49.003Z"
   },
   {
    "duration": 23,
    "start_time": "2022-09-11T14:15:12.750Z"
   },
   {
    "duration": 16,
    "start_time": "2022-09-11T14:15:31.798Z"
   },
   {
    "duration": 12,
    "start_time": "2022-09-11T14:15:46.092Z"
   },
   {
    "duration": 15,
    "start_time": "2022-09-11T14:16:06.380Z"
   },
   {
    "duration": 4,
    "start_time": "2022-09-11T14:16:28.751Z"
   },
   {
    "duration": 8,
    "start_time": "2022-09-11T14:16:43.688Z"
   },
   {
    "duration": 5,
    "start_time": "2022-09-11T14:16:50.310Z"
   },
   {
    "duration": 10,
    "start_time": "2022-09-11T14:17:00.427Z"
   },
   {
    "duration": 6,
    "start_time": "2022-09-11T14:17:14.504Z"
   },
   {
    "duration": 15,
    "start_time": "2022-09-11T14:17:23.878Z"
   },
   {
    "duration": 10,
    "start_time": "2022-09-11T14:17:37.884Z"
   },
   {
    "duration": 4,
    "start_time": "2022-09-11T14:17:54.231Z"
   },
   {
    "duration": 13,
    "start_time": "2022-09-11T14:27:38.246Z"
   },
   {
    "duration": 21,
    "start_time": "2022-09-11T14:28:16.892Z"
   },
   {
    "duration": 24,
    "start_time": "2022-09-11T14:28:17.285Z"
   },
   {
    "duration": 3,
    "start_time": "2022-09-11T14:28:32.713Z"
   },
   {
    "duration": 8,
    "start_time": "2022-09-11T14:28:46.952Z"
   },
   {
    "duration": 7,
    "start_time": "2022-09-11T14:28:56.209Z"
   },
   {
    "duration": 5,
    "start_time": "2022-09-11T14:29:07.074Z"
   },
   {
    "duration": 10,
    "start_time": "2022-09-11T14:29:11.900Z"
   }
  ],
  "colab": {
   "name": "dpp_template_part1.ipynb",
   "provenance": []
  },
  "kernelspec": {
   "display_name": "Python 3 (ipykernel)",
   "language": "python",
   "name": "python3"
  },
  "language_info": {
   "codemirror_mode": {
    "name": "ipython",
    "version": 3
   },
   "file_extension": ".py",
   "mimetype": "text/x-python",
   "name": "python",
   "nbconvert_exporter": "python",
   "pygments_lexer": "ipython3",
   "version": "3.9.13"
  },
  "toc": {
   "base_numbering": 1,
   "nav_menu": {},
   "number_sections": true,
   "sideBar": true,
   "skip_h1_title": true,
   "title_cell": "Table of Contents",
   "title_sidebar": "Contents",
   "toc_cell": false,
   "toc_position": {},
   "toc_section_display": true,
   "toc_window_display": false
  }
 },
 "nbformat": 4,
 "nbformat_minor": 5
}
